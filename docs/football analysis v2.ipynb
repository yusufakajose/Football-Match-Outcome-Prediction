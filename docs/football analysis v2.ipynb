{
 "cells": [
  {
   "cell_type": "markdown",
   "id": "b0acc92b",
   "metadata": {},
   "source": [
    "<h1 style='background-color:transparent; border: 3px solid rgb(12, 81, 156); padding:20px; font-size:32px; font-family: consolas; text-align:center; border-radius:15px; color:rgb(12, 81, 156);'><b>Football Match Outcome Prediction</b></h1>"
   ]
  },
  {
   "cell_type": "markdown",
   "id": "b20b3e78",
   "metadata": {},
   "source": [
    "<h2 style='background-color:#0c519c; color:white; padding:10px; font-size:24px; font-family: consolas; text-align:center; border-radius:10px;'>Table of Contents</h2>"
   ]
  },
  {
   "cell_type": "markdown",
   "id": "736aa62d",
   "metadata": {},
   "source": [
    "- [Introduction](#Introduction)\n",
    "- [Data Loading and Preparation](#Data-Loading-and-Preparation)\n",
    "- [Exploratory Data Analysis](#Exploratory-Data-Analysis)\n",
    "- [Creating New Variables](#Creating-New-Variables)\n",
    "   - [Possession Ratio](#Possession-Ratio)\n",
    "   - [Goals per Game](#Goals-per-Game)\n",
    "   - [Shots on Target Ratio](#Shots-on-Target-Ratio)\n",
    "   - [Passing Accuracy](#Passing-Accuracy)\n",
    "   - [Number of Fouls per Game](#Number-of-Fouls-per-Game)\n",
    "   - [Yellow Card Ratio](#Yellow-Card-Ratio)\n",
    "   - [Red Card Ratio](#Red-Card-Ratio)\n",
    "   - [Home Advantage](#Home-Advantage)\n",
    "   - [Winning Ratio](#Winning-Ratio)\n",
    "- [Predicting Match Outcomes Using Machine Learning](#Predicting-Match-Outcomes-Using-Machine-Learning)\n",
    "   - [Data Preprocessing](#Data-Preprocessing)\n",
    "   - [Decision Trees](#Decision-Trees)\n",
    "   - [Random Forest](#Random-Forest)\n",
    "   - [Support Vector Machines](#Support-Vector-Machines)\n",
    "   - [Naive Bayes](#Naive-Bayes)\n",
    "   - [K-Nearest Neighbors](#K-Nearest-Neighbors)\n",
    "   - [Model Comparison and Diagnostics](#Model-Comparison-and-Diagnostics)\n",
    "- [Conclusion](#Conclusion)"
   ]
  },
  {
   "cell_type": "markdown",
   "id": "92105d0b",
   "metadata": {},
   "source": [
    "<h2 style='background-color:#0c519c; color:white; padding:10px; font-size:24px; font-family: consolas; text-border-radius:10px;'>Data Loading and Preparation</h2>"
   ]
  },
  {
   "cell_type": "markdown",
   "id": "f257bdcb",
   "metadata": {},
   "source": [
    "I will start by loading the dataset using pandas library and preparing it for analysis. I will begin by importing the required libraries and loading the dataset into a pandas DataFrame."
   ]
  },
  {
   "cell_type": "code",
   "execution_count": null,
   "id": "5ce05dfc",
   "metadata": {},
   "outputs": [
    {
     "data": {
      "text/html": [
       "<div>\n",
       "<style scoped>\n",
       "    .dataframe tbody tr th:only-of-type {\n",
       "        vertical-align: middle;\n",
       "    }\n",
       "\n",
       "    .dataframe tbody tr th {\n",
       "        vertical-align: top;\n",
       "    }\n",
       "\n",
       "    .dataframe thead th {\n",
       "        text-align: right;\n",
       "    }\n",
       "</style>\n",
       "<table border=\"1\" class=\"dataframe\">\n",
       "  <thead>\n",
       "    <tr style=\"text-align: right;\">\n",
       "      <th></th>\n",
       "      <th>Date</th>\n",
       "      <th>HomeTeam</th>\n",
       "      <th>AwayTeam</th>\n",
       "      <th>FTHG</th>\n",
       "      <th>FTAG</th>\n",
       "      <th>FTR</th>\n",
       "      <th>HTHG</th>\n",
       "      <th>HTAG</th>\n",
       "      <th>HTR</th>\n",
       "      <th>HS</th>\n",
       "      <th>...</th>\n",
       "      <th>HST</th>\n",
       "      <th>AST</th>\n",
       "      <th>HF</th>\n",
       "      <th>AF</th>\n",
       "      <th>HC</th>\n",
       "      <th>AC</th>\n",
       "      <th>HY</th>\n",
       "      <th>AY</th>\n",
       "      <th>HR</th>\n",
       "      <th>AR</th>\n",
       "    </tr>\n",
       "  </thead>\n",
       "  <tbody>\n",
       "    <tr>\n",
       "      <th>0</th>\n",
       "      <td>27/08/11</td>\n",
       "      <td>Granada</td>\n",
       "      <td>Betis</td>\n",
       "      <td>0</td>\n",
       "      <td>1</td>\n",
       "      <td>A</td>\n",
       "      <td>0</td>\n",
       "      <td>0</td>\n",
       "      <td>D</td>\n",
       "      <td>11</td>\n",
       "      <td>...</td>\n",
       "      <td>2</td>\n",
       "      <td>3</td>\n",
       "      <td>12</td>\n",
       "      <td>16</td>\n",
       "      <td>8</td>\n",
       "      <td>5</td>\n",
       "      <td>2</td>\n",
       "      <td>2</td>\n",
       "      <td>0</td>\n",
       "      <td>0</td>\n",
       "    </tr>\n",
       "    <tr>\n",
       "      <th>1</th>\n",
       "      <td>27/08/11</td>\n",
       "      <td>Sp Gijon</td>\n",
       "      <td>Sociedad</td>\n",
       "      <td>1</td>\n",
       "      <td>2</td>\n",
       "      <td>A</td>\n",
       "      <td>0</td>\n",
       "      <td>1</td>\n",
       "      <td>A</td>\n",
       "      <td>17</td>\n",
       "      <td>...</td>\n",
       "      <td>4</td>\n",
       "      <td>2</td>\n",
       "      <td>14</td>\n",
       "      <td>11</td>\n",
       "      <td>9</td>\n",
       "      <td>2</td>\n",
       "      <td>2</td>\n",
       "      <td>1</td>\n",
       "      <td>1</td>\n",
       "      <td>1</td>\n",
       "    </tr>\n",
       "    <tr>\n",
       "      <th>2</th>\n",
       "      <td>27/08/11</td>\n",
       "      <td>Valencia</td>\n",
       "      <td>Santander</td>\n",
       "      <td>4</td>\n",
       "      <td>3</td>\n",
       "      <td>H</td>\n",
       "      <td>1</td>\n",
       "      <td>2</td>\n",
       "      <td>A</td>\n",
       "      <td>26</td>\n",
       "      <td>...</td>\n",
       "      <td>11</td>\n",
       "      <td>3</td>\n",
       "      <td>14</td>\n",
       "      <td>11</td>\n",
       "      <td>10</td>\n",
       "      <td>3</td>\n",
       "      <td>3</td>\n",
       "      <td>3</td>\n",
       "      <td>0</td>\n",
       "      <td>0</td>\n",
       "    </tr>\n",
       "    <tr>\n",
       "      <th>3</th>\n",
       "      <td>28/08/11</td>\n",
       "      <td>Ath Bilbao</td>\n",
       "      <td>Vallecano</td>\n",
       "      <td>1</td>\n",
       "      <td>1</td>\n",
       "      <td>D</td>\n",
       "      <td>0</td>\n",
       "      <td>0</td>\n",
       "      <td>D</td>\n",
       "      <td>10</td>\n",
       "      <td>...</td>\n",
       "      <td>4</td>\n",
       "      <td>6</td>\n",
       "      <td>17</td>\n",
       "      <td>19</td>\n",
       "      <td>9</td>\n",
       "      <td>4</td>\n",
       "      <td>1</td>\n",
       "      <td>3</td>\n",
       "      <td>0</td>\n",
       "      <td>0</td>\n",
       "    </tr>\n",
       "    <tr>\n",
       "      <th>4</th>\n",
       "      <td>28/08/11</td>\n",
       "      <td>Ath Madrid</td>\n",
       "      <td>Osasuna</td>\n",
       "      <td>0</td>\n",
       "      <td>0</td>\n",
       "      <td>D</td>\n",
       "      <td>0</td>\n",
       "      <td>0</td>\n",
       "      <td>D</td>\n",
       "      <td>28</td>\n",
       "      <td>...</td>\n",
       "      <td>8</td>\n",
       "      <td>2</td>\n",
       "      <td>9</td>\n",
       "      <td>8</td>\n",
       "      <td>12</td>\n",
       "      <td>5</td>\n",
       "      <td>1</td>\n",
       "      <td>0</td>\n",
       "      <td>0</td>\n",
       "      <td>0</td>\n",
       "    </tr>\n",
       "  </tbody>\n",
       "</table>\n",
       "<p>5 rows × 21 columns</p>\n",
       "</div>"
      ],
      "text/plain": [
       "       Date    HomeTeam   AwayTeam  FTHG  FTAG FTR  HTHG  HTAG HTR  HS  ...  \\\n",
       "0  27/08/11     Granada      Betis     0     1   A     0     0   D  11  ...   \n",
       "1  27/08/11    Sp Gijon   Sociedad     1     2   A     0     1   A  17  ...   \n",
       "2  27/08/11    Valencia  Santander     4     3   H     1     2   A  26  ...   \n",
       "3  28/08/11  Ath Bilbao  Vallecano     1     1   D     0     0   D  10  ...   \n",
       "4  28/08/11  Ath Madrid    Osasuna     0     0   D     0     0   D  28  ...   \n",
       "\n",
       "   HST  AST  HF  AF  HC  AC  HY  AY  HR  AR  \n",
       "0    2    3  12  16   8   5   2   2   0   0  \n",
       "1    4    2  14  11   9   2   2   1   1   1  \n",
       "2   11    3  14  11  10   3   3   3   0   0  \n",
       "3    4    6  17  19   9   4   1   3   0   0  \n",
       "4    8    2   9   8  12   5   1   0   0   0  \n",
       "\n",
       "[5 rows x 21 columns]"
      ]
     },
     "execution_count": 59,
     "metadata": {},
     "output_type": "execute_result"
    }
   ],
   "source": [
    "import pandas as pd\n",
    "\n",
    "# Load the dataset\n",
    "url = \"https://raw.githubusercontent.com/datasets/football-datasets/master/datasets/la-liga/season-1112.csv\"\n",
    "df = pd.read_csv(url)\n",
    "\n",
    "# View the first 5 rows of the dataset\n",
    "df.head()"
   ]
  },
  {
   "cell_type": "markdown",
   "id": "336c7361",
   "metadata": {},
   "source": [
    "Next, I will check the size and shape of the dataset to get an idea of the number of rows and columns."
   ]
  },
  {
   "cell_type": "code",
   "execution_count": null,
   "id": "f9830ac8",
   "metadata": {},
   "outputs": [
    {
     "name": "stdout",
     "output_type": "stream",
     "text": [
      "The dataset has 380 rows and 21 columns\n"
     ]
    }
   ],
   "source": [
    "# Check the size of the dataset\n",
    "print(\"The dataset has {} rows and {} columns\".format(df.shape[0], df.shape[1]))"
   ]
  },
  {
   "cell_type": "markdown",
   "id": "e320d558",
   "metadata": {},
   "source": [
    "This will print the number of rows and columns in the dataset.\n",
    "\n",
    "I will then check for missing values in the dataset."
   ]
  },
  {
   "cell_type": "code",
   "execution_count": null,
   "id": "8834d8ab",
   "metadata": {},
   "outputs": [
    {
     "name": "stdout",
     "output_type": "stream",
     "text": [
      "The dataset has 0 missing values\n"
     ]
    }
   ],
   "source": [
    "# Check for missing values in the dataset\n",
    "print(\"The dataset has {} missing values\".format(df.isnull().sum().sum()))"
   ]
  },
  {
   "cell_type": "markdown",
   "id": "5143f84f",
   "metadata": {},
   "source": [
    "This will print the total number of missing values in the dataset. In case there are missing values, we will need to handle them appropriately.\n",
    "\n",
    "Finally, I will check the data types of the columns."
   ]
  },
  {
   "cell_type": "code",
   "execution_count": null,
   "id": "1b2c7f45",
   "metadata": {},
   "outputs": [
    {
     "name": "stdout",
     "output_type": "stream",
     "text": [
      "Date        object\n",
      "HomeTeam    object\n",
      "AwayTeam    object\n",
      "FTHG         int64\n",
      "FTAG         int64\n",
      "FTR         object\n",
      "HTHG         int64\n",
      "HTAG         int64\n",
      "HTR         object\n",
      "HS           int64\n",
      "AS           int64\n",
      "HST          int64\n",
      "AST          int64\n",
      "HF           int64\n",
      "AF           int64\n",
      "HC           int64\n",
      "AC           int64\n",
      "HY           int64\n",
      "AY           int64\n",
      "HR           int64\n",
      "AR           int64\n",
      "dtype: object\n"
     ]
    }
   ],
   "source": [
    "# Check the data types of the columns\n",
    "print(df.dtypes)"
   ]
  },
  {
   "cell_type": "markdown",
   "id": "9bc09bb6",
   "metadata": {},
   "source": [
    "This will print the data types of all the columns in the dataset. We can use this information to convert columns to the appropriate data types for analysis."
   ]
  },
  {
   "cell_type": "markdown",
   "id": "f1b7a96d",
   "metadata": {},
   "source": [
    "<h2 style=\"background-color:#0c519c; color:white; padding:10px; font-size:24px; font-family: consolas; border-radius:10px;\">Exploratory Data Analysis</h2>"
   ]
  },
  {
   "cell_type": "markdown",
   "id": "e0fa9492",
   "metadata": {},
   "source": [
    "After preparing the data, I will perform exploratory data analysis (EDA) to gain insights into the dataset."
   ]
  },
  {
   "cell_type": "markdown",
   "id": "041187aa",
   "metadata": {},
   "source": [
    "<h3 style=\"background-color:#0c519c; color:white; padding:10px; font-size:24px; font-family: consolas; border-radius:10px;\">Summary Statistics</h3>"
   ]
  },
  {
   "cell_type": "markdown",
   "id": "3ca82ddb",
   "metadata": {},
   "source": [
    "To start with, I will calculate some summary statistics for the dataset using the describe method."
   ]
  },
  {
   "cell_type": "code",
   "execution_count": null,
   "id": "8e711c96",
   "metadata": {},
   "outputs": [
    {
     "name": "stdout",
     "output_type": "stream",
     "text": [
      "             FTHG        FTAG        HTHG        HTAG          HS          AS  \\\n",
      "count  380.000000  380.000000  380.000000  380.000000  380.000000  380.000000   \n",
      "mean     1.678947    1.084211    0.723684    0.457895   14.615789   11.368421   \n",
      "std      1.457246    1.136241    0.877732    0.666433    5.498358    4.742560   \n",
      "min      0.000000    0.000000    0.000000    0.000000    1.000000    1.000000   \n",
      "25%      1.000000    0.000000    0.000000    0.000000   11.000000    8.000000   \n",
      "50%      1.000000    1.000000    1.000000    0.000000   14.000000   11.000000   \n",
      "75%      2.000000    2.000000    1.000000    1.000000   18.000000   14.000000   \n",
      "max      8.000000    7.000000    5.000000    4.000000   35.000000   39.000000   \n",
      "\n",
      "              HST         AST          HF          AF          HC          AC  \\\n",
      "count  380.000000  380.000000  380.000000  380.000000  380.000000  380.000000   \n",
      "mean     5.336842    4.005263   14.892105   14.492105    6.247368    4.678947   \n",
      "std      2.868666    2.365088    4.611153    4.702488    3.127353    2.637677   \n",
      "min      0.000000    0.000000    3.000000    1.000000    0.000000    0.000000   \n",
      "25%      3.000000    2.000000   12.000000   11.000000    4.000000    3.000000   \n",
      "50%      5.000000    4.000000   15.000000   14.000000    6.000000    4.000000   \n",
      "75%      7.000000    5.000000   18.000000   17.250000    8.000000    6.000000   \n",
      "max     15.000000   16.000000   30.000000   30.000000   17.000000   14.000000   \n",
      "\n",
      "               HY          AY          HR          AR  \n",
      "count  380.000000  380.000000  380.000000  380.000000  \n",
      "mean     2.657895    2.942105    0.139474    0.202632  \n",
      "std      1.495399    1.653912    0.396581    0.457703  \n",
      "min      0.000000    0.000000    0.000000    0.000000  \n",
      "25%      2.000000    2.000000    0.000000    0.000000  \n",
      "50%      2.000000    3.000000    0.000000    0.000000  \n",
      "75%      4.000000    4.000000    0.000000    0.000000  \n",
      "max      7.000000    9.000000    3.000000    2.000000  \n"
     ]
    }
   ],
   "source": [
    "# Calculate summary statistics for numerical columns\n",
    "print(df.describe())"
   ]
  },
  {
   "cell_type": "markdown",
   "id": "a23c5a52",
   "metadata": {},
   "source": [
    "This will print the count, mean, standard deviation, minimum, 25%, 50%, 75%, and maximum values for all numerical columns in the dataset."
   ]
  },
  {
   "cell_type": "markdown",
   "id": "1391ebfe",
   "metadata": {},
   "source": [
    "<h3 style=\"background-color:#0c519c; color:white; padding:10px; font-size:24px; font-family: consolas; border-radius:10px;\">Distribution of Target Variable</h3>"
   ]
  },
  {
   "cell_type": "markdown",
   "id": "2fe60517",
   "metadata": {},
   "source": [
    "The target variable in this dataset is the full-time result (FTR), which indicates whether the home team won, lost or drew the match. I will plot a histogram of the target variable to check its distribution."
   ]
  },
  {
   "cell_type": "code",
   "execution_count": null,
   "id": "a6321272",
   "metadata": {},
   "outputs": [
    {
     "data": {
      "image/png": "[encoded data removed]",
      "text/plain": [
       "<Figure size 432x288 with 1 Axes>"
      ]
     },
     "metadata": {},
     "output_type": "display_data"
    }
   ],
   "source": [
    "import matplotlib.pyplot as plt\n",
    "\n",
    "# Plot a histogram of the full-time result variable\n",
    "plt.hist(df['FTR'])\n",
    "plt.title('Distribution of Full-Time Results')\n",
    "plt.xlabel('Full-Time Result')\n",
    "plt.ylabel('Count')\n",
    "plt.show()"
   ]
  },
  {
   "cell_type": "markdown",
   "id": "0fcd76cb",
   "metadata": {},
   "source": [
    "This will display a histogram of the target variable showing the count of each category (home win, away win, and draw)."
   ]
  },
  {
   "cell_type": "markdown",
   "id": "0c832c94",
   "metadata": {},
   "source": [
    "<h3 style=\"background-color:#0c519c; color:white; padding:8px; font-size:20px; font-family: consolas; border-radius:8px;\">Home and Away Team Analysis</h3>"
   ]
  },
  {
   "cell_type": "markdown",
   "id": "ca89e5bd",
   "metadata": {},
   "source": [
    "I will now analyze the performance of home and away teams in the dataset. I will start by calculating the total number of home wins, away wins, and draws in the dataset."
   ]
  },
  {
   "cell_type": "code",
   "execution_count": null,
   "id": "00e47a03",
   "metadata": {},
   "outputs": [
    {
     "name": "stdout",
     "output_type": "stream",
     "text": [
      "Total number of home wins: 188\n",
      "Total number of away wins: 98\n",
      "Total number of draws: 94\n"
     ]
    }
   ],
   "source": [
    "# Calculate the number of home wins, away wins, and draws\n",
    "home_wins = len(df[df['FTR'] == 'H'])\n",
    "away_wins = len(df[df['FTR'] == 'A'])\n",
    "draws = len(df[df['FTR'] == 'D'])\n",
    "\n",
    "# Print the results\n",
    "print(\"Total number of home wins: {}\".format(home_wins))\n",
    "print(\"Total number of away wins: {}\".format(away_wins))\n",
    "print(\"Total number of draws: {}\".format(draws))"
   ]
  },
  {
   "cell_type": "markdown",
   "id": "4c3e29cf",
   "metadata": {},
   "source": [
    "This will print the total number of home wins, away wins, and draws in the dataset."
   ]
  },
  {
   "cell_type": "markdown",
   "id": "d3d2cb08",
   "metadata": {},
   "source": [
    "Next, I will calculate the average number of goals scored by home and away teams."
   ]
  },
  {
   "cell_type": "code",
   "execution_count": null,
   "id": "68b03bd5",
   "metadata": {},
   "outputs": [
    {
     "name": "stdout",
     "output_type": "stream",
     "text": [
      "Average number of goals scored by home teams: 1.68\n",
      "Average number of goals scored by away teams: 1.08\n"
     ]
    }
   ],
   "source": [
    "# Calculate the average number of goals scored by home and away teams\n",
    "avg_home_goals = df['FTHG'].mean()\n",
    "avg_away_goals = df['FTAG'].mean()\n",
    "\n",
    "# Print the results\n",
    "print(\"Average number of goals scored by home teams: {:.2f}\".format(avg_home_goals))\n",
    "print(\"Average number of goals scored by away teams: {:.2f}\".format(avg_away_goals))"
   ]
  },
  {
   "cell_type": "markdown",
   "id": "54d47438",
   "metadata": {},
   "source": [
    "This will print the average number of goals scored by home and away teams."
   ]
  },
  {
   "cell_type": "markdown",
   "id": "2504cee6",
   "metadata": {},
   "source": [
    "<h3 style=\"background-color:#0c519c; color:white; padding:8px; font-size:20px; font-family: consolas; border-radius:8px;\">Correlation Analysis</h3>"
   ]
  },
  {
   "cell_type": "markdown",
   "id": "5afb73d4",
   "metadata": {},
   "source": [
    "I will now perform correlation analysis to identify the relationship between different variables in the dataset. I will start by calculating the correlation matrix for all numerical variables."
   ]
  },
  {
   "cell_type": "code",
   "execution_count": null,
   "id": "f73ec1f3",
   "metadata": {},
   "outputs": [
    {
     "data": {
      "image/png": "[encoded data removed]",
      "text/plain": [
       "<Figure size 432x288 with 2 Axes>"
      ]
     },
     "metadata": {},
     "output_type": "display_data"
    }
   ],
   "source": [
    "# Calculate the correlation matrix (numeric columns only)\n",
    "corr_matrix = df.corr(numeric_only=True)\n",
    "\n",
    "# Plot the correlation matrix as a heatmap\n",
    "import seaborn as sns\n",
    "sns.heatmap(corr_matrix, cmap='coolwarm', annot=True)\n",
    "plt.title('Correlation Matrix')\n",
    "plt.show()"
   ]
  },
  {
   "cell_type": "markdown",
   "id": "e9ca7727",
   "metadata": {},
   "source": [
    "This will display a heatmap showing the correlation between all numerical variables in the dataset."
   ]
  },
  {
   "cell_type": "markdown",
   "id": "9be64979",
   "metadata": {},
   "source": [
    "<h2 style=\"background-color:#0c519c; color:white; padding:10px; font-size:24px; font-family: consolas; border-radius:10px;\">Creating New Variables</h2>"
   ]
  },
  {
   "cell_type": "markdown",
   "id": "006499ff",
   "metadata": {},
   "source": [
    "We will create several new variables that could potentially provide valuable insights into team performance."
   ]
  },
  {
   "cell_type": "markdown",
   "id": "19bd934c",
   "metadata": {},
   "source": [
    "<h3 style=\"background-color:#0c519c; color:white; padding:8px; font-size:20px; font-family: consolas; border-radius:8px;\">Possession Ratio</h3>"
   ]
  },
  {
   "cell_type": "markdown",
   "id": "4b4a3e10",
   "metadata": {},
   "source": [
    "Possession ratio is the percentage of time a team has possession of the ball during a match. It's an important measure of a team's attacking prowess and ability to control the game. We will create a new variable called possession_ratio that represents the possession ratio for each match.\n",
    "\n",
    "To create the possession_ratio variable, we need to first calculate the total number of shots taken by each team in a match. We can do this by adding up the HS (home team shots) and AS (away team shots) columns. We can then calculate the possession ratio as the percentage of total shots taken by the home team."
   ]
  },
  {
   "cell_type": "code",
   "execution_count": null,
   "id": "a29e6489",
   "metadata": {},
   "outputs": [],
   "source": [
    "df['total_shots'] = df['HS'] + df['AS']\n",
    "df['possession_ratio'] = df['HS'] / df['total_shots'] * 100"
   ]
  },
  {
   "cell_type": "markdown",
   "id": "719cde73",
   "metadata": {},
   "source": [
    "## Goals Per Game"
   ]
  },
  {
   "cell_type": "markdown",
   "id": "e7ef7f39",
   "metadata": {},
   "source": [
    "Possession is an important aspect of football and can often be an indicator of which team is in control of the game. To calculate the possession ratio, we need to divide the total time each team had possession by the total time of the game.\n",
    "\n",
    "In this dataset, we can approximate the possession ratio by using the number of shots taken by each team. The possession ratio can be calculated as follows:\n",
    "\n",
    "$$ \\text{Possession Ratio} = \\frac{\\text{Total Shots By Home Team}}{\\text{Total Shots By Home Team + Total Shots By Away Team}} $$\n",
    "\n",
    "We can create a new column Possession Ratio in our dataset to store the calculated values. Here's the code to create this new variable:"
   ]
  },
  {
   "cell_type": "code",
   "execution_count": null,
   "id": "ed04aa85",
   "metadata": {},
   "outputs": [],
   "source": [
    "# Creating Possession Ratio variable\n",
    "df['Possession Ratio'] = round(df['HS'] / (df['HS'] + df['AS']), 3)"
   ]
  },
  {
   "cell_type": "markdown",
   "id": "154cf9e2",
   "metadata": {},
   "source": [
    "We have rounded the values to 3 decimal places to make them easier to read. Now, let's take a look at the top 10 rows of the dataset with the newly created Possession Ratio variable."
   ]
  },
  {
   "cell_type": "code",
   "execution_count": null,
   "id": "e3512b1f",
   "metadata": {},
   "outputs": [
    {
     "data": {
      "text/html": [
       "<div>\n",
       "<style scoped>\n",
       "    .dataframe tbody tr th:only-of-type {\n",
       "        vertical-align: middle;\n",
       "    }\n",
       "\n",
       "    .dataframe tbody tr th {\n",
       "        vertical-align: top;\n",
       "    }\n",
       "\n",
       "    .dataframe thead th {\n",
       "        text-align: right;\n",
       "    }\n",
       "</style>\n",
       "<table border=\"1\" class=\"dataframe\">\n",
       "  <thead>\n",
       "    <tr style=\"text-align: right;\">\n",
       "      <th></th>\n",
       "      <th>HomeTeam</th>\n",
       "      <th>AwayTeam</th>\n",
       "      <th>FTHG</th>\n",
       "      <th>FTAG</th>\n",
       "      <th>Possession Ratio</th>\n",
       "    </tr>\n",
       "  </thead>\n",
       "  <tbody>\n",
       "    <tr>\n",
       "      <th>0</th>\n",
       "      <td>Granada</td>\n",
       "      <td>Betis</td>\n",
       "      <td>0</td>\n",
       "      <td>1</td>\n",
       "      <td>0.379</td>\n",
       "    </tr>\n",
       "    <tr>\n",
       "      <th>1</th>\n",
       "      <td>Sp Gijon</td>\n",
       "      <td>Sociedad</td>\n",
       "      <td>1</td>\n",
       "      <td>2</td>\n",
       "      <td>0.739</td>\n",
       "    </tr>\n",
       "    <tr>\n",
       "      <th>2</th>\n",
       "      <td>Valencia</td>\n",
       "      <td>Santander</td>\n",
       "      <td>4</td>\n",
       "      <td>3</td>\n",
       "      <td>0.867</td>\n",
       "    </tr>\n",
       "    <tr>\n",
       "      <th>3</th>\n",
       "      <td>Ath Bilbao</td>\n",
       "      <td>Vallecano</td>\n",
       "      <td>1</td>\n",
       "      <td>1</td>\n",
       "      <td>0.435</td>\n",
       "    </tr>\n",
       "    <tr>\n",
       "      <th>4</th>\n",
       "      <td>Ath Madrid</td>\n",
       "      <td>Osasuna</td>\n",
       "      <td>0</td>\n",
       "      <td>0</td>\n",
       "      <td>0.636</td>\n",
       "    </tr>\n",
       "    <tr>\n",
       "      <th>5</th>\n",
       "      <td>Getafe</td>\n",
       "      <td>Levante</td>\n",
       "      <td>1</td>\n",
       "      <td>1</td>\n",
       "      <td>0.471</td>\n",
       "    </tr>\n",
       "    <tr>\n",
       "      <th>6</th>\n",
       "      <td>Mallorca</td>\n",
       "      <td>Espanol</td>\n",
       "      <td>1</td>\n",
       "      <td>0</td>\n",
       "      <td>0.550</td>\n",
       "    </tr>\n",
       "    <tr>\n",
       "      <th>7</th>\n",
       "      <td>Sevilla</td>\n",
       "      <td>Malaga</td>\n",
       "      <td>2</td>\n",
       "      <td>1</td>\n",
       "      <td>0.714</td>\n",
       "    </tr>\n",
       "    <tr>\n",
       "      <th>8</th>\n",
       "      <td>Zaragoza</td>\n",
       "      <td>Real Madrid</td>\n",
       "      <td>0</td>\n",
       "      <td>6</td>\n",
       "      <td>0.170</td>\n",
       "    </tr>\n",
       "    <tr>\n",
       "      <th>9</th>\n",
       "      <td>Barcelona</td>\n",
       "      <td>Villarreal</td>\n",
       "      <td>5</td>\n",
       "      <td>0</td>\n",
       "      <td>0.783</td>\n",
       "    </tr>\n",
       "  </tbody>\n",
       "</table>\n",
       "</div>"
      ],
      "text/plain": [
       "     HomeTeam     AwayTeam  FTHG  FTAG  Possession Ratio\n",
       "0     Granada        Betis     0     1             0.379\n",
       "1    Sp Gijon     Sociedad     1     2             0.739\n",
       "2    Valencia    Santander     4     3             0.867\n",
       "3  Ath Bilbao    Vallecano     1     1             0.435\n",
       "4  Ath Madrid      Osasuna     0     0             0.636\n",
       "5      Getafe      Levante     1     1             0.471\n",
       "6    Mallorca      Espanol     1     0             0.550\n",
       "7     Sevilla       Malaga     2     1             0.714\n",
       "8    Zaragoza  Real Madrid     0     6             0.170\n",
       "9   Barcelona   Villarreal     5     0             0.783"
      ]
     },
     "execution_count": 70,
     "metadata": {},
     "output_type": "execute_result"
    }
   ],
   "source": [
    "# Display top 10 rows of the dataset with the Possession Ratio variable\n",
    "df[['HomeTeam', 'AwayTeam', 'FTHG', 'FTAG', 'Possession Ratio']].head(10)"
   ]
  },
  {
   "cell_type": "markdown",
   "id": "2a1de5ab",
   "metadata": {},
   "source": [
    "As we can see, the Possession Ratio variable has been successfully created and added to the dataset. We can now use this variable to analyze the possession statistics of different teams in La Liga."
   ]
  },
  {
   "cell_type": "markdown",
   "id": "7f7f45eb",
   "metadata": {},
   "source": [
    "<h3 style=\"background-color:#0c519c; color:white; padding:8px; font-size:20px; font-family: consolas; border-radius:8px;\">Possession Ratio</h3>"
   ]
  },
  {
   "cell_type": "markdown",
   "id": "4005afbb",
   "metadata": {},
   "source": [
    "To calculate the goals per game, we can simply divide the total number of goals by the total number of matches played.\n",
    "\n",
    "Let's create a new column called GPG which represents the average number of goals per game."
   ]
  },
  {
   "cell_type": "code",
   "execution_count": null,
   "id": "8798e9fa",
   "metadata": {},
   "outputs": [],
   "source": [
    "df['GPG'] = (df['FTHG'] + df['FTAG']) / 2"
   ]
  },
  {
   "cell_type": "markdown",
   "id": "d919a153",
   "metadata": {},
   "source": [
    "Now, let's plot the distribution of the GPG variable using a histogram."
   ]
  },
  {
   "cell_type": "code",
   "execution_count": null,
   "id": "1c467ec0",
   "metadata": {},
   "outputs": [
    {
     "data": {
      "application/vnd.plotly.v1+json": {
       "config": {
        "plotlyServerURL": "https://plot.ly"
       },
       "data": [
        {
         "alignmentgroup": "True",
         "bingroup": "x",
         "hovertemplate": "GPG=%{x}<br>count=%{y}<extra></extra>",
         "legendgroup": "",
         "marker": {
          "color": "#636efa",
          "opacity": 0.7,
          "pattern": {
           "shape": ""
          }
         },
         "name": "",
         "nbinsx": 20,
         "offsetgroup": "",
         "orientation": "v",
         "showlegend": false,
         "type": "histogram",
         "x": [
          0.5,
          1.5,
          3.5,
          1,
          0,
          1,
          0.5,
          1.5,
          3,
          2.5,
          3,
          2,
          0.5,
          2,
          0.5,
          1.5,
          1.5,
          0,
          0,
          2,
          4,
          0.5,
          0.5,
          0.5,
          0.5,
          2.5,
          2,
          0.5,
          0.5,
          1.5,
          0,
          0.5,
          1,
          2,
          0.5,
          0,
          2,
          1.5,
          3.5,
          0.5,
          1,
          2.5,
          4,
          0.5,
          1,
          2,
          1.5,
          0,
          0,
          0.5,
          2.5,
          2,
          1,
          0.5,
          2,
          0,
          0.5,
          2,
          1.5,
          0.5,
          1.5,
          0,
          0,
          1,
          2.5,
          1.5,
          1.5,
          0.5,
          1,
          2,
          0,
          2,
          0.5,
          1,
          1,
          1,
          1.5,
          0,
          1,
          1.5,
          0.5,
          2,
          2,
          2.5,
          1.5,
          1.5,
          1,
          0.5,
          1.5,
          0.5,
          2.5,
          0.5,
          2,
          1,
          2,
          1.5,
          1,
          0.5,
          1,
          1.5,
          0,
          1,
          0,
          2,
          0,
          2.5,
          0,
          4,
          2,
          2,
          2,
          2.5,
          0.5,
          2.5,
          0,
          1.5,
          0,
          1.5,
          2,
          0.5,
          2.5,
          1.5,
          0.5,
          2.5,
          1.5,
          2,
          1.5,
          0.5,
          1.5,
          2,
          2.5,
          0.5,
          1.5,
          1.5,
          2,
          0.5,
          1,
          1.5,
          2.5,
          1.5,
          2,
          1.5,
          0.5,
          2,
          1,
          3,
          0.5,
          1,
          2,
          1,
          0.5,
          1.5,
          1.5,
          4,
          1.5,
          1,
          1.5,
          1.5,
          0,
          1,
          0,
          0,
          3,
          0.5,
          0,
          1,
          1,
          0,
          1.5,
          2,
          1.5,
          1.5,
          0,
          0.5,
          1,
          1.5,
          1.5,
          3,
          1,
          1.5,
          1,
          1.5,
          1.5,
          2,
          0,
          2.5,
          1,
          2.5,
          0.5,
          1.5,
          0.5,
          2,
          2.5,
          0,
          1.5,
          1.5,
          1.5,
          2,
          3,
          0.5,
          3,
          1.5,
          0.5,
          1,
          0.5,
          0,
          1.5,
          1,
          1.5,
          1.5,
          1.5,
          2.5,
          0,
          1,
          2,
          3,
          2,
          1,
          2,
          1,
          1,
          2,
          1,
          1.5,
          3,
          2.5,
          4,
          2,
          1,
          1,
          1,
          1.5,
          3,
          1,
          1.5,
          1.5,
          0.5,
          1.5,
          0.5,
          2,
          2,
          2,
          1,
          1,
          3,
          1,
          0.5,
          2.5,
          1.5,
          2,
          2.5,
          0.5,
          1.5,
          0.5,
          1,
          3,
          1.5,
          1,
          2,
          1.5,
          0.5,
          1.5,
          1,
          1.5,
          1,
          1.5,
          0.5,
          1.5,
          1,
          2,
          4,
          0,
          1.5,
          2,
          2.5,
          1.5,
          1,
          1,
          3,
          1.5,
          2,
          1,
          3,
          1,
          1,
          1.5,
          1,
          1,
          0.5,
          1.5,
          1,
          1,
          3,
          0.5,
          1.5,
          1.5,
          2,
          1,
          0,
          2,
          2,
          2,
          1,
          3,
          2.5,
          0.5,
          1,
          0,
          0,
          1.5,
          2,
          1,
          1,
          2.5,
          2,
          2.5,
          2.5,
          1.5,
          1.5,
          1.5,
          1.5,
          2,
          0.5,
          0.5,
          2,
          1,
          0.5,
          1,
          0.5,
          3,
          1.5,
          0.5,
          1,
          1.5,
          2,
          0.5,
          0.5,
          1,
          2,
          1,
          1.5,
          2,
          2,
          1.5,
          1,
          2,
          0.5,
          1.5,
          3.5,
          1,
          1,
          1.5,
          2.5,
          1.5,
          1,
          2.5,
          0.5,
          1.5,
          2,
          0.5,
          0,
          1.5,
          2,
          1.5,
          0.5,
          0.5,
          3.5,
          1.5,
          0.5,
          1.5,
          2,
          0.5,
          1,
          1,
          1.5,
          0.5,
          2.5,
          3,
          0.5,
          0.5
         ],
         "xaxis": "x",
         "yaxis": "y"
        }
       ],
       "layout": {
        "barmode": "relative",
        "legend": {
         "tracegroupgap": 0
        },
        "template": {
         "data": {
          "bar": [
           {
            "error_x": {
             "color": "#2a3f5f"
            },
            "error_y": {
             "color": "#2a3f5f"
            },
            "marker": {
             "line": {
              "color": "#E5ECF6",
              "width": 0.5
             },
             "pattern": {
              "fillmode": "overlay",
              "size": 10,
              "solidity": 0.2
             }
            },
            "type": "bar"
           }
          ],
          "barpolar": [
           {
            "marker": {
             "line": {
              "color": "#E5ECF6",
              "width": 0.5
             },
             "pattern": {
              "fillmode": "overlay",
              "size": 10,
              "solidity": 0.2
             }
            },
            "type": "barpolar"
           }
          ],
          "carpet": [
           {
            "aaxis": {
             "endlinecolor": "#2a3f5f",
             "gridcolor": "white",
             "linecolor": "white",
             "minorgridcolor": "white",
             "startlinecolor": "#2a3f5f"
            },
            "baxis": {
             "endlinecolor": "#2a3f5f",
             "gridcolor": "white",
             "linecolor": "white",
             "minorgridcolor": "white",
             "startlinecolor": "#2a3f5f"
            },
            "type": "carpet"
           }
          ],
          "choropleth": [
           {
            "colorbar": {
             "outlinewidth": 0,
             "ticks": ""
            },
            "type": "choropleth"
           }
          ],
          "contour": [
           {
            "colorbar": {
             "outlinewidth": 0,
             "ticks": ""
            },
            "colorscale": [
             [
              0,
              "#0d0887"
             ],
             [
              0.1111111111111111,
              "#46039f"
             ],
             [
              0.2222222222222222,
              "#7201a8"
             ],
             [
              0.3333333333333333,
              "#9c179e"
             ],
             [
              0.4444444444444444,
              "#bd3786"
             ],
             [
              0.5555555555555556,
              "#d8576b"
             ],
             [
              0.6666666666666666,
              "#ed7953"
             ],
             [
              0.7777777777777778,
              "#fb9f3a"
             ],
             [
              0.8888888888888888,
              "#fdca26"
             ],
             [
              1,
              "#f0f921"
             ]
            ],
            "type": "contour"
           }
          ],
          "contourcarpet": [
           {
            "colorbar": {
             "outlinewidth": 0,
             "ticks": ""
            },
            "type": "contourcarpet"
           }
          ],
          "heatmap": [
           {
            "colorbar": {
             "outlinewidth": 0,
             "ticks": ""
            },
            "colorscale": [
             [
              0,
              "#0d0887"
             ],
             [
              0.1111111111111111,
              "#46039f"
             ],
             [
              0.2222222222222222,
              "#7201a8"
             ],
             [
              0.3333333333333333,
              "#9c179e"
             ],
             [
              0.4444444444444444,
              "#bd3786"
             ],
             [
              0.5555555555555556,
              "#d8576b"
             ],
             [
              0.6666666666666666,
              "#ed7953"
             ],
             [
              0.7777777777777778,
              "#fb9f3a"
             ],
             [
              0.8888888888888888,
              "#fdca26"
             ],
             [
              1,
              "#f0f921"
             ]
            ],
            "type": "heatmap"
           }
          ],
          "heatmapgl": [
           {
            "colorbar": {
             "outlinewidth": 0,
             "ticks": ""
            },
            "colorscale": [
             [
              0,
              "#0d0887"
             ],
             [
              0.1111111111111111,
              "#46039f"
             ],
             [
              0.2222222222222222,
              "#7201a8"
             ],
             [
              0.3333333333333333,
              "#9c179e"
             ],
             [
              0.4444444444444444,
              "#bd3786"
             ],
             [
              0.5555555555555556,
              "#d8576b"
             ],
             [
              0.6666666666666666,
              "#ed7953"
             ],
             [
              0.7777777777777778,
              "#fb9f3a"
             ],
             [
              0.8888888888888888,
              "#fdca26"
             ],
             [
              1,
              "#f0f921"
             ]
            ],
            "type": "heatmapgl"
           }
          ],
          "histogram": [
           {
            "marker": {
             "pattern": {
              "fillmode": "overlay",
              "size": 10,
              "solidity": 0.2
             }
            },
            "type": "histogram"
           }
          ],
          "histogram2d": [
           {
            "colorbar": {
             "outlinewidth": 0,
             "ticks": ""
            },
            "colorscale": [
             [
              0,
              "#0d0887"
             ],
             [
              0.1111111111111111,
              "#46039f"
             ],
             [
              0.2222222222222222,
              "#7201a8"
             ],
             [
              0.3333333333333333,
              "#9c179e"
             ],
             [
              0.4444444444444444,
              "#bd3786"
             ],
             [
              0.5555555555555556,
              "#d8576b"
             ],
             [
              0.6666666666666666,
              "#ed7953"
             ],
             [
              0.7777777777777778,
              "#fb9f3a"
             ],
             [
              0.8888888888888888,
              "#fdca26"
             ],
             [
              1,
              "#f0f921"
             ]
            ],
            "type": "histogram2d"
           }
          ],
          "histogram2dcontour": [
           {
            "colorbar": {
             "outlinewidth": 0,
             "ticks": ""
            },
            "colorscale": [
             [
              0,
              "#0d0887"
             ],
             [
              0.1111111111111111,
              "#46039f"
             ],
             [
              0.2222222222222222,
              "#7201a8"
             ],
             [
              0.3333333333333333,
              "#9c179e"
             ],
             [
              0.4444444444444444,
              "#bd3786"
             ],
             [
              0.5555555555555556,
              "#d8576b"
             ],
             [
              0.6666666666666666,
              "#ed7953"
             ],
             [
              0.7777777777777778,
              "#fb9f3a"
             ],
             [
              0.8888888888888888,
              "#fdca26"
             ],
             [
              1,
              "#f0f921"
             ]
            ],
            "type": "histogram2dcontour"
           }
          ],
          "mesh3d": [
           {
            "colorbar": {
             "outlinewidth": 0,
             "ticks": ""
            },
            "type": "mesh3d"
           }
          ],
          "parcoords": [
           {
            "line": {
             "colorbar": {
              "outlinewidth": 0,
              "ticks": ""
             }
            },
            "type": "parcoords"
           }
          ],
          "pie": [
           {
            "automargin": true,
            "type": "pie"
           }
          ],
          "scatter": [
           {
            "fillpattern": {
             "fillmode": "overlay",
             "size": 10,
             "solidity": 0.2
            },
            "type": "scatter"
           }
          ],
          "scatter3d": [
           {
            "line": {
             "colorbar": {
              "outlinewidth": 0,
              "ticks": ""
             }
            },
            "marker": {
             "colorbar": {
              "outlinewidth": 0,
              "ticks": ""
             }
            },
            "type": "scatter3d"
           }
          ],
          "scattercarpet": [
           {
            "marker": {
             "colorbar": {
              "outlinewidth": 0,
              "ticks": ""
             }
            },
            "type": "scattercarpet"
           }
          ],
          "scattergeo": [
           {
            "marker": {
             "colorbar": {
              "outlinewidth": 0,
              "ticks": ""
             }
            },
            "type": "scattergeo"
           }
          ],
          "scattergl": [
           {
            "marker": {
             "colorbar": {
              "outlinewidth": 0,
              "ticks": ""
             }
            },
            "type": "scattergl"
           }
          ],
          "scattermapbox": [
           {
            "marker": {
             "colorbar": {
              "outlinewidth": 0,
              "ticks": ""
             }
            },
            "type": "scattermapbox"
           }
          ],
          "scatterpolar": [
           {
            "marker": {
             "colorbar": {
              "outlinewidth": 0,
              "ticks": ""
             }
            },
            "type": "scatterpolar"
           }
          ],
          "scatterpolargl": [
           {
            "marker": {
             "colorbar": {
              "outlinewidth": 0,
              "ticks": ""
             }
            },
            "type": "scatterpolargl"
           }
          ],
          "scatterternary": [
           {
            "marker": {
             "colorbar": {
              "outlinewidth": 0,
              "ticks": ""
             }
            },
            "type": "scatterternary"
           }
          ],
          "surface": [
           {
            "colorbar": {
             "outlinewidth": 0,
             "ticks": ""
            },
            "colorscale": [
             [
              0,
              "#0d0887"
             ],
             [
              0.1111111111111111,
              "#46039f"
             ],
             [
              0.2222222222222222,
              "#7201a8"
             ],
             [
              0.3333333333333333,
              "#9c179e"
             ],
             [
              0.4444444444444444,
              "#bd3786"
             ],
             [
              0.5555555555555556,
              "#d8576b"
             ],
             [
              0.6666666666666666,
              "#ed7953"
             ],
             [
              0.7777777777777778,
              "#fb9f3a"
             ],
             [
              0.8888888888888888,
              "#fdca26"
             ],
             [
              1,
              "#f0f921"
             ]
            ],
            "type": "surface"
           }
          ],
          "table": [
           {
            "cells": {
             "fill": {
              "color": "#EBF0F8"
             },
             "line": {
              "color": "white"
             }
            },
            "header": {
             "fill": {
              "color": "#C8D4E3"
             },
             "line": {
              "color": "white"
             }
            },
            "type": "table"
           }
          ]
         },
         "layout": {
          "annotationdefaults": {
           "arrowcolor": "#2a3f5f",
           "arrowhead": 0,
           "arrowwidth": 1
          },
          "autotypenumbers": "strict",
          "coloraxis": {
           "colorbar": {
            "outlinewidth": 0,
            "ticks": ""
           }
          },
          "colorscale": {
           "diverging": [
            [
             0,
             "#8e0152"
            ],
            [
             0.1,
             "#c51b7d"
            ],
            [
             0.2,
             "#de77ae"
            ],
            [
             0.3,
             "#f1b6da"
            ],
            [
             0.4,
             "#fde0ef"
            ],
            [
             0.5,
             "#f7f7f7"
            ],
            [
             0.6,
             "#e6f5d0"
            ],
            [
             0.7,
             "#b8e186"
            ],
            [
             0.8,
             "#7fbc41"
            ],
            [
             0.9,
             "#4d9221"
            ],
            [
             1,
             "#276419"
            ]
           ],
           "sequential": [
            [
             0,
             "#0d0887"
            ],
            [
             0.1111111111111111,
             "#46039f"
            ],
            [
             0.2222222222222222,
             "#7201a8"
            ],
            [
             0.3333333333333333,
             "#9c179e"
            ],
            [
             0.4444444444444444,
             "#bd3786"
            ],
            [
             0.5555555555555556,
             "#d8576b"
            ],
            [
             0.6666666666666666,
             "#ed7953"
            ],
            [
             0.7777777777777778,
             "#fb9f3a"
            ],
            [
             0.8888888888888888,
             "#fdca26"
            ],
            [
             1,
             "#f0f921"
            ]
           ],
           "sequentialminus": [
            [
             0,
             "#0d0887"
            ],
            [
             0.1111111111111111,
             "#46039f"
            ],
            [
             0.2222222222222222,
             "#7201a8"
            ],
            [
             0.3333333333333333,
             "#9c179e"
            ],
            [
             0.4444444444444444,
             "#bd3786"
            ],
            [
             0.5555555555555556,
             "#d8576b"
            ],
            [
             0.6666666666666666,
             "#ed7953"
            ],
            [
             0.7777777777777778,
             "#fb9f3a"
            ],
            [
             0.8888888888888888,
             "#fdca26"
            ],
            [
             1,
             "#f0f921"
            ]
           ]
          },
          "colorway": [
           "#636efa",
           "#EF553B",
           "#00cc96",
           "#ab63fa",
           "#FFA15A",
           "#19d3f3",
           "#FF6692",
           "#B6E880",
           "#FF97FF",
           "#FECB52"
          ],
          "font": {
           "color": "#2a3f5f"
          },
          "geo": {
           "bgcolor": "white",
           "lakecolor": "white",
           "landcolor": "#E5ECF6",
           "showlakes": true,
           "showland": true,
           "subunitcolor": "white"
          },
          "hoverlabel": {
           "align": "left"
          },
          "hovermode": "closest",
          "mapbox": {
           "style": "light"
          },
          "paper_bgcolor": "white",
          "plot_bgcolor": "#E5ECF6",
          "polar": {
           "angularaxis": {
            "gridcolor": "white",
            "linecolor": "white",
            "ticks": ""
           },
           "bgcolor": "#E5ECF6",
           "radialaxis": {
            "gridcolor": "white",
            "linecolor": "white",
            "ticks": ""
           }
          },
          "scene": {
           "xaxis": {
            "backgroundcolor": "#E5ECF6",
            "gridcolor": "white",
            "gridwidth": 2,
            "linecolor": "white",
            "showbackground": true,
            "ticks": "",
            "zerolinecolor": "white"
           },
           "yaxis": {
            "backgroundcolor": "#E5ECF6",
            "gridcolor": "white",
            "gridwidth": 2,
            "linecolor": "white",
            "showbackground": true,
            "ticks": "",
            "zerolinecolor": "white"
           },
           "zaxis": {
            "backgroundcolor": "#E5ECF6",
            "gridcolor": "white",
            "gridwidth": 2,
            "linecolor": "white",
            "showbackground": true,
            "ticks": "",
            "zerolinecolor": "white"
           }
          },
          "shapedefaults": {
           "line": {
            "color": "#2a3f5f"
           }
          },
          "ternary": {
           "aaxis": {
            "gridcolor": "white",
            "linecolor": "white",
            "ticks": ""
           },
           "baxis": {
            "gridcolor": "white",
            "linecolor": "white",
            "ticks": ""
           },
           "bgcolor": "#E5ECF6",
           "caxis": {
            "gridcolor": "white",
            "linecolor": "white",
            "ticks": ""
           }
          },
          "title": {
           "x": 0.05
          },
          "xaxis": {
           "automargin": true,
           "gridcolor": "white",
           "linecolor": "white",
           "ticks": "",
           "title": {
            "standoff": 15
           },
           "zerolinecolor": "white",
           "zerolinewidth": 2
          },
          "yaxis": {
           "automargin": true,
           "gridcolor": "white",
           "linecolor": "white",
           "ticks": "",
           "title": {
            "standoff": 15
           },
           "zerolinecolor": "white",
           "zerolinewidth": 2
          }
         }
        },
        "title": {
         "text": "Distribution of Goals per Game"
        },
        "xaxis": {
         "anchor": "y",
         "domain": [
          0,
          1
         ],
         "title": {
          "text": "GPG"
         }
        },
        "yaxis": {
         "anchor": "x",
         "domain": [
          0,
          1
         ],
         "title": {
          "text": "count"
         }
        }
       }
      },
      "text/html": [
       "<div>                            <div id=\"e802eb95-216f-46b1-a527-4e72b3f28727\" class=\"plotly-graph-div\" style=\"height:525px; width:100%;\"></div>            <script type=\"text/javascript\">                require([\"plotly\"], function(Plotly) {                    window.PLOTLYENV=window.PLOTLYENV || {};                                    if (document.getElementById(\"e802eb95-216f-46b1-a527-4e72b3f28727\")) {                    Plotly.newPlot(                        \"e802eb95-216f-46b1-a527-4e72b3f28727\",                        [{\"alignmentgroup\":\"True\",\"bingroup\":\"x\",\"hovertemplate\":\"GPG=%{x}<br>count=%{y}<extra></extra>\",\"legendgroup\":\"\",\"marker\":{\"color\":\"#636efa\",\"opacity\":0.7,\"pattern\":{\"shape\":\"\"}},\"name\":\"\",\"nbinsx\":20,\"offsetgroup\":\"\",\"orientation\":\"v\",\"showlegend\":false,\"x\":[0.5,1.5,3.5,1.0,0.0,1.0,0.5,1.5,3.0,2.5,3.0,2.0,0.5,2.0,0.5,1.5,1.5,0.0,0.0,2.0,4.0,0.5,0.5,0.5,0.5,2.5,2.0,0.5,0.5,1.5,0.0,0.5,1.0,2.0,0.5,0.0,2.0,1.5,3.5,0.5,1.0,2.5,4.0,0.5,1.0,2.0,1.5,0.0,0.0,0.5,2.5,2.0,1.0,0.5,2.0,0.0,0.5,2.0,1.5,0.5,1.5,0.0,0.0,1.0,2.5,1.5,1.5,0.5,1.0,2.0,0.0,2.0,0.5,1.0,1.0,1.0,1.5,0.0,1.0,1.5,0.5,2.0,2.0,2.5,1.5,1.5,1.0,0.5,1.5,0.5,2.5,0.5,2.0,1.0,2.0,1.5,1.0,0.5,1.0,1.5,0.0,1.0,0.0,2.0,0.0,2.5,0.0,4.0,2.0,2.0,2.0,2.5,0.5,2.5,0.0,1.5,0.0,1.5,2.0,0.5,2.5,1.5,0.5,2.5,1.5,2.0,1.5,0.5,1.5,2.0,2.5,0.5,1.5,1.5,2.0,0.5,1.0,1.5,2.5,1.5,2.0,1.5,0.5,2.0,1.0,3.0,0.5,1.0,2.0,1.0,0.5,1.5,1.5,4.0,1.5,1.0,1.5,1.5,0.0,1.0,0.0,0.0,3.0,0.5,0.0,1.0,1.0,0.0,1.5,2.0,1.5,1.5,0.0,0.5,1.0,1.5,1.5,3.0,1.0,1.5,1.0,1.5,1.5,2.0,0.0,2.5,1.0,2.5,0.5,1.5,0.5,2.0,2.5,0.0,1.5,1.5,1.5,2.0,3.0,0.5,3.0,1.5,0.5,1.0,0.5,0.0,1.5,1.0,1.5,1.5,1.5,2.5,0.0,1.0,2.0,3.0,2.0,1.0,2.0,1.0,1.0,2.0,1.0,1.5,3.0,2.5,4.0,2.0,1.0,1.0,1.0,1.5,3.0,1.0,1.5,1.5,0.5,1.5,0.5,2.0,2.0,2.0,1.0,1.0,3.0,1.0,0.5,2.5,1.5,2.0,2.5,0.5,1.5,0.5,1.0,3.0,1.5,1.0,2.0,1.5,0.5,1.5,1.0,1.5,1.0,1.5,0.5,1.5,1.0,2.0,4.0,0.0,1.5,2.0,2.5,1.5,1.0,1.0,3.0,1.5,2.0,1.0,3.0,1.0,1.0,1.5,1.0,1.0,0.5,1.5,1.0,1.0,3.0,0.5,1.5,1.5,2.0,1.0,0.0,2.0,2.0,2.0,1.0,3.0,2.5,0.5,1.0,0.0,0.0,1.5,2.0,1.0,1.0,2.5,2.0,2.5,2.5,1.5,1.5,1.5,1.5,2.0,0.5,0.5,2.0,1.0,0.5,1.0,0.5,3.0,1.5,0.5,1.0,1.5,2.0,0.5,0.5,1.0,2.0,1.0,1.5,2.0,2.0,1.5,1.0,2.0,0.5,1.5,3.5,1.0,1.0,1.5,2.5,1.5,1.0,2.5,0.5,1.5,2.0,0.5,0.0,1.5,2.0,1.5,0.5,0.5,3.5,1.5,0.5,1.5,2.0,0.5,1.0,1.0,1.5,0.5,2.5,3.0,0.5,0.5],\"xaxis\":\"x\",\"yaxis\":\"y\",\"type\":\"histogram\"}],                        {\"template\":{\"data\":{\"histogram2dcontour\":[{\"type\":\"histogram2dcontour\",\"colorbar\":{\"outlinewidth\":0,\"ticks\":\"\"},\"colorscale\":[[0.0,\"#0d0887\"],[0.1111111111111111,\"#46039f\"],[0.2222222222222222,\"#7201a8\"],[0.3333333333333333,\"#9c179e\"],[0.4444444444444444,\"#bd3786\"],[0.5555555555555556,\"#d8576b\"],[0.6666666666666666,\"#ed7953\"],[0.7777777777777778,\"#fb9f3a\"],[0.8888888888888888,\"#fdca26\"],[1.0,\"#f0f921\"]]}],\"choropleth\":[{\"type\":\"choropleth\",\"colorbar\":{\"outlinewidth\":0,\"ticks\":\"\"}}],\"histogram2d\":[{\"type\":\"histogram2d\",\"colorbar\":{\"outlinewidth\":0,\"ticks\":\"\"},\"colorscale\":[[0.0,\"#0d0887\"],[0.1111111111111111,\"#46039f\"],[0.2222222222222222,\"#7201a8\"],[0.3333333333333333,\"#9c179e\"],[0.4444444444444444,\"#bd3786\"],[0.5555555555555556,\"#d8576b\"],[0.6666666666666666,\"#ed7953\"],[0.7777777777777778,\"#fb9f3a\"],[0.8888888888888888,\"#fdca26\"],[1.0,\"#f0f921\"]]}],\"heatmap\":[{\"type\":\"heatmap\",\"colorbar\":{\"outlinewidth\":0,\"ticks\":\"\"},\"colorscale\":[[0.0,\"#0d0887\"],[0.1111111111111111,\"#46039f\"],[0.2222222222222222,\"#7201a8\"],[0.3333333333333333,\"#9c179e\"],[0.4444444444444444,\"#bd3786\"],[0.5555555555555556,\"#d8576b\"],[0.6666666666666666,\"#ed7953\"],[0.7777777777777778,\"#fb9f3a\"],[0.8888888888888888,\"#fdca26\"],[1.0,\"#f0f921\"]]}],\"heatmapgl\":[{\"type\":\"heatmapgl\",\"colorbar\":{\"outlinewidth\":0,\"ticks\":\"\"},\"colorscale\":[[0.0,\"#0d0887\"],[0.1111111111111111,\"#46039f\"],[0.2222222222222222,\"#7201a8\"],[0.3333333333333333,\"#9c179e\"],[0.4444444444444444,\"#bd3786\"],[0.5555555555555556,\"#d8576b\"],[0.6666666666666666,\"#ed7953\"],[0.7777777777777778,\"#fb9f3a\"],[0.8888888888888888,\"#fdca26\"],[1.0,\"#f0f921\"]]}],\"contourcarpet\":[{\"type\":\"contourcarpet\",\"colorbar\":{\"outlinewidth\":0,\"ticks\":\"\"}}],\"contour\":[{\"type\":\"contour\",\"colorbar\":{\"outlinewidth\":0,\"ticks\":\"\"},\"colorscale\":[[0.0,\"#0d0887\"],[0.1111111111111111,\"#46039f\"],[0.2222222222222222,\"#7201a8\"],[0.3333333333333333,\"#9c179e\"],[0.4444444444444444,\"#bd3786\"],[0.5555555555555556,\"#d8576b\"],[0.6666666666666666,\"#ed7953\"],[0.7777777777777778,\"#fb9f3a\"],[0.8888888888888888,\"#fdca26\"],[1.0,\"#f0f921\"]]}],\"surface\":[{\"type\":\"surface\",\"colorbar\":{\"outlinewidth\":0,\"ticks\":\"\"},\"colorscale\":[[0.0,\"#0d0887\"],[0.1111111111111111,\"#46039f\"],[0.2222222222222222,\"#7201a8\"],[0.3333333333333333,\"#9c179e\"],[0.4444444444444444,\"#bd3786\"],[0.5555555555555556,\"#d8576b\"],[0.6666666666666666,\"#ed7953\"],[0.7777777777777778,\"#fb9f3a\"],[0.8888888888888888,\"#fdca26\"],[1.0,\"#f0f921\"]]}],\"mesh3d\":[{\"type\":\"mesh3d\",\"colorbar\":{\"outlinewidth\":0,\"ticks\":\"\"}}],\"scatter\":[{\"fillpattern\":{\"fillmode\":\"overlay\",\"size\":10,\"solidity\":0.2},\"type\":\"scatter\"}],\"parcoords\":[{\"type\":\"parcoords\",\"line\":{\"colorbar\":{\"outlinewidth\":0,\"ticks\":\"\"}}}],\"scatterpolargl\":[{\"type\":\"scatterpolargl\",\"marker\":{\"colorbar\":{\"outlinewidth\":0,\"ticks\":\"\"}}}],\"bar\":[{\"error_x\":{\"color\":\"#2a3f5f\"},\"error_y\":{\"color\":\"#2a3f5f\"},\"marker\":{\"line\":{\"color\":\"#E5ECF6\",\"width\":0.5},\"pattern\":{\"fillmode\":\"overlay\",\"size\":10,\"solidity\":0.2}},\"type\":\"bar\"}],\"scattergeo\":[{\"type\":\"scattergeo\",\"marker\":{\"colorbar\":{\"outlinewidth\":0,\"ticks\":\"\"}}}],\"scatterpolar\":[{\"type\":\"scatterpolar\",\"marker\":{\"colorbar\":{\"outlinewidth\":0,\"ticks\":\"\"}}}],\"histogram\":[{\"marker\":{\"pattern\":{\"fillmode\":\"overlay\",\"size\":10,\"solidity\":0.2}},\"type\":\"histogram\"}],\"scattergl\":[{\"type\":\"scattergl\",\"marker\":{\"colorbar\":{\"outlinewidth\":0,\"ticks\":\"\"}}}],\"scatter3d\":[{\"type\":\"scatter3d\",\"line\":{\"colorbar\":{\"outlinewidth\":0,\"ticks\":\"\"}},\"marker\":{\"colorbar\":{\"outlinewidth\":0,\"ticks\":\"\"}}}],\"scattermapbox\":[{\"type\":\"scattermapbox\",\"marker\":{\"colorbar\":{\"outlinewidth\":0,\"ticks\":\"\"}}}],\"scatterternary\":[{\"type\":\"scatterternary\",\"marker\":{\"colorbar\":{\"outlinewidth\":0,\"ticks\":\"\"}}}],\"scattercarpet\":[{\"type\":\"scattercarpet\",\"marker\":{\"colorbar\":{\"outlinewidth\":0,\"ticks\":\"\"}}}],\"carpet\":[{\"aaxis\":{\"endlinecolor\":\"#2a3f5f\",\"gridcolor\":\"white\",\"linecolor\":\"white\",\"minorgridcolor\":\"white\",\"startlinecolor\":\"#2a3f5f\"},\"baxis\":{\"endlinecolor\":\"#2a3f5f\",\"gridcolor\":\"white\",\"linecolor\":\"white\",\"minorgridcolor\":\"white\",\"startlinecolor\":\"#2a3f5f\"},\"type\":\"carpet\"}],\"table\":[{\"cells\":{\"fill\":{\"color\":\"#EBF0F8\"},\"line\":{\"color\":\"white\"}},\"header\":{\"fill\":{\"color\":\"#C8D4E3\"},\"line\":{\"color\":\"white\"}},\"type\":\"table\"}],\"barpolar\":[{\"marker\":{\"line\":{\"color\":\"#E5ECF6\",\"width\":0.5},\"pattern\":{\"fillmode\":\"overlay\",\"size\":10,\"solidity\":0.2}},\"type\":\"barpolar\"}],\"pie\":[{\"automargin\":true,\"type\":\"pie\"}]},\"layout\":{\"autotypenumbers\":\"strict\",\"colorway\":[\"#636efa\",\"#EF553B\",\"#00cc96\",\"#ab63fa\",\"#FFA15A\",\"#19d3f3\",\"#FF6692\",\"#B6E880\",\"#FF97FF\",\"#FECB52\"],\"font\":{\"color\":\"#2a3f5f\"},\"hovermode\":\"closest\",\"hoverlabel\":{\"align\":\"left\"},\"paper_bgcolor\":\"white\",\"plot_bgcolor\":\"#E5ECF6\",\"polar\":{\"bgcolor\":\"#E5ECF6\",\"angularaxis\":{\"gridcolor\":\"white\",\"linecolor\":\"white\",\"ticks\":\"\"},\"radialaxis\":{\"gridcolor\":\"white\",\"linecolor\":\"white\",\"ticks\":\"\"}},\"ternary\":{\"bgcolor\":\"#E5ECF6\",\"aaxis\":{\"gridcolor\":\"white\",\"linecolor\":\"white\",\"ticks\":\"\"},\"baxis\":{\"gridcolor\":\"white\",\"linecolor\":\"white\",\"ticks\":\"\"},\"caxis\":{\"gridcolor\":\"white\",\"linecolor\":\"white\",\"ticks\":\"\"}},\"coloraxis\":{\"colorbar\":{\"outlinewidth\":0,\"ticks\":\"\"}},\"colorscale\":{\"sequential\":[[0.0,\"#0d0887\"],[0.1111111111111111,\"#46039f\"],[0.2222222222222222,\"#7201a8\"],[0.3333333333333333,\"#9c179e\"],[0.4444444444444444,\"#bd3786\"],[0.5555555555555556,\"#d8576b\"],[0.6666666666666666,\"#ed7953\"],[0.7777777777777778,\"#fb9f3a\"],[0.8888888888888888,\"#fdca26\"],[1.0,\"#f0f921\"]],\"sequentialminus\":[[0.0,\"#0d0887\"],[0.1111111111111111,\"#46039f\"],[0.2222222222222222,\"#7201a8\"],[0.3333333333333333,\"#9c179e\"],[0.4444444444444444,\"#bd3786\"],[0.5555555555555556,\"#d8576b\"],[0.6666666666666666,\"#ed7953\"],[0.7777777777777778,\"#fb9f3a\"],[0.8888888888888888,\"#fdca26\"],[1.0,\"#f0f921\"]],\"diverging\":[[0,\"#8e0152\"],[0.1,\"#c51b7d\"],[0.2,\"#de77ae\"],[0.3,\"#f1b6da\"],[0.4,\"#fde0ef\"],[0.5,\"#f7f7f7\"],[0.6,\"#e6f5d0\"],[0.7,\"#b8e186\"],[0.8,\"#7fbc41\"],[0.9,\"#4d9221\"],[1,\"#276419\"]]},\"xaxis\":{\"gridcolor\":\"white\",\"linecolor\":\"white\",\"ticks\":\"\",\"title\":{\"standoff\":15},\"zerolinecolor\":\"white\",\"automargin\":true,\"zerolinewidth\":2},\"yaxis\":{\"gridcolor\":\"white\",\"linecolor\":\"white\",\"ticks\":\"\",\"title\":{\"standoff\":15},\"zerolinecolor\":\"white\",\"automargin\":true,\"zerolinewidth\":2},\"scene\":{\"xaxis\":{\"backgroundcolor\":\"#E5ECF6\",\"gridcolor\":\"white\",\"linecolor\":\"white\",\"showbackground\":true,\"ticks\":\"\",\"zerolinecolor\":\"white\",\"gridwidth\":2},\"yaxis\":{\"backgroundcolor\":\"#E5ECF6\",\"gridcolor\":\"white\",\"linecolor\":\"white\",\"showbackground\":true,\"ticks\":\"\",\"zerolinecolor\":\"white\",\"gridwidth\":2},\"zaxis\":{\"backgroundcolor\":\"#E5ECF6\",\"gridcolor\":\"white\",\"linecolor\":\"white\",\"showbackground\":true,\"ticks\":\"\",\"zerolinecolor\":\"white\",\"gridwidth\":2}},\"shapedefaults\":{\"line\":{\"color\":\"#2a3f5f\"}},\"annotationdefaults\":{\"arrowcolor\":\"#2a3f5f\",\"arrowhead\":0,\"arrowwidth\":1},\"geo\":{\"bgcolor\":\"white\",\"landcolor\":\"#E5ECF6\",\"subunitcolor\":\"white\",\"showland\":true,\"showlakes\":true,\"lakecolor\":\"white\"},\"title\":{\"x\":0.05},\"mapbox\":{\"style\":\"light\"}}},\"xaxis\":{\"anchor\":\"y\",\"domain\":[0.0,1.0],\"title\":{\"text\":\"GPG\"}},\"yaxis\":{\"anchor\":\"x\",\"domain\":[0.0,1.0],\"title\":{\"text\":\"count\"}},\"legend\":{\"tracegroupgap\":0},\"title\":{\"text\":\"Distribution of Goals per Game\"},\"barmode\":\"relative\"},                        {\"responsive\": true}                    ).then(function(){\n",
       "                            \n",
       "var gd = document.getElementById('e802eb95-216f-46b1-a527-4e72b3f28727');\n",
       "var x = new MutationObserver(function (mutations, observer) {{\n",
       "        var display = window.getComputedStyle(gd).display;\n",
       "        if (!display || display === 'none') {{\n",
       "            console.log([gd, 'removed!']);\n",
       "            Plotly.purge(gd);\n",
       "            observer.disconnect();\n",
       "        }}\n",
       "}});\n",
       "\n",
       "// Listen for the removal of the full notebook cells\n",
       "var notebookContainer = gd.closest('#notebook-container');\n",
       "if (notebookContainer) {{\n",
       "    x.observe(notebookContainer, {childList: true});\n",
       "}}\n",
       "\n",
       "// Listen for the clearing of the current output cell\n",
       "var outputEl = gd.closest('.output');\n",
       "if (outputEl) {{\n",
       "    x.observe(outputEl, {childList: true});\n",
       "}}\n",
       "\n",
       "                        })                };                });            </script>        </div>"
      ]
     },
     "metadata": {},
     "output_type": "display_data"
    }
   ],
   "source": [
    "import plotly.express as px\n",
    "\n",
    "fig = px.histogram(df, x='GPG', nbins=20, opacity=0.7, title='Distribution of Goals per Game')\n",
    "fig.show()"
   ]
  },
  {
   "cell_type": "markdown",
   "id": "2f4f8fe4",
   "metadata": {},
   "source": [
    "The resulting plot shows us the distribution of goals per game, with most matches having between 2 and 3 goals per game."
   ]
  },
  {
   "cell_type": "markdown",
   "id": "83d78368",
   "metadata": {},
   "source": [
    "<h3 style=\"background-color:#0c519c; color:white; padding:8px; font-size:20px; font-family: consolas; border-radius:8px;\">Shots on Target Ratio</h3>"
   ]
  },
  {
   "cell_type": "markdown",
   "id": "96607938",
   "metadata": {},
   "source": [
    "Shots on target ratio is an important metric to evaluate the effectiveness of a team's offense. We can calculate the shots on target ratio by dividing the number of shots on target by the total number of shots."
   ]
  },
  {
   "cell_type": "code",
   "execution_count": null,
   "id": "4a13f494",
   "metadata": {},
   "outputs": [],
   "source": [
    "df['SOTR'] = df['HST'] / df['HS']"
   ]
  },
  {
   "cell_type": "markdown",
   "id": "8f6cd481",
   "metadata": {},
   "source": [
    "Now, let's create a box plot to visualize the distribution of shots on target ratio for each team."
   ]
  },
  {
   "cell_type": "code",
   "execution_count": null,
   "id": "05274494",
   "metadata": {},
   "outputs": [
    {
     "data": {
      "application/vnd.plotly.v1+json": {
       "config": {
        "plotlyServerURL": "https://plot.ly"
       },
       "data": [
        {
         "alignmentgroup": "True",
         "hovertemplate": "HomeTeam=%{x}<br>SOTR=%{y}<extra></extra>",
         "legendgroup": "Granada",
         "marker": {
          "color": "#636efa"
         },
         "name": "Granada",
         "notched": false,
         "offsetgroup": "Granada",
         "orientation": "v",
         "showlegend": true,
         "type": "box",
         "x": [
          "Granada",
          "Granada",
          "Granada",
          "Granada",
          "Granada",
          "Granada",
          "Granada",
          "Granada",
          "Granada",
          "Granada",
          "Granada",
          "Granada",
          "Granada",
          "Granada",
          "Granada",
          "Granada",
          "Granada",
          "Granada",
          "Granada"
         ],
         "x0": " ",
         "xaxis": "x",
         "y": [
          0.18181818181818182,
          0.25,
          0.2,
          0.16666666666666666,
          0,
          0.1875,
          0.45454545454545453,
          0.46153846153846156,
          0.35294117647058826,
          0.4,
          0.5,
          0.4,
          0.375,
          0.3076923076923077,
          0.2,
          0.4444444444444444,
          0.5454545454545454,
          0.5294117647058824,
          0.4166666666666667
         ],
         "y0": " ",
         "yaxis": "y"
        },
        {
         "alignmentgroup": "True",
         "hovertemplate": "HomeTeam=%{x}<br>SOTR=%{y}<extra></extra>",
         "legendgroup": "Sp Gijon",
         "marker": {
          "color": "#EF553B"
         },
         "name": "Sp Gijon",
         "notched": false,
         "offsetgroup": "Sp Gijon",
         "orientation": "v",
         "showlegend": true,
         "type": "box",
         "x": [
          "Sp Gijon",
          "Sp Gijon",
          "Sp Gijon",
          "Sp Gijon",
          "Sp Gijon",
          "Sp Gijon",
          "Sp Gijon",
          "Sp Gijon",
          "Sp Gijon",
          "Sp Gijon",
          "Sp Gijon",
          "Sp Gijon",
          "Sp Gijon",
          "Sp Gijon",
          "Sp Gijon",
          "Sp Gijon",
          "Sp Gijon",
          "Sp Gijon",
          "Sp Gijon"
         ],
         "x0": " ",
         "xaxis": "x",
         "y": [
          0.23529411764705882,
          0.26666666666666666,
          0.0625,
          0.25,
          0.3125,
          0.36363636363636365,
          0.42105263157894735,
          0.5,
          0.5,
          0.6363636363636364,
          0.45454545454545453,
          0.3,
          0.4666666666666667,
          0.2727272727272727,
          0.42857142857142855,
          0.20833333333333334,
          0.375,
          0.22727272727272727,
          0.25
         ],
         "y0": " ",
         "yaxis": "y"
        },
        {
         "alignmentgroup": "True",
         "hovertemplate": "HomeTeam=%{x}<br>SOTR=%{y}<extra></extra>",
         "legendgroup": "Valencia",
         "marker": {
          "color": "#00cc96"
         },
         "name": "Valencia",
         "notched": false,
         "offsetgroup": "Valencia",
         "orientation": "v",
         "showlegend": true,
         "type": "box",
         "x": [
          "Valencia",
          "Valencia",
          "Valencia",
          "Valencia",
          "Valencia",
          "Valencia",
          "Valencia",
          "Valencia",
          "Valencia",
          "Valencia",
          "Valencia",
          "Valencia",
          "Valencia",
          "Valencia",
          "Valencia",
          "Valencia",
          "Valencia",
          "Valencia",
          "Valencia"
         ],
         "x0": " ",
         "xaxis": "x",
         "y": [
          0.4230769230769231,
          0.5,
          0.1111111111111111,
          0.4782608695652174,
          0.13636363636363635,
          0.38461538461538464,
          0.35714285714285715,
          0.625,
          0.46153846153846156,
          0.25,
          0.36363636363636365,
          0.5,
          0.34782608695652173,
          0.35714285714285715,
          0.3333333333333333,
          0.7,
          0.5,
          0.391304347826087,
          0.4117647058823529
         ],
         "y0": " ",
         "yaxis": "y"
        },
        {
         "alignmentgroup": "True",
         "hovertemplate": "HomeTeam=%{x}<br>SOTR=%{y}<extra></extra>",
         "legendgroup": "Ath Bilbao",
         "marker": {
          "color": "#ab63fa"
         },
         "name": "Ath Bilbao",
         "notched": false,
         "offsetgroup": "Ath Bilbao",
         "orientation": "v",
         "showlegend": true,
         "type": "box",
         "x": [
          "Ath Bilbao",
          "Ath Bilbao",
          "Ath Bilbao",
          "Ath Bilbao",
          "Ath Bilbao",
          "Ath Bilbao",
          "Ath Bilbao",
          "Ath Bilbao",
          "Ath Bilbao",
          "Ath Bilbao",
          "Ath Bilbao",
          "Ath Bilbao",
          "Ath Bilbao",
          "Ath Bilbao",
          "Ath Bilbao",
          "Ath Bilbao",
          "Ath Bilbao",
          "Ath Bilbao",
          "Ath Bilbao"
         ],
         "x0": " ",
         "xaxis": "x",
         "y": [
          0.4,
          0.5,
          0.6,
          0.46153846153846156,
          0.2857142857142857,
          1,
          0.2222222222222222,
          0.125,
          0.45454545454545453,
          0.5294117647058824,
          0.35,
          0.3076923076923077,
          0.5,
          0.2727272727272727,
          0.3333333333333333,
          0.3333333333333333,
          0.15384615384615385,
          0.18181818181818182,
          0.0625
         ],
         "y0": " ",
         "yaxis": "y"
        },
        {
         "alignmentgroup": "True",
         "hovertemplate": "HomeTeam=%{x}<br>SOTR=%{y}<extra></extra>",
         "legendgroup": "Ath Madrid",
         "marker": {
          "color": "#FFA15A"
         },
         "name": "Ath Madrid",
         "notched": false,
         "offsetgroup": "Ath Madrid",
         "orientation": "v",
         "showlegend": true,
         "type": "box",
         "x": [
          "Ath Madrid",
          "Ath Madrid",
          "Ath Madrid",
          "Ath Madrid",
          "Ath Madrid",
          "Ath Madrid",
          "Ath Madrid",
          "Ath Madrid",
          "Ath Madrid",
          "Ath Madrid",
          "Ath Madrid",
          "Ath Madrid",
          "Ath Madrid",
          "Ath Madrid",
          "Ath Madrid",
          "Ath Madrid",
          "Ath Madrid",
          "Ath Madrid",
          "Ath Madrid"
         ],
         "x0": " ",
         "xaxis": "x",
         "y": [
          0.2857142857142857,
          0.4117647058823529,
          0.5789473684210527,
          0.26666666666666666,
          0.2,
          0.3888888888888889,
          0.5,
          0.38095238095238093,
          0.2903225806451613,
          0.45,
          0.3333333333333333,
          0.5,
          0.21428571428571427,
          0.38095238095238093,
          0.5,
          0.2727272727272727,
          0.4117647058823529,
          0.07692307692307693,
          0.2222222222222222
         ],
         "y0": " ",
         "yaxis": "y"
        },
        {
         "alignmentgroup": "True",
         "hovertemplate": "HomeTeam=%{x}<br>SOTR=%{y}<extra></extra>",
         "legendgroup": "Getafe",
         "marker": {
          "color": "#19d3f3"
         },
         "name": "Getafe",
         "notched": false,
         "offsetgroup": "Getafe",
         "orientation": "v",
         "showlegend": true,
         "type": "box",
         "x": [
          "Getafe",
          "Getafe",
          "Getafe",
          "Getafe",
          "Getafe",
          "Getafe",
          "Getafe",
          "Getafe",
          "Getafe",
          "Getafe",
          "Getafe",
          "Getafe",
          "Getafe",
          "Getafe",
          "Getafe",
          "Getafe",
          "Getafe",
          "Getafe",
          "Getafe"
         ],
         "x0": " ",
         "xaxis": "x",
         "y": [
          0.25,
          0.2857142857142857,
          0.4166666666666667,
          0.375,
          0.3076923076923077,
          0.35714285714285715,
          0.14285714285714285,
          0.3684210526315789,
          0.125,
          0,
          0.42105263157894735,
          0.35294117647058826,
          0.09090909090909091,
          0.4444444444444444,
          0.4,
          0.5833333333333334,
          0.25,
          0.4444444444444444,
          0
         ],
         "y0": " ",
         "yaxis": "y"
        },
        {
         "alignmentgroup": "True",
         "hovertemplate": "HomeTeam=%{x}<br>SOTR=%{y}<extra></extra>",
         "legendgroup": "Mallorca",
         "marker": {
          "color": "#FF6692"
         },
         "name": "Mallorca",
         "notched": false,
         "offsetgroup": "Mallorca",
         "orientation": "v",
         "showlegend": true,
         "type": "box",
         "x": [
          "Mallorca",
          "Mallorca",
          "Mallorca",
          "Mallorca",
          "Mallorca",
          "Mallorca",
          "Mallorca",
          "Mallorca",
          "Mallorca",
          "Mallorca",
          "Mallorca",
          "Mallorca",
          "Mallorca",
          "Mallorca",
          "Mallorca",
          "Mallorca",
          "Mallorca",
          "Mallorca",
          "Mallorca"
         ],
         "x0": " ",
         "xaxis": "x",
         "y": [
          0.36363636363636365,
          0.16666666666666666,
          0.25,
          0.09090909090909091,
          0.29411764705882354,
          0.3333333333333333,
          0.5,
          0.3333333333333333,
          0.3333333333333333,
          0.125,
          0.36363636363636365,
          0.5714285714285714,
          0.14285714285714285,
          0.3333333333333333,
          0.2,
          0.23076923076923078,
          0.3333333333333333,
          0.4,
          0.3
         ],
         "y0": " ",
         "yaxis": "y"
        },
        {
         "alignmentgroup": "True",
         "hovertemplate": "HomeTeam=%{x}<br>SOTR=%{y}<extra></extra>",
         "legendgroup": "Sevilla",
         "marker": {
          "color": "#B6E880"
         },
         "name": "Sevilla",
         "notched": false,
         "offsetgroup": "Sevilla",
         "orientation": "v",
         "showlegend": true,
         "type": "box",
         "x": [
          "Sevilla",
          "Sevilla",
          "Sevilla",
          "Sevilla",
          "Sevilla",
          "Sevilla",
          "Sevilla",
          "Sevilla",
          "Sevilla",
          "Sevilla",
          "Sevilla",
          "Sevilla",
          "Sevilla",
          "Sevilla",
          "Sevilla",
          "Sevilla",
          "Sevilla",
          "Sevilla",
          "Sevilla"
         ],
         "x0": " ",
         "xaxis": "x",
         "y": [
          0.6,
          0.3333333333333333,
          0.5,
          0.2,
          0.5,
          0.41935483870967744,
          0.625,
          0.4666666666666667,
          0.3157894736842105,
          0.15789473684210525,
          0.4,
          0.4117647058823529,
          0.25,
          0.16666666666666666,
          0.4,
          0.36363636363636365,
          0.22727272727272727,
          0.25,
          0.5333333333333333
         ],
         "y0": " ",
         "yaxis": "y"
        },
        {
         "alignmentgroup": "True",
         "hovertemplate": "HomeTeam=%{x}<br>SOTR=%{y}<extra></extra>",
         "legendgroup": "Zaragoza",
         "marker": {
          "color": "#FF97FF"
         },
         "name": "Zaragoza",
         "notched": false,
         "offsetgroup": "Zaragoza",
         "orientation": "v",
         "showlegend": true,
         "type": "box",
         "x": [
          "Zaragoza",
          "Zaragoza",
          "Zaragoza",
          "Zaragoza",
          "Zaragoza",
          "Zaragoza",
          "Zaragoza",
          "Zaragoza",
          "Zaragoza",
          "Zaragoza",
          "Zaragoza",
          "Zaragoza",
          "Zaragoza",
          "Zaragoza",
          "Zaragoza",
          "Zaragoza",
          "Zaragoza",
          "Zaragoza",
          "Zaragoza"
         ],
         "x0": " ",
         "xaxis": "x",
         "y": [
          0.125,
          0.4166666666666667,
          0.5,
          0.5,
          0,
          0.5384615384615384,
          0.15384615384615385,
          0.42857142857142855,
          0.26666666666666666,
          0.3,
          0.3076923076923077,
          0.3333333333333333,
          0.17647058823529413,
          0.25,
          0.35714285714285715,
          0.5,
          0.38095238095238093,
          0.4166666666666667,
          0.27586206896551724
         ],
         "y0": " ",
         "yaxis": "y"
        },
        {
         "alignmentgroup": "True",
         "hovertemplate": "HomeTeam=%{x}<br>SOTR=%{y}<extra></extra>",
         "legendgroup": "Barcelona",
         "marker": {
          "color": "#FECB52"
         },
         "name": "Barcelona",
         "notched": false,
         "offsetgroup": "Barcelona",
         "orientation": "v",
         "showlegend": true,
         "type": "box",
         "x": [
          "Barcelona",
          "Barcelona",
          "Barcelona",
          "Barcelona",
          "Barcelona",
          "Barcelona",
          "Barcelona",
          "Barcelona",
          "Barcelona",
          "Barcelona",
          "Barcelona",
          "Barcelona",
          "Barcelona",
          "Barcelona",
          "Barcelona",
          "Barcelona",
          "Barcelona",
          "Barcelona",
          "Barcelona"
         ],
         "x0": " ",
         "xaxis": "x",
         "y": [
          0.5,
          0.7777777777777778,
          0.4444444444444444,
          0.3157894736842105,
          0.2857142857142857,
          0.5555555555555556,
          0.4074074074074074,
          0.5,
          0.5,
          0.5625,
          0.5,
          0.46875,
          0.3333333333333333,
          0.4444444444444444,
          0.7,
          0.5,
          0.21428571428571427,
          0.5454545454545454,
          0.42857142857142855
         ],
         "y0": " ",
         "yaxis": "y"
        },
        {
         "alignmentgroup": "True",
         "hovertemplate": "HomeTeam=%{x}<br>SOTR=%{y}<extra></extra>",
         "legendgroup": "Real Madrid",
         "marker": {
          "color": "#636efa"
         },
         "name": "Real Madrid",
         "notched": false,
         "offsetgroup": "Real Madrid",
         "orientation": "v",
         "showlegend": true,
         "type": "box",
         "x": [
          "Real Madrid",
          "Real Madrid",
          "Real Madrid",
          "Real Madrid",
          "Real Madrid",
          "Real Madrid",
          "Real Madrid",
          "Real Madrid",
          "Real Madrid",
          "Real Madrid",
          "Real Madrid",
          "Real Madrid",
          "Real Madrid",
          "Real Madrid",
          "Real Madrid",
          "Real Madrid",
          "Real Madrid",
          "Real Madrid",
          "Real Madrid"
         ],
         "x0": " ",
         "xaxis": "x",
         "y": [
          0.38461538461538464,
          0.6111111111111112,
          0.45454545454545453,
          0.46153846153846156,
          0.6111111111111112,
          0.4375,
          0.29411764705882354,
          0.34285714285714286,
          0.43478260869565216,
          0.3333333333333333,
          0.34615384615384615,
          0.391304347826087,
          0.5454545454545454,
          0.3333333333333333,
          0.5263157894736842,
          0.30303030303030304,
          0.25,
          0.3333333333333333,
          0.5217391304347826
         ],
         "y0": " ",
         "yaxis": "y"
        },
        {
         "alignmentgroup": "True",
         "hovertemplate": "HomeTeam=%{x}<br>SOTR=%{y}<extra></extra>",
         "legendgroup": "Sociedad",
         "marker": {
          "color": "#EF553B"
         },
         "name": "Sociedad",
         "notched": false,
         "offsetgroup": "Sociedad",
         "orientation": "v",
         "showlegend": true,
         "type": "box",
         "x": [
          "Sociedad",
          "Sociedad",
          "Sociedad",
          "Sociedad",
          "Sociedad",
          "Sociedad",
          "Sociedad",
          "Sociedad",
          "Sociedad",
          "Sociedad",
          "Sociedad",
          "Sociedad",
          "Sociedad",
          "Sociedad",
          "Sociedad",
          "Sociedad",
          "Sociedad",
          "Sociedad",
          "Sociedad"
         ],
         "x0": " ",
         "xaxis": "x",
         "y": [
          0.4,
          0.2857142857142857,
          0.26666666666666666,
          0.16666666666666666,
          0.6,
          0.08333333333333333,
          0.3076923076923077,
          0.3,
          0.0625,
          0.6428571428571429,
          0.5,
          0.07692307692307693,
          0.5384615384615384,
          0.3333333333333333,
          0.5333333333333333,
          0.23529411764705882,
          0.2222222222222222,
          0.29411764705882354,
          0.46153846153846156
         ],
         "y0": " ",
         "yaxis": "y"
        },
        {
         "alignmentgroup": "True",
         "hovertemplate": "HomeTeam=%{x}<br>SOTR=%{y}<extra></extra>",
         "legendgroup": "Villarreal",
         "marker": {
          "color": "#00cc96"
         },
         "name": "Villarreal",
         "notched": false,
         "offsetgroup": "Villarreal",
         "orientation": "v",
         "showlegend": true,
         "type": "box",
         "x": [
          "Villarreal",
          "Villarreal",
          "Villarreal",
          "Villarreal",
          "Villarreal",
          "Villarreal",
          "Villarreal",
          "Villarreal",
          "Villarreal",
          "Villarreal",
          "Villarreal",
          "Villarreal",
          "Villarreal",
          "Villarreal",
          "Villarreal",
          "Villarreal",
          "Villarreal",
          "Villarreal",
          "Villarreal"
         ],
         "x0": " ",
         "xaxis": "x",
         "y": [
          0.45454545454545453,
          0.6923076923076923,
          0.48,
          0.3333333333333333,
          0.45454545454545453,
          0.45454545454545453,
          0.3684210526315789,
          0.5384615384615384,
          0.5714285714285714,
          0.4,
          0.5833333333333334,
          0.38095238095238093,
          0.25,
          0.2,
          0.3333333333333333,
          0.3333333333333333,
          0.2631578947368421,
          0.3,
          0.1
         ],
         "y0": " ",
         "yaxis": "y"
        },
        {
         "alignmentgroup": "True",
         "hovertemplate": "HomeTeam=%{x}<br>SOTR=%{y}<extra></extra>",
         "legendgroup": "Betis",
         "marker": {
          "color": "#ab63fa"
         },
         "name": "Betis",
         "notched": false,
         "offsetgroup": "Betis",
         "orientation": "v",
         "showlegend": true,
         "type": "box",
         "x": [
          "Betis",
          "Betis",
          "Betis",
          "Betis",
          "Betis",
          "Betis",
          "Betis",
          "Betis",
          "Betis",
          "Betis",
          "Betis",
          "Betis",
          "Betis",
          "Betis",
          "Betis",
          "Betis",
          "Betis",
          "Betis",
          "Betis"
         ],
         "x0": " ",
         "xaxis": "x",
         "y": [
          0.2916666666666667,
          0.6666666666666666,
          0.2,
          0.2222222222222222,
          0,
          0.25,
          0.2222222222222222,
          0.42105263157894735,
          0.125,
          0.375,
          0.2,
          0.3076923076923077,
          0.42857142857142855,
          0.2222222222222222,
          0.3888888888888889,
          0.5,
          0.4,
          0.3333333333333333,
          0.6
         ],
         "y0": " ",
         "yaxis": "y"
        },
        {
         "alignmentgroup": "True",
         "hovertemplate": "HomeTeam=%{x}<br>SOTR=%{y}<extra></extra>",
         "legendgroup": "Espanol",
         "marker": {
          "color": "#FFA15A"
         },
         "name": "Espanol",
         "notched": false,
         "offsetgroup": "Espanol",
         "orientation": "v",
         "showlegend": true,
         "type": "box",
         "x": [
          "Espanol",
          "Espanol",
          "Espanol",
          "Espanol",
          "Espanol",
          "Espanol",
          "Espanol",
          "Espanol",
          "Espanol",
          "Espanol",
          "Espanol",
          "Espanol",
          "Espanol",
          "Espanol",
          "Espanol",
          "Espanol",
          "Espanol",
          "Espanol",
          "Espanol"
         ],
         "x0": " ",
         "xaxis": "x",
         "y": [
          0.6,
          0.375,
          0.2,
          0.29411764705882354,
          0.10526315789473684,
          0.375,
          0.6111111111111112,
          0.2857142857142857,
          0.5,
          0.5,
          0.2857142857142857,
          0.1,
          0.5882352941176471,
          0.4666666666666667,
          0.375,
          0.4444444444444444,
          0.3125,
          0.2777777777777778,
          0.4444444444444444
         ],
         "y0": " ",
         "yaxis": "y"
        },
        {
         "alignmentgroup": "True",
         "hovertemplate": "HomeTeam=%{x}<br>SOTR=%{y}<extra></extra>",
         "legendgroup": "Osasuna",
         "marker": {
          "color": "#19d3f3"
         },
         "name": "Osasuna",
         "notched": false,
         "offsetgroup": "Osasuna",
         "orientation": "v",
         "showlegend": true,
         "type": "box",
         "x": [
          "Osasuna",
          "Osasuna",
          "Osasuna",
          "Osasuna",
          "Osasuna",
          "Osasuna",
          "Osasuna",
          "Osasuna",
          "Osasuna",
          "Osasuna",
          "Osasuna",
          "Osasuna",
          "Osasuna",
          "Osasuna",
          "Osasuna",
          "Osasuna",
          "Osasuna",
          "Osasuna",
          "Osasuna"
         ],
         "x0": " ",
         "xaxis": "x",
         "y": [
          0.3333333333333333,
          0.5333333333333333,
          0.6,
          0.4375,
          0.38461538461538464,
          0.5,
          0.375,
          0.3157894736842105,
          0.25,
          0.4166666666666667,
          0.4117647058823529,
          0.42857142857142855,
          0.26666666666666666,
          0.35294117647058826,
          0.3684210526315789,
          0.07692307692307693,
          0.2857142857142857,
          0.3333333333333333,
          0.5555555555555556
         ],
         "y0": " ",
         "yaxis": "y"
        },
        {
         "alignmentgroup": "True",
         "hovertemplate": "HomeTeam=%{x}<br>SOTR=%{y}<extra></extra>",
         "legendgroup": "Santander",
         "marker": {
          "color": "#FF6692"
         },
         "name": "Santander",
         "notched": false,
         "offsetgroup": "Santander",
         "orientation": "v",
         "showlegend": true,
         "type": "box",
         "x": [
          "Santander",
          "Santander",
          "Santander",
          "Santander",
          "Santander",
          "Santander",
          "Santander",
          "Santander",
          "Santander",
          "Santander",
          "Santander",
          "Santander",
          "Santander",
          "Santander",
          "Santander",
          "Santander",
          "Santander",
          "Santander",
          "Santander"
         ],
         "x0": " ",
         "xaxis": "x",
         "y": [
          0.125,
          0.4,
          0.5714285714285714,
          0.25,
          0.3333333333333333,
          0.36363636363636365,
          0.125,
          0.36363636363636365,
          0.2857142857142857,
          0.4444444444444444,
          0.45454545454545453,
          0.16666666666666666,
          0.3684210526315789,
          0,
          0.3333333333333333,
          0.2857142857142857,
          0.23529411764705882,
          0.2727272727272727,
          0.2857142857142857
         ],
         "y0": " ",
         "yaxis": "y"
        },
        {
         "alignmentgroup": "True",
         "hovertemplate": "HomeTeam=%{x}<br>SOTR=%{y}<extra></extra>",
         "legendgroup": "Vallecano",
         "marker": {
          "color": "#B6E880"
         },
         "name": "Vallecano",
         "notched": false,
         "offsetgroup": "Vallecano",
         "orientation": "v",
         "showlegend": true,
         "type": "box",
         "x": [
          "Vallecano",
          "Vallecano",
          "Vallecano",
          "Vallecano",
          "Vallecano",
          "Vallecano",
          "Vallecano",
          "Vallecano",
          "Vallecano",
          "Vallecano",
          "Vallecano",
          "Vallecano",
          "Vallecano",
          "Vallecano",
          "Vallecano",
          "Vallecano",
          "Vallecano",
          "Vallecano",
          "Vallecano"
         ],
         "x0": " ",
         "xaxis": "x",
         "y": [
          0.25,
          0.5,
          0.16666666666666666,
          0.4,
          0.6923076923076923,
          0.25,
          0.3684210526315789,
          0.36363636363636365,
          0.3333333333333333,
          0.5263157894736842,
          0.5384615384615384,
          0.14285714285714285,
          0.5909090909090909,
          0.5384615384615384,
          0.21052631578947367,
          0.631578947368421,
          0.25,
          0.4,
          0.1111111111111111
         ],
         "y0": " ",
         "yaxis": "y"
        },
        {
         "alignmentgroup": "True",
         "hovertemplate": "HomeTeam=%{x}<br>SOTR=%{y}<extra></extra>",
         "legendgroup": "Malaga",
         "marker": {
          "color": "#FF97FF"
         },
         "name": "Malaga",
         "notched": false,
         "offsetgroup": "Malaga",
         "orientation": "v",
         "showlegend": true,
         "type": "box",
         "x": [
          "Malaga",
          "Malaga",
          "Malaga",
          "Malaga",
          "Malaga",
          "Malaga",
          "Malaga",
          "Malaga",
          "Malaga",
          "Malaga",
          "Malaga",
          "Malaga",
          "Malaga",
          "Malaga",
          "Malaga",
          "Malaga",
          "Malaga",
          "Malaga",
          "Malaga"
         ],
         "x0": " ",
         "xaxis": "x",
         "y": [
          0.45,
          0.3076923076923077,
          0.42105263157894735,
          0.2857142857142857,
          0.42105263157894735,
          0.5,
          0.2631578947368421,
          0.18181818181818182,
          0.6666666666666666,
          0.5555555555555556,
          0.47058823529411764,
          0.5,
          0.16666666666666666,
          0.4,
          0.3,
          0.43333333333333335,
          0.3157894736842105,
          0.4375,
          0.5454545454545454
         ],
         "y0": " ",
         "yaxis": "y"
        },
        {
         "alignmentgroup": "True",
         "hovertemplate": "HomeTeam=%{x}<br>SOTR=%{y}<extra></extra>",
         "legendgroup": "Levante",
         "marker": {
          "color": "#FECB52"
         },
         "name": "Levante",
         "notched": false,
         "offsetgroup": "Levante",
         "orientation": "v",
         "showlegend": true,
         "type": "box",
         "x": [
          "Levante",
          "Levante",
          "Levante",
          "Levante",
          "Levante",
          "Levante",
          "Levante",
          "Levante",
          "Levante",
          "Levante",
          "Levante",
          "Levante",
          "Levante",
          "Levante",
          "Levante",
          "Levante",
          "Levante",
          "Levante",
          "Levante"
         ],
         "x0": " ",
         "xaxis": "x",
         "y": [
          0.36363636363636365,
          0.4166666666666667,
          0.2857142857142857,
          0.4,
          0.23076923076923078,
          0.6,
          0.42857142857142855,
          0.25,
          0,
          0.2777777777777778,
          0.42857142857142855,
          0.42105263157894735,
          0.5714285714285714,
          0.36363636363636365,
          0.35,
          0.5,
          0.4,
          0.5555555555555556,
          0.3333333333333333
         ],
         "y0": " ",
         "yaxis": "y"
        }
       ],
       "layout": {
        "boxmode": "overlay",
        "legend": {
         "title": {
          "text": "HomeTeam"
         },
         "tracegroupgap": 0
        },
        "template": {
         "data": {
          "bar": [
           {
            "error_x": {
             "color": "#2a3f5f"
            },
            "error_y": {
             "color": "#2a3f5f"
            },
            "marker": {
             "line": {
              "color": "#E5ECF6",
              "width": 0.5
             },
             "pattern": {
              "fillmode": "overlay",
              "size": 10,
              "solidity": 0.2
             }
            },
            "type": "bar"
           }
          ],
          "barpolar": [
           {
            "marker": {
             "line": {
              "color": "#E5ECF6",
              "width": 0.5
             },
             "pattern": {
              "fillmode": "overlay",
              "size": 10,
              "solidity": 0.2
             }
            },
            "type": "barpolar"
           }
          ],
          "carpet": [
           {
            "aaxis": {
             "endlinecolor": "#2a3f5f",
             "gridcolor": "white",
             "linecolor": "white",
             "minorgridcolor": "white",
             "startlinecolor": "#2a3f5f"
            },
            "baxis": {
             "endlinecolor": "#2a3f5f",
             "gridcolor": "white",
             "linecolor": "white",
             "minorgridcolor": "white",
             "startlinecolor": "#2a3f5f"
            },
            "type": "carpet"
           }
          ],
          "choropleth": [
           {
            "colorbar": {
             "outlinewidth": 0,
             "ticks": ""
            },
            "type": "choropleth"
           }
          ],
          "contour": [
           {
            "colorbar": {
             "outlinewidth": 0,
             "ticks": ""
            },
            "colorscale": [
             [
              0,
              "#0d0887"
             ],
             [
              0.1111111111111111,
              "#46039f"
             ],
             [
              0.2222222222222222,
              "#7201a8"
             ],
             [
              0.3333333333333333,
              "#9c179e"
             ],
             [
              0.4444444444444444,
              "#bd3786"
             ],
             [
              0.5555555555555556,
              "#d8576b"
             ],
             [
              0.6666666666666666,
              "#ed7953"
             ],
             [
              0.7777777777777778,
              "#fb9f3a"
             ],
             [
              0.8888888888888888,
              "#fdca26"
             ],
             [
              1,
              "#f0f921"
             ]
            ],
            "type": "contour"
           }
          ],
          "contourcarpet": [
           {
            "colorbar": {
             "outlinewidth": 0,
             "ticks": ""
            },
            "type": "contourcarpet"
           }
          ],
          "heatmap": [
           {
            "colorbar": {
             "outlinewidth": 0,
             "ticks": ""
            },
            "colorscale": [
             [
              0,
              "#0d0887"
             ],
             [
              0.1111111111111111,
              "#46039f"
             ],
             [
              0.2222222222222222,
              "#7201a8"
             ],
             [
              0.3333333333333333,
              "#9c179e"
             ],
             [
              0.4444444444444444,
              "#bd3786"
             ],
             [
              0.5555555555555556,
              "#d8576b"
             ],
             [
              0.6666666666666666,
              "#ed7953"
             ],
             [
              0.7777777777777778,
              "#fb9f3a"
             ],
             [
              0.8888888888888888,
              "#fdca26"
             ],
             [
              1,
              "#f0f921"
             ]
            ],
            "type": "heatmap"
           }
          ],
          "heatmapgl": [
           {
            "colorbar": {
             "outlinewidth": 0,
             "ticks": ""
            },
            "colorscale": [
             [
              0,
              "#0d0887"
             ],
             [
              0.1111111111111111,
              "#46039f"
             ],
             [
              0.2222222222222222,
              "#7201a8"
             ],
             [
              0.3333333333333333,
              "#9c179e"
             ],
             [
              0.4444444444444444,
              "#bd3786"
             ],
             [
              0.5555555555555556,
              "#d8576b"
             ],
             [
              0.6666666666666666,
              "#ed7953"
             ],
             [
              0.7777777777777778,
              "#fb9f3a"
             ],
             [
              0.8888888888888888,
              "#fdca26"
             ],
             [
              1,
              "#f0f921"
             ]
            ],
            "type": "heatmapgl"
           }
          ],
          "histogram": [
           {
            "marker": {
             "pattern": {
              "fillmode": "overlay",
              "size": 10,
              "solidity": 0.2
             }
            },
            "type": "histogram"
           }
          ],
          "histogram2d": [
           {
            "colorbar": {
             "outlinewidth": 0,
             "ticks": ""
            },
            "colorscale": [
             [
              0,
              "#0d0887"
             ],
             [
              0.1111111111111111,
              "#46039f"
             ],
             [
              0.2222222222222222,
              "#7201a8"
             ],
             [
              0.3333333333333333,
              "#9c179e"
             ],
             [
              0.4444444444444444,
              "#bd3786"
             ],
             [
              0.5555555555555556,
              "#d8576b"
             ],
             [
              0.6666666666666666,
              "#ed7953"
             ],
             [
              0.7777777777777778,
              "#fb9f3a"
             ],
             [
              0.8888888888888888,
              "#fdca26"
             ],
             [
              1,
              "#f0f921"
             ]
            ],
            "type": "histogram2d"
           }
          ],
          "histogram2dcontour": [
           {
            "colorbar": {
             "outlinewidth": 0,
             "ticks": ""
            },
            "colorscale": [
             [
              0,
              "#0d0887"
             ],
             [
              0.1111111111111111,
              "#46039f"
             ],
             [
              0.2222222222222222,
              "#7201a8"
             ],
             [
              0.3333333333333333,
              "#9c179e"
             ],
             [
              0.4444444444444444,
              "#bd3786"
             ],
             [
              0.5555555555555556,
              "#d8576b"
             ],
             [
              0.6666666666666666,
              "#ed7953"
             ],
             [
              0.7777777777777778,
              "#fb9f3a"
             ],
             [
              0.8888888888888888,
              "#fdca26"
             ],
             [
              1,
              "#f0f921"
             ]
            ],
            "type": "histogram2dcontour"
           }
          ],
          "mesh3d": [
           {
            "colorbar": {
             "outlinewidth": 0,
             "ticks": ""
            },
            "type": "mesh3d"
           }
          ],
          "parcoords": [
           {
            "line": {
             "colorbar": {
              "outlinewidth": 0,
              "ticks": ""
             }
            },
            "type": "parcoords"
           }
          ],
          "pie": [
           {
            "automargin": true,
            "type": "pie"
           }
          ],
          "scatter": [
           {
            "fillpattern": {
             "fillmode": "overlay",
             "size": 10,
             "solidity": 0.2
            },
            "type": "scatter"
           }
          ],
          "scatter3d": [
           {
            "line": {
             "colorbar": {
              "outlinewidth": 0,
              "ticks": ""
             }
            },
            "marker": {
             "colorbar": {
              "outlinewidth": 0,
              "ticks": ""
             }
            },
            "type": "scatter3d"
           }
          ],
          "scattercarpet": [
           {
            "marker": {
             "colorbar": {
              "outlinewidth": 0,
              "ticks": ""
             }
            },
            "type": "scattercarpet"
           }
          ],
          "scattergeo": [
           {
            "marker": {
             "colorbar": {
              "outlinewidth": 0,
              "ticks": ""
             }
            },
            "type": "scattergeo"
           }
          ],
          "scattergl": [
           {
            "marker": {
             "colorbar": {
              "outlinewidth": 0,
              "ticks": ""
             }
            },
            "type": "scattergl"
           }
          ],
          "scattermapbox": [
           {
            "marker": {
             "colorbar": {
              "outlinewidth": 0,
              "ticks": ""
             }
            },
            "type": "scattermapbox"
           }
          ],
          "scatterpolar": [
           {
            "marker": {
             "colorbar": {
              "outlinewidth": 0,
              "ticks": ""
             }
            },
            "type": "scatterpolar"
           }
          ],
          "scatterpolargl": [
           {
            "marker": {
             "colorbar": {
              "outlinewidth": 0,
              "ticks": ""
             }
            },
            "type": "scatterpolargl"
           }
          ],
          "scatterternary": [
           {
            "marker": {
             "colorbar": {
              "outlinewidth": 0,
              "ticks": ""
             }
            },
            "type": "scatterternary"
           }
          ],
          "surface": [
           {
            "colorbar": {
             "outlinewidth": 0,
             "ticks": ""
            },
            "colorscale": [
             [
              0,
              "#0d0887"
             ],
             [
              0.1111111111111111,
              "#46039f"
             ],
             [
              0.2222222222222222,
              "#7201a8"
             ],
             [
              0.3333333333333333,
              "#9c179e"
             ],
             [
              0.4444444444444444,
              "#bd3786"
             ],
             [
              0.5555555555555556,
              "#d8576b"
             ],
             [
              0.6666666666666666,
              "#ed7953"
             ],
             [
              0.7777777777777778,
              "#fb9f3a"
             ],
             [
              0.8888888888888888,
              "#fdca26"
             ],
             [
              1,
              "#f0f921"
             ]
            ],
            "type": "surface"
           }
          ],
          "table": [
           {
            "cells": {
             "fill": {
              "color": "#EBF0F8"
             },
             "line": {
              "color": "white"
             }
            },
            "header": {
             "fill": {
              "color": "#C8D4E3"
             },
             "line": {
              "color": "white"
             }
            },
            "type": "table"
           }
          ]
         },
         "layout": {
          "annotationdefaults": {
           "arrowcolor": "#2a3f5f",
           "arrowhead": 0,
           "arrowwidth": 1
          },
          "autotypenumbers": "strict",
          "coloraxis": {
           "colorbar": {
            "outlinewidth": 0,
            "ticks": ""
           }
          },
          "colorscale": {
           "diverging": [
            [
             0,
             "#8e0152"
            ],
            [
             0.1,
             "#c51b7d"
            ],
            [
             0.2,
             "#de77ae"
            ],
            [
             0.3,
             "#f1b6da"
            ],
            [
             0.4,
             "#fde0ef"
            ],
            [
             0.5,
             "#f7f7f7"
            ],
            [
             0.6,
             "#e6f5d0"
            ],
            [
             0.7,
             "#b8e186"
            ],
            [
             0.8,
             "#7fbc41"
            ],
            [
             0.9,
             "#4d9221"
            ],
            [
             1,
             "#276419"
            ]
           ],
           "sequential": [
            [
             0,
             "#0d0887"
            ],
            [
             0.1111111111111111,
             "#46039f"
            ],
            [
             0.2222222222222222,
             "#7201a8"
            ],
            [
             0.3333333333333333,
             "#9c179e"
            ],
            [
             0.4444444444444444,
             "#bd3786"
            ],
            [
             0.5555555555555556,
             "#d8576b"
            ],
            [
             0.6666666666666666,
             "#ed7953"
            ],
            [
             0.7777777777777778,
             "#fb9f3a"
            ],
            [
             0.8888888888888888,
             "#fdca26"
            ],
            [
             1,
             "#f0f921"
            ]
           ],
           "sequentialminus": [
            [
             0,
             "#0d0887"
            ],
            [
             0.1111111111111111,
             "#46039f"
            ],
            [
             0.2222222222222222,
             "#7201a8"
            ],
            [
             0.3333333333333333,
             "#9c179e"
            ],
            [
             0.4444444444444444,
             "#bd3786"
            ],
            [
             0.5555555555555556,
             "#d8576b"
            ],
            [
             0.6666666666666666,
             "#ed7953"
            ],
            [
             0.7777777777777778,
             "#fb9f3a"
            ],
            [
             0.8888888888888888,
             "#fdca26"
            ],
            [
             1,
             "#f0f921"
            ]
           ]
          },
          "colorway": [
           "#636efa",
           "#EF553B",
           "#00cc96",
           "#ab63fa",
           "#FFA15A",
           "#19d3f3",
           "#FF6692",
           "#B6E880",
           "#FF97FF",
           "#FECB52"
          ],
          "font": {
           "color": "#2a3f5f"
          },
          "geo": {
           "bgcolor": "white",
           "lakecolor": "white",
           "landcolor": "#E5ECF6",
           "showlakes": true,
           "showland": true,
           "subunitcolor": "white"
          },
          "hoverlabel": {
           "align": "left"
          },
          "hovermode": "closest",
          "mapbox": {
           "style": "light"
          },
          "paper_bgcolor": "white",
          "plot_bgcolor": "#E5ECF6",
          "polar": {
           "angularaxis": {
            "gridcolor": "white",
            "linecolor": "white",
            "ticks": ""
           },
           "bgcolor": "#E5ECF6",
           "radialaxis": {
            "gridcolor": "white",
            "linecolor": "white",
            "ticks": ""
           }
          },
          "scene": {
           "xaxis": {
            "backgroundcolor": "#E5ECF6",
            "gridcolor": "white",
            "gridwidth": 2,
            "linecolor": "white",
            "showbackground": true,
            "ticks": "",
            "zerolinecolor": "white"
           },
           "yaxis": {
            "backgroundcolor": "#E5ECF6",
            "gridcolor": "white",
            "gridwidth": 2,
            "linecolor": "white",
            "showbackground": true,
            "ticks": "",
            "zerolinecolor": "white"
           },
           "zaxis": {
            "backgroundcolor": "#E5ECF6",
            "gridcolor": "white",
            "gridwidth": 2,
            "linecolor": "white",
            "showbackground": true,
            "ticks": "",
            "zerolinecolor": "white"
           }
          },
          "shapedefaults": {
           "line": {
            "color": "#2a3f5f"
           }
          },
          "ternary": {
           "aaxis": {
            "gridcolor": "white",
            "linecolor": "white",
            "ticks": ""
           },
           "baxis": {
            "gridcolor": "white",
            "linecolor": "white",
            "ticks": ""
           },
           "bgcolor": "#E5ECF6",
           "caxis": {
            "gridcolor": "white",
            "linecolor": "white",
            "ticks": ""
           }
          },
          "title": {
           "x": 0.05
          },
          "xaxis": {
           "automargin": true,
           "gridcolor": "white",
           "linecolor": "white",
           "ticks": "",
           "title": {
            "standoff": 15
           },
           "zerolinecolor": "white",
           "zerolinewidth": 2
          },
          "yaxis": {
           "automargin": true,
           "gridcolor": "white",
           "linecolor": "white",
           "ticks": "",
           "title": {
            "standoff": 15
           },
           "zerolinecolor": "white",
           "zerolinewidth": 2
          }
         }
        },
        "title": {
         "text": "Shots on Target Ratio Distribution by Home Team"
        },
        "xaxis": {
         "anchor": "y",
         "categoryarray": [
          "Granada",
          "Sp Gijon",
          "Valencia",
          "Ath Bilbao",
          "Ath Madrid",
          "Getafe",
          "Mallorca",
          "Sevilla",
          "Zaragoza",
          "Barcelona",
          "Real Madrid",
          "Sociedad",
          "Villarreal",
          "Betis",
          "Espanol",
          "Osasuna",
          "Santander",
          "Vallecano",
          "Malaga",
          "Levante"
         ],
         "categoryorder": "array",
         "domain": [
          0,
          1
         ],
         "title": {
          "text": "HomeTeam"
         }
        },
        "yaxis": {
         "anchor": "x",
         "domain": [
          0,
          1
         ],
         "title": {
          "text": "SOTR"
         }
        }
       }
      },
      "text/html": [
       "<div>                            <div id=\"7e0647eb-01a1-4e7e-9ec1-4bf4f0bde3e3\" class=\"plotly-graph-div\" style=\"height:525px; width:100%;\"></div>            <script type=\"text/javascript\">                require([\"plotly\"], function(Plotly) {                    window.PLOTLYENV=window.PLOTLYENV || {};                                    if (document.getElementById(\"7e0647eb-01a1-4e7e-9ec1-4bf4f0bde3e3\")) {                    Plotly.newPlot(                        \"7e0647eb-01a1-4e7e-9ec1-4bf4f0bde3e3\",                        [{\"alignmentgroup\":\"True\",\"hovertemplate\":\"HomeTeam=%{x}<br>SOTR=%{y}<extra></extra>\",\"legendgroup\":\"Granada\",\"marker\":{\"color\":\"#636efa\"},\"name\":\"Granada\",\"notched\":false,\"offsetgroup\":\"Granada\",\"orientation\":\"v\",\"showlegend\":true,\"x\":[\"Granada\",\"Granada\",\"Granada\",\"Granada\",\"Granada\",\"Granada\",\"Granada\",\"Granada\",\"Granada\",\"Granada\",\"Granada\",\"Granada\",\"Granada\",\"Granada\",\"Granada\",\"Granada\",\"Granada\",\"Granada\",\"Granada\"],\"x0\":\" \",\"xaxis\":\"x\",\"y\":[0.18181818181818182,0.25,0.2,0.16666666666666666,0.0,0.1875,0.45454545454545453,0.46153846153846156,0.35294117647058826,0.4,0.5,0.4,0.375,0.3076923076923077,0.2,0.4444444444444444,0.5454545454545454,0.5294117647058824,0.4166666666666667],\"y0\":\" \",\"yaxis\":\"y\",\"type\":\"box\"},{\"alignmentgroup\":\"True\",\"hovertemplate\":\"HomeTeam=%{x}<br>SOTR=%{y}<extra></extra>\",\"legendgroup\":\"Sp Gijon\",\"marker\":{\"color\":\"#EF553B\"},\"name\":\"Sp Gijon\",\"notched\":false,\"offsetgroup\":\"Sp Gijon\",\"orientation\":\"v\",\"showlegend\":true,\"x\":[\"Sp Gijon\",\"Sp Gijon\",\"Sp Gijon\",\"Sp Gijon\",\"Sp Gijon\",\"Sp Gijon\",\"Sp Gijon\",\"Sp Gijon\",\"Sp Gijon\",\"Sp Gijon\",\"Sp Gijon\",\"Sp Gijon\",\"Sp Gijon\",\"Sp Gijon\",\"Sp Gijon\",\"Sp Gijon\",\"Sp Gijon\",\"Sp Gijon\",\"Sp Gijon\"],\"x0\":\" \",\"xaxis\":\"x\",\"y\":[0.23529411764705882,0.26666666666666666,0.0625,0.25,0.3125,0.36363636363636365,0.42105263157894735,0.5,0.5,0.6363636363636364,0.45454545454545453,0.3,0.4666666666666667,0.2727272727272727,0.42857142857142855,0.20833333333333334,0.375,0.22727272727272727,0.25],\"y0\":\" \",\"yaxis\":\"y\",\"type\":\"box\"},{\"alignmentgroup\":\"True\",\"hovertemplate\":\"HomeTeam=%{x}<br>SOTR=%{y}<extra></extra>\",\"legendgroup\":\"Valencia\",\"marker\":{\"color\":\"#00cc96\"},\"name\":\"Valencia\",\"notched\":false,\"offsetgroup\":\"Valencia\",\"orientation\":\"v\",\"showlegend\":true,\"x\":[\"Valencia\",\"Valencia\",\"Valencia\",\"Valencia\",\"Valencia\",\"Valencia\",\"Valencia\",\"Valencia\",\"Valencia\",\"Valencia\",\"Valencia\",\"Valencia\",\"Valencia\",\"Valencia\",\"Valencia\",\"Valencia\",\"Valencia\",\"Valencia\",\"Valencia\"],\"x0\":\" \",\"xaxis\":\"x\",\"y\":[0.4230769230769231,0.5,0.1111111111111111,0.4782608695652174,0.13636363636363635,0.38461538461538464,0.35714285714285715,0.625,0.46153846153846156,0.25,0.36363636363636365,0.5,0.34782608695652173,0.35714285714285715,0.3333333333333333,0.7,0.5,0.391304347826087,0.4117647058823529],\"y0\":\" \",\"yaxis\":\"y\",\"type\":\"box\"},{\"alignmentgroup\":\"True\",\"hovertemplate\":\"HomeTeam=%{x}<br>SOTR=%{y}<extra></extra>\",\"legendgroup\":\"Ath Bilbao\",\"marker\":{\"color\":\"#ab63fa\"},\"name\":\"Ath Bilbao\",\"notched\":false,\"offsetgroup\":\"Ath Bilbao\",\"orientation\":\"v\",\"showlegend\":true,\"x\":[\"Ath Bilbao\",\"Ath Bilbao\",\"Ath Bilbao\",\"Ath Bilbao\",\"Ath Bilbao\",\"Ath Bilbao\",\"Ath Bilbao\",\"Ath Bilbao\",\"Ath Bilbao\",\"Ath Bilbao\",\"Ath Bilbao\",\"Ath Bilbao\",\"Ath Bilbao\",\"Ath Bilbao\",\"Ath Bilbao\",\"Ath Bilbao\",\"Ath Bilbao\",\"Ath Bilbao\",\"Ath Bilbao\"],\"x0\":\" \",\"xaxis\":\"x\",\"y\":[0.4,0.5,0.6,0.46153846153846156,0.2857142857142857,1.0,0.2222222222222222,0.125,0.45454545454545453,0.5294117647058824,0.35,0.3076923076923077,0.5,0.2727272727272727,0.3333333333333333,0.3333333333333333,0.15384615384615385,0.18181818181818182,0.0625],\"y0\":\" \",\"yaxis\":\"y\",\"type\":\"box\"},{\"alignmentgroup\":\"True\",\"hovertemplate\":\"HomeTeam=%{x}<br>SOTR=%{y}<extra></extra>\",\"legendgroup\":\"Ath Madrid\",\"marker\":{\"color\":\"#FFA15A\"},\"name\":\"Ath Madrid\",\"notched\":false,\"offsetgroup\":\"Ath Madrid\",\"orientation\":\"v\",\"showlegend\":true,\"x\":[\"Ath Madrid\",\"Ath Madrid\",\"Ath Madrid\",\"Ath Madrid\",\"Ath Madrid\",\"Ath Madrid\",\"Ath Madrid\",\"Ath Madrid\",\"Ath Madrid\",\"Ath Madrid\",\"Ath Madrid\",\"Ath Madrid\",\"Ath Madrid\",\"Ath Madrid\",\"Ath Madrid\",\"Ath Madrid\",\"Ath Madrid\",\"Ath Madrid\",\"Ath Madrid\"],\"x0\":\" \",\"xaxis\":\"x\",\"y\":[0.2857142857142857,0.4117647058823529,0.5789473684210527,0.26666666666666666,0.2,0.3888888888888889,0.5,0.38095238095238093,0.2903225806451613,0.45,0.3333333333333333,0.5,0.21428571428571427,0.38095238095238093,0.5,0.2727272727272727,0.4117647058823529,0.07692307692307693,0.2222222222222222],\"y0\":\" \",\"yaxis\":\"y\",\"type\":\"box\"},{\"alignmentgroup\":\"True\",\"hovertemplate\":\"HomeTeam=%{x}<br>SOTR=%{y}<extra></extra>\",\"legendgroup\":\"Getafe\",\"marker\":{\"color\":\"#19d3f3\"},\"name\":\"Getafe\",\"notched\":false,\"offsetgroup\":\"Getafe\",\"orientation\":\"v\",\"showlegend\":true,\"x\":[\"Getafe\",\"Getafe\",\"Getafe\",\"Getafe\",\"Getafe\",\"Getafe\",\"Getafe\",\"Getafe\",\"Getafe\",\"Getafe\",\"Getafe\",\"Getafe\",\"Getafe\",\"Getafe\",\"Getafe\",\"Getafe\",\"Getafe\",\"Getafe\",\"Getafe\"],\"x0\":\" \",\"xaxis\":\"x\",\"y\":[0.25,0.2857142857142857,0.4166666666666667,0.375,0.3076923076923077,0.35714285714285715,0.14285714285714285,0.3684210526315789,0.125,0.0,0.42105263157894735,0.35294117647058826,0.09090909090909091,0.4444444444444444,0.4,0.5833333333333334,0.25,0.4444444444444444,0.0],\"y0\":\" \",\"yaxis\":\"y\",\"type\":\"box\"},{\"alignmentgroup\":\"True\",\"hovertemplate\":\"HomeTeam=%{x}<br>SOTR=%{y}<extra></extra>\",\"legendgroup\":\"Mallorca\",\"marker\":{\"color\":\"#FF6692\"},\"name\":\"Mallorca\",\"notched\":false,\"offsetgroup\":\"Mallorca\",\"orientation\":\"v\",\"showlegend\":true,\"x\":[\"Mallorca\",\"Mallorca\",\"Mallorca\",\"Mallorca\",\"Mallorca\",\"Mallorca\",\"Mallorca\",\"Mallorca\",\"Mallorca\",\"Mallorca\",\"Mallorca\",\"Mallorca\",\"Mallorca\",\"Mallorca\",\"Mallorca\",\"Mallorca\",\"Mallorca\",\"Mallorca\",\"Mallorca\"],\"x0\":\" \",\"xaxis\":\"x\",\"y\":[0.36363636363636365,0.16666666666666666,0.25,0.09090909090909091,0.29411764705882354,0.3333333333333333,0.5,0.3333333333333333,0.3333333333333333,0.125,0.36363636363636365,0.5714285714285714,0.14285714285714285,0.3333333333333333,0.2,0.23076923076923078,0.3333333333333333,0.4,0.3],\"y0\":\" \",\"yaxis\":\"y\",\"type\":\"box\"},{\"alignmentgroup\":\"True\",\"hovertemplate\":\"HomeTeam=%{x}<br>SOTR=%{y}<extra></extra>\",\"legendgroup\":\"Sevilla\",\"marker\":{\"color\":\"#B6E880\"},\"name\":\"Sevilla\",\"notched\":false,\"offsetgroup\":\"Sevilla\",\"orientation\":\"v\",\"showlegend\":true,\"x\":[\"Sevilla\",\"Sevilla\",\"Sevilla\",\"Sevilla\",\"Sevilla\",\"Sevilla\",\"Sevilla\",\"Sevilla\",\"Sevilla\",\"Sevilla\",\"Sevilla\",\"Sevilla\",\"Sevilla\",\"Sevilla\",\"Sevilla\",\"Sevilla\",\"Sevilla\",\"Sevilla\",\"Sevilla\"],\"x0\":\" \",\"xaxis\":\"x\",\"y\":[0.6,0.3333333333333333,0.5,0.2,0.5,0.41935483870967744,0.625,0.4666666666666667,0.3157894736842105,0.15789473684210525,0.4,0.4117647058823529,0.25,0.16666666666666666,0.4,0.36363636363636365,0.22727272727272727,0.25,0.5333333333333333],\"y0\":\" \",\"yaxis\":\"y\",\"type\":\"box\"},{\"alignmentgroup\":\"True\",\"hovertemplate\":\"HomeTeam=%{x}<br>SOTR=%{y}<extra></extra>\",\"legendgroup\":\"Zaragoza\",\"marker\":{\"color\":\"#FF97FF\"},\"name\":\"Zaragoza\",\"notched\":false,\"offsetgroup\":\"Zaragoza\",\"orientation\":\"v\",\"showlegend\":true,\"x\":[\"Zaragoza\",\"Zaragoza\",\"Zaragoza\",\"Zaragoza\",\"Zaragoza\",\"Zaragoza\",\"Zaragoza\",\"Zaragoza\",\"Zaragoza\",\"Zaragoza\",\"Zaragoza\",\"Zaragoza\",\"Zaragoza\",\"Zaragoza\",\"Zaragoza\",\"Zaragoza\",\"Zaragoza\",\"Zaragoza\",\"Zaragoza\"],\"x0\":\" \",\"xaxis\":\"x\",\"y\":[0.125,0.4166666666666667,0.5,0.5,0.0,0.5384615384615384,0.15384615384615385,0.42857142857142855,0.26666666666666666,0.3,0.3076923076923077,0.3333333333333333,0.17647058823529413,0.25,0.35714285714285715,0.5,0.38095238095238093,0.4166666666666667,0.27586206896551724],\"y0\":\" \",\"yaxis\":\"y\",\"type\":\"box\"},{\"alignmentgroup\":\"True\",\"hovertemplate\":\"HomeTeam=%{x}<br>SOTR=%{y}<extra></extra>\",\"legendgroup\":\"Barcelona\",\"marker\":{\"color\":\"#FECB52\"},\"name\":\"Barcelona\",\"notched\":false,\"offsetgroup\":\"Barcelona\",\"orientation\":\"v\",\"showlegend\":true,\"x\":[\"Barcelona\",\"Barcelona\",\"Barcelona\",\"Barcelona\",\"Barcelona\",\"Barcelona\",\"Barcelona\",\"Barcelona\",\"Barcelona\",\"Barcelona\",\"Barcelona\",\"Barcelona\",\"Barcelona\",\"Barcelona\",\"Barcelona\",\"Barcelona\",\"Barcelona\",\"Barcelona\",\"Barcelona\"],\"x0\":\" \",\"xaxis\":\"x\",\"y\":[0.5,0.7777777777777778,0.4444444444444444,0.3157894736842105,0.2857142857142857,0.5555555555555556,0.4074074074074074,0.5,0.5,0.5625,0.5,0.46875,0.3333333333333333,0.4444444444444444,0.7,0.5,0.21428571428571427,0.5454545454545454,0.42857142857142855],\"y0\":\" \",\"yaxis\":\"y\",\"type\":\"box\"},{\"alignmentgroup\":\"True\",\"hovertemplate\":\"HomeTeam=%{x}<br>SOTR=%{y}<extra></extra>\",\"legendgroup\":\"Real Madrid\",\"marker\":{\"color\":\"#636efa\"},\"name\":\"Real Madrid\",\"notched\":false,\"offsetgroup\":\"Real Madrid\",\"orientation\":\"v\",\"showlegend\":true,\"x\":[\"Real Madrid\",\"Real Madrid\",\"Real Madrid\",\"Real Madrid\",\"Real Madrid\",\"Real Madrid\",\"Real Madrid\",\"Real Madrid\",\"Real Madrid\",\"Real Madrid\",\"Real Madrid\",\"Real Madrid\",\"Real Madrid\",\"Real Madrid\",\"Real Madrid\",\"Real Madrid\",\"Real Madrid\",\"Real Madrid\",\"Real Madrid\"],\"x0\":\" \",\"xaxis\":\"x\",\"y\":[0.38461538461538464,0.6111111111111112,0.45454545454545453,0.46153846153846156,0.6111111111111112,0.4375,0.29411764705882354,0.34285714285714286,0.43478260869565216,0.3333333333333333,0.34615384615384615,0.391304347826087,0.5454545454545454,0.3333333333333333,0.5263157894736842,0.30303030303030304,0.25,0.3333333333333333,0.5217391304347826],\"y0\":\" \",\"yaxis\":\"y\",\"type\":\"box\"},{\"alignmentgroup\":\"True\",\"hovertemplate\":\"HomeTeam=%{x}<br>SOTR=%{y}<extra></extra>\",\"legendgroup\":\"Sociedad\",\"marker\":{\"color\":\"#EF553B\"},\"name\":\"Sociedad\",\"notched\":false,\"offsetgroup\":\"Sociedad\",\"orientation\":\"v\",\"showlegend\":true,\"x\":[\"Sociedad\",\"Sociedad\",\"Sociedad\",\"Sociedad\",\"Sociedad\",\"Sociedad\",\"Sociedad\",\"Sociedad\",\"Sociedad\",\"Sociedad\",\"Sociedad\",\"Sociedad\",\"Sociedad\",\"Sociedad\",\"Sociedad\",\"Sociedad\",\"Sociedad\",\"Sociedad\",\"Sociedad\"],\"x0\":\" \",\"xaxis\":\"x\",\"y\":[0.4,0.2857142857142857,0.26666666666666666,0.16666666666666666,0.6,0.08333333333333333,0.3076923076923077,0.3,0.0625,0.6428571428571429,0.5,0.07692307692307693,0.5384615384615384,0.3333333333333333,0.5333333333333333,0.23529411764705882,0.2222222222222222,0.29411764705882354,0.46153846153846156],\"y0\":\" \",\"yaxis\":\"y\",\"type\":\"box\"},{\"alignmentgroup\":\"True\",\"hovertemplate\":\"HomeTeam=%{x}<br>SOTR=%{y}<extra></extra>\",\"legendgroup\":\"Villarreal\",\"marker\":{\"color\":\"#00cc96\"},\"name\":\"Villarreal\",\"notched\":false,\"offsetgroup\":\"Villarreal\",\"orientation\":\"v\",\"showlegend\":true,\"x\":[\"Villarreal\",\"Villarreal\",\"Villarreal\",\"Villarreal\",\"Villarreal\",\"Villarreal\",\"Villarreal\",\"Villarreal\",\"Villarreal\",\"Villarreal\",\"Villarreal\",\"Villarreal\",\"Villarreal\",\"Villarreal\",\"Villarreal\",\"Villarreal\",\"Villarreal\",\"Villarreal\",\"Villarreal\"],\"x0\":\" \",\"xaxis\":\"x\",\"y\":[0.45454545454545453,0.6923076923076923,0.48,0.3333333333333333,0.45454545454545453,0.45454545454545453,0.3684210526315789,0.5384615384615384,0.5714285714285714,0.4,0.5833333333333334,0.38095238095238093,0.25,0.2,0.3333333333333333,0.3333333333333333,0.2631578947368421,0.3,0.1],\"y0\":\" \",\"yaxis\":\"y\",\"type\":\"box\"},{\"alignmentgroup\":\"True\",\"hovertemplate\":\"HomeTeam=%{x}<br>SOTR=%{y}<extra></extra>\",\"legendgroup\":\"Betis\",\"marker\":{\"color\":\"#ab63fa\"},\"name\":\"Betis\",\"notched\":false,\"offsetgroup\":\"Betis\",\"orientation\":\"v\",\"showlegend\":true,\"x\":[\"Betis\",\"Betis\",\"Betis\",\"Betis\",\"Betis\",\"Betis\",\"Betis\",\"Betis\",\"Betis\",\"Betis\",\"Betis\",\"Betis\",\"Betis\",\"Betis\",\"Betis\",\"Betis\",\"Betis\",\"Betis\",\"Betis\"],\"x0\":\" \",\"xaxis\":\"x\",\"y\":[0.2916666666666667,0.6666666666666666,0.2,0.2222222222222222,0.0,0.25,0.2222222222222222,0.42105263157894735,0.125,0.375,0.2,0.3076923076923077,0.42857142857142855,0.2222222222222222,0.3888888888888889,0.5,0.4,0.3333333333333333,0.6],\"y0\":\" \",\"yaxis\":\"y\",\"type\":\"box\"},{\"alignmentgroup\":\"True\",\"hovertemplate\":\"HomeTeam=%{x}<br>SOTR=%{y}<extra></extra>\",\"legendgroup\":\"Espanol\",\"marker\":{\"color\":\"#FFA15A\"},\"name\":\"Espanol\",\"notched\":false,\"offsetgroup\":\"Espanol\",\"orientation\":\"v\",\"showlegend\":true,\"x\":[\"Espanol\",\"Espanol\",\"Espanol\",\"Espanol\",\"Espanol\",\"Espanol\",\"Espanol\",\"Espanol\",\"Espanol\",\"Espanol\",\"Espanol\",\"Espanol\",\"Espanol\",\"Espanol\",\"Espanol\",\"Espanol\",\"Espanol\",\"Espanol\",\"Espanol\"],\"x0\":\" \",\"xaxis\":\"x\",\"y\":[0.6,0.375,0.2,0.29411764705882354,0.10526315789473684,0.375,0.6111111111111112,0.2857142857142857,0.5,0.5,0.2857142857142857,0.1,0.5882352941176471,0.4666666666666667,0.375,0.4444444444444444,0.3125,0.2777777777777778,0.4444444444444444],\"y0\":\" \",\"yaxis\":\"y\",\"type\":\"box\"},{\"alignmentgroup\":\"True\",\"hovertemplate\":\"HomeTeam=%{x}<br>SOTR=%{y}<extra></extra>\",\"legendgroup\":\"Osasuna\",\"marker\":{\"color\":\"#19d3f3\"},\"name\":\"Osasuna\",\"notched\":false,\"offsetgroup\":\"Osasuna\",\"orientation\":\"v\",\"showlegend\":true,\"x\":[\"Osasuna\",\"Osasuna\",\"Osasuna\",\"Osasuna\",\"Osasuna\",\"Osasuna\",\"Osasuna\",\"Osasuna\",\"Osasuna\",\"Osasuna\",\"Osasuna\",\"Osasuna\",\"Osasuna\",\"Osasuna\",\"Osasuna\",\"Osasuna\",\"Osasuna\",\"Osasuna\",\"Osasuna\"],\"x0\":\" \",\"xaxis\":\"x\",\"y\":[0.3333333333333333,0.5333333333333333,0.6,0.4375,0.38461538461538464,0.5,0.375,0.3157894736842105,0.25,0.4166666666666667,0.4117647058823529,0.42857142857142855,0.26666666666666666,0.35294117647058826,0.3684210526315789,0.07692307692307693,0.2857142857142857,0.3333333333333333,0.5555555555555556],\"y0\":\" \",\"yaxis\":\"y\",\"type\":\"box\"},{\"alignmentgroup\":\"True\",\"hovertemplate\":\"HomeTeam=%{x}<br>SOTR=%{y}<extra></extra>\",\"legendgroup\":\"Santander\",\"marker\":{\"color\":\"#FF6692\"},\"name\":\"Santander\",\"notched\":false,\"offsetgroup\":\"Santander\",\"orientation\":\"v\",\"showlegend\":true,\"x\":[\"Santander\",\"Santander\",\"Santander\",\"Santander\",\"Santander\",\"Santander\",\"Santander\",\"Santander\",\"Santander\",\"Santander\",\"Santander\",\"Santander\",\"Santander\",\"Santander\",\"Santander\",\"Santander\",\"Santander\",\"Santander\",\"Santander\"],\"x0\":\" \",\"xaxis\":\"x\",\"y\":[0.125,0.4,0.5714285714285714,0.25,0.3333333333333333,0.36363636363636365,0.125,0.36363636363636365,0.2857142857142857,0.4444444444444444,0.45454545454545453,0.16666666666666666,0.3684210526315789,0.0,0.3333333333333333,0.2857142857142857,0.23529411764705882,0.2727272727272727,0.2857142857142857],\"y0\":\" \",\"yaxis\":\"y\",\"type\":\"box\"},{\"alignmentgroup\":\"True\",\"hovertemplate\":\"HomeTeam=%{x}<br>SOTR=%{y}<extra></extra>\",\"legendgroup\":\"Vallecano\",\"marker\":{\"color\":\"#B6E880\"},\"name\":\"Vallecano\",\"notched\":false,\"offsetgroup\":\"Vallecano\",\"orientation\":\"v\",\"showlegend\":true,\"x\":[\"Vallecano\",\"Vallecano\",\"Vallecano\",\"Vallecano\",\"Vallecano\",\"Vallecano\",\"Vallecano\",\"Vallecano\",\"Vallecano\",\"Vallecano\",\"Vallecano\",\"Vallecano\",\"Vallecano\",\"Vallecano\",\"Vallecano\",\"Vallecano\",\"Vallecano\",\"Vallecano\",\"Vallecano\"],\"x0\":\" \",\"xaxis\":\"x\",\"y\":[0.25,0.5,0.16666666666666666,0.4,0.6923076923076923,0.25,0.3684210526315789,0.36363636363636365,0.3333333333333333,0.5263157894736842,0.5384615384615384,0.14285714285714285,0.5909090909090909,0.5384615384615384,0.21052631578947367,0.631578947368421,0.25,0.4,0.1111111111111111],\"y0\":\" \",\"yaxis\":\"y\",\"type\":\"box\"},{\"alignmentgroup\":\"True\",\"hovertemplate\":\"HomeTeam=%{x}<br>SOTR=%{y}<extra></extra>\",\"legendgroup\":\"Malaga\",\"marker\":{\"color\":\"#FF97FF\"},\"name\":\"Malaga\",\"notched\":false,\"offsetgroup\":\"Malaga\",\"orientation\":\"v\",\"showlegend\":true,\"x\":[\"Malaga\",\"Malaga\",\"Malaga\",\"Malaga\",\"Malaga\",\"Malaga\",\"Malaga\",\"Malaga\",\"Malaga\",\"Malaga\",\"Malaga\",\"Malaga\",\"Malaga\",\"Malaga\",\"Malaga\",\"Malaga\",\"Malaga\",\"Malaga\",\"Malaga\"],\"x0\":\" \",\"xaxis\":\"x\",\"y\":[0.45,0.3076923076923077,0.42105263157894735,0.2857142857142857,0.42105263157894735,0.5,0.2631578947368421,0.18181818181818182,0.6666666666666666,0.5555555555555556,0.47058823529411764,0.5,0.16666666666666666,0.4,0.3,0.43333333333333335,0.3157894736842105,0.4375,0.5454545454545454],\"y0\":\" \",\"yaxis\":\"y\",\"type\":\"box\"},{\"alignmentgroup\":\"True\",\"hovertemplate\":\"HomeTeam=%{x}<br>SOTR=%{y}<extra></extra>\",\"legendgroup\":\"Levante\",\"marker\":{\"color\":\"#FECB52\"},\"name\":\"Levante\",\"notched\":false,\"offsetgroup\":\"Levante\",\"orientation\":\"v\",\"showlegend\":true,\"x\":[\"Levante\",\"Levante\",\"Levante\",\"Levante\",\"Levante\",\"Levante\",\"Levante\",\"Levante\",\"Levante\",\"Levante\",\"Levante\",\"Levante\",\"Levante\",\"Levante\",\"Levante\",\"Levante\",\"Levante\",\"Levante\",\"Levante\"],\"x0\":\" \",\"xaxis\":\"x\",\"y\":[0.36363636363636365,0.4166666666666667,0.2857142857142857,0.4,0.23076923076923078,0.6,0.42857142857142855,0.25,0.0,0.2777777777777778,0.42857142857142855,0.42105263157894735,0.5714285714285714,0.36363636363636365,0.35,0.5,0.4,0.5555555555555556,0.3333333333333333],\"y0\":\" \",\"yaxis\":\"y\",\"type\":\"box\"}],                        {\"template\":{\"data\":{\"histogram2dcontour\":[{\"type\":\"histogram2dcontour\",\"colorbar\":{\"outlinewidth\":0,\"ticks\":\"\"},\"colorscale\":[[0.0,\"#0d0887\"],[0.1111111111111111,\"#46039f\"],[0.2222222222222222,\"#7201a8\"],[0.3333333333333333,\"#9c179e\"],[0.4444444444444444,\"#bd3786\"],[0.5555555555555556,\"#d8576b\"],[0.6666666666666666,\"#ed7953\"],[0.7777777777777778,\"#fb9f3a\"],[0.8888888888888888,\"#fdca26\"],[1.0,\"#f0f921\"]]}],\"choropleth\":[{\"type\":\"choropleth\",\"colorbar\":{\"outlinewidth\":0,\"ticks\":\"\"}}],\"histogram2d\":[{\"type\":\"histogram2d\",\"colorbar\":{\"outlinewidth\":0,\"ticks\":\"\"},\"colorscale\":[[0.0,\"#0d0887\"],[0.1111111111111111,\"#46039f\"],[0.2222222222222222,\"#7201a8\"],[0.3333333333333333,\"#9c179e\"],[0.4444444444444444,\"#bd3786\"],[0.5555555555555556,\"#d8576b\"],[0.6666666666666666,\"#ed7953\"],[0.7777777777777778,\"#fb9f3a\"],[0.8888888888888888,\"#fdca26\"],[1.0,\"#f0f921\"]]}],\"heatmap\":[{\"type\":\"heatmap\",\"colorbar\":{\"outlinewidth\":0,\"ticks\":\"\"},\"colorscale\":[[0.0,\"#0d0887\"],[0.1111111111111111,\"#46039f\"],[0.2222222222222222,\"#7201a8\"],[0.3333333333333333,\"#9c179e\"],[0.4444444444444444,\"#bd3786\"],[0.5555555555555556,\"#d8576b\"],[0.6666666666666666,\"#ed7953\"],[0.7777777777777778,\"#fb9f3a\"],[0.8888888888888888,\"#fdca26\"],[1.0,\"#f0f921\"]]}],\"heatmapgl\":[{\"type\":\"heatmapgl\",\"colorbar\":{\"outlinewidth\":0,\"ticks\":\"\"},\"colorscale\":[[0.0,\"#0d0887\"],[0.1111111111111111,\"#46039f\"],[0.2222222222222222,\"#7201a8\"],[0.3333333333333333,\"#9c179e\"],[0.4444444444444444,\"#bd3786\"],[0.5555555555555556,\"#d8576b\"],[0.6666666666666666,\"#ed7953\"],[0.7777777777777778,\"#fb9f3a\"],[0.8888888888888888,\"#fdca26\"],[1.0,\"#f0f921\"]]}],\"contourcarpet\":[{\"type\":\"contourcarpet\",\"colorbar\":{\"outlinewidth\":0,\"ticks\":\"\"}}],\"contour\":[{\"type\":\"contour\",\"colorbar\":{\"outlinewidth\":0,\"ticks\":\"\"},\"colorscale\":[[0.0,\"#0d0887\"],[0.1111111111111111,\"#46039f\"],[0.2222222222222222,\"#7201a8\"],[0.3333333333333333,\"#9c179e\"],[0.4444444444444444,\"#bd3786\"],[0.5555555555555556,\"#d8576b\"],[0.6666666666666666,\"#ed7953\"],[0.7777777777777778,\"#fb9f3a\"],[0.8888888888888888,\"#fdca26\"],[1.0,\"#f0f921\"]]}],\"surface\":[{\"type\":\"surface\",\"colorbar\":{\"outlinewidth\":0,\"ticks\":\"\"},\"colorscale\":[[0.0,\"#0d0887\"],[0.1111111111111111,\"#46039f\"],[0.2222222222222222,\"#7201a8\"],[0.3333333333333333,\"#9c179e\"],[0.4444444444444444,\"#bd3786\"],[0.5555555555555556,\"#d8576b\"],[0.6666666666666666,\"#ed7953\"],[0.7777777777777778,\"#fb9f3a\"],[0.8888888888888888,\"#fdca26\"],[1.0,\"#f0f921\"]]}],\"mesh3d\":[{\"type\":\"mesh3d\",\"colorbar\":{\"outlinewidth\":0,\"ticks\":\"\"}}],\"scatter\":[{\"fillpattern\":{\"fillmode\":\"overlay\",\"size\":10,\"solidity\":0.2},\"type\":\"scatter\"}],\"parcoords\":[{\"type\":\"parcoords\",\"line\":{\"colorbar\":{\"outlinewidth\":0,\"ticks\":\"\"}}}],\"scatterpolargl\":[{\"type\":\"scatterpolargl\",\"marker\":{\"colorbar\":{\"outlinewidth\":0,\"ticks\":\"\"}}}],\"bar\":[{\"error_x\":{\"color\":\"#2a3f5f\"},\"error_y\":{\"color\":\"#2a3f5f\"},\"marker\":{\"line\":{\"color\":\"#E5ECF6\",\"width\":0.5},\"pattern\":{\"fillmode\":\"overlay\",\"size\":10,\"solidity\":0.2}},\"type\":\"bar\"}],\"scattergeo\":[{\"type\":\"scattergeo\",\"marker\":{\"colorbar\":{\"outlinewidth\":0,\"ticks\":\"\"}}}],\"scatterpolar\":[{\"type\":\"scatterpolar\",\"marker\":{\"colorbar\":{\"outlinewidth\":0,\"ticks\":\"\"}}}],\"histogram\":[{\"marker\":{\"pattern\":{\"fillmode\":\"overlay\",\"size\":10,\"solidity\":0.2}},\"type\":\"histogram\"}],\"scattergl\":[{\"type\":\"scattergl\",\"marker\":{\"colorbar\":{\"outlinewidth\":0,\"ticks\":\"\"}}}],\"scatter3d\":[{\"type\":\"scatter3d\",\"line\":{\"colorbar\":{\"outlinewidth\":0,\"ticks\":\"\"}},\"marker\":{\"colorbar\":{\"outlinewidth\":0,\"ticks\":\"\"}}}],\"scattermapbox\":[{\"type\":\"scattermapbox\",\"marker\":{\"colorbar\":{\"outlinewidth\":0,\"ticks\":\"\"}}}],\"scatterternary\":[{\"type\":\"scatterternary\",\"marker\":{\"colorbar\":{\"outlinewidth\":0,\"ticks\":\"\"}}}],\"scattercarpet\":[{\"type\":\"scattercarpet\",\"marker\":{\"colorbar\":{\"outlinewidth\":0,\"ticks\":\"\"}}}],\"carpet\":[{\"aaxis\":{\"endlinecolor\":\"#2a3f5f\",\"gridcolor\":\"white\",\"linecolor\":\"white\",\"minorgridcolor\":\"white\",\"startlinecolor\":\"#2a3f5f\"},\"baxis\":{\"endlinecolor\":\"#2a3f5f\",\"gridcolor\":\"white\",\"linecolor\":\"white\",\"minorgridcolor\":\"white\",\"startlinecolor\":\"#2a3f5f\"},\"type\":\"carpet\"}],\"table\":[{\"cells\":{\"fill\":{\"color\":\"#EBF0F8\"},\"line\":{\"color\":\"white\"}},\"header\":{\"fill\":{\"color\":\"#C8D4E3\"},\"line\":{\"color\":\"white\"}},\"type\":\"table\"}],\"barpolar\":[{\"marker\":{\"line\":{\"color\":\"#E5ECF6\",\"width\":0.5},\"pattern\":{\"fillmode\":\"overlay\",\"size\":10,\"solidity\":0.2}},\"type\":\"barpolar\"}],\"pie\":[{\"automargin\":true,\"type\":\"pie\"}]},\"layout\":{\"autotypenumbers\":\"strict\",\"colorway\":[\"#636efa\",\"#EF553B\",\"#00cc96\",\"#ab63fa\",\"#FFA15A\",\"#19d3f3\",\"#FF6692\",\"#B6E880\",\"#FF97FF\",\"#FECB52\"],\"font\":{\"color\":\"#2a3f5f\"},\"hovermode\":\"closest\",\"hoverlabel\":{\"align\":\"left\"},\"paper_bgcolor\":\"white\",\"plot_bgcolor\":\"#E5ECF6\",\"polar\":{\"bgcolor\":\"#E5ECF6\",\"angularaxis\":{\"gridcolor\":\"white\",\"linecolor\":\"white\",\"ticks\":\"\"},\"radialaxis\":{\"gridcolor\":\"white\",\"linecolor\":\"white\",\"ticks\":\"\"}},\"ternary\":{\"bgcolor\":\"#E5ECF6\",\"aaxis\":{\"gridcolor\":\"white\",\"linecolor\":\"white\",\"ticks\":\"\"},\"baxis\":{\"gridcolor\":\"white\",\"linecolor\":\"white\",\"ticks\":\"\"},\"caxis\":{\"gridcolor\":\"white\",\"linecolor\":\"white\",\"ticks\":\"\"}},\"coloraxis\":{\"colorbar\":{\"outlinewidth\":0,\"ticks\":\"\"}},\"colorscale\":{\"sequential\":[[0.0,\"#0d0887\"],[0.1111111111111111,\"#46039f\"],[0.2222222222222222,\"#7201a8\"],[0.3333333333333333,\"#9c179e\"],[0.4444444444444444,\"#bd3786\"],[0.5555555555555556,\"#d8576b\"],[0.6666666666666666,\"#ed7953\"],[0.7777777777777778,\"#fb9f3a\"],[0.8888888888888888,\"#fdca26\"],[1.0,\"#f0f921\"]],\"sequentialminus\":[[0.0,\"#0d0887\"],[0.1111111111111111,\"#46039f\"],[0.2222222222222222,\"#7201a8\"],[0.3333333333333333,\"#9c179e\"],[0.4444444444444444,\"#bd3786\"],[0.5555555555555556,\"#d8576b\"],[0.6666666666666666,\"#ed7953\"],[0.7777777777777778,\"#fb9f3a\"],[0.8888888888888888,\"#fdca26\"],[1.0,\"#f0f921\"]],\"diverging\":[[0,\"#8e0152\"],[0.1,\"#c51b7d\"],[0.2,\"#de77ae\"],[0.3,\"#f1b6da\"],[0.4,\"#fde0ef\"],[0.5,\"#f7f7f7\"],[0.6,\"#e6f5d0\"],[0.7,\"#b8e186\"],[0.8,\"#7fbc41\"],[0.9,\"#4d9221\"],[1,\"#276419\"]]},\"xaxis\":{\"gridcolor\":\"white\",\"linecolor\":\"white\",\"ticks\":\"\",\"title\":{\"standoff\":15},\"zerolinecolor\":\"white\",\"automargin\":true,\"zerolinewidth\":2},\"yaxis\":{\"gridcolor\":\"white\",\"linecolor\":\"white\",\"ticks\":\"\",\"title\":{\"standoff\":15},\"zerolinecolor\":\"white\",\"automargin\":true,\"zerolinewidth\":2},\"scene\":{\"xaxis\":{\"backgroundcolor\":\"#E5ECF6\",\"gridcolor\":\"white\",\"linecolor\":\"white\",\"showbackground\":true,\"ticks\":\"\",\"zerolinecolor\":\"white\",\"gridwidth\":2},\"yaxis\":{\"backgroundcolor\":\"#E5ECF6\",\"gridcolor\":\"white\",\"linecolor\":\"white\",\"showbackground\":true,\"ticks\":\"\",\"zerolinecolor\":\"white\",\"gridwidth\":2},\"zaxis\":{\"backgroundcolor\":\"#E5ECF6\",\"gridcolor\":\"white\",\"linecolor\":\"white\",\"showbackground\":true,\"ticks\":\"\",\"zerolinecolor\":\"white\",\"gridwidth\":2}},\"shapedefaults\":{\"line\":{\"color\":\"#2a3f5f\"}},\"annotationdefaults\":{\"arrowcolor\":\"#2a3f5f\",\"arrowhead\":0,\"arrowwidth\":1},\"geo\":{\"bgcolor\":\"white\",\"landcolor\":\"#E5ECF6\",\"subunitcolor\":\"white\",\"showland\":true,\"showlakes\":true,\"lakecolor\":\"white\"},\"title\":{\"x\":0.05},\"mapbox\":{\"style\":\"light\"}}},\"xaxis\":{\"anchor\":\"y\",\"domain\":[0.0,1.0],\"title\":{\"text\":\"HomeTeam\"},\"categoryorder\":\"array\",\"categoryarray\":[\"Granada\",\"Sp Gijon\",\"Valencia\",\"Ath Bilbao\",\"Ath Madrid\",\"Getafe\",\"Mallorca\",\"Sevilla\",\"Zaragoza\",\"Barcelona\",\"Real Madrid\",\"Sociedad\",\"Villarreal\",\"Betis\",\"Espanol\",\"Osasuna\",\"Santander\",\"Vallecano\",\"Malaga\",\"Levante\"]},\"yaxis\":{\"anchor\":\"x\",\"domain\":[0.0,1.0],\"title\":{\"text\":\"SOTR\"}},\"legend\":{\"title\":{\"text\":\"HomeTeam\"},\"tracegroupgap\":0},\"title\":{\"text\":\"Shots on Target Ratio Distribution by Home Team\"},\"boxmode\":\"overlay\"},                        {\"responsive\": true}                    ).then(function(){\n",
       "                            \n",
       "var gd = document.getElementById('7e0647eb-01a1-4e7e-9ec1-4bf4f0bde3e3');\n",
       "var x = new MutationObserver(function (mutations, observer) {{\n",
       "        var display = window.getComputedStyle(gd).display;\n",
       "        if (!display || display === 'none') {{\n",
       "            console.log([gd, 'removed!']);\n",
       "            Plotly.purge(gd);\n",
       "            observer.disconnect();\n",
       "        }}\n",
       "}});\n",
       "\n",
       "// Listen for the removal of the full notebook cells\n",
       "var notebookContainer = gd.closest('#notebook-container');\n",
       "if (notebookContainer) {{\n",
       "    x.observe(notebookContainer, {childList: true});\n",
       "}}\n",
       "\n",
       "// Listen for the clearing of the current output cell\n",
       "var outputEl = gd.closest('.output');\n",
       "if (outputEl) {{\n",
       "    x.observe(outputEl, {childList: true});\n",
       "}}\n",
       "\n",
       "                        })                };                });            </script>        </div>"
      ]
     },
     "metadata": {},
     "output_type": "display_data"
    }
   ],
   "source": [
    "import plotly.express as px\n",
    "\n",
    "fig = px.box(df, x='HomeTeam', y='SOTR', color='HomeTeam', title='Shots on Target Ratio Distribution by Home Team')\n",
    "fig.show()"
   ]
  },
  {
   "cell_type": "markdown",
   "id": "aadbe17b",
   "metadata": {},
   "source": [
    "As we can see from the plot, there is a significant variation in shots on target ratio among different teams. Let's also create a scatter plot to examine the relationship between shots on target ratio and the number of goals scored by a team."
   ]
  },
  {
   "cell_type": "code",
   "execution_count": null,
   "id": "96bd7580",
   "metadata": {},
   "outputs": [
    {
     "data": {
      "application/vnd.plotly.v1+json": {
       "config": {
        "plotlyServerURL": "https://plot.ly"
       },
       "data": [
        {
         "hovertemplate": "HomeTeam=Granada<br>SOTR=%{x}<br>FTHG=%{y}<extra></extra>",
         "legendgroup": "Granada",
         "marker": {
          "color": "#636efa",
          "symbol": "circle"
         },
         "mode": "markers",
         "name": "Granada",
         "orientation": "v",
         "showlegend": true,
         "type": "scatter",
         "x": [
          0.18181818181818182,
          0.25,
          0.2,
          0.16666666666666666,
          0,
          0.1875,
          0.45454545454545453,
          0.46153846153846156,
          0.35294117647058826,
          0.4,
          0.5,
          0.4,
          0.375,
          0.3076923076923077,
          0.2,
          0.4444444444444444,
          0.5454545454545454,
          0.5294117647058824,
          0.4166666666666667
         ],
         "xaxis": "x",
         "y": [
          0,
          1,
          1,
          0,
          0,
          0,
          1,
          2,
          2,
          1,
          2,
          4,
          0,
          2,
          0,
          2,
          1,
          2,
          1
         ],
         "yaxis": "y"
        },
        {
         "hovertemplate": "HomeTeam=Sp Gijon<br>SOTR=%{x}<br>FTHG=%{y}<extra></extra>",
         "legendgroup": "Sp Gijon",
         "marker": {
          "color": "#EF553B",
          "symbol": "circle"
         },
         "mode": "markers",
         "name": "Sp Gijon",
         "orientation": "v",
         "showlegend": true,
         "type": "scatter",
         "x": [
          0.23529411764705882,
          0.26666666666666666,
          0.0625,
          0.25,
          0.3125,
          0.36363636363636365,
          0.42105263157894735,
          0.5,
          0.5,
          0.6363636363636364,
          0.45454545454545453,
          0.3,
          0.4666666666666667,
          0.2727272727272727,
          0.42857142857142855,
          0.20833333333333334,
          0.375,
          0.22727272727272727,
          0.25
         ],
         "xaxis": "x",
         "y": [
          1,
          0,
          0,
          0,
          2,
          1,
          2,
          0,
          1,
          2,
          1,
          1,
          1,
          2,
          1,
          3,
          2,
          2,
          2
         ],
         "yaxis": "y"
        },
        {
         "hovertemplate": "HomeTeam=Valencia<br>SOTR=%{x}<br>FTHG=%{y}<extra></extra>",
         "legendgroup": "Valencia",
         "marker": {
          "color": "#00cc96",
          "symbol": "circle"
         },
         "mode": "markers",
         "name": "Valencia",
         "orientation": "v",
         "showlegend": true,
         "type": "scatter",
         "x": [
          0.4230769230769231,
          0.5,
          0.1111111111111111,
          0.4782608695652174,
          0.13636363636363635,
          0.38461538461538464,
          0.35714285714285715,
          0.625,
          0.46153846153846156,
          0.25,
          0.36363636363636365,
          0.5,
          0.34782608695652173,
          0.35714285714285715,
          0.3333333333333333,
          0.7,
          0.5,
          0.391304347826087,
          0.4117647058823529
         ],
         "xaxis": "x",
         "y": [
          4,
          1,
          2,
          1,
          1,
          3,
          2,
          2,
          2,
          0,
          4,
          1,
          2,
          1,
          1,
          4,
          4,
          4,
          1
         ],
         "yaxis": "y"
        },
        {
         "hovertemplate": "HomeTeam=Ath Bilbao<br>SOTR=%{x}<br>FTHG=%{y}<extra></extra>",
         "legendgroup": "Ath Bilbao",
         "marker": {
          "color": "#ab63fa",
          "symbol": "circle"
         },
         "mode": "markers",
         "name": "Ath Bilbao",
         "orientation": "v",
         "showlegend": true,
         "type": "scatter",
         "x": [
          0.4,
          0.5,
          0.6,
          0.46153846153846156,
          0.2857142857142857,
          1,
          0.2222222222222222,
          0.125,
          0.45454545454545453,
          0.5294117647058824,
          0.35,
          0.3076923076923077,
          0.5,
          0.2727272727272727,
          0.3333333333333333,
          0.3333333333333333,
          0.15384615384615385,
          0.18181818181818182,
          0.0625
         ],
         "xaxis": "x",
         "y": [
          1,
          2,
          1,
          3,
          3,
          2,
          0,
          1,
          2,
          3,
          3,
          3,
          2,
          0,
          1,
          1,
          1,
          0,
          0
         ],
         "yaxis": "y"
        },
        {
         "hovertemplate": "HomeTeam=Ath Madrid<br>SOTR=%{x}<br>FTHG=%{y}<extra></extra>",
         "legendgroup": "Ath Madrid",
         "marker": {
          "color": "#FFA15A",
          "symbol": "circle"
         },
         "mode": "markers",
         "name": "Ath Madrid",
         "orientation": "v",
         "showlegend": true,
         "type": "scatter",
         "x": [
          0.2857142857142857,
          0.4117647058823529,
          0.5789473684210527,
          0.26666666666666666,
          0.2,
          0.3888888888888889,
          0.5,
          0.38095238095238093,
          0.2903225806451613,
          0.45,
          0.3333333333333333,
          0.5,
          0.21428571428571427,
          0.38095238095238093,
          0.5,
          0.2727272727272727,
          0.4117647058823529,
          0.07692307692307693,
          0.2222222222222222
         ],
         "xaxis": "x",
         "y": [
          0,
          4,
          4,
          0,
          1,
          3,
          3,
          3,
          0,
          3,
          0,
          1,
          2,
          2,
          3,
          1,
          3,
          1,
          2
         ],
         "yaxis": "y"
        },
        {
         "hovertemplate": "HomeTeam=Getafe<br>SOTR=%{x}<br>FTHG=%{y}<extra></extra>",
         "legendgroup": "Getafe",
         "marker": {
          "color": "#19d3f3",
          "symbol": "circle"
         },
         "mode": "markers",
         "name": "Getafe",
         "orientation": "v",
         "showlegend": true,
         "type": "scatter",
         "x": [
          0.25,
          0.2857142857142857,
          0.4166666666666667,
          0.375,
          0.3076923076923077,
          0.35714285714285715,
          0.14285714285714285,
          0.3684210526315789,
          0.125,
          0,
          0.42105263157894735,
          0.35294117647058826,
          0.09090909090909091,
          0.4444444444444444,
          0.4,
          0.5833333333333334,
          0.25,
          0.4444444444444444,
          0
         ],
         "xaxis": "x",
         "y": [
          1,
          0,
          1,
          0,
          2,
          3,
          1,
          1,
          0,
          0,
          1,
          1,
          1,
          3,
          2,
          5,
          1,
          1,
          0
         ],
         "yaxis": "y"
        },
        {
         "hovertemplate": "HomeTeam=Mallorca<br>SOTR=%{x}<br>FTHG=%{y}<extra></extra>",
         "legendgroup": "Mallorca",
         "marker": {
          "color": "#FF6692",
          "symbol": "circle"
         },
         "mode": "markers",
         "name": "Mallorca",
         "orientation": "v",
         "showlegend": true,
         "type": "scatter",
         "x": [
          0.36363636363636365,
          0.16666666666666666,
          0.25,
          0.09090909090909091,
          0.29411764705882354,
          0.3333333333333333,
          0.5,
          0.3333333333333333,
          0.3333333333333333,
          0.125,
          0.36363636363636365,
          0.5714285714285714,
          0.14285714285714285,
          0.3333333333333333,
          0.2,
          0.23076923076923078,
          0.3333333333333333,
          0.4,
          0.3
         ],
         "xaxis": "x",
         "y": [
          1,
          0,
          2,
          1,
          1,
          0,
          2,
          1,
          1,
          1,
          1,
          4,
          1,
          2,
          0,
          0,
          1,
          1,
          1
         ],
         "yaxis": "y"
        },
        {
         "hovertemplate": "HomeTeam=Sevilla<br>SOTR=%{x}<br>FTHG=%{y}<extra></extra>",
         "legendgroup": "Sevilla",
         "marker": {
          "color": "#B6E880",
          "symbol": "circle"
         },
         "mode": "markers",
         "name": "Sevilla",
         "orientation": "v",
         "showlegend": true,
         "type": "scatter",
         "x": [
          0.6,
          0.3333333333333333,
          0.5,
          0.2,
          0.5,
          0.41935483870967744,
          0.625,
          0.4666666666666667,
          0.3157894736842105,
          0.15789473684210525,
          0.4,
          0.4117647058823529,
          0.25,
          0.16666666666666666,
          0.4,
          0.36363636363636365,
          0.22727272727272727,
          0.25,
          0.5333333333333333
         ],
         "xaxis": "x",
         "y": [
          2,
          1,
          1,
          2,
          2,
          1,
          1,
          3,
          2,
          0,
          1,
          2,
          1,
          0,
          3,
          3,
          1,
          1,
          5
         ],
         "yaxis": "y"
        },
        {
         "hovertemplate": "HomeTeam=Zaragoza<br>SOTR=%{x}<br>FTHG=%{y}<extra></extra>",
         "legendgroup": "Zaragoza",
         "marker": {
          "color": "#FF97FF",
          "symbol": "circle"
         },
         "mode": "markers",
         "name": "Zaragoza",
         "orientation": "v",
         "showlegend": true,
         "type": "scatter",
         "x": [
          0.125,
          0.4166666666666667,
          0.5,
          0.5,
          0,
          0.5384615384615384,
          0.15384615384615385,
          0.42857142857142855,
          0.26666666666666666,
          0.3,
          0.3076923076923077,
          0.3333333333333333,
          0.17647058823529413,
          0.25,
          0.35714285714285715,
          0.5,
          0.38095238095238093,
          0.4166666666666667,
          0.27586206896551724
         ],
         "xaxis": "x",
         "y": [
          0,
          2,
          0,
          2,
          0,
          2,
          0,
          0,
          1,
          1,
          0,
          2,
          1,
          1,
          1,
          1,
          2,
          1,
          2
         ],
         "yaxis": "y"
        },
        {
         "hovertemplate": "HomeTeam=Barcelona<br>SOTR=%{x}<br>FTHG=%{y}<extra></extra>",
         "legendgroup": "Barcelona",
         "marker": {
          "color": "#FECB52",
          "symbol": "circle"
         },
         "mode": "markers",
         "name": "Barcelona",
         "orientation": "v",
         "showlegend": true,
         "type": "scatter",
         "x": [
          0.5,
          0.7777777777777778,
          0.4444444444444444,
          0.3157894736842105,
          0.2857142857142857,
          0.5555555555555556,
          0.4074074074074074,
          0.5,
          0.5,
          0.5625,
          0.5,
          0.46875,
          0.3333333333333333,
          0.4444444444444444,
          0.7,
          0.5,
          0.21428571428571427,
          0.5454545454545454,
          0.42857142857142855
         ],
         "xaxis": "x",
         "y": [
          5,
          8,
          5,
          3,
          0,
          5,
          4,
          4,
          5,
          4,
          2,
          5,
          3,
          5,
          2,
          4,
          1,
          4,
          4
         ],
         "yaxis": "y"
        },
        {
         "hovertemplate": "HomeTeam=Real Madrid<br>SOTR=%{x}<br>FTHG=%{y}<extra></extra>",
         "legendgroup": "Real Madrid",
         "marker": {
          "color": "#636efa",
          "symbol": "circle"
         },
         "mode": "markers",
         "name": "Real Madrid",
         "orientation": "v",
         "showlegend": true,
         "type": "scatter",
         "x": [
          0.38461538461538464,
          0.6111111111111112,
          0.45454545454545453,
          0.46153846153846156,
          0.6111111111111112,
          0.4375,
          0.29411764705882354,
          0.34285714285714286,
          0.43478260869565216,
          0.3333333333333333,
          0.34615384615384615,
          0.391304347826087,
          0.5454545454545454,
          0.3333333333333333,
          0.5263157894736842,
          0.30303030303030304,
          0.25,
          0.3333333333333333,
          0.5217391304347826
         ],
         "xaxis": "x",
         "y": [
          4,
          6,
          4,
          3,
          7,
          4,
          1,
          5,
          4,
          3,
          4,
          4,
          5,
          1,
          5,
          0,
          3,
          3,
          4
         ],
         "yaxis": "y"
        },
        {
         "hovertemplate": "HomeTeam=Sociedad<br>SOTR=%{x}<br>FTHG=%{y}<extra></extra>",
         "legendgroup": "Sociedad",
         "marker": {
          "color": "#EF553B",
          "symbol": "circle"
         },
         "mode": "markers",
         "name": "Sociedad",
         "orientation": "v",
         "showlegend": true,
         "type": "scatter",
         "x": [
          0.4,
          0.2857142857142857,
          0.26666666666666666,
          0.16666666666666666,
          0.6,
          0.08333333333333333,
          0.3076923076923077,
          0.3,
          0.0625,
          0.6428571428571429,
          0.5,
          0.07692307692307693,
          0.5384615384615384,
          0.3333333333333333,
          0.5333333333333333,
          0.23529411764705882,
          0.2222222222222222,
          0.29411764705882354,
          0.46153846153846156
         ],
         "xaxis": "x",
         "y": [
          2,
          1,
          1,
          0,
          0,
          0,
          3,
          0,
          0,
          5,
          2,
          1,
          3,
          1,
          4,
          1,
          1,
          3,
          1
         ],
         "yaxis": "y"
        },
        {
         "hovertemplate": "HomeTeam=Villarreal<br>SOTR=%{x}<br>FTHG=%{y}<extra></extra>",
         "legendgroup": "Villarreal",
         "marker": {
          "color": "#00cc96",
          "symbol": "circle"
         },
         "mode": "markers",
         "name": "Villarreal",
         "orientation": "v",
         "showlegend": true,
         "type": "scatter",
         "x": [
          0.45454545454545453,
          0.6923076923076923,
          0.48,
          0.3333333333333333,
          0.45454545454545453,
          0.45454545454545453,
          0.3684210526315789,
          0.5384615384615384,
          0.5714285714285714,
          0.4,
          0.5833333333333334,
          0.38095238095238093,
          0.25,
          0.2,
          0.3333333333333333,
          0.3333333333333333,
          0.2631578947368421,
          0.3,
          0.1
         ],
         "xaxis": "x",
         "y": [
          2,
          2,
          2,
          0,
          2,
          1,
          1,
          2,
          3,
          0,
          3,
          2,
          1,
          1,
          0,
          2,
          1,
          1,
          0
         ],
         "yaxis": "y"
        },
        {
         "hovertemplate": "HomeTeam=Betis<br>SOTR=%{x}<br>FTHG=%{y}<extra></extra>",
         "legendgroup": "Betis",
         "marker": {
          "color": "#ab63fa",
          "symbol": "circle"
         },
         "mode": "markers",
         "name": "Betis",
         "orientation": "v",
         "showlegend": true,
         "type": "scatter",
         "x": [
          0.2916666666666667,
          0.6666666666666666,
          0.2,
          0.2222222222222222,
          0,
          0.25,
          0.2222222222222222,
          0.42105263157894735,
          0.125,
          0.375,
          0.2,
          0.3076923076923077,
          0.42857142857142855,
          0.2222222222222222,
          0.3888888888888889,
          0.5,
          0.4,
          0.3333333333333333,
          0.6
         ],
         "xaxis": "x",
         "y": [
          1,
          4,
          0,
          0,
          0,
          2,
          2,
          2,
          1,
          1,
          2,
          1,
          2,
          1,
          1,
          3,
          1,
          2,
          2
         ],
         "yaxis": "y"
        },
        {
         "hovertemplate": "HomeTeam=Espanol<br>SOTR=%{x}<br>FTHG=%{y}<extra></extra>",
         "legendgroup": "Espanol",
         "marker": {
          "color": "#FFA15A",
          "symbol": "circle"
         },
         "mode": "markers",
         "name": "Espanol",
         "orientation": "v",
         "showlegend": true,
         "type": "scatter",
         "x": [
          0.6,
          0.375,
          0.2,
          0.29411764705882354,
          0.10526315789473684,
          0.375,
          0.6111111111111112,
          0.2857142857142857,
          0.5,
          0.5,
          0.2857142857142857,
          0.1,
          0.5882352941176471,
          0.4666666666666667,
          0.375,
          0.4444444444444444,
          0.3125,
          0.2777777777777778,
          0.4444444444444444
         ],
         "xaxis": "x",
         "y": [
          2,
          1,
          0,
          1,
          0,
          1,
          4,
          1,
          3,
          1,
          0,
          1,
          5,
          3,
          1,
          2,
          4,
          0,
          1
         ],
         "yaxis": "y"
        },
        {
         "hovertemplate": "HomeTeam=Osasuna<br>SOTR=%{x}<br>FTHG=%{y}<extra></extra>",
         "legendgroup": "Osasuna",
         "marker": {
          "color": "#19d3f3",
          "symbol": "circle"
         },
         "mode": "markers",
         "name": "Osasuna",
         "orientation": "v",
         "showlegend": true,
         "type": "scatter",
         "x": [
          0.3333333333333333,
          0.5333333333333333,
          0.6,
          0.4375,
          0.38461538461538464,
          0.5,
          0.375,
          0.3157894736842105,
          0.25,
          0.4166666666666667,
          0.4117647058823529,
          0.42857142857142855,
          0.26666666666666666,
          0.35294117647058826,
          0.3684210526315789,
          0.07692307692307693,
          0.2857142857142857,
          0.3333333333333333,
          0.5555555555555556
         ],
         "xaxis": "x",
         "y": [
          2,
          0,
          2,
          3,
          2,
          0,
          2,
          2,
          0,
          1,
          0,
          3,
          2,
          2,
          0,
          1,
          2,
          1,
          1
         ],
         "yaxis": "y"
        },
        {
         "hovertemplate": "HomeTeam=Santander<br>SOTR=%{x}<br>FTHG=%{y}<extra></extra>",
         "legendgroup": "Santander",
         "marker": {
          "color": "#FF6692",
          "symbol": "circle"
         },
         "mode": "markers",
         "name": "Santander",
         "orientation": "v",
         "showlegend": true,
         "type": "scatter",
         "x": [
          0.125,
          0.4,
          0.5714285714285714,
          0.25,
          0.3333333333333333,
          0.36363636363636365,
          0.125,
          0.36363636363636365,
          0.2857142857142857,
          0.4444444444444444,
          0.45454545454545453,
          0.16666666666666666,
          0.3684210526315789,
          0,
          0.3333333333333333,
          0.2857142857142857,
          0.23529411764705882,
          0.2727272727272727,
          0.2857142857142857
         ],
         "xaxis": "x",
         "y": [
          0,
          0,
          1,
          0,
          1,
          1,
          1,
          0,
          1,
          1,
          2,
          0,
          1,
          0,
          0,
          0,
          0,
          0,
          2
         ],
         "yaxis": "y"
        },
        {
         "hovertemplate": "HomeTeam=Vallecano<br>SOTR=%{x}<br>FTHG=%{y}<extra></extra>",
         "legendgroup": "Vallecano",
         "marker": {
          "color": "#B6E880",
          "symbol": "circle"
         },
         "mode": "markers",
         "name": "Vallecano",
         "orientation": "v",
         "showlegend": true,
         "type": "scatter",
         "x": [
          0.25,
          0.5,
          0.16666666666666666,
          0.4,
          0.6923076923076923,
          0.25,
          0.3684210526315789,
          0.36363636363636365,
          0.3333333333333333,
          0.5263157894736842,
          0.5384615384615384,
          0.14285714285714285,
          0.5909090909090909,
          0.5384615384615384,
          0.21052631578947367,
          0.631578947368421,
          0.25,
          0.4,
          0.1111111111111111
         ],
         "xaxis": "x",
         "y": [
          0,
          1,
          0,
          2,
          4,
          1,
          1,
          2,
          0,
          2,
          2,
          0,
          4,
          3,
          0,
          6,
          0,
          0,
          1
         ],
         "yaxis": "y"
        },
        {
         "hovertemplate": "HomeTeam=Malaga<br>SOTR=%{x}<br>FTHG=%{y}<extra></extra>",
         "legendgroup": "Malaga",
         "marker": {
          "color": "#FF97FF",
          "symbol": "circle"
         },
         "mode": "markers",
         "name": "Malaga",
         "orientation": "v",
         "showlegend": true,
         "type": "scatter",
         "x": [
          0.45,
          0.3076923076923077,
          0.42105263157894735,
          0.2857142857142857,
          0.42105263157894735,
          0.5,
          0.2631578947368421,
          0.18181818181818182,
          0.6666666666666666,
          0.5555555555555556,
          0.47058823529411764,
          0.5,
          0.16666666666666666,
          0.4,
          0.3,
          0.43333333333333335,
          0.3157894736842105,
          0.4375,
          0.5454545454545454
         ],
         "xaxis": "x",
         "y": [
          4,
          1,
          3,
          0,
          2,
          2,
          1,
          0,
          1,
          2,
          3,
          5,
          1,
          4,
          0,
          3,
          1,
          1,
          1
         ],
         "yaxis": "y"
        },
        {
         "hovertemplate": "HomeTeam=Levante<br>SOTR=%{x}<br>FTHG=%{y}<extra></extra>",
         "legendgroup": "Levante",
         "marker": {
          "color": "#FECB52",
          "symbol": "circle"
         },
         "mode": "markers",
         "name": "Levante",
         "orientation": "v",
         "showlegend": true,
         "type": "scatter",
         "x": [
          0.36363636363636365,
          0.4166666666666667,
          0.2857142857142857,
          0.4,
          0.23076923076923078,
          0.6,
          0.42857142857142855,
          0.25,
          0,
          0.2777777777777778,
          0.42857142857142855,
          0.42105263157894735,
          0.5714285714285714,
          0.36363636363636365,
          0.35,
          0.5,
          0.4,
          0.5555555555555556,
          0.3333333333333333
         ],
         "xaxis": "x",
         "y": [
          1,
          3,
          3,
          3,
          0,
          4,
          1,
          0,
          0,
          1,
          1,
          3,
          3,
          1,
          0,
          2,
          1,
          3,
          3
         ],
         "yaxis": "y"
        }
       ],
       "layout": {
        "legend": {
         "title": {
          "text": "HomeTeam"
         },
         "tracegroupgap": 0
        },
        "template": {
         "data": {
          "bar": [
           {
            "error_x": {
             "color": "#2a3f5f"
            },
            "error_y": {
             "color": "#2a3f5f"
            },
            "marker": {
             "line": {
              "color": "#E5ECF6",
              "width": 0.5
             },
             "pattern": {
              "fillmode": "overlay",
              "size": 10,
              "solidity": 0.2
             }
            },
            "type": "bar"
           }
          ],
          "barpolar": [
           {
            "marker": {
             "line": {
              "color": "#E5ECF6",
              "width": 0.5
             },
             "pattern": {
              "fillmode": "overlay",
              "size": 10,
              "solidity": 0.2
             }
            },
            "type": "barpolar"
           }
          ],
          "carpet": [
           {
            "aaxis": {
             "endlinecolor": "#2a3f5f",
             "gridcolor": "white",
             "linecolor": "white",
             "minorgridcolor": "white",
             "startlinecolor": "#2a3f5f"
            },
            "baxis": {
             "endlinecolor": "#2a3f5f",
             "gridcolor": "white",
             "linecolor": "white",
             "minorgridcolor": "white",
             "startlinecolor": "#2a3f5f"
            },
            "type": "carpet"
           }
          ],
          "choropleth": [
           {
            "colorbar": {
             "outlinewidth": 0,
             "ticks": ""
            },
            "type": "choropleth"
           }
          ],
          "contour": [
           {
            "colorbar": {
             "outlinewidth": 0,
             "ticks": ""
            },
            "colorscale": [
             [
              0,
              "#0d0887"
             ],
             [
              0.1111111111111111,
              "#46039f"
             ],
             [
              0.2222222222222222,
              "#7201a8"
             ],
             [
              0.3333333333333333,
              "#9c179e"
             ],
             [
              0.4444444444444444,
              "#bd3786"
             ],
             [
              0.5555555555555556,
              "#d8576b"
             ],
             [
              0.6666666666666666,
              "#ed7953"
             ],
             [
              0.7777777777777778,
              "#fb9f3a"
             ],
             [
              0.8888888888888888,
              "#fdca26"
             ],
             [
              1,
              "#f0f921"
             ]
            ],
            "type": "contour"
           }
          ],
          "contourcarpet": [
           {
            "colorbar": {
             "outlinewidth": 0,
             "ticks": ""
            },
            "type": "contourcarpet"
           }
          ],
          "heatmap": [
           {
            "colorbar": {
             "outlinewidth": 0,
             "ticks": ""
            },
            "colorscale": [
             [
              0,
              "#0d0887"
             ],
             [
              0.1111111111111111,
              "#46039f"
             ],
             [
              0.2222222222222222,
              "#7201a8"
             ],
             [
              0.3333333333333333,
              "#9c179e"
             ],
             [
              0.4444444444444444,
              "#bd3786"
             ],
             [
              0.5555555555555556,
              "#d8576b"
             ],
             [
              0.6666666666666666,
              "#ed7953"
             ],
             [
              0.7777777777777778,
              "#fb9f3a"
             ],
             [
              0.8888888888888888,
              "#fdca26"
             ],
             [
              1,
              "#f0f921"
             ]
            ],
            "type": "heatmap"
           }
          ],
          "heatmapgl": [
           {
            "colorbar": {
             "outlinewidth": 0,
             "ticks": ""
            },
            "colorscale": [
             [
              0,
              "#0d0887"
             ],
             [
              0.1111111111111111,
              "#46039f"
             ],
             [
              0.2222222222222222,
              "#7201a8"
             ],
             [
              0.3333333333333333,
              "#9c179e"
             ],
             [
              0.4444444444444444,
              "#bd3786"
             ],
             [
              0.5555555555555556,
              "#d8576b"
             ],
             [
              0.6666666666666666,
              "#ed7953"
             ],
             [
              0.7777777777777778,
              "#fb9f3a"
             ],
             [
              0.8888888888888888,
              "#fdca26"
             ],
             [
              1,
              "#f0f921"
             ]
            ],
            "type": "heatmapgl"
           }
          ],
          "histogram": [
           {
            "marker": {
             "pattern": {
              "fillmode": "overlay",
              "size": 10,
              "solidity": 0.2
             }
            },
            "type": "histogram"
           }
          ],
          "histogram2d": [
           {
            "colorbar": {
             "outlinewidth": 0,
             "ticks": ""
            },
            "colorscale": [
             [
              0,
              "#0d0887"
             ],
             [
              0.1111111111111111,
              "#46039f"
             ],
             [
              0.2222222222222222,
              "#7201a8"
             ],
             [
              0.3333333333333333,
              "#9c179e"
             ],
             [
              0.4444444444444444,
              "#bd3786"
             ],
             [
              0.5555555555555556,
              "#d8576b"
             ],
             [
              0.6666666666666666,
              "#ed7953"
             ],
             [
              0.7777777777777778,
              "#fb9f3a"
             ],
             [
              0.8888888888888888,
              "#fdca26"
             ],
             [
              1,
              "#f0f921"
             ]
            ],
            "type": "histogram2d"
           }
          ],
          "histogram2dcontour": [
           {
            "colorbar": {
             "outlinewidth": 0,
             "ticks": ""
            },
            "colorscale": [
             [
              0,
              "#0d0887"
             ],
             [
              0.1111111111111111,
              "#46039f"
             ],
             [
              0.2222222222222222,
              "#7201a8"
             ],
             [
              0.3333333333333333,
              "#9c179e"
             ],
             [
              0.4444444444444444,
              "#bd3786"
             ],
             [
              0.5555555555555556,
              "#d8576b"
             ],
             [
              0.6666666666666666,
              "#ed7953"
             ],
             [
              0.7777777777777778,
              "#fb9f3a"
             ],
             [
              0.8888888888888888,
              "#fdca26"
             ],
             [
              1,
              "#f0f921"
             ]
            ],
            "type": "histogram2dcontour"
           }
          ],
          "mesh3d": [
           {
            "colorbar": {
             "outlinewidth": 0,
             "ticks": ""
            },
            "type": "mesh3d"
           }
          ],
          "parcoords": [
           {
            "line": {
             "colorbar": {
              "outlinewidth": 0,
              "ticks": ""
             }
            },
            "type": "parcoords"
           }
          ],
          "pie": [
           {
            "automargin": true,
            "type": "pie"
           }
          ],
          "scatter": [
           {
            "fillpattern": {
             "fillmode": "overlay",
             "size": 10,
             "solidity": 0.2
            },
            "type": "scatter"
           }
          ],
          "scatter3d": [
           {
            "line": {
             "colorbar": {
              "outlinewidth": 0,
              "ticks": ""
             }
            },
            "marker": {
             "colorbar": {
              "outlinewidth": 0,
              "ticks": ""
             }
            },
            "type": "scatter3d"
           }
          ],
          "scattercarpet": [
           {
            "marker": {
             "colorbar": {
              "outlinewidth": 0,
              "ticks": ""
             }
            },
            "type": "scattercarpet"
           }
          ],
          "scattergeo": [
           {
            "marker": {
             "colorbar": {
              "outlinewidth": 0,
              "ticks": ""
             }
            },
            "type": "scattergeo"
           }
          ],
          "scattergl": [
           {
            "marker": {
             "colorbar": {
              "outlinewidth": 0,
              "ticks": ""
             }
            },
            "type": "scattergl"
           }
          ],
          "scattermapbox": [
           {
            "marker": {
             "colorbar": {
              "outlinewidth": 0,
              "ticks": ""
             }
            },
            "type": "scattermapbox"
           }
          ],
          "scatterpolar": [
           {
            "marker": {
             "colorbar": {
              "outlinewidth": 0,
              "ticks": ""
             }
            },
            "type": "scatterpolar"
           }
          ],
          "scatterpolargl": [
           {
            "marker": {
             "colorbar": {
              "outlinewidth": 0,
              "ticks": ""
             }
            },
            "type": "scatterpolargl"
           }
          ],
          "scatterternary": [
           {
            "marker": {
             "colorbar": {
              "outlinewidth": 0,
              "ticks": ""
             }
            },
            "type": "scatterternary"
           }
          ],
          "surface": [
           {
            "colorbar": {
             "outlinewidth": 0,
             "ticks": ""
            },
            "colorscale": [
             [
              0,
              "#0d0887"
             ],
             [
              0.1111111111111111,
              "#46039f"
             ],
             [
              0.2222222222222222,
              "#7201a8"
             ],
             [
              0.3333333333333333,
              "#9c179e"
             ],
             [
              0.4444444444444444,
              "#bd3786"
             ],
             [
              0.5555555555555556,
              "#d8576b"
             ],
             [
              0.6666666666666666,
              "#ed7953"
             ],
             [
              0.7777777777777778,
              "#fb9f3a"
             ],
             [
              0.8888888888888888,
              "#fdca26"
             ],
             [
              1,
              "#f0f921"
             ]
            ],
            "type": "surface"
           }
          ],
          "table": [
           {
            "cells": {
             "fill": {
              "color": "#EBF0F8"
             },
             "line": {
              "color": "white"
             }
            },
            "header": {
             "fill": {
              "color": "#C8D4E3"
             },
             "line": {
              "color": "white"
             }
            },
            "type": "table"
           }
          ]
         },
         "layout": {
          "annotationdefaults": {
           "arrowcolor": "#2a3f5f",
           "arrowhead": 0,
           "arrowwidth": 1
          },
          "autotypenumbers": "strict",
          "coloraxis": {
           "colorbar": {
            "outlinewidth": 0,
            "ticks": ""
           }
          },
          "colorscale": {
           "diverging": [
            [
             0,
             "#8e0152"
            ],
            [
             0.1,
             "#c51b7d"
            ],
            [
             0.2,
             "#de77ae"
            ],
            [
             0.3,
             "#f1b6da"
            ],
            [
             0.4,
             "#fde0ef"
            ],
            [
             0.5,
             "#f7f7f7"
            ],
            [
             0.6,
             "#e6f5d0"
            ],
            [
             0.7,
             "#b8e186"
            ],
            [
             0.8,
             "#7fbc41"
            ],
            [
             0.9,
             "#4d9221"
            ],
            [
             1,
             "#276419"
            ]
           ],
           "sequential": [
            [
             0,
             "#0d0887"
            ],
            [
             0.1111111111111111,
             "#46039f"
            ],
            [
             0.2222222222222222,
             "#7201a8"
            ],
            [
             0.3333333333333333,
             "#9c179e"
            ],
            [
             0.4444444444444444,
             "#bd3786"
            ],
            [
             0.5555555555555556,
             "#d8576b"
            ],
            [
             0.6666666666666666,
             "#ed7953"
            ],
            [
             0.7777777777777778,
             "#fb9f3a"
            ],
            [
             0.8888888888888888,
             "#fdca26"
            ],
            [
             1,
             "#f0f921"
            ]
           ],
           "sequentialminus": [
            [
             0,
             "#0d0887"
            ],
            [
             0.1111111111111111,
             "#46039f"
            ],
            [
             0.2222222222222222,
             "#7201a8"
            ],
            [
             0.3333333333333333,
             "#9c179e"
            ],
            [
             0.4444444444444444,
             "#bd3786"
            ],
            [
             0.5555555555555556,
             "#d8576b"
            ],
            [
             0.6666666666666666,
             "#ed7953"
            ],
            [
             0.7777777777777778,
             "#fb9f3a"
            ],
            [
             0.8888888888888888,
             "#fdca26"
            ],
            [
             1,
             "#f0f921"
            ]
           ]
          },
          "colorway": [
           "#636efa",
           "#EF553B",
           "#00cc96",
           "#ab63fa",
           "#FFA15A",
           "#19d3f3",
           "#FF6692",
           "#B6E880",
           "#FF97FF",
           "#FECB52"
          ],
          "font": {
           "color": "#2a3f5f"
          },
          "geo": {
           "bgcolor": "white",
           "lakecolor": "white",
           "landcolor": "#E5ECF6",
           "showlakes": true,
           "showland": true,
           "subunitcolor": "white"
          },
          "hoverlabel": {
           "align": "left"
          },
          "hovermode": "closest",
          "mapbox": {
           "style": "light"
          },
          "paper_bgcolor": "white",
          "plot_bgcolor": "#E5ECF6",
          "polar": {
           "angularaxis": {
            "gridcolor": "white",
            "linecolor": "white",
            "ticks": ""
           },
           "bgcolor": "#E5ECF6",
           "radialaxis": {
            "gridcolor": "white",
            "linecolor": "white",
            "ticks": ""
           }
          },
          "scene": {
           "xaxis": {
            "backgroundcolor": "#E5ECF6",
            "gridcolor": "white",
            "gridwidth": 2,
            "linecolor": "white",
            "showbackground": true,
            "ticks": "",
            "zerolinecolor": "white"
           },
           "yaxis": {
            "backgroundcolor": "#E5ECF6",
            "gridcolor": "white",
            "gridwidth": 2,
            "linecolor": "white",
            "showbackground": true,
            "ticks": "",
            "zerolinecolor": "white"
           },
           "zaxis": {
            "backgroundcolor": "#E5ECF6",
            "gridcolor": "white",
            "gridwidth": 2,
            "linecolor": "white",
            "showbackground": true,
            "ticks": "",
            "zerolinecolor": "white"
           }
          },
          "shapedefaults": {
           "line": {
            "color": "#2a3f5f"
           }
          },
          "ternary": {
           "aaxis": {
            "gridcolor": "white",
            "linecolor": "white",
            "ticks": ""
           },
           "baxis": {
            "gridcolor": "white",
            "linecolor": "white",
            "ticks": ""
           },
           "bgcolor": "#E5ECF6",
           "caxis": {
            "gridcolor": "white",
            "linecolor": "white",
            "ticks": ""
           }
          },
          "title": {
           "x": 0.05
          },
          "xaxis": {
           "automargin": true,
           "gridcolor": "white",
           "linecolor": "white",
           "ticks": "",
           "title": {
            "standoff": 15
           },
           "zerolinecolor": "white",
           "zerolinewidth": 2
          },
          "yaxis": {
           "automargin": true,
           "gridcolor": "white",
           "linecolor": "white",
           "ticks": "",
           "title": {
            "standoff": 15
           },
           "zerolinecolor": "white",
           "zerolinewidth": 2
          }
         }
        },
        "title": {
         "text": "Shots on Target Ratio vs. Goals Scored by Home Team"
        },
        "xaxis": {
         "anchor": "y",
         "domain": [
          0,
          1
         ],
         "title": {
          "text": "SOTR"
         }
        },
        "yaxis": {
         "anchor": "x",
         "domain": [
          0,
          1
         ],
         "title": {
          "text": "FTHG"
         }
        }
       }
      },
      "text/html": [
       "<div>                            <div id=\"53f2592d-cc3c-45ee-bd7f-e6ed74efbf60\" class=\"plotly-graph-div\" style=\"height:525px; width:100%;\"></div>            <script type=\"text/javascript\">                require([\"plotly\"], function(Plotly) {                    window.PLOTLYENV=window.PLOTLYENV || {};                                    if (document.getElementById(\"53f2592d-cc3c-45ee-bd7f-e6ed74efbf60\")) {                    Plotly.newPlot(                        \"53f2592d-cc3c-45ee-bd7f-e6ed74efbf60\",                        [{\"hovertemplate\":\"HomeTeam=Granada<br>SOTR=%{x}<br>FTHG=%{y}<extra></extra>\",\"legendgroup\":\"Granada\",\"marker\":{\"color\":\"#636efa\",\"symbol\":\"circle\"},\"mode\":\"markers\",\"name\":\"Granada\",\"orientation\":\"v\",\"showlegend\":true,\"x\":[0.18181818181818182,0.25,0.2,0.16666666666666666,0.0,0.1875,0.45454545454545453,0.46153846153846156,0.35294117647058826,0.4,0.5,0.4,0.375,0.3076923076923077,0.2,0.4444444444444444,0.5454545454545454,0.5294117647058824,0.4166666666666667],\"xaxis\":\"x\",\"y\":[0,1,1,0,0,0,1,2,2,1,2,4,0,2,0,2,1,2,1],\"yaxis\":\"y\",\"type\":\"scatter\"},{\"hovertemplate\":\"HomeTeam=Sp Gijon<br>SOTR=%{x}<br>FTHG=%{y}<extra></extra>\",\"legendgroup\":\"Sp Gijon\",\"marker\":{\"color\":\"#EF553B\",\"symbol\":\"circle\"},\"mode\":\"markers\",\"name\":\"Sp Gijon\",\"orientation\":\"v\",\"showlegend\":true,\"x\":[0.23529411764705882,0.26666666666666666,0.0625,0.25,0.3125,0.36363636363636365,0.42105263157894735,0.5,0.5,0.6363636363636364,0.45454545454545453,0.3,0.4666666666666667,0.2727272727272727,0.42857142857142855,0.20833333333333334,0.375,0.22727272727272727,0.25],\"xaxis\":\"x\",\"y\":[1,0,0,0,2,1,2,0,1,2,1,1,1,2,1,3,2,2,2],\"yaxis\":\"y\",\"type\":\"scatter\"},{\"hovertemplate\":\"HomeTeam=Valencia<br>SOTR=%{x}<br>FTHG=%{y}<extra></extra>\",\"legendgroup\":\"Valencia\",\"marker\":{\"color\":\"#00cc96\",\"symbol\":\"circle\"},\"mode\":\"markers\",\"name\":\"Valencia\",\"orientation\":\"v\",\"showlegend\":true,\"x\":[0.4230769230769231,0.5,0.1111111111111111,0.4782608695652174,0.13636363636363635,0.38461538461538464,0.35714285714285715,0.625,0.46153846153846156,0.25,0.36363636363636365,0.5,0.34782608695652173,0.35714285714285715,0.3333333333333333,0.7,0.5,0.391304347826087,0.4117647058823529],\"xaxis\":\"x\",\"y\":[4,1,2,1,1,3,2,2,2,0,4,1,2,1,1,4,4,4,1],\"yaxis\":\"y\",\"type\":\"scatter\"},{\"hovertemplate\":\"HomeTeam=Ath Bilbao<br>SOTR=%{x}<br>FTHG=%{y}<extra></extra>\",\"legendgroup\":\"Ath Bilbao\",\"marker\":{\"color\":\"#ab63fa\",\"symbol\":\"circle\"},\"mode\":\"markers\",\"name\":\"Ath Bilbao\",\"orientation\":\"v\",\"showlegend\":true,\"x\":[0.4,0.5,0.6,0.46153846153846156,0.2857142857142857,1.0,0.2222222222222222,0.125,0.45454545454545453,0.5294117647058824,0.35,0.3076923076923077,0.5,0.2727272727272727,0.3333333333333333,0.3333333333333333,0.15384615384615385,0.18181818181818182,0.0625],\"xaxis\":\"x\",\"y\":[1,2,1,3,3,2,0,1,2,3,3,3,2,0,1,1,1,0,0],\"yaxis\":\"y\",\"type\":\"scatter\"},{\"hovertemplate\":\"HomeTeam=Ath Madrid<br>SOTR=%{x}<br>FTHG=%{y}<extra></extra>\",\"legendgroup\":\"Ath Madrid\",\"marker\":{\"color\":\"#FFA15A\",\"symbol\":\"circle\"},\"mode\":\"markers\",\"name\":\"Ath Madrid\",\"orientation\":\"v\",\"showlegend\":true,\"x\":[0.2857142857142857,0.4117647058823529,0.5789473684210527,0.26666666666666666,0.2,0.3888888888888889,0.5,0.38095238095238093,0.2903225806451613,0.45,0.3333333333333333,0.5,0.21428571428571427,0.38095238095238093,0.5,0.2727272727272727,0.4117647058823529,0.07692307692307693,0.2222222222222222],\"xaxis\":\"x\",\"y\":[0,4,4,0,1,3,3,3,0,3,0,1,2,2,3,1,3,1,2],\"yaxis\":\"y\",\"type\":\"scatter\"},{\"hovertemplate\":\"HomeTeam=Getafe<br>SOTR=%{x}<br>FTHG=%{y}<extra></extra>\",\"legendgroup\":\"Getafe\",\"marker\":{\"color\":\"#19d3f3\",\"symbol\":\"circle\"},\"mode\":\"markers\",\"name\":\"Getafe\",\"orientation\":\"v\",\"showlegend\":true,\"x\":[0.25,0.2857142857142857,0.4166666666666667,0.375,0.3076923076923077,0.35714285714285715,0.14285714285714285,0.3684210526315789,0.125,0.0,0.42105263157894735,0.35294117647058826,0.09090909090909091,0.4444444444444444,0.4,0.5833333333333334,0.25,0.4444444444444444,0.0],\"xaxis\":\"x\",\"y\":[1,0,1,0,2,3,1,1,0,0,1,1,1,3,2,5,1,1,0],\"yaxis\":\"y\",\"type\":\"scatter\"},{\"hovertemplate\":\"HomeTeam=Mallorca<br>SOTR=%{x}<br>FTHG=%{y}<extra></extra>\",\"legendgroup\":\"Mallorca\",\"marker\":{\"color\":\"#FF6692\",\"symbol\":\"circle\"},\"mode\":\"markers\",\"name\":\"Mallorca\",\"orientation\":\"v\",\"showlegend\":true,\"x\":[0.36363636363636365,0.16666666666666666,0.25,0.09090909090909091,0.29411764705882354,0.3333333333333333,0.5,0.3333333333333333,0.3333333333333333,0.125,0.36363636363636365,0.5714285714285714,0.14285714285714285,0.3333333333333333,0.2,0.23076923076923078,0.3333333333333333,0.4,0.3],\"xaxis\":\"x\",\"y\":[1,0,2,1,1,0,2,1,1,1,1,4,1,2,0,0,1,1,1],\"yaxis\":\"y\",\"type\":\"scatter\"},{\"hovertemplate\":\"HomeTeam=Sevilla<br>SOTR=%{x}<br>FTHG=%{y}<extra></extra>\",\"legendgroup\":\"Sevilla\",\"marker\":{\"color\":\"#B6E880\",\"symbol\":\"circle\"},\"mode\":\"markers\",\"name\":\"Sevilla\",\"orientation\":\"v\",\"showlegend\":true,\"x\":[0.6,0.3333333333333333,0.5,0.2,0.5,0.41935483870967744,0.625,0.4666666666666667,0.3157894736842105,0.15789473684210525,0.4,0.4117647058823529,0.25,0.16666666666666666,0.4,0.36363636363636365,0.22727272727272727,0.25,0.5333333333333333],\"xaxis\":\"x\",\"y\":[2,1,1,2,2,1,1,3,2,0,1,2,1,0,3,3,1,1,5],\"yaxis\":\"y\",\"type\":\"scatter\"},{\"hovertemplate\":\"HomeTeam=Zaragoza<br>SOTR=%{x}<br>FTHG=%{y}<extra></extra>\",\"legendgroup\":\"Zaragoza\",\"marker\":{\"color\":\"#FF97FF\",\"symbol\":\"circle\"},\"mode\":\"markers\",\"name\":\"Zaragoza\",\"orientation\":\"v\",\"showlegend\":true,\"x\":[0.125,0.4166666666666667,0.5,0.5,0.0,0.5384615384615384,0.15384615384615385,0.42857142857142855,0.26666666666666666,0.3,0.3076923076923077,0.3333333333333333,0.17647058823529413,0.25,0.35714285714285715,0.5,0.38095238095238093,0.4166666666666667,0.27586206896551724],\"xaxis\":\"x\",\"y\":[0,2,0,2,0,2,0,0,1,1,0,2,1,1,1,1,2,1,2],\"yaxis\":\"y\",\"type\":\"scatter\"},{\"hovertemplate\":\"HomeTeam=Barcelona<br>SOTR=%{x}<br>FTHG=%{y}<extra></extra>\",\"legendgroup\":\"Barcelona\",\"marker\":{\"color\":\"#FECB52\",\"symbol\":\"circle\"},\"mode\":\"markers\",\"name\":\"Barcelona\",\"orientation\":\"v\",\"showlegend\":true,\"x\":[0.5,0.7777777777777778,0.4444444444444444,0.3157894736842105,0.2857142857142857,0.5555555555555556,0.4074074074074074,0.5,0.5,0.5625,0.5,0.46875,0.3333333333333333,0.4444444444444444,0.7,0.5,0.21428571428571427,0.5454545454545454,0.42857142857142855],\"xaxis\":\"x\",\"y\":[5,8,5,3,0,5,4,4,5,4,2,5,3,5,2,4,1,4,4],\"yaxis\":\"y\",\"type\":\"scatter\"},{\"hovertemplate\":\"HomeTeam=Real Madrid<br>SOTR=%{x}<br>FTHG=%{y}<extra></extra>\",\"legendgroup\":\"Real Madrid\",\"marker\":{\"color\":\"#636efa\",\"symbol\":\"circle\"},\"mode\":\"markers\",\"name\":\"Real Madrid\",\"orientation\":\"v\",\"showlegend\":true,\"x\":[0.38461538461538464,0.6111111111111112,0.45454545454545453,0.46153846153846156,0.6111111111111112,0.4375,0.29411764705882354,0.34285714285714286,0.43478260869565216,0.3333333333333333,0.34615384615384615,0.391304347826087,0.5454545454545454,0.3333333333333333,0.5263157894736842,0.30303030303030304,0.25,0.3333333333333333,0.5217391304347826],\"xaxis\":\"x\",\"y\":[4,6,4,3,7,4,1,5,4,3,4,4,5,1,5,0,3,3,4],\"yaxis\":\"y\",\"type\":\"scatter\"},{\"hovertemplate\":\"HomeTeam=Sociedad<br>SOTR=%{x}<br>FTHG=%{y}<extra></extra>\",\"legendgroup\":\"Sociedad\",\"marker\":{\"color\":\"#EF553B\",\"symbol\":\"circle\"},\"mode\":\"markers\",\"name\":\"Sociedad\",\"orientation\":\"v\",\"showlegend\":true,\"x\":[0.4,0.2857142857142857,0.26666666666666666,0.16666666666666666,0.6,0.08333333333333333,0.3076923076923077,0.3,0.0625,0.6428571428571429,0.5,0.07692307692307693,0.5384615384615384,0.3333333333333333,0.5333333333333333,0.23529411764705882,0.2222222222222222,0.29411764705882354,0.46153846153846156],\"xaxis\":\"x\",\"y\":[2,1,1,0,0,0,3,0,0,5,2,1,3,1,4,1,1,3,1],\"yaxis\":\"y\",\"type\":\"scatter\"},{\"hovertemplate\":\"HomeTeam=Villarreal<br>SOTR=%{x}<br>FTHG=%{y}<extra></extra>\",\"legendgroup\":\"Villarreal\",\"marker\":{\"color\":\"#00cc96\",\"symbol\":\"circle\"},\"mode\":\"markers\",\"name\":\"Villarreal\",\"orientation\":\"v\",\"showlegend\":true,\"x\":[0.45454545454545453,0.6923076923076923,0.48,0.3333333333333333,0.45454545454545453,0.45454545454545453,0.3684210526315789,0.5384615384615384,0.5714285714285714,0.4,0.5833333333333334,0.38095238095238093,0.25,0.2,0.3333333333333333,0.3333333333333333,0.2631578947368421,0.3,0.1],\"xaxis\":\"x\",\"y\":[2,2,2,0,2,1,1,2,3,0,3,2,1,1,0,2,1,1,0],\"yaxis\":\"y\",\"type\":\"scatter\"},{\"hovertemplate\":\"HomeTeam=Betis<br>SOTR=%{x}<br>FTHG=%{y}<extra></extra>\",\"legendgroup\":\"Betis\",\"marker\":{\"color\":\"#ab63fa\",\"symbol\":\"circle\"},\"mode\":\"markers\",\"name\":\"Betis\",\"orientation\":\"v\",\"showlegend\":true,\"x\":[0.2916666666666667,0.6666666666666666,0.2,0.2222222222222222,0.0,0.25,0.2222222222222222,0.42105263157894735,0.125,0.375,0.2,0.3076923076923077,0.42857142857142855,0.2222222222222222,0.3888888888888889,0.5,0.4,0.3333333333333333,0.6],\"xaxis\":\"x\",\"y\":[1,4,0,0,0,2,2,2,1,1,2,1,2,1,1,3,1,2,2],\"yaxis\":\"y\",\"type\":\"scatter\"},{\"hovertemplate\":\"HomeTeam=Espanol<br>SOTR=%{x}<br>FTHG=%{y}<extra></extra>\",\"legendgroup\":\"Espanol\",\"marker\":{\"color\":\"#FFA15A\",\"symbol\":\"circle\"},\"mode\":\"markers\",\"name\":\"Espanol\",\"orientation\":\"v\",\"showlegend\":true,\"x\":[0.6,0.375,0.2,0.29411764705882354,0.10526315789473684,0.375,0.6111111111111112,0.2857142857142857,0.5,0.5,0.2857142857142857,0.1,0.5882352941176471,0.4666666666666667,0.375,0.4444444444444444,0.3125,0.2777777777777778,0.4444444444444444],\"xaxis\":\"x\",\"y\":[2,1,0,1,0,1,4,1,3,1,0,1,5,3,1,2,4,0,1],\"yaxis\":\"y\",\"type\":\"scatter\"},{\"hovertemplate\":\"HomeTeam=Osasuna<br>SOTR=%{x}<br>FTHG=%{y}<extra></extra>\",\"legendgroup\":\"Osasuna\",\"marker\":{\"color\":\"#19d3f3\",\"symbol\":\"circle\"},\"mode\":\"markers\",\"name\":\"Osasuna\",\"orientation\":\"v\",\"showlegend\":true,\"x\":[0.3333333333333333,0.5333333333333333,0.6,0.4375,0.38461538461538464,0.5,0.375,0.3157894736842105,0.25,0.4166666666666667,0.4117647058823529,0.42857142857142855,0.26666666666666666,0.35294117647058826,0.3684210526315789,0.07692307692307693,0.2857142857142857,0.3333333333333333,0.5555555555555556],\"xaxis\":\"x\",\"y\":[2,0,2,3,2,0,2,2,0,1,0,3,2,2,0,1,2,1,1],\"yaxis\":\"y\",\"type\":\"scatter\"},{\"hovertemplate\":\"HomeTeam=Santander<br>SOTR=%{x}<br>FTHG=%{y}<extra></extra>\",\"legendgroup\":\"Santander\",\"marker\":{\"color\":\"#FF6692\",\"symbol\":\"circle\"},\"mode\":\"markers\",\"name\":\"Santander\",\"orientation\":\"v\",\"showlegend\":true,\"x\":[0.125,0.4,0.5714285714285714,0.25,0.3333333333333333,0.36363636363636365,0.125,0.36363636363636365,0.2857142857142857,0.4444444444444444,0.45454545454545453,0.16666666666666666,0.3684210526315789,0.0,0.3333333333333333,0.2857142857142857,0.23529411764705882,0.2727272727272727,0.2857142857142857],\"xaxis\":\"x\",\"y\":[0,0,1,0,1,1,1,0,1,1,2,0,1,0,0,0,0,0,2],\"yaxis\":\"y\",\"type\":\"scatter\"},{\"hovertemplate\":\"HomeTeam=Vallecano<br>SOTR=%{x}<br>FTHG=%{y}<extra></extra>\",\"legendgroup\":\"Vallecano\",\"marker\":{\"color\":\"#B6E880\",\"symbol\":\"circle\"},\"mode\":\"markers\",\"name\":\"Vallecano\",\"orientation\":\"v\",\"showlegend\":true,\"x\":[0.25,0.5,0.16666666666666666,0.4,0.6923076923076923,0.25,0.3684210526315789,0.36363636363636365,0.3333333333333333,0.5263157894736842,0.5384615384615384,0.14285714285714285,0.5909090909090909,0.5384615384615384,0.21052631578947367,0.631578947368421,0.25,0.4,0.1111111111111111],\"xaxis\":\"x\",\"y\":[0,1,0,2,4,1,1,2,0,2,2,0,4,3,0,6,0,0,1],\"yaxis\":\"y\",\"type\":\"scatter\"},{\"hovertemplate\":\"HomeTeam=Malaga<br>SOTR=%{x}<br>FTHG=%{y}<extra></extra>\",\"legendgroup\":\"Malaga\",\"marker\":{\"color\":\"#FF97FF\",\"symbol\":\"circle\"},\"mode\":\"markers\",\"name\":\"Malaga\",\"orientation\":\"v\",\"showlegend\":true,\"x\":[0.45,0.3076923076923077,0.42105263157894735,0.2857142857142857,0.42105263157894735,0.5,0.2631578947368421,0.18181818181818182,0.6666666666666666,0.5555555555555556,0.47058823529411764,0.5,0.16666666666666666,0.4,0.3,0.43333333333333335,0.3157894736842105,0.4375,0.5454545454545454],\"xaxis\":\"x\",\"y\":[4,1,3,0,2,2,1,0,1,2,3,5,1,4,0,3,1,1,1],\"yaxis\":\"y\",\"type\":\"scatter\"},{\"hovertemplate\":\"HomeTeam=Levante<br>SOTR=%{x}<br>FTHG=%{y}<extra></extra>\",\"legendgroup\":\"Levante\",\"marker\":{\"color\":\"#FECB52\",\"symbol\":\"circle\"},\"mode\":\"markers\",\"name\":\"Levante\",\"orientation\":\"v\",\"showlegend\":true,\"x\":[0.36363636363636365,0.4166666666666667,0.2857142857142857,0.4,0.23076923076923078,0.6,0.42857142857142855,0.25,0.0,0.2777777777777778,0.42857142857142855,0.42105263157894735,0.5714285714285714,0.36363636363636365,0.35,0.5,0.4,0.5555555555555556,0.3333333333333333],\"xaxis\":\"x\",\"y\":[1,3,3,3,0,4,1,0,0,1,1,3,3,1,0,2,1,3,3],\"yaxis\":\"y\",\"type\":\"scatter\"}],                        {\"template\":{\"data\":{\"histogram2dcontour\":[{\"type\":\"histogram2dcontour\",\"colorbar\":{\"outlinewidth\":0,\"ticks\":\"\"},\"colorscale\":[[0.0,\"#0d0887\"],[0.1111111111111111,\"#46039f\"],[0.2222222222222222,\"#7201a8\"],[0.3333333333333333,\"#9c179e\"],[0.4444444444444444,\"#bd3786\"],[0.5555555555555556,\"#d8576b\"],[0.6666666666666666,\"#ed7953\"],[0.7777777777777778,\"#fb9f3a\"],[0.8888888888888888,\"#fdca26\"],[1.0,\"#f0f921\"]]}],\"choropleth\":[{\"type\":\"choropleth\",\"colorbar\":{\"outlinewidth\":0,\"ticks\":\"\"}}],\"histogram2d\":[{\"type\":\"histogram2d\",\"colorbar\":{\"outlinewidth\":0,\"ticks\":\"\"},\"colorscale\":[[0.0,\"#0d0887\"],[0.1111111111111111,\"#46039f\"],[0.2222222222222222,\"#7201a8\"],[0.3333333333333333,\"#9c179e\"],[0.4444444444444444,\"#bd3786\"],[0.5555555555555556,\"#d8576b\"],[0.6666666666666666,\"#ed7953\"],[0.7777777777777778,\"#fb9f3a\"],[0.8888888888888888,\"#fdca26\"],[1.0,\"#f0f921\"]]}],\"heatmap\":[{\"type\":\"heatmap\",\"colorbar\":{\"outlinewidth\":0,\"ticks\":\"\"},\"colorscale\":[[0.0,\"#0d0887\"],[0.1111111111111111,\"#46039f\"],[0.2222222222222222,\"#7201a8\"],[0.3333333333333333,\"#9c179e\"],[0.4444444444444444,\"#bd3786\"],[0.5555555555555556,\"#d8576b\"],[0.6666666666666666,\"#ed7953\"],[0.7777777777777778,\"#fb9f3a\"],[0.8888888888888888,\"#fdca26\"],[1.0,\"#f0f921\"]]}],\"heatmapgl\":[{\"type\":\"heatmapgl\",\"colorbar\":{\"outlinewidth\":0,\"ticks\":\"\"},\"colorscale\":[[0.0,\"#0d0887\"],[0.1111111111111111,\"#46039f\"],[0.2222222222222222,\"#7201a8\"],[0.3333333333333333,\"#9c179e\"],[0.4444444444444444,\"#bd3786\"],[0.5555555555555556,\"#d8576b\"],[0.6666666666666666,\"#ed7953\"],[0.7777777777777778,\"#fb9f3a\"],[0.8888888888888888,\"#fdca26\"],[1.0,\"#f0f921\"]]}],\"contourcarpet\":[{\"type\":\"contourcarpet\",\"colorbar\":{\"outlinewidth\":0,\"ticks\":\"\"}}],\"contour\":[{\"type\":\"contour\",\"colorbar\":{\"outlinewidth\":0,\"ticks\":\"\"},\"colorscale\":[[0.0,\"#0d0887\"],[0.1111111111111111,\"#46039f\"],[0.2222222222222222,\"#7201a8\"],[0.3333333333333333,\"#9c179e\"],[0.4444444444444444,\"#bd3786\"],[0.5555555555555556,\"#d8576b\"],[0.6666666666666666,\"#ed7953\"],[0.7777777777777778,\"#fb9f3a\"],[0.8888888888888888,\"#fdca26\"],[1.0,\"#f0f921\"]]}],\"surface\":[{\"type\":\"surface\",\"colorbar\":{\"outlinewidth\":0,\"ticks\":\"\"},\"colorscale\":[[0.0,\"#0d0887\"],[0.1111111111111111,\"#46039f\"],[0.2222222222222222,\"#7201a8\"],[0.3333333333333333,\"#9c179e\"],[0.4444444444444444,\"#bd3786\"],[0.5555555555555556,\"#d8576b\"],[0.6666666666666666,\"#ed7953\"],[0.7777777777777778,\"#fb9f3a\"],[0.8888888888888888,\"#fdca26\"],[1.0,\"#f0f921\"]]}],\"mesh3d\":[{\"type\":\"mesh3d\",\"colorbar\":{\"outlinewidth\":0,\"ticks\":\"\"}}],\"scatter\":[{\"fillpattern\":{\"fillmode\":\"overlay\",\"size\":10,\"solidity\":0.2},\"type\":\"scatter\"}],\"parcoords\":[{\"type\":\"parcoords\",\"line\":{\"colorbar\":{\"outlinewidth\":0,\"ticks\":\"\"}}}],\"scatterpolargl\":[{\"type\":\"scatterpolargl\",\"marker\":{\"colorbar\":{\"outlinewidth\":0,\"ticks\":\"\"}}}],\"bar\":[{\"error_x\":{\"color\":\"#2a3f5f\"},\"error_y\":{\"color\":\"#2a3f5f\"},\"marker\":{\"line\":{\"color\":\"#E5ECF6\",\"width\":0.5},\"pattern\":{\"fillmode\":\"overlay\",\"size\":10,\"solidity\":0.2}},\"type\":\"bar\"}],\"scattergeo\":[{\"type\":\"scattergeo\",\"marker\":{\"colorbar\":{\"outlinewidth\":0,\"ticks\":\"\"}}}],\"scatterpolar\":[{\"type\":\"scatterpolar\",\"marker\":{\"colorbar\":{\"outlinewidth\":0,\"ticks\":\"\"}}}],\"histogram\":[{\"marker\":{\"pattern\":{\"fillmode\":\"overlay\",\"size\":10,\"solidity\":0.2}},\"type\":\"histogram\"}],\"scattergl\":[{\"type\":\"scattergl\",\"marker\":{\"colorbar\":{\"outlinewidth\":0,\"ticks\":\"\"}}}],\"scatter3d\":[{\"type\":\"scatter3d\",\"line\":{\"colorbar\":{\"outlinewidth\":0,\"ticks\":\"\"}},\"marker\":{\"colorbar\":{\"outlinewidth\":0,\"ticks\":\"\"}}}],\"scattermapbox\":[{\"type\":\"scattermapbox\",\"marker\":{\"colorbar\":{\"outlinewidth\":0,\"ticks\":\"\"}}}],\"scatterternary\":[{\"type\":\"scatterternary\",\"marker\":{\"colorbar\":{\"outlinewidth\":0,\"ticks\":\"\"}}}],\"scattercarpet\":[{\"type\":\"scattercarpet\",\"marker\":{\"colorbar\":{\"outlinewidth\":0,\"ticks\":\"\"}}}],\"carpet\":[{\"aaxis\":{\"endlinecolor\":\"#2a3f5f\",\"gridcolor\":\"white\",\"linecolor\":\"white\",\"minorgridcolor\":\"white\",\"startlinecolor\":\"#2a3f5f\"},\"baxis\":{\"endlinecolor\":\"#2a3f5f\",\"gridcolor\":\"white\",\"linecolor\":\"white\",\"minorgridcolor\":\"white\",\"startlinecolor\":\"#2a3f5f\"},\"type\":\"carpet\"}],\"table\":[{\"cells\":{\"fill\":{\"color\":\"#EBF0F8\"},\"line\":{\"color\":\"white\"}},\"header\":{\"fill\":{\"color\":\"#C8D4E3\"},\"line\":{\"color\":\"white\"}},\"type\":\"table\"}],\"barpolar\":[{\"marker\":{\"line\":{\"color\":\"#E5ECF6\",\"width\":0.5},\"pattern\":{\"fillmode\":\"overlay\",\"size\":10,\"solidity\":0.2}},\"type\":\"barpolar\"}],\"pie\":[{\"automargin\":true,\"type\":\"pie\"}]},\"layout\":{\"autotypenumbers\":\"strict\",\"colorway\":[\"#636efa\",\"#EF553B\",\"#00cc96\",\"#ab63fa\",\"#FFA15A\",\"#19d3f3\",\"#FF6692\",\"#B6E880\",\"#FF97FF\",\"#FECB52\"],\"font\":{\"color\":\"#2a3f5f\"},\"hovermode\":\"closest\",\"hoverlabel\":{\"align\":\"left\"},\"paper_bgcolor\":\"white\",\"plot_bgcolor\":\"#E5ECF6\",\"polar\":{\"bgcolor\":\"#E5ECF6\",\"angularaxis\":{\"gridcolor\":\"white\",\"linecolor\":\"white\",\"ticks\":\"\"},\"radialaxis\":{\"gridcolor\":\"white\",\"linecolor\":\"white\",\"ticks\":\"\"}},\"ternary\":{\"bgcolor\":\"#E5ECF6\",\"aaxis\":{\"gridcolor\":\"white\",\"linecolor\":\"white\",\"ticks\":\"\"},\"baxis\":{\"gridcolor\":\"white\",\"linecolor\":\"white\",\"ticks\":\"\"},\"caxis\":{\"gridcolor\":\"white\",\"linecolor\":\"white\",\"ticks\":\"\"}},\"coloraxis\":{\"colorbar\":{\"outlinewidth\":0,\"ticks\":\"\"}},\"colorscale\":{\"sequential\":[[0.0,\"#0d0887\"],[0.1111111111111111,\"#46039f\"],[0.2222222222222222,\"#7201a8\"],[0.3333333333333333,\"#9c179e\"],[0.4444444444444444,\"#bd3786\"],[0.5555555555555556,\"#d8576b\"],[0.6666666666666666,\"#ed7953\"],[0.7777777777777778,\"#fb9f3a\"],[0.8888888888888888,\"#fdca26\"],[1.0,\"#f0f921\"]],\"sequentialminus\":[[0.0,\"#0d0887\"],[0.1111111111111111,\"#46039f\"],[0.2222222222222222,\"#7201a8\"],[0.3333333333333333,\"#9c179e\"],[0.4444444444444444,\"#bd3786\"],[0.5555555555555556,\"#d8576b\"],[0.6666666666666666,\"#ed7953\"],[0.7777777777777778,\"#fb9f3a\"],[0.8888888888888888,\"#fdca26\"],[1.0,\"#f0f921\"]],\"diverging\":[[0,\"#8e0152\"],[0.1,\"#c51b7d\"],[0.2,\"#de77ae\"],[0.3,\"#f1b6da\"],[0.4,\"#fde0ef\"],[0.5,\"#f7f7f7\"],[0.6,\"#e6f5d0\"],[0.7,\"#b8e186\"],[0.8,\"#7fbc41\"],[0.9,\"#4d9221\"],[1,\"#276419\"]]},\"xaxis\":{\"gridcolor\":\"white\",\"linecolor\":\"white\",\"ticks\":\"\",\"title\":{\"standoff\":15},\"zerolinecolor\":\"white\",\"automargin\":true,\"zerolinewidth\":2},\"yaxis\":{\"gridcolor\":\"white\",\"linecolor\":\"white\",\"ticks\":\"\",\"title\":{\"standoff\":15},\"zerolinecolor\":\"white\",\"automargin\":true,\"zerolinewidth\":2},\"scene\":{\"xaxis\":{\"backgroundcolor\":\"#E5ECF6\",\"gridcolor\":\"white\",\"linecolor\":\"white\",\"showbackground\":true,\"ticks\":\"\",\"zerolinecolor\":\"white\",\"gridwidth\":2},\"yaxis\":{\"backgroundcolor\":\"#E5ECF6\",\"gridcolor\":\"white\",\"linecolor\":\"white\",\"showbackground\":true,\"ticks\":\"\",\"zerolinecolor\":\"white\",\"gridwidth\":2},\"zaxis\":{\"backgroundcolor\":\"#E5ECF6\",\"gridcolor\":\"white\",\"linecolor\":\"white\",\"showbackground\":true,\"ticks\":\"\",\"zerolinecolor\":\"white\",\"gridwidth\":2}},\"shapedefaults\":{\"line\":{\"color\":\"#2a3f5f\"}},\"annotationdefaults\":{\"arrowcolor\":\"#2a3f5f\",\"arrowhead\":0,\"arrowwidth\":1},\"geo\":{\"bgcolor\":\"white\",\"landcolor\":\"#E5ECF6\",\"subunitcolor\":\"white\",\"showland\":true,\"showlakes\":true,\"lakecolor\":\"white\"},\"title\":{\"x\":0.05},\"mapbox\":{\"style\":\"light\"}}},\"xaxis\":{\"anchor\":\"y\",\"domain\":[0.0,1.0],\"title\":{\"text\":\"SOTR\"}},\"yaxis\":{\"anchor\":\"x\",\"domain\":[0.0,1.0],\"title\":{\"text\":\"FTHG\"}},\"legend\":{\"title\":{\"text\":\"HomeTeam\"},\"tracegroupgap\":0},\"title\":{\"text\":\"Shots on Target Ratio vs. Goals Scored by Home Team\"}},                        {\"responsive\": true}                    ).then(function(){\n",
       "                            \n",
       "var gd = document.getElementById('53f2592d-cc3c-45ee-bd7f-e6ed74efbf60');\n",
       "var x = new MutationObserver(function (mutations, observer) {{\n",
       "        var display = window.getComputedStyle(gd).display;\n",
       "        if (!display || display === 'none') {{\n",
       "            console.log([gd, 'removed!']);\n",
       "            Plotly.purge(gd);\n",
       "            observer.disconnect();\n",
       "        }}\n",
       "}});\n",
       "\n",
       "// Listen for the removal of the full notebook cells\n",
       "var notebookContainer = gd.closest('#notebook-container');\n",
       "if (notebookContainer) {{\n",
       "    x.observe(notebookContainer, {childList: true});\n",
       "}}\n",
       "\n",
       "// Listen for the clearing of the current output cell\n",
       "var outputEl = gd.closest('.output');\n",
       "if (outputEl) {{\n",
       "    x.observe(outputEl, {childList: true});\n",
       "}}\n",
       "\n",
       "                        })                };                });            </script>        </div>"
      ]
     },
     "metadata": {},
     "output_type": "display_data"
    }
   ],
   "source": [
    "fig = px.scatter(df, x='SOTR', y='FTHG', color='HomeTeam', title='Shots on Target Ratio vs. Goals Scored by Home Team')\n",
    "fig.show()"
   ]
  },
  {
   "cell_type": "markdown",
   "id": "aac7a901",
   "metadata": {},
   "source": [
    "The scatter plot shows a positive correlation between shots on target ratio and the number of goals scored by a team. The teams with a higher shots on target ratio tend to score more goals."
   ]
  },
  {
   "cell_type": "markdown",
   "id": "211ed06b",
   "metadata": {},
   "source": [
    "<h3 style=\"background-color:#0c519c; color:white; padding:8px; font-size:20px; font-family: consolas; border-radius:8px;\">Passing Accuracy</h3>"
   ]
  },
  {
   "cell_type": "markdown",
   "id": "925f1509",
   "metadata": {},
   "source": [
    "Passing accuracy is an important metric to evaluate the effectiveness of a team's offense. We can calculate the passing accuracy by dividing the number of successful passes by the total number of passes attempted."
   ]
  },
  {
   "cell_type": "code",
   "execution_count": null,
   "id": "44663b9d",
   "metadata": {},
   "outputs": [],
   "source": [
    "df['PA'] = (df['HS'] - df['AS']) / df['HS']"
   ]
  },
  {
   "cell_type": "markdown",
   "id": "9b7bb2a5",
   "metadata": {},
   "source": [
    "Now, let's create a scatter plot to examine the relationship between passing accuracy and the number of goals scored by a team."
   ]
  },
  {
   "cell_type": "code",
   "execution_count": null,
   "id": "a03b60e3",
   "metadata": {},
   "outputs": [
    {
     "data": {
      "application/vnd.plotly.v1+json": {
       "config": {
        "plotlyServerURL": "https://plot.ly"
       },
       "data": [
        {
         "hovertemplate": "HomeTeam=Granada<br>PA=%{x}<br>FTHG=%{y}<extra></extra>",
         "legendgroup": "Granada",
         "marker": {
          "color": "#636efa",
          "symbol": "circle"
         },
         "mode": "markers",
         "name": "Granada",
         "orientation": "v",
         "showlegend": true,
         "type": "scatter",
         "x": [
          -0.6363636363636364,
          -0.75,
          -1,
          -0.1111111111111111,
          -7.5,
          0.125,
          -0.6363636363636364,
          0.15384615384615385,
          0.23529411764705882,
          0.2,
          0.4375,
          0.6,
          0.375,
          0.38461538461538464,
          -0.05,
          -1.1111111111111112,
          0.36363636363636365,
          0.47058823529411764,
          -0.16666666666666666
         ],
         "xaxis": "x",
         "y": [
          0,
          1,
          1,
          0,
          0,
          0,
          1,
          2,
          2,
          1,
          2,
          4,
          0,
          2,
          0,
          2,
          1,
          2,
          1
         ],
         "yaxis": "y"
        },
        {
         "hovertemplate": "HomeTeam=Sp Gijon<br>PA=%{x}<br>FTHG=%{y}<extra></extra>",
         "legendgroup": "Sp Gijon",
         "marker": {
          "color": "#EF553B",
          "symbol": "circle"
         },
         "mode": "markers",
         "name": "Sp Gijon",
         "orientation": "v",
         "showlegend": true,
         "type": "scatter",
         "x": [
          0.6470588235294118,
          0.26666666666666666,
          0.5,
          -2.5,
          -0.1875,
          0.36363636363636365,
          0.5263157894736842,
          -1,
          -0.8333333333333334,
          0.09090909090909091,
          -0.18181818181818182,
          -0.6,
          -0.2,
          0.5,
          0.21428571428571427,
          0.5416666666666666,
          0.375,
          0.5454545454545454,
          -0.25
         ],
         "xaxis": "x",
         "y": [
          1,
          0,
          0,
          0,
          2,
          1,
          2,
          0,
          1,
          2,
          1,
          1,
          1,
          2,
          1,
          3,
          2,
          2,
          2
         ],
         "yaxis": "y"
        },
        {
         "hovertemplate": "HomeTeam=Valencia<br>PA=%{x}<br>FTHG=%{y}<extra></extra>",
         "legendgroup": "Valencia",
         "marker": {
          "color": "#00cc96",
          "symbol": "circle"
         },
         "mode": "markers",
         "name": "Valencia",
         "orientation": "v",
         "showlegend": true,
         "type": "scatter",
         "x": [
          0.8461538461538461,
          0,
          -0.1111111111111111,
          0.391304347826087,
          0.7272727272727273,
          0.3076923076923077,
          0.21428571428571427,
          -0.125,
          -0.38461538461538464,
          0.4166666666666667,
          0.7727272727272727,
          -0.1,
          0.6086956521739131,
          0.7857142857142857,
          0.25,
          -0.2,
          0.42857142857142855,
          0.5217391304347826,
          0.47058823529411764
         ],
         "xaxis": "x",
         "y": [
          4,
          1,
          2,
          1,
          1,
          3,
          2,
          2,
          2,
          0,
          4,
          1,
          2,
          1,
          1,
          4,
          4,
          4,
          1
         ],
         "yaxis": "y"
        },
        {
         "hovertemplate": "HomeTeam=Ath Bilbao<br>PA=%{x}<br>FTHG=%{y}<extra></extra>",
         "legendgroup": "Ath Bilbao",
         "marker": {
          "color": "#ab63fa",
          "symbol": "circle"
         },
         "mode": "markers",
         "name": "Ath Bilbao",
         "orientation": "v",
         "showlegend": true,
         "type": "scatter",
         "x": [
          -0.3,
          0,
          -0.5,
          0.15384615384615385,
          0.21428571428571427,
          -3,
          0.2777777777777778,
          0.625,
          0.45454545454545453,
          0.058823529411764705,
          0.2,
          -0.46153846153846156,
          -0.14285714285714285,
          -1,
          0.08333333333333333,
          0.05555555555555555,
          0.15384615384615385,
          -0.6363636363636364,
          0.3125
         ],
         "xaxis": "x",
         "y": [
          1,
          2,
          1,
          3,
          3,
          2,
          0,
          1,
          2,
          3,
          3,
          3,
          2,
          0,
          1,
          1,
          1,
          0,
          0
         ],
         "yaxis": "y"
        },
        {
         "hovertemplate": "HomeTeam=Ath Madrid<br>PA=%{x}<br>FTHG=%{y}<extra></extra>",
         "legendgroup": "Ath Madrid",
         "marker": {
          "color": "#FFA15A",
          "symbol": "circle"
         },
         "mode": "markers",
         "name": "Ath Madrid",
         "orientation": "v",
         "showlegend": true,
         "type": "scatter",
         "x": [
          0.42857142857142855,
          0.7647058823529411,
          0.8421052631578947,
          0.4666666666666667,
          0.7,
          0.3333333333333333,
          0.6538461538461539,
          0.3333333333333333,
          0.8064516129032258,
          0.85,
          0.2222222222222222,
          0.3,
          0.2857142857142857,
          0.8571428571428571,
          -0.25,
          -1.2727272727272727,
          0.23529411764705882,
          -0.23076923076923078,
          -0.4444444444444444
         ],
         "xaxis": "x",
         "y": [
          0,
          4,
          4,
          0,
          1,
          3,
          3,
          3,
          0,
          3,
          0,
          1,
          2,
          2,
          3,
          1,
          3,
          1,
          2
         ],
         "yaxis": "y"
        },
        {
         "hovertemplate": "HomeTeam=Getafe<br>PA=%{x}<br>FTHG=%{y}<extra></extra>",
         "legendgroup": "Getafe",
         "marker": {
          "color": "#19d3f3",
          "symbol": "circle"
         },
         "mode": "markers",
         "name": "Getafe",
         "orientation": "v",
         "showlegend": true,
         "type": "scatter",
         "x": [
          -0.125,
          -0.2857142857142857,
          0.25,
          -0.75,
          0.5384615384615384,
          0.21428571428571427,
          -2,
          0.631578947368421,
          0.3125,
          -1.8,
          0.42105263157894735,
          0.47058823529411764,
          -0.45454545454545453,
          -0.1111111111111111,
          -0.4,
          -0.25,
          -0.3333333333333333,
          -0.2222222222222222,
          -3
         ],
         "xaxis": "x",
         "y": [
          1,
          0,
          1,
          0,
          2,
          3,
          1,
          1,
          0,
          0,
          1,
          1,
          1,
          3,
          2,
          5,
          1,
          1,
          0
         ],
         "yaxis": "y"
        },
        {
         "hovertemplate": "HomeTeam=Mallorca<br>PA=%{x}<br>FTHG=%{y}<extra></extra>",
         "legendgroup": "Mallorca",
         "marker": {
          "color": "#FF6692",
          "symbol": "circle"
         },
         "mode": "markers",
         "name": "Mallorca",
         "orientation": "v",
         "showlegend": true,
         "type": "scatter",
         "x": [
          0.18181818181818182,
          -0.3333333333333333,
          0,
          0.09090909090909091,
          0.29411764705882354,
          0.26666666666666666,
          -0.08333333333333333,
          0.4166666666666667,
          0.5,
          -0.75,
          0.45454545454545453,
          0.35714285714285715,
          0.35714285714285715,
          -1.7777777777777777,
          -0.8,
          -0.46153846153846156,
          0.08333333333333333,
          0.25,
          0.3
         ],
         "xaxis": "x",
         "y": [
          1,
          0,
          2,
          1,
          1,
          0,
          2,
          1,
          1,
          1,
          1,
          4,
          1,
          2,
          0,
          0,
          1,
          1,
          1
         ],
         "yaxis": "y"
        },
        {
         "hovertemplate": "HomeTeam=Sevilla<br>PA=%{x}<br>FTHG=%{y}<extra></extra>",
         "legendgroup": "Sevilla",
         "marker": {
          "color": "#B6E880",
          "symbol": "circle"
         },
         "mode": "markers",
         "name": "Sevilla",
         "orientation": "v",
         "showlegend": true,
         "type": "scatter",
         "x": [
          0.6,
          0.26666666666666666,
          -0.16666666666666666,
          0.25,
          0.5909090909090909,
          0.5161290322580645,
          -0.75,
          0.6,
          0.10526315789473684,
          0.5789473684210527,
          0.2,
          0.35294117647058826,
          0.55,
          -0.4166666666666667,
          0.4666666666666667,
          0.5454545454545454,
          0.6818181818181818,
          -0.25,
          0.13333333333333333
         ],
         "xaxis": "x",
         "y": [
          2,
          1,
          1,
          2,
          2,
          1,
          1,
          3,
          2,
          0,
          1,
          2,
          1,
          0,
          3,
          3,
          1,
          1,
          5
         ],
         "yaxis": "y"
        },
        {
         "hovertemplate": "HomeTeam=Zaragoza<br>PA=%{x}<br>FTHG=%{y}<extra></extra>",
         "legendgroup": "Zaragoza",
         "marker": {
          "color": "#FF97FF",
          "symbol": "circle"
         },
         "mode": "markers",
         "name": "Zaragoza",
         "orientation": "v",
         "showlegend": true,
         "type": "scatter",
         "x": [
          -3.875,
          -0.16666666666666666,
          -0.125,
          -0.625,
          -0.875,
          0.46153846153846156,
          -0.07692307692307693,
          -1,
          0.4,
          0.1,
          0.23076923076923078,
          0.08333333333333333,
          0.47058823529411764,
          0,
          0,
          -0.25,
          0.6190476190476191,
          0.08333333333333333,
          0.9310344827586207
         ],
         "xaxis": "x",
         "y": [
          0,
          2,
          0,
          2,
          0,
          2,
          0,
          0,
          1,
          1,
          0,
          2,
          1,
          1,
          1,
          1,
          2,
          1,
          2
         ],
         "yaxis": "y"
        },
        {
         "hovertemplate": "HomeTeam=Barcelona<br>PA=%{x}<br>FTHG=%{y}<extra></extra>",
         "legendgroup": "Barcelona",
         "marker": {
          "color": "#FECB52",
          "symbol": "circle"
         },
         "mode": "markers",
         "name": "Barcelona",
         "orientation": "v",
         "showlegend": true,
         "type": "scatter",
         "x": [
          0.7222222222222222,
          0.6111111111111112,
          0.6666666666666666,
          0.8421052631578947,
          0.7142857142857143,
          0.8888888888888888,
          0.8518518518518519,
          0.16666666666666666,
          0.6666666666666666,
          0.375,
          0.5555555555555556,
          0.90625,
          0.7333333333333333,
          0.6666666666666666,
          0.8,
          0.8571428571428571,
          0,
          0,
          0.2857142857142857
         ],
         "xaxis": "x",
         "y": [
          5,
          8,
          5,
          3,
          0,
          5,
          4,
          4,
          5,
          4,
          2,
          5,
          3,
          5,
          2,
          4,
          1,
          4,
          4
         ],
         "yaxis": "y"
        },
        {
         "hovertemplate": "HomeTeam=Real Madrid<br>PA=%{x}<br>FTHG=%{y}<extra></extra>",
         "legendgroup": "Real Madrid",
         "marker": {
          "color": "#636efa",
          "symbol": "circle"
         },
         "mode": "markers",
         "name": "Real Madrid",
         "orientation": "v",
         "showlegend": true,
         "type": "scatter",
         "x": [
          0.6153846153846154,
          0.1111111111111111,
          0.5454545454545454,
          0.6923076923076923,
          0.7777777777777778,
          0.75,
          0.29411764705882354,
          0.6571428571428571,
          0.43478260869565216,
          0.4444444444444444,
          0.8076923076923077,
          0.6521739130434783,
          0.7272727272727273,
          0.7222222222222222,
          0.42105263157894735,
          0.48484848484848486,
          0.875,
          0.3333333333333333,
          0.5217391304347826
         ],
         "xaxis": "x",
         "y": [
          4,
          6,
          4,
          3,
          7,
          4,
          1,
          5,
          4,
          3,
          4,
          4,
          5,
          1,
          5,
          0,
          3,
          3,
          4
         ],
         "yaxis": "y"
        },
        {
         "hovertemplate": "HomeTeam=Sociedad<br>PA=%{x}<br>FTHG=%{y}<extra></extra>",
         "legendgroup": "Sociedad",
         "marker": {
          "color": "#EF553B",
          "symbol": "circle"
         },
         "mode": "markers",
         "name": "Sociedad",
         "orientation": "v",
         "showlegend": true,
         "type": "scatter",
         "x": [
          -0.3,
          -0.07142857142857142,
          -0.06666666666666667,
          0,
          -1.4,
          -0.5833333333333334,
          0.15384615384615385,
          0.55,
          0.0625,
          0.21428571428571427,
          -0.08333333333333333,
          0.07692307692307693,
          0.46153846153846156,
          -0.1111111111111111,
          0.4,
          0.29411764705882354,
          0.2777777777777778,
          0.17647058823529413,
          -0.46153846153846156
         ],
         "xaxis": "x",
         "y": [
          2,
          1,
          1,
          0,
          0,
          0,
          3,
          0,
          0,
          5,
          2,
          1,
          3,
          1,
          4,
          1,
          1,
          3,
          1
         ],
         "yaxis": "y"
        },
        {
         "hovertemplate": "HomeTeam=Villarreal<br>PA=%{x}<br>FTHG=%{y}<extra></extra>",
         "legendgroup": "Villarreal",
         "marker": {
          "color": "#00cc96",
          "symbol": "circle"
         },
         "mode": "markers",
         "name": "Villarreal",
         "orientation": "v",
         "showlegend": true,
         "type": "scatter",
         "x": [
          0.09090909090909091,
          0.3076923076923077,
          0.36,
          0.4,
          0.18181818181818182,
          -0.2727272727272727,
          0.5789473684210527,
          0,
          0.42857142857142855,
          -0.6,
          -0.16666666666666666,
          0.38095238095238093,
          0.5625,
          -1.2,
          0.1111111111111111,
          0,
          0.631578947368421,
          0.55,
          -0.1
         ],
         "xaxis": "x",
         "y": [
          2,
          2,
          2,
          0,
          2,
          1,
          1,
          2,
          3,
          0,
          3,
          2,
          1,
          1,
          0,
          2,
          1,
          1,
          0
         ],
         "yaxis": "y"
        },
        {
         "hovertemplate": "HomeTeam=Betis<br>PA=%{x}<br>FTHG=%{y}<extra></extra>",
         "legendgroup": "Betis",
         "marker": {
          "color": "#ab63fa",
          "symbol": "circle"
         },
         "mode": "markers",
         "name": "Betis",
         "orientation": "v",
         "showlegend": true,
         "type": "scatter",
         "x": [
          0.625,
          -1.3333333333333333,
          0.6,
          0.3333333333333333,
          0.1,
          0.45,
          0.6111111111111112,
          0.42105263157894735,
          0.0625,
          0.25,
          0.64,
          0.46153846153846156,
          -0.42857142857142855,
          -0.3333333333333333,
          0.3888888888888889,
          0.3125,
          0.5,
          -1.4444444444444444,
          -1.2
         ],
         "xaxis": "x",
         "y": [
          1,
          4,
          0,
          0,
          0,
          2,
          2,
          2,
          1,
          1,
          2,
          1,
          2,
          1,
          1,
          3,
          1,
          2,
          2
         ],
         "yaxis": "y"
        },
        {
         "hovertemplate": "HomeTeam=Espanol<br>PA=%{x}<br>FTHG=%{y}<extra></extra>",
         "legendgroup": "Espanol",
         "marker": {
          "color": "#FFA15A",
          "symbol": "circle"
         },
         "mode": "markers",
         "name": "Espanol",
         "orientation": "v",
         "showlegend": true,
         "type": "scatter",
         "x": [
          -0.7,
          0.4375,
          -0.06666666666666667,
          0.47058823529411764,
          0.47368421052631576,
          0.25,
          0.5,
          0.2857142857142857,
          0.125,
          -0.16666666666666666,
          0.2857142857142857,
          0.5,
          0.23529411764705882,
          0.4666666666666667,
          -0.5,
          0.5925925925925926,
          0.75,
          0.3888888888888889,
          -0.8888888888888888
         ],
         "xaxis": "x",
         "y": [
          2,
          1,
          0,
          1,
          0,
          1,
          4,
          1,
          3,
          1,
          0,
          1,
          5,
          3,
          1,
          2,
          4,
          0,
          1
         ],
         "yaxis": "y"
        },
        {
         "hovertemplate": "HomeTeam=Osasuna<br>PA=%{x}<br>FTHG=%{y}<extra></extra>",
         "legendgroup": "Osasuna",
         "marker": {
          "color": "#19d3f3",
          "symbol": "circle"
         },
         "mode": "markers",
         "name": "Osasuna",
         "orientation": "v",
         "showlegend": true,
         "type": "scatter",
         "x": [
          0.5238095238095238,
          0.26666666666666666,
          -0.4,
          0.625,
          -0.07692307692307693,
          0.1,
          -0.875,
          0.5263157894736842,
          -0.625,
          0.25,
          0.47058823529411764,
          -1.8571428571428572,
          -0.06666666666666667,
          0,
          0.3684210526315789,
          0,
          0.7142857142857143,
          -0.16666666666666666,
          0.2777777777777778
         ],
         "xaxis": "x",
         "y": [
          2,
          0,
          2,
          3,
          2,
          0,
          2,
          2,
          0,
          1,
          0,
          3,
          2,
          2,
          0,
          1,
          2,
          1,
          1
         ],
         "yaxis": "y"
        },
        {
         "hovertemplate": "HomeTeam=Santander<br>PA=%{x}<br>FTHG=%{y}<extra></extra>",
         "legendgroup": "Santander",
         "marker": {
          "color": "#FF6692",
          "symbol": "circle"
         },
         "mode": "markers",
         "name": "Santander",
         "orientation": "v",
         "showlegend": true,
         "type": "scatter",
         "x": [
          -0.375,
          -2.2,
          -0.2857142857142857,
          0.3,
          -2.6666666666666665,
          -0.7272727272727273,
          0.25,
          0.18181818181818182,
          0.42857142857142855,
          0.16666666666666666,
          0,
          -2.8333333333333335,
          0.21052631578947367,
          -22,
          -1.1111111111111112,
          -1.2857142857142858,
          0.29411764705882354,
          0.18181818181818182,
          -2.857142857142857
         ],
         "xaxis": "x",
         "y": [
          0,
          0,
          1,
          0,
          1,
          1,
          1,
          0,
          1,
          1,
          2,
          0,
          1,
          0,
          0,
          0,
          0,
          0,
          2
         ],
         "yaxis": "y"
        },
        {
         "hovertemplate": "HomeTeam=Vallecano<br>PA=%{x}<br>FTHG=%{y}<extra></extra>",
         "legendgroup": "Vallecano",
         "marker": {
          "color": "#B6E880",
          "symbol": "circle"
         },
         "mode": "markers",
         "name": "Vallecano",
         "orientation": "v",
         "showlegend": true,
         "type": "scatter",
         "x": [
          0.65,
          0.35714285714285715,
          -0.6666666666666666,
          0.6666666666666666,
          0.23076923076923078,
          0.16666666666666666,
          0.3157894736842105,
          -0.5454545454545454,
          -0.3333333333333333,
          0.3684210526315789,
          0.6153846153846154,
          -0.2857142857142857,
          0.5909090909090909,
          0.46153846153846156,
          0.3157894736842105,
          0.47368421052631576,
          0.25,
          -0.9,
          0.3333333333333333
         ],
         "xaxis": "x",
         "y": [
          0,
          1,
          0,
          2,
          4,
          1,
          1,
          2,
          0,
          2,
          2,
          0,
          4,
          3,
          0,
          6,
          0,
          0,
          1
         ],
         "yaxis": "y"
        },
        {
         "hovertemplate": "HomeTeam=Malaga<br>PA=%{x}<br>FTHG=%{y}<extra></extra>",
         "legendgroup": "Malaga",
         "marker": {
          "color": "#FF97FF",
          "symbol": "circle"
         },
         "mode": "markers",
         "name": "Malaga",
         "orientation": "v",
         "showlegend": true,
         "type": "scatter",
         "x": [
          0.4,
          0.38461538461538464,
          0.6842105263157895,
          0.42857142857142855,
          0.631578947368421,
          -0.2,
          0.631578947368421,
          0.09090909090909091,
          -0.7777777777777778,
          0,
          0.5294117647058824,
          0.2222222222222222,
          0.5833333333333334,
          0.26666666666666666,
          0.65,
          0.9666666666666667,
          0.47368421052631576,
          0.6875,
          0.7272727272727273
         ],
         "xaxis": "x",
         "y": [
          4,
          1,
          3,
          0,
          2,
          2,
          1,
          0,
          1,
          2,
          3,
          5,
          1,
          4,
          0,
          3,
          1,
          1,
          1
         ],
         "yaxis": "y"
        },
        {
         "hovertemplate": "HomeTeam=Levante<br>PA=%{x}<br>FTHG=%{y}<extra></extra>",
         "legendgroup": "Levante",
         "marker": {
          "color": "#FECB52",
          "symbol": "circle"
         },
         "mode": "markers",
         "name": "Levante",
         "orientation": "v",
         "showlegend": true,
         "type": "scatter",
         "x": [
          -0.2727272727272727,
          -0.5,
          0.5,
          -0.9,
          0.38461538461538464,
          -0.7,
          -1.1428571428571428,
          -0.375,
          -0.16666666666666666,
          0.4444444444444444,
          -0.07142857142857142,
          0.3684210526315789,
          -1.2857142857142858,
          0.45454545454545453,
          0.4,
          -1.25,
          -2.2,
          0,
          0.25
         ],
         "xaxis": "x",
         "y": [
          1,
          3,
          3,
          3,
          0,
          4,
          1,
          0,
          0,
          1,
          1,
          3,
          3,
          1,
          0,
          2,
          1,
          3,
          3
         ],
         "yaxis": "y"
        }
       ],
       "layout": {
        "legend": {
         "title": {
          "text": "HomeTeam"
         },
         "tracegroupgap": 0
        },
        "template": {
         "data": {
          "bar": [
           {
            "error_x": {
             "color": "#2a3f5f"
            },
            "error_y": {
             "color": "#2a3f5f"
            },
            "marker": {
             "line": {
              "color": "#E5ECF6",
              "width": 0.5
             },
             "pattern": {
              "fillmode": "overlay",
              "size": 10,
              "solidity": 0.2
             }
            },
            "type": "bar"
           }
          ],
          "barpolar": [
           {
            "marker": {
             "line": {
              "color": "#E5ECF6",
              "width": 0.5
             },
             "pattern": {
              "fillmode": "overlay",
              "size": 10,
              "solidity": 0.2
             }
            },
            "type": "barpolar"
           }
          ],
          "carpet": [
           {
            "aaxis": {
             "endlinecolor": "#2a3f5f",
             "gridcolor": "white",
             "linecolor": "white",
             "minorgridcolor": "white",
             "startlinecolor": "#2a3f5f"
            },
            "baxis": {
             "endlinecolor": "#2a3f5f",
             "gridcolor": "white",
             "linecolor": "white",
             "minorgridcolor": "white",
             "startlinecolor": "#2a3f5f"
            },
            "type": "carpet"
           }
          ],
          "choropleth": [
           {
            "colorbar": {
             "outlinewidth": 0,
             "ticks": ""
            },
            "type": "choropleth"
           }
          ],
          "contour": [
           {
            "colorbar": {
             "outlinewidth": 0,
             "ticks": ""
            },
            "colorscale": [
             [
              0,
              "#0d0887"
             ],
             [
              0.1111111111111111,
              "#46039f"
             ],
             [
              0.2222222222222222,
              "#7201a8"
             ],
             [
              0.3333333333333333,
              "#9c179e"
             ],
             [
              0.4444444444444444,
              "#bd3786"
             ],
             [
              0.5555555555555556,
              "#d8576b"
             ],
             [
              0.6666666666666666,
              "#ed7953"
             ],
             [
              0.7777777777777778,
              "#fb9f3a"
             ],
             [
              0.8888888888888888,
              "#fdca26"
             ],
             [
              1,
              "#f0f921"
             ]
            ],
            "type": "contour"
           }
          ],
          "contourcarpet": [
           {
            "colorbar": {
             "outlinewidth": 0,
             "ticks": ""
            },
            "type": "contourcarpet"
           }
          ],
          "heatmap": [
           {
            "colorbar": {
             "outlinewidth": 0,
             "ticks": ""
            },
            "colorscale": [
             [
              0,
              "#0d0887"
             ],
             [
              0.1111111111111111,
              "#46039f"
             ],
             [
              0.2222222222222222,
              "#7201a8"
             ],
             [
              0.3333333333333333,
              "#9c179e"
             ],
             [
              0.4444444444444444,
              "#bd3786"
             ],
             [
              0.5555555555555556,
              "#d8576b"
             ],
             [
              0.6666666666666666,
              "#ed7953"
             ],
             [
              0.7777777777777778,
              "#fb9f3a"
             ],
             [
              0.8888888888888888,
              "#fdca26"
             ],
             [
              1,
              "#f0f921"
             ]
            ],
            "type": "heatmap"
           }
          ],
          "heatmapgl": [
           {
            "colorbar": {
             "outlinewidth": 0,
             "ticks": ""
            },
            "colorscale": [
             [
              0,
              "#0d0887"
             ],
             [
              0.1111111111111111,
              "#46039f"
             ],
             [
              0.2222222222222222,
              "#7201a8"
             ],
             [
              0.3333333333333333,
              "#9c179e"
             ],
             [
              0.4444444444444444,
              "#bd3786"
             ],
             [
              0.5555555555555556,
              "#d8576b"
             ],
             [
              0.6666666666666666,
              "#ed7953"
             ],
             [
              0.7777777777777778,
              "#fb9f3a"
             ],
             [
              0.8888888888888888,
              "#fdca26"
             ],
             [
              1,
              "#f0f921"
             ]
            ],
            "type": "heatmapgl"
           }
          ],
          "histogram": [
           {
            "marker": {
             "pattern": {
              "fillmode": "overlay",
              "size": 10,
              "solidity": 0.2
             }
            },
            "type": "histogram"
           }
          ],
          "histogram2d": [
           {
            "colorbar": {
             "outlinewidth": 0,
             "ticks": ""
            },
            "colorscale": [
             [
              0,
              "#0d0887"
             ],
             [
              0.1111111111111111,
              "#46039f"
             ],
             [
              0.2222222222222222,
              "#7201a8"
             ],
             [
              0.3333333333333333,
              "#9c179e"
             ],
             [
              0.4444444444444444,
              "#bd3786"
             ],
             [
              0.5555555555555556,
              "#d8576b"
             ],
             [
              0.6666666666666666,
              "#ed7953"
             ],
             [
              0.7777777777777778,
              "#fb9f3a"
             ],
             [
              0.8888888888888888,
              "#fdca26"
             ],
             [
              1,
              "#f0f921"
             ]
            ],
            "type": "histogram2d"
           }
          ],
          "histogram2dcontour": [
           {
            "colorbar": {
             "outlinewidth": 0,
             "ticks": ""
            },
            "colorscale": [
             [
              0,
              "#0d0887"
             ],
             [
              0.1111111111111111,
              "#46039f"
             ],
             [
              0.2222222222222222,
              "#7201a8"
             ],
             [
              0.3333333333333333,
              "#9c179e"
             ],
             [
              0.4444444444444444,
              "#bd3786"
             ],
             [
              0.5555555555555556,
              "#d8576b"
             ],
             [
              0.6666666666666666,
              "#ed7953"
             ],
             [
              0.7777777777777778,
              "#fb9f3a"
             ],
             [
              0.8888888888888888,
              "#fdca26"
             ],
             [
              1,
              "#f0f921"
             ]
            ],
            "type": "histogram2dcontour"
           }
          ],
          "mesh3d": [
           {
            "colorbar": {
             "outlinewidth": 0,
             "ticks": ""
            },
            "type": "mesh3d"
           }
          ],
          "parcoords": [
           {
            "line": {
             "colorbar": {
              "outlinewidth": 0,
              "ticks": ""
             }
            },
            "type": "parcoords"
           }
          ],
          "pie": [
           {
            "automargin": true,
            "type": "pie"
           }
          ],
          "scatter": [
           {
            "fillpattern": {
             "fillmode": "overlay",
             "size": 10,
             "solidity": 0.2
            },
            "type": "scatter"
           }
          ],
          "scatter3d": [
           {
            "line": {
             "colorbar": {
              "outlinewidth": 0,
              "ticks": ""
             }
            },
            "marker": {
             "colorbar": {
              "outlinewidth": 0,
              "ticks": ""
             }
            },
            "type": "scatter3d"
           }
          ],
          "scattercarpet": [
           {
            "marker": {
             "colorbar": {
              "outlinewidth": 0,
              "ticks": ""
             }
            },
            "type": "scattercarpet"
           }
          ],
          "scattergeo": [
           {
            "marker": {
             "colorbar": {
              "outlinewidth": 0,
              "ticks": ""
             }
            },
            "type": "scattergeo"
           }
          ],
          "scattergl": [
           {
            "marker": {
             "colorbar": {
              "outlinewidth": 0,
              "ticks": ""
             }
            },
            "type": "scattergl"
           }
          ],
          "scattermapbox": [
           {
            "marker": {
             "colorbar": {
              "outlinewidth": 0,
              "ticks": ""
             }
            },
            "type": "scattermapbox"
           }
          ],
          "scatterpolar": [
           {
            "marker": {
             "colorbar": {
              "outlinewidth": 0,
              "ticks": ""
             }
            },
            "type": "scatterpolar"
           }
          ],
          "scatterpolargl": [
           {
            "marker": {
             "colorbar": {
              "outlinewidth": 0,
              "ticks": ""
             }
            },
            "type": "scatterpolargl"
           }
          ],
          "scatterternary": [
           {
            "marker": {
             "colorbar": {
              "outlinewidth": 0,
              "ticks": ""
             }
            },
            "type": "scatterternary"
           }
          ],
          "surface": [
           {
            "colorbar": {
             "outlinewidth": 0,
             "ticks": ""
            },
            "colorscale": [
             [
              0,
              "#0d0887"
             ],
             [
              0.1111111111111111,
              "#46039f"
             ],
             [
              0.2222222222222222,
              "#7201a8"
             ],
             [
              0.3333333333333333,
              "#9c179e"
             ],
             [
              0.4444444444444444,
              "#bd3786"
             ],
             [
              0.5555555555555556,
              "#d8576b"
             ],
             [
              0.6666666666666666,
              "#ed7953"
             ],
             [
              0.7777777777777778,
              "#fb9f3a"
             ],
             [
              0.8888888888888888,
              "#fdca26"
             ],
             [
              1,
              "#f0f921"
             ]
            ],
            "type": "surface"
           }
          ],
          "table": [
           {
            "cells": {
             "fill": {
              "color": "#EBF0F8"
             },
             "line": {
              "color": "white"
             }
            },
            "header": {
             "fill": {
              "color": "#C8D4E3"
             },
             "line": {
              "color": "white"
             }
            },
            "type": "table"
           }
          ]
         },
         "layout": {
          "annotationdefaults": {
           "arrowcolor": "#2a3f5f",
           "arrowhead": 0,
           "arrowwidth": 1
          },
          "autotypenumbers": "strict",
          "coloraxis": {
           "colorbar": {
            "outlinewidth": 0,
            "ticks": ""
           }
          },
          "colorscale": {
           "diverging": [
            [
             0,
             "#8e0152"
            ],
            [
             0.1,
             "#c51b7d"
            ],
            [
             0.2,
             "#de77ae"
            ],
            [
             0.3,
             "#f1b6da"
            ],
            [
             0.4,
             "#fde0ef"
            ],
            [
             0.5,
             "#f7f7f7"
            ],
            [
             0.6,
             "#e6f5d0"
            ],
            [
             0.7,
             "#b8e186"
            ],
            [
             0.8,
             "#7fbc41"
            ],
            [
             0.9,
             "#4d9221"
            ],
            [
             1,
             "#276419"
            ]
           ],
           "sequential": [
            [
             0,
             "#0d0887"
            ],
            [
             0.1111111111111111,
             "#46039f"
            ],
            [
             0.2222222222222222,
             "#7201a8"
            ],
            [
             0.3333333333333333,
             "#9c179e"
            ],
            [
             0.4444444444444444,
             "#bd3786"
            ],
            [
             0.5555555555555556,
             "#d8576b"
            ],
            [
             0.6666666666666666,
             "#ed7953"
            ],
            [
             0.7777777777777778,
             "#fb9f3a"
            ],
            [
             0.8888888888888888,
             "#fdca26"
            ],
            [
             1,
             "#f0f921"
            ]
           ],
           "sequentialminus": [
            [
             0,
             "#0d0887"
            ],
            [
             0.1111111111111111,
             "#46039f"
            ],
            [
             0.2222222222222222,
             "#7201a8"
            ],
            [
             0.3333333333333333,
             "#9c179e"
            ],
            [
             0.4444444444444444,
             "#bd3786"
            ],
            [
             0.5555555555555556,
             "#d8576b"
            ],
            [
             0.6666666666666666,
             "#ed7953"
            ],
            [
             0.7777777777777778,
             "#fb9f3a"
            ],
            [
             0.8888888888888888,
             "#fdca26"
            ],
            [
             1,
             "#f0f921"
            ]
           ]
          },
          "colorway": [
           "#636efa",
           "#EF553B",
           "#00cc96",
           "#ab63fa",
           "#FFA15A",
           "#19d3f3",
           "#FF6692",
           "#B6E880",
           "#FF97FF",
           "#FECB52"
          ],
          "font": {
           "color": "#2a3f5f"
          },
          "geo": {
           "bgcolor": "white",
           "lakecolor": "white",
           "landcolor": "#E5ECF6",
           "showlakes": true,
           "showland": true,
           "subunitcolor": "white"
          },
          "hoverlabel": {
           "align": "left"
          },
          "hovermode": "closest",
          "mapbox": {
           "style": "light"
          },
          "paper_bgcolor": "white",
          "plot_bgcolor": "#E5ECF6",
          "polar": {
           "angularaxis": {
            "gridcolor": "white",
            "linecolor": "white",
            "ticks": ""
           },
           "bgcolor": "#E5ECF6",
           "radialaxis": {
            "gridcolor": "white",
            "linecolor": "white",
            "ticks": ""
           }
          },
          "scene": {
           "xaxis": {
            "backgroundcolor": "#E5ECF6",
            "gridcolor": "white",
            "gridwidth": 2,
            "linecolor": "white",
            "showbackground": true,
            "ticks": "",
            "zerolinecolor": "white"
           },
           "yaxis": {
            "backgroundcolor": "#E5ECF6",
            "gridcolor": "white",
            "gridwidth": 2,
            "linecolor": "white",
            "showbackground": true,
            "ticks": "",
            "zerolinecolor": "white"
           },
           "zaxis": {
            "backgroundcolor": "#E5ECF6",
            "gridcolor": "white",
            "gridwidth": 2,
            "linecolor": "white",
            "showbackground": true,
            "ticks": "",
            "zerolinecolor": "white"
           }
          },
          "shapedefaults": {
           "line": {
            "color": "#2a3f5f"
           }
          },
          "ternary": {
           "aaxis": {
            "gridcolor": "white",
            "linecolor": "white",
            "ticks": ""
           },
           "baxis": {
            "gridcolor": "white",
            "linecolor": "white",
            "ticks": ""
           },
           "bgcolor": "#E5ECF6",
           "caxis": {
            "gridcolor": "white",
            "linecolor": "white",
            "ticks": ""
           }
          },
          "title": {
           "x": 0.05
          },
          "xaxis": {
           "automargin": true,
           "gridcolor": "white",
           "linecolor": "white",
           "ticks": "",
           "title": {
            "standoff": 15
           },
           "zerolinecolor": "white",
           "zerolinewidth": 2
          },
          "yaxis": {
           "automargin": true,
           "gridcolor": "white",
           "linecolor": "white",
           "ticks": "",
           "title": {
            "standoff": 15
           },
           "zerolinecolor": "white",
           "zerolinewidth": 2
          }
         }
        },
        "title": {
         "text": "Passing Accuracy vs. Goals Scored by Home Team"
        },
        "xaxis": {
         "anchor": "y",
         "domain": [
          0,
          1
         ],
         "title": {
          "text": "PA"
         }
        },
        "yaxis": {
         "anchor": "x",
         "domain": [
          0,
          1
         ],
         "title": {
          "text": "FTHG"
         }
        }
       }
      },
      "text/html": [
       "<div>                            <div id=\"9dfeaac5-1a6f-4a9a-8a90-0b0f1447b049\" class=\"plotly-graph-div\" style=\"height:525px; width:100%;\"></div>            <script type=\"text/javascript\">                require([\"plotly\"], function(Plotly) {                    window.PLOTLYENV=window.PLOTLYENV || {};                                    if (document.getElementById(\"9dfeaac5-1a6f-4a9a-8a90-0b0f1447b049\")) {                    Plotly.newPlot(                        \"9dfeaac5-1a6f-4a9a-8a90-0b0f1447b049\",                        [{\"hovertemplate\":\"HomeTeam=Granada<br>PA=%{x}<br>FTHG=%{y}<extra></extra>\",\"legendgroup\":\"Granada\",\"marker\":{\"color\":\"#636efa\",\"symbol\":\"circle\"},\"mode\":\"markers\",\"name\":\"Granada\",\"orientation\":\"v\",\"showlegend\":true,\"x\":[-0.6363636363636364,-0.75,-1.0,-0.1111111111111111,-7.5,0.125,-0.6363636363636364,0.15384615384615385,0.23529411764705882,0.2,0.4375,0.6,0.375,0.38461538461538464,-0.05,-1.1111111111111112,0.36363636363636365,0.47058823529411764,-0.16666666666666666],\"xaxis\":\"x\",\"y\":[0,1,1,0,0,0,1,2,2,1,2,4,0,2,0,2,1,2,1],\"yaxis\":\"y\",\"type\":\"scatter\"},{\"hovertemplate\":\"HomeTeam=Sp Gijon<br>PA=%{x}<br>FTHG=%{y}<extra></extra>\",\"legendgroup\":\"Sp Gijon\",\"marker\":{\"color\":\"#EF553B\",\"symbol\":\"circle\"},\"mode\":\"markers\",\"name\":\"Sp Gijon\",\"orientation\":\"v\",\"showlegend\":true,\"x\":[0.6470588235294118,0.26666666666666666,0.5,-2.5,-0.1875,0.36363636363636365,0.5263157894736842,-1.0,-0.8333333333333334,0.09090909090909091,-0.18181818181818182,-0.6,-0.2,0.5,0.21428571428571427,0.5416666666666666,0.375,0.5454545454545454,-0.25],\"xaxis\":\"x\",\"y\":[1,0,0,0,2,1,2,0,1,2,1,1,1,2,1,3,2,2,2],\"yaxis\":\"y\",\"type\":\"scatter\"},{\"hovertemplate\":\"HomeTeam=Valencia<br>PA=%{x}<br>FTHG=%{y}<extra></extra>\",\"legendgroup\":\"Valencia\",\"marker\":{\"color\":\"#00cc96\",\"symbol\":\"circle\"},\"mode\":\"markers\",\"name\":\"Valencia\",\"orientation\":\"v\",\"showlegend\":true,\"x\":[0.8461538461538461,0.0,-0.1111111111111111,0.391304347826087,0.7272727272727273,0.3076923076923077,0.21428571428571427,-0.125,-0.38461538461538464,0.4166666666666667,0.7727272727272727,-0.1,0.6086956521739131,0.7857142857142857,0.25,-0.2,0.42857142857142855,0.5217391304347826,0.47058823529411764],\"xaxis\":\"x\",\"y\":[4,1,2,1,1,3,2,2,2,0,4,1,2,1,1,4,4,4,1],\"yaxis\":\"y\",\"type\":\"scatter\"},{\"hovertemplate\":\"HomeTeam=Ath Bilbao<br>PA=%{x}<br>FTHG=%{y}<extra></extra>\",\"legendgroup\":\"Ath Bilbao\",\"marker\":{\"color\":\"#ab63fa\",\"symbol\":\"circle\"},\"mode\":\"markers\",\"name\":\"Ath Bilbao\",\"orientation\":\"v\",\"showlegend\":true,\"x\":[-0.3,0.0,-0.5,0.15384615384615385,0.21428571428571427,-3.0,0.2777777777777778,0.625,0.45454545454545453,0.058823529411764705,0.2,-0.46153846153846156,-0.14285714285714285,-1.0,0.08333333333333333,0.05555555555555555,0.15384615384615385,-0.6363636363636364,0.3125],\"xaxis\":\"x\",\"y\":[1,2,1,3,3,2,0,1,2,3,3,3,2,0,1,1,1,0,0],\"yaxis\":\"y\",\"type\":\"scatter\"},{\"hovertemplate\":\"HomeTeam=Ath Madrid<br>PA=%{x}<br>FTHG=%{y}<extra></extra>\",\"legendgroup\":\"Ath Madrid\",\"marker\":{\"color\":\"#FFA15A\",\"symbol\":\"circle\"},\"mode\":\"markers\",\"name\":\"Ath Madrid\",\"orientation\":\"v\",\"showlegend\":true,\"x\":[0.42857142857142855,0.7647058823529411,0.8421052631578947,0.4666666666666667,0.7,0.3333333333333333,0.6538461538461539,0.3333333333333333,0.8064516129032258,0.85,0.2222222222222222,0.3,0.2857142857142857,0.8571428571428571,-0.25,-1.2727272727272727,0.23529411764705882,-0.23076923076923078,-0.4444444444444444],\"xaxis\":\"x\",\"y\":[0,4,4,0,1,3,3,3,0,3,0,1,2,2,3,1,3,1,2],\"yaxis\":\"y\",\"type\":\"scatter\"},{\"hovertemplate\":\"HomeTeam=Getafe<br>PA=%{x}<br>FTHG=%{y}<extra></extra>\",\"legendgroup\":\"Getafe\",\"marker\":{\"color\":\"#19d3f3\",\"symbol\":\"circle\"},\"mode\":\"markers\",\"name\":\"Getafe\",\"orientation\":\"v\",\"showlegend\":true,\"x\":[-0.125,-0.2857142857142857,0.25,-0.75,0.5384615384615384,0.21428571428571427,-2.0,0.631578947368421,0.3125,-1.8,0.42105263157894735,0.47058823529411764,-0.45454545454545453,-0.1111111111111111,-0.4,-0.25,-0.3333333333333333,-0.2222222222222222,-3.0],\"xaxis\":\"x\",\"y\":[1,0,1,0,2,3,1,1,0,0,1,1,1,3,2,5,1,1,0],\"yaxis\":\"y\",\"type\":\"scatter\"},{\"hovertemplate\":\"HomeTeam=Mallorca<br>PA=%{x}<br>FTHG=%{y}<extra></extra>\",\"legendgroup\":\"Mallorca\",\"marker\":{\"color\":\"#FF6692\",\"symbol\":\"circle\"},\"mode\":\"markers\",\"name\":\"Mallorca\",\"orientation\":\"v\",\"showlegend\":true,\"x\":[0.18181818181818182,-0.3333333333333333,0.0,0.09090909090909091,0.29411764705882354,0.26666666666666666,-0.08333333333333333,0.4166666666666667,0.5,-0.75,0.45454545454545453,0.35714285714285715,0.35714285714285715,-1.7777777777777777,-0.8,-0.46153846153846156,0.08333333333333333,0.25,0.3],\"xaxis\":\"x\",\"y\":[1,0,2,1,1,0,2,1,1,1,1,4,1,2,0,0,1,1,1],\"yaxis\":\"y\",\"type\":\"scatter\"},{\"hovertemplate\":\"HomeTeam=Sevilla<br>PA=%{x}<br>FTHG=%{y}<extra></extra>\",\"legendgroup\":\"Sevilla\",\"marker\":{\"color\":\"#B6E880\",\"symbol\":\"circle\"},\"mode\":\"markers\",\"name\":\"Sevilla\",\"orientation\":\"v\",\"showlegend\":true,\"x\":[0.6,0.26666666666666666,-0.16666666666666666,0.25,0.5909090909090909,0.5161290322580645,-0.75,0.6,0.10526315789473684,0.5789473684210527,0.2,0.35294117647058826,0.55,-0.4166666666666667,0.4666666666666667,0.5454545454545454,0.6818181818181818,-0.25,0.13333333333333333],\"xaxis\":\"x\",\"y\":[2,1,1,2,2,1,1,3,2,0,1,2,1,0,3,3,1,1,5],\"yaxis\":\"y\",\"type\":\"scatter\"},{\"hovertemplate\":\"HomeTeam=Zaragoza<br>PA=%{x}<br>FTHG=%{y}<extra></extra>\",\"legendgroup\":\"Zaragoza\",\"marker\":{\"color\":\"#FF97FF\",\"symbol\":\"circle\"},\"mode\":\"markers\",\"name\":\"Zaragoza\",\"orientation\":\"v\",\"showlegend\":true,\"x\":[-3.875,-0.16666666666666666,-0.125,-0.625,-0.875,0.46153846153846156,-0.07692307692307693,-1.0,0.4,0.1,0.23076923076923078,0.08333333333333333,0.47058823529411764,0.0,0.0,-0.25,0.6190476190476191,0.08333333333333333,0.9310344827586207],\"xaxis\":\"x\",\"y\":[0,2,0,2,0,2,0,0,1,1,0,2,1,1,1,1,2,1,2],\"yaxis\":\"y\",\"type\":\"scatter\"},{\"hovertemplate\":\"HomeTeam=Barcelona<br>PA=%{x}<br>FTHG=%{y}<extra></extra>\",\"legendgroup\":\"Barcelona\",\"marker\":{\"color\":\"#FECB52\",\"symbol\":\"circle\"},\"mode\":\"markers\",\"name\":\"Barcelona\",\"orientation\":\"v\",\"showlegend\":true,\"x\":[0.7222222222222222,0.6111111111111112,0.6666666666666666,0.8421052631578947,0.7142857142857143,0.8888888888888888,0.8518518518518519,0.16666666666666666,0.6666666666666666,0.375,0.5555555555555556,0.90625,0.7333333333333333,0.6666666666666666,0.8,0.8571428571428571,0.0,0.0,0.2857142857142857],\"xaxis\":\"x\",\"y\":[5,8,5,3,0,5,4,4,5,4,2,5,3,5,2,4,1,4,4],\"yaxis\":\"y\",\"type\":\"scatter\"},{\"hovertemplate\":\"HomeTeam=Real Madrid<br>PA=%{x}<br>FTHG=%{y}<extra></extra>\",\"legendgroup\":\"Real Madrid\",\"marker\":{\"color\":\"#636efa\",\"symbol\":\"circle\"},\"mode\":\"markers\",\"name\":\"Real Madrid\",\"orientation\":\"v\",\"showlegend\":true,\"x\":[0.6153846153846154,0.1111111111111111,0.5454545454545454,0.6923076923076923,0.7777777777777778,0.75,0.29411764705882354,0.6571428571428571,0.43478260869565216,0.4444444444444444,0.8076923076923077,0.6521739130434783,0.7272727272727273,0.7222222222222222,0.42105263157894735,0.48484848484848486,0.875,0.3333333333333333,0.5217391304347826],\"xaxis\":\"x\",\"y\":[4,6,4,3,7,4,1,5,4,3,4,4,5,1,5,0,3,3,4],\"yaxis\":\"y\",\"type\":\"scatter\"},{\"hovertemplate\":\"HomeTeam=Sociedad<br>PA=%{x}<br>FTHG=%{y}<extra></extra>\",\"legendgroup\":\"Sociedad\",\"marker\":{\"color\":\"#EF553B\",\"symbol\":\"circle\"},\"mode\":\"markers\",\"name\":\"Sociedad\",\"orientation\":\"v\",\"showlegend\":true,\"x\":[-0.3,-0.07142857142857142,-0.06666666666666667,0.0,-1.4,-0.5833333333333334,0.15384615384615385,0.55,0.0625,0.21428571428571427,-0.08333333333333333,0.07692307692307693,0.46153846153846156,-0.1111111111111111,0.4,0.29411764705882354,0.2777777777777778,0.17647058823529413,-0.46153846153846156],\"xaxis\":\"x\",\"y\":[2,1,1,0,0,0,3,0,0,5,2,1,3,1,4,1,1,3,1],\"yaxis\":\"y\",\"type\":\"scatter\"},{\"hovertemplate\":\"HomeTeam=Villarreal<br>PA=%{x}<br>FTHG=%{y}<extra></extra>\",\"legendgroup\":\"Villarreal\",\"marker\":{\"color\":\"#00cc96\",\"symbol\":\"circle\"},\"mode\":\"markers\",\"name\":\"Villarreal\",\"orientation\":\"v\",\"showlegend\":true,\"x\":[0.09090909090909091,0.3076923076923077,0.36,0.4,0.18181818181818182,-0.2727272727272727,0.5789473684210527,0.0,0.42857142857142855,-0.6,-0.16666666666666666,0.38095238095238093,0.5625,-1.2,0.1111111111111111,0.0,0.631578947368421,0.55,-0.1],\"xaxis\":\"x\",\"y\":[2,2,2,0,2,1,1,2,3,0,3,2,1,1,0,2,1,1,0],\"yaxis\":\"y\",\"type\":\"scatter\"},{\"hovertemplate\":\"HomeTeam=Betis<br>PA=%{x}<br>FTHG=%{y}<extra></extra>\",\"legendgroup\":\"Betis\",\"marker\":{\"color\":\"#ab63fa\",\"symbol\":\"circle\"},\"mode\":\"markers\",\"name\":\"Betis\",\"orientation\":\"v\",\"showlegend\":true,\"x\":[0.625,-1.3333333333333333,0.6,0.3333333333333333,0.1,0.45,0.6111111111111112,0.42105263157894735,0.0625,0.25,0.64,0.46153846153846156,-0.42857142857142855,-0.3333333333333333,0.3888888888888889,0.3125,0.5,-1.4444444444444444,-1.2],\"xaxis\":\"x\",\"y\":[1,4,0,0,0,2,2,2,1,1,2,1,2,1,1,3,1,2,2],\"yaxis\":\"y\",\"type\":\"scatter\"},{\"hovertemplate\":\"HomeTeam=Espanol<br>PA=%{x}<br>FTHG=%{y}<extra></extra>\",\"legendgroup\":\"Espanol\",\"marker\":{\"color\":\"#FFA15A\",\"symbol\":\"circle\"},\"mode\":\"markers\",\"name\":\"Espanol\",\"orientation\":\"v\",\"showlegend\":true,\"x\":[-0.7,0.4375,-0.06666666666666667,0.47058823529411764,0.47368421052631576,0.25,0.5,0.2857142857142857,0.125,-0.16666666666666666,0.2857142857142857,0.5,0.23529411764705882,0.4666666666666667,-0.5,0.5925925925925926,0.75,0.3888888888888889,-0.8888888888888888],\"xaxis\":\"x\",\"y\":[2,1,0,1,0,1,4,1,3,1,0,1,5,3,1,2,4,0,1],\"yaxis\":\"y\",\"type\":\"scatter\"},{\"hovertemplate\":\"HomeTeam=Osasuna<br>PA=%{x}<br>FTHG=%{y}<extra></extra>\",\"legendgroup\":\"Osasuna\",\"marker\":{\"color\":\"#19d3f3\",\"symbol\":\"circle\"},\"mode\":\"markers\",\"name\":\"Osasuna\",\"orientation\":\"v\",\"showlegend\":true,\"x\":[0.5238095238095238,0.26666666666666666,-0.4,0.625,-0.07692307692307693,0.1,-0.875,0.5263157894736842,-0.625,0.25,0.47058823529411764,-1.8571428571428572,-0.06666666666666667,0.0,0.3684210526315789,0.0,0.7142857142857143,-0.16666666666666666,0.2777777777777778],\"xaxis\":\"x\",\"y\":[2,0,2,3,2,0,2,2,0,1,0,3,2,2,0,1,2,1,1],\"yaxis\":\"y\",\"type\":\"scatter\"},{\"hovertemplate\":\"HomeTeam=Santander<br>PA=%{x}<br>FTHG=%{y}<extra></extra>\",\"legendgroup\":\"Santander\",\"marker\":{\"color\":\"#FF6692\",\"symbol\":\"circle\"},\"mode\":\"markers\",\"name\":\"Santander\",\"orientation\":\"v\",\"showlegend\":true,\"x\":[-0.375,-2.2,-0.2857142857142857,0.3,-2.6666666666666665,-0.7272727272727273,0.25,0.18181818181818182,0.42857142857142855,0.16666666666666666,0.0,-2.8333333333333335,0.21052631578947367,-22.0,-1.1111111111111112,-1.2857142857142858,0.29411764705882354,0.18181818181818182,-2.857142857142857],\"xaxis\":\"x\",\"y\":[0,0,1,0,1,1,1,0,1,1,2,0,1,0,0,0,0,0,2],\"yaxis\":\"y\",\"type\":\"scatter\"},{\"hovertemplate\":\"HomeTeam=Vallecano<br>PA=%{x}<br>FTHG=%{y}<extra></extra>\",\"legendgroup\":\"Vallecano\",\"marker\":{\"color\":\"#B6E880\",\"symbol\":\"circle\"},\"mode\":\"markers\",\"name\":\"Vallecano\",\"orientation\":\"v\",\"showlegend\":true,\"x\":[0.65,0.35714285714285715,-0.6666666666666666,0.6666666666666666,0.23076923076923078,0.16666666666666666,0.3157894736842105,-0.5454545454545454,-0.3333333333333333,0.3684210526315789,0.6153846153846154,-0.2857142857142857,0.5909090909090909,0.46153846153846156,0.3157894736842105,0.47368421052631576,0.25,-0.9,0.3333333333333333],\"xaxis\":\"x\",\"y\":[0,1,0,2,4,1,1,2,0,2,2,0,4,3,0,6,0,0,1],\"yaxis\":\"y\",\"type\":\"scatter\"},{\"hovertemplate\":\"HomeTeam=Malaga<br>PA=%{x}<br>FTHG=%{y}<extra></extra>\",\"legendgroup\":\"Malaga\",\"marker\":{\"color\":\"#FF97FF\",\"symbol\":\"circle\"},\"mode\":\"markers\",\"name\":\"Malaga\",\"orientation\":\"v\",\"showlegend\":true,\"x\":[0.4,0.38461538461538464,0.6842105263157895,0.42857142857142855,0.631578947368421,-0.2,0.631578947368421,0.09090909090909091,-0.7777777777777778,0.0,0.5294117647058824,0.2222222222222222,0.5833333333333334,0.26666666666666666,0.65,0.9666666666666667,0.47368421052631576,0.6875,0.7272727272727273],\"xaxis\":\"x\",\"y\":[4,1,3,0,2,2,1,0,1,2,3,5,1,4,0,3,1,1,1],\"yaxis\":\"y\",\"type\":\"scatter\"},{\"hovertemplate\":\"HomeTeam=Levante<br>PA=%{x}<br>FTHG=%{y}<extra></extra>\",\"legendgroup\":\"Levante\",\"marker\":{\"color\":\"#FECB52\",\"symbol\":\"circle\"},\"mode\":\"markers\",\"name\":\"Levante\",\"orientation\":\"v\",\"showlegend\":true,\"x\":[-0.2727272727272727,-0.5,0.5,-0.9,0.38461538461538464,-0.7,-1.1428571428571428,-0.375,-0.16666666666666666,0.4444444444444444,-0.07142857142857142,0.3684210526315789,-1.2857142857142858,0.45454545454545453,0.4,-1.25,-2.2,0.0,0.25],\"xaxis\":\"x\",\"y\":[1,3,3,3,0,4,1,0,0,1,1,3,3,1,0,2,1,3,3],\"yaxis\":\"y\",\"type\":\"scatter\"}],                        {\"template\":{\"data\":{\"histogram2dcontour\":[{\"type\":\"histogram2dcontour\",\"colorbar\":{\"outlinewidth\":0,\"ticks\":\"\"},\"colorscale\":[[0.0,\"#0d0887\"],[0.1111111111111111,\"#46039f\"],[0.2222222222222222,\"#7201a8\"],[0.3333333333333333,\"#9c179e\"],[0.4444444444444444,\"#bd3786\"],[0.5555555555555556,\"#d8576b\"],[0.6666666666666666,\"#ed7953\"],[0.7777777777777778,\"#fb9f3a\"],[0.8888888888888888,\"#fdca26\"],[1.0,\"#f0f921\"]]}],\"choropleth\":[{\"type\":\"choropleth\",\"colorbar\":{\"outlinewidth\":0,\"ticks\":\"\"}}],\"histogram2d\":[{\"type\":\"histogram2d\",\"colorbar\":{\"outlinewidth\":0,\"ticks\":\"\"},\"colorscale\":[[0.0,\"#0d0887\"],[0.1111111111111111,\"#46039f\"],[0.2222222222222222,\"#7201a8\"],[0.3333333333333333,\"#9c179e\"],[0.4444444444444444,\"#bd3786\"],[0.5555555555555556,\"#d8576b\"],[0.6666666666666666,\"#ed7953\"],[0.7777777777777778,\"#fb9f3a\"],[0.8888888888888888,\"#fdca26\"],[1.0,\"#f0f921\"]]}],\"heatmap\":[{\"type\":\"heatmap\",\"colorbar\":{\"outlinewidth\":0,\"ticks\":\"\"},\"colorscale\":[[0.0,\"#0d0887\"],[0.1111111111111111,\"#46039f\"],[0.2222222222222222,\"#7201a8\"],[0.3333333333333333,\"#9c179e\"],[0.4444444444444444,\"#bd3786\"],[0.5555555555555556,\"#d8576b\"],[0.6666666666666666,\"#ed7953\"],[0.7777777777777778,\"#fb9f3a\"],[0.8888888888888888,\"#fdca26\"],[1.0,\"#f0f921\"]]}],\"heatmapgl\":[{\"type\":\"heatmapgl\",\"colorbar\":{\"outlinewidth\":0,\"ticks\":\"\"},\"colorscale\":[[0.0,\"#0d0887\"],[0.1111111111111111,\"#46039f\"],[0.2222222222222222,\"#7201a8\"],[0.3333333333333333,\"#9c179e\"],[0.4444444444444444,\"#bd3786\"],[0.5555555555555556,\"#d8576b\"],[0.6666666666666666,\"#ed7953\"],[0.7777777777777778,\"#fb9f3a\"],[0.8888888888888888,\"#fdca26\"],[1.0,\"#f0f921\"]]}],\"contourcarpet\":[{\"type\":\"contourcarpet\",\"colorbar\":{\"outlinewidth\":0,\"ticks\":\"\"}}],\"contour\":[{\"type\":\"contour\",\"colorbar\":{\"outlinewidth\":0,\"ticks\":\"\"},\"colorscale\":[[0.0,\"#0d0887\"],[0.1111111111111111,\"#46039f\"],[0.2222222222222222,\"#7201a8\"],[0.3333333333333333,\"#9c179e\"],[0.4444444444444444,\"#bd3786\"],[0.5555555555555556,\"#d8576b\"],[0.6666666666666666,\"#ed7953\"],[0.7777777777777778,\"#fb9f3a\"],[0.8888888888888888,\"#fdca26\"],[1.0,\"#f0f921\"]]}],\"surface\":[{\"type\":\"surface\",\"colorbar\":{\"outlinewidth\":0,\"ticks\":\"\"},\"colorscale\":[[0.0,\"#0d0887\"],[0.1111111111111111,\"#46039f\"],[0.2222222222222222,\"#7201a8\"],[0.3333333333333333,\"#9c179e\"],[0.4444444444444444,\"#bd3786\"],[0.5555555555555556,\"#d8576b\"],[0.6666666666666666,\"#ed7953\"],[0.7777777777777778,\"#fb9f3a\"],[0.8888888888888888,\"#fdca26\"],[1.0,\"#f0f921\"]]}],\"mesh3d\":[{\"type\":\"mesh3d\",\"colorbar\":{\"outlinewidth\":0,\"ticks\":\"\"}}],\"scatter\":[{\"fillpattern\":{\"fillmode\":\"overlay\",\"size\":10,\"solidity\":0.2},\"type\":\"scatter\"}],\"parcoords\":[{\"type\":\"parcoords\",\"line\":{\"colorbar\":{\"outlinewidth\":0,\"ticks\":\"\"}}}],\"scatterpolargl\":[{\"type\":\"scatterpolargl\",\"marker\":{\"colorbar\":{\"outlinewidth\":0,\"ticks\":\"\"}}}],\"bar\":[{\"error_x\":{\"color\":\"#2a3f5f\"},\"error_y\":{\"color\":\"#2a3f5f\"},\"marker\":{\"line\":{\"color\":\"#E5ECF6\",\"width\":0.5},\"pattern\":{\"fillmode\":\"overlay\",\"size\":10,\"solidity\":0.2}},\"type\":\"bar\"}],\"scattergeo\":[{\"type\":\"scattergeo\",\"marker\":{\"colorbar\":{\"outlinewidth\":0,\"ticks\":\"\"}}}],\"scatterpolar\":[{\"type\":\"scatterpolar\",\"marker\":{\"colorbar\":{\"outlinewidth\":0,\"ticks\":\"\"}}}],\"histogram\":[{\"marker\":{\"pattern\":{\"fillmode\":\"overlay\",\"size\":10,\"solidity\":0.2}},\"type\":\"histogram\"}],\"scattergl\":[{\"type\":\"scattergl\",\"marker\":{\"colorbar\":{\"outlinewidth\":0,\"ticks\":\"\"}}}],\"scatter3d\":[{\"type\":\"scatter3d\",\"line\":{\"colorbar\":{\"outlinewidth\":0,\"ticks\":\"\"}},\"marker\":{\"colorbar\":{\"outlinewidth\":0,\"ticks\":\"\"}}}],\"scattermapbox\":[{\"type\":\"scattermapbox\",\"marker\":{\"colorbar\":{\"outlinewidth\":0,\"ticks\":\"\"}}}],\"scatterternary\":[{\"type\":\"scatterternary\",\"marker\":{\"colorbar\":{\"outlinewidth\":0,\"ticks\":\"\"}}}],\"scattercarpet\":[{\"type\":\"scattercarpet\",\"marker\":{\"colorbar\":{\"outlinewidth\":0,\"ticks\":\"\"}}}],\"carpet\":[{\"aaxis\":{\"endlinecolor\":\"#2a3f5f\",\"gridcolor\":\"white\",\"linecolor\":\"white\",\"minorgridcolor\":\"white\",\"startlinecolor\":\"#2a3f5f\"},\"baxis\":{\"endlinecolor\":\"#2a3f5f\",\"gridcolor\":\"white\",\"linecolor\":\"white\",\"minorgridcolor\":\"white\",\"startlinecolor\":\"#2a3f5f\"},\"type\":\"carpet\"}],\"table\":[{\"cells\":{\"fill\":{\"color\":\"#EBF0F8\"},\"line\":{\"color\":\"white\"}},\"header\":{\"fill\":{\"color\":\"#C8D4E3\"},\"line\":{\"color\":\"white\"}},\"type\":\"table\"}],\"barpolar\":[{\"marker\":{\"line\":{\"color\":\"#E5ECF6\",\"width\":0.5},\"pattern\":{\"fillmode\":\"overlay\",\"size\":10,\"solidity\":0.2}},\"type\":\"barpolar\"}],\"pie\":[{\"automargin\":true,\"type\":\"pie\"}]},\"layout\":{\"autotypenumbers\":\"strict\",\"colorway\":[\"#636efa\",\"#EF553B\",\"#00cc96\",\"#ab63fa\",\"#FFA15A\",\"#19d3f3\",\"#FF6692\",\"#B6E880\",\"#FF97FF\",\"#FECB52\"],\"font\":{\"color\":\"#2a3f5f\"},\"hovermode\":\"closest\",\"hoverlabel\":{\"align\":\"left\"},\"paper_bgcolor\":\"white\",\"plot_bgcolor\":\"#E5ECF6\",\"polar\":{\"bgcolor\":\"#E5ECF6\",\"angularaxis\":{\"gridcolor\":\"white\",\"linecolor\":\"white\",\"ticks\":\"\"},\"radialaxis\":{\"gridcolor\":\"white\",\"linecolor\":\"white\",\"ticks\":\"\"}},\"ternary\":{\"bgcolor\":\"#E5ECF6\",\"aaxis\":{\"gridcolor\":\"white\",\"linecolor\":\"white\",\"ticks\":\"\"},\"baxis\":{\"gridcolor\":\"white\",\"linecolor\":\"white\",\"ticks\":\"\"},\"caxis\":{\"gridcolor\":\"white\",\"linecolor\":\"white\",\"ticks\":\"\"}},\"coloraxis\":{\"colorbar\":{\"outlinewidth\":0,\"ticks\":\"\"}},\"colorscale\":{\"sequential\":[[0.0,\"#0d0887\"],[0.1111111111111111,\"#46039f\"],[0.2222222222222222,\"#7201a8\"],[0.3333333333333333,\"#9c179e\"],[0.4444444444444444,\"#bd3786\"],[0.5555555555555556,\"#d8576b\"],[0.6666666666666666,\"#ed7953\"],[0.7777777777777778,\"#fb9f3a\"],[0.8888888888888888,\"#fdca26\"],[1.0,\"#f0f921\"]],\"sequentialminus\":[[0.0,\"#0d0887\"],[0.1111111111111111,\"#46039f\"],[0.2222222222222222,\"#7201a8\"],[0.3333333333333333,\"#9c179e\"],[0.4444444444444444,\"#bd3786\"],[0.5555555555555556,\"#d8576b\"],[0.6666666666666666,\"#ed7953\"],[0.7777777777777778,\"#fb9f3a\"],[0.8888888888888888,\"#fdca26\"],[1.0,\"#f0f921\"]],\"diverging\":[[0,\"#8e0152\"],[0.1,\"#c51b7d\"],[0.2,\"#de77ae\"],[0.3,\"#f1b6da\"],[0.4,\"#fde0ef\"],[0.5,\"#f7f7f7\"],[0.6,\"#e6f5d0\"],[0.7,\"#b8e186\"],[0.8,\"#7fbc41\"],[0.9,\"#4d9221\"],[1,\"#276419\"]]},\"xaxis\":{\"gridcolor\":\"white\",\"linecolor\":\"white\",\"ticks\":\"\",\"title\":{\"standoff\":15},\"zerolinecolor\":\"white\",\"automargin\":true,\"zerolinewidth\":2},\"yaxis\":{\"gridcolor\":\"white\",\"linecolor\":\"white\",\"ticks\":\"\",\"title\":{\"standoff\":15},\"zerolinecolor\":\"white\",\"automargin\":true,\"zerolinewidth\":2},\"scene\":{\"xaxis\":{\"backgroundcolor\":\"#E5ECF6\",\"gridcolor\":\"white\",\"linecolor\":\"white\",\"showbackground\":true,\"ticks\":\"\",\"zerolinecolor\":\"white\",\"gridwidth\":2},\"yaxis\":{\"backgroundcolor\":\"#E5ECF6\",\"gridcolor\":\"white\",\"linecolor\":\"white\",\"showbackground\":true,\"ticks\":\"\",\"zerolinecolor\":\"white\",\"gridwidth\":2},\"zaxis\":{\"backgroundcolor\":\"#E5ECF6\",\"gridcolor\":\"white\",\"linecolor\":\"white\",\"showbackground\":true,\"ticks\":\"\",\"zerolinecolor\":\"white\",\"gridwidth\":2}},\"shapedefaults\":{\"line\":{\"color\":\"#2a3f5f\"}},\"annotationdefaults\":{\"arrowcolor\":\"#2a3f5f\",\"arrowhead\":0,\"arrowwidth\":1},\"geo\":{\"bgcolor\":\"white\",\"landcolor\":\"#E5ECF6\",\"subunitcolor\":\"white\",\"showland\":true,\"showlakes\":true,\"lakecolor\":\"white\"},\"title\":{\"x\":0.05},\"mapbox\":{\"style\":\"light\"}}},\"xaxis\":{\"anchor\":\"y\",\"domain\":[0.0,1.0],\"title\":{\"text\":\"PA\"}},\"yaxis\":{\"anchor\":\"x\",\"domain\":[0.0,1.0],\"title\":{\"text\":\"FTHG\"}},\"legend\":{\"title\":{\"text\":\"HomeTeam\"},\"tracegroupgap\":0},\"title\":{\"text\":\"Passing Accuracy vs. Goals Scored by Home Team\"}},                        {\"responsive\": true}                    ).then(function(){\n",
       "                            \n",
       "var gd = document.getElementById('9dfeaac5-1a6f-4a9a-8a90-0b0f1447b049');\n",
       "var x = new MutationObserver(function (mutations, observer) {{\n",
       "        var display = window.getComputedStyle(gd).display;\n",
       "        if (!display || display === 'none') {{\n",
       "            console.log([gd, 'removed!']);\n",
       "            Plotly.purge(gd);\n",
       "            observer.disconnect();\n",
       "        }}\n",
       "}});\n",
       "\n",
       "// Listen for the removal of the full notebook cells\n",
       "var notebookContainer = gd.closest('#notebook-container');\n",
       "if (notebookContainer) {{\n",
       "    x.observe(notebookContainer, {childList: true});\n",
       "}}\n",
       "\n",
       "// Listen for the clearing of the current output cell\n",
       "var outputEl = gd.closest('.output');\n",
       "if (outputEl) {{\n",
       "    x.observe(outputEl, {childList: true});\n",
       "}}\n",
       "\n",
       "                        })                };                });            </script>        </div>"
      ]
     },
     "metadata": {},
     "output_type": "display_data"
    }
   ],
   "source": [
    "fig = px.scatter(df, x='PA', y='FTHG', color='HomeTeam', title='Passing Accuracy vs. Goals Scored by Home Team')\n",
    "fig.show()"
   ]
  },
  {
   "cell_type": "markdown",
   "id": "484a986f",
   "metadata": {},
   "source": [
    "The scatter plot shows a weak positive correlation between passing accuracy and the number of goals scored by a team. The teams with a higher passing accuracy tend to score slightly more goals."
   ]
  },
  {
   "cell_type": "markdown",
   "id": "7ff83308",
   "metadata": {},
   "source": [
    "<h3 style=\"background-color:#0c519c; color:white; padding:8px; font-size:20px; font-family: consolas; border-radius:8px;\">Number of Fouls Per Game</h3>"
   ]
  },
  {
   "cell_type": "markdown",
   "id": "5e4aa33d",
   "metadata": {},
   "source": [
    "Number of fouls per game (FPG) is a simple metric that tells us the average number of fouls committed by each team per game. We can calculate FPG by taking the average of the number of fouls committed by the home team and the away team in each match.\n",
    "\n",
    "Formula: FPG = (HF + AF) / 2, where HF is the number of fouls committed by the home team and AF is the number of fouls committed by the away team."
   ]
  },
  {
   "cell_type": "code",
   "execution_count": null,
   "id": "b3e3ff35",
   "metadata": {},
   "outputs": [
    {
     "data": {
      "application/vnd.plotly.v1+json": {
       "config": {
        "plotlyServerURL": "https://plot.ly"
       },
       "data": [
        {
         "hovertemplate": "Date=%{x}<br>FPG=%{y}<extra></extra>",
         "legendgroup": "",
         "line": {
          "color": "#1f77b4",
          "dash": "solid"
         },
         "marker": {
          "symbol": "circle"
         },
         "mode": "lines",
         "name": "",
         "orientation": "v",
         "showlegend": false,
         "type": "scatter",
         "x": [
          "27/08/11",
          "27/08/11",
          "27/08/11",
          "28/08/11",
          "28/08/11",
          "28/08/11",
          "28/08/11",
          "28/08/11",
          "28/08/11",
          "29/08/11",
          "10/09/11",
          "10/09/11",
          "10/09/11",
          "10/09/11",
          "11/09/11",
          "11/09/11",
          "11/09/11",
          "11/09/11",
          "11/09/11",
          "12/09/11",
          "17/09/11",
          "17/09/11",
          "17/09/11",
          "17/09/11",
          "17/09/11",
          "18/09/11",
          "18/09/11",
          "18/09/11",
          "18/09/11",
          "18/09/11",
          "20/09/11",
          "20/09/11",
          "20/09/11",
          "21/09/11",
          "21/09/11",
          "21/09/11",
          "21/09/11",
          "21/09/11",
          "22/09/11",
          "22/09/11",
          "24/09/11",
          "24/09/11",
          "24/09/11",
          "24/09/11",
          "25/09/11",
          "25/09/11",
          "25/09/11",
          "25/09/11",
          "25/09/11",
          "26/09/11",
          "01/10/11",
          "01/10/11",
          "01/10/11",
          "01/10/11",
          "01/10/11",
          "02/10/11",
          "02/10/11",
          "02/10/11",
          "02/10/11",
          "02/10/11",
          "15/10/11",
          "15/10/11",
          "15/10/11",
          "15/10/11",
          "15/10/11",
          "16/10/11",
          "16/10/11",
          "16/10/11",
          "16/10/11",
          "17/10/11",
          "22/10/11",
          "22/10/11",
          "22/10/11",
          "22/10/11",
          "23/10/11",
          "23/10/11",
          "23/10/11",
          "23/10/11",
          "23/10/11",
          "23/10/11",
          "25/10/11",
          "25/10/11",
          "26/10/11",
          "26/10/11",
          "26/10/11",
          "26/10/11",
          "26/10/11",
          "26/10/11",
          "27/10/11",
          "27/10/11",
          "29/10/11",
          "29/10/11",
          "29/10/11",
          "29/10/11",
          "30/10/11",
          "30/10/11",
          "30/10/11",
          "30/10/11",
          "30/10/11",
          "31/10/11",
          "05/11/11",
          "05/11/11",
          "05/11/11",
          "06/11/11",
          "06/11/11",
          "06/11/11",
          "06/11/11",
          "06/11/11",
          "06/11/11",
          "06/11/11",
          "19/11/11",
          "19/11/11",
          "19/11/11",
          "20/11/11",
          "20/11/11",
          "20/11/11",
          "20/11/11",
          "20/11/11",
          "21/11/11",
          "26/11/11",
          "26/11/11",
          "26/11/11",
          "27/11/11",
          "27/11/11",
          "27/11/11",
          "27/11/11",
          "27/11/11",
          "27/11/11",
          "28/11/11",
          "29/11/11",
          "03/12/11",
          "03/12/11",
          "03/12/11",
          "03/12/11",
          "04/12/11",
          "04/12/11",
          "04/12/11",
          "04/12/11",
          "04/12/11",
          "05/12/11",
          "07/12/11",
          "10/12/11",
          "10/12/11",
          "10/12/11",
          "11/12/11",
          "11/12/11",
          "11/12/11",
          "11/12/11",
          "11/12/11",
          "11/12/11",
          "11/12/11",
          "17/12/11",
          "17/12/11",
          "17/12/11",
          "17/12/11",
          "18/12/11",
          "18/12/11",
          "18/12/11",
          "18/12/11",
          "18/12/11",
          "07/01/12",
          "07/01/12",
          "07/01/12",
          "07/01/12",
          "07/01/12",
          "08/01/12",
          "08/01/12",
          "08/01/12",
          "08/01/12",
          "08/01/12",
          "14/01/12",
          "14/01/12",
          "14/01/12",
          "14/01/12",
          "14/01/12",
          "15/01/12",
          "15/01/12",
          "15/01/12",
          "15/01/12",
          "15/01/12",
          "21/01/12",
          "21/01/12",
          "21/01/12",
          "21/01/12",
          "22/01/12",
          "22/01/12",
          "22/01/12",
          "22/01/12",
          "22/01/12",
          "23/01/12",
          "28/01/12",
          "28/01/12",
          "28/01/12",
          "28/01/12",
          "29/01/12",
          "29/01/12",
          "29/01/12",
          "29/01/12",
          "29/01/12",
          "30/01/12",
          "04/02/12",
          "04/02/12",
          "04/02/12",
          "04/02/12",
          "04/02/12",
          "05/02/12",
          "05/02/12",
          "05/02/12",
          "05/02/12",
          "06/02/12",
          "11/02/12",
          "11/02/12",
          "11/02/12",
          "12/02/12",
          "12/02/12",
          "12/02/12",
          "12/02/12",
          "12/02/12",
          "12/02/12",
          "13/02/12",
          "18/02/12",
          "18/02/12",
          "18/02/12",
          "19/02/12",
          "19/02/12",
          "19/02/12",
          "19/02/12",
          "19/02/12",
          "19/02/12",
          "20/02/12",
          "25/02/12",
          "25/02/12",
          "25/02/12",
          "25/02/12",
          "26/02/12",
          "26/02/12",
          "26/02/12",
          "26/02/12",
          "26/02/12",
          "26/02/12",
          "03/03/12",
          "03/03/12",
          "03/03/12",
          "03/03/12",
          "03/03/12",
          "04/03/12",
          "04/03/12",
          "04/03/12",
          "04/03/12",
          "05/03/12",
          "10/03/12",
          "10/03/12",
          "10/03/12",
          "10/03/12",
          "11/03/12",
          "11/03/12",
          "11/03/12",
          "11/03/12",
          "11/03/12",
          "12/03/12",
          "17/03/12",
          "17/03/12",
          "17/03/12",
          "17/03/12",
          "17/03/12",
          "18/03/12",
          "18/03/12",
          "18/03/12",
          "18/03/12",
          "19/03/12",
          "20/03/12",
          "20/03/12",
          "21/03/12",
          "21/03/12",
          "21/03/12",
          "21/03/12",
          "21/03/12",
          "22/03/12",
          "22/03/12",
          "22/03/12",
          "24/03/12",
          "24/03/12",
          "24/03/12",
          "25/03/12",
          "25/03/12",
          "25/03/12",
          "25/03/12",
          "25/03/12",
          "25/03/12",
          "26/03/12",
          "31/03/12",
          "31/03/12",
          "31/03/12",
          "31/03/12",
          "31/03/12",
          "01/04/12",
          "01/04/12",
          "01/04/12",
          "01/04/12",
          "02/04/12",
          "07/04/12",
          "07/04/12",
          "07/04/12",
          "07/04/12",
          "07/04/12",
          "08/04/12",
          "08/04/12",
          "08/04/12",
          "08/04/12",
          "09/04/12",
          "10/04/12",
          "10/04/12",
          "10/04/12",
          "11/04/12",
          "11/04/12",
          "11/04/12",
          "11/04/12",
          "12/04/12",
          "12/04/12",
          "12/04/12",
          "14/04/12",
          "14/04/12",
          "15/04/12",
          "15/04/12",
          "15/04/12",
          "15/04/12",
          "15/04/12",
          "15/04/12",
          "15/04/12",
          "16/04/12",
          "21/04/12",
          "21/04/12",
          "21/04/12",
          "21/04/12",
          "22/04/12",
          "22/04/12",
          "22/04/12",
          "22/04/12",
          "22/04/12",
          "23/04/12",
          "28/04/12",
          "28/04/12",
          "28/04/12",
          "28/04/12",
          "28/04/12",
          "29/04/12",
          "29/04/12",
          "29/04/12",
          "29/04/12",
          "29/04/12",
          "01/05/12",
          "01/05/12",
          "01/05/12",
          "02/05/12",
          "02/05/12",
          "02/05/12",
          "02/05/12",
          "02/05/12",
          "02/05/12",
          "02/05/12",
          "05/05/12",
          "05/05/12",
          "05/05/12",
          "05/05/12",
          "05/05/12",
          "05/05/12",
          "05/05/12",
          "05/05/12",
          "05/05/12",
          "05/05/12",
          "12/05/12",
          "12/05/12",
          "13/05/12",
          "13/05/12",
          "13/05/12",
          "13/05/12",
          "13/05/12",
          "13/05/12",
          "13/05/12",
          "13/05/12"
         ],
         "xaxis": "x",
         "y": [
          14,
          12.5,
          12.5,
          18,
          8.5,
          10.5,
          18,
          11,
          16,
          14.5,
          11,
          13.5,
          16.5,
          14.5,
          13,
          19,
          19,
          17,
          16.5,
          11.5,
          11.5,
          14,
          16.5,
          14.5,
          16,
          16.5,
          17,
          17,
          18,
          17.5,
          16.5,
          16,
          11.5,
          18,
          18,
          19.5,
          9.5,
          13.5,
          12,
          20.5,
          19.5,
          17.5,
          12.5,
          14,
          16,
          12.5,
          11,
          15,
          14.5,
          17.5,
          16.5,
          13.5,
          14,
          7.5,
          13,
          18.5,
          12,
          15.5,
          15.5,
          13,
          11,
          16,
          15,
          16,
          14.5,
          15.5,
          17,
          13,
          11,
          13.5,
          8.5,
          10,
          15,
          13,
          16,
          17.5,
          20.5,
          11,
          20,
          7.5,
          11.5,
          13.5,
          15.5,
          14,
          13.5,
          13.5,
          11.5,
          18,
          15,
          9.5,
          13.5,
          18,
          16.5,
          12.5,
          15,
          16.5,
          13,
          16.5,
          15,
          9.5,
          17.5,
          16,
          13,
          19,
          11.5,
          18,
          16.5,
          11,
          16.5,
          16,
          18.5,
          20.5,
          20.5,
          13.5,
          15.5,
          11,
          12.5,
          17,
          12,
          11,
          16.5,
          15,
          13,
          14,
          14,
          13,
          23.5,
          17.5,
          13.5,
          12.5,
          11,
          21,
          15,
          15.5,
          17,
          12,
          21,
          7,
          11,
          13.5,
          16.5,
          13.5,
          16,
          17.5,
          18,
          18,
          10.5,
          10.5,
          11.5,
          15.5,
          14.5,
          16.5,
          18.5,
          11,
          15.5,
          12.5,
          9.5,
          18,
          13.5,
          15,
          19.5,
          20.5,
          11,
          17.5,
          14,
          14,
          11.5,
          13.5,
          18.5,
          16,
          13,
          15,
          14.5,
          8.5,
          10,
          10.5,
          10.5,
          14,
          16,
          16,
          12.5,
          11.5,
          12,
          16,
          15,
          12.5,
          19.5,
          11,
          13,
          14.5,
          14,
          10.5,
          16,
          15,
          10,
          15,
          17,
          16,
          12.5,
          19.5,
          12,
          12.5,
          15,
          10.5,
          14.5,
          23,
          14,
          16.5,
          14,
          13,
          17,
          15,
          21.5,
          20.5,
          11.5,
          12.5,
          17,
          21,
          13.5,
          16.5,
          13,
          12.5,
          13,
          16,
          10.5,
          16,
          13,
          17,
          20,
          15,
          13.5,
          15.5,
          18.5,
          17.5,
          17,
          15,
          11,
          18.5,
          16.5,
          20,
          17,
          18,
          14,
          17.5,
          14,
          12.5,
          16.5,
          16,
          19,
          13.5,
          14,
          13.5,
          14.5,
          14,
          13,
          24.5,
          19.5,
          17.5,
          13,
          11.5,
          16,
          13,
          13.5,
          22,
          16.5,
          20.5,
          16,
          14,
          15,
          18,
          11.5,
          15.5,
          13,
          14.5,
          20,
          9.5,
          20,
          16,
          11.5,
          13.5,
          17.5,
          11.5,
          11,
          16.5,
          16,
          13.5,
          13,
          16,
          16.5,
          12.5,
          12.5,
          15,
          15.5,
          15.5,
          25,
          17.5,
          17,
          13.5,
          14.5,
          13,
          15,
          15.5,
          22.5,
          14,
          17.5,
          13,
          12,
          14.5,
          14,
          12.5,
          9.5,
          15,
          10,
          16.5,
          11,
          14,
          18,
          18.5,
          15,
          14.5,
          11.5,
          16.5,
          14.5,
          8.5,
          17,
          10,
          19.5,
          10.5,
          17.5,
          9.5,
          15.5,
          16.5,
          13.5,
          17.5,
          12.5,
          10.5,
          15,
          12.5,
          13,
          10.5,
          12,
          12,
          10,
          15,
          12,
          18,
          17,
          10.5,
          13.5,
          12,
          21,
          11,
          14,
          16.5,
          11.5,
          15.5,
          11.5,
          16,
          9.5,
          14.5,
          10.5,
          17,
          18.5,
          13.5,
          9,
          18.5,
          11.5,
          17.5,
          16,
          19,
          13,
          12,
          15,
          20,
          5.5,
          17,
          11.5,
          10,
          16.5,
          13.5
         ],
         "yaxis": "y"
        }
       ],
       "layout": {
        "legend": {
         "tracegroupgap": 0
        },
        "template": {
         "data": {
          "bar": [
           {
            "error_x": {
             "color": "#2a3f5f"
            },
            "error_y": {
             "color": "#2a3f5f"
            },
            "marker": {
             "line": {
              "color": "#E5ECF6",
              "width": 0.5
             },
             "pattern": {
              "fillmode": "overlay",
              "size": 10,
              "solidity": 0.2
             }
            },
            "type": "bar"
           }
          ],
          "barpolar": [
           {
            "marker": {
             "line": {
              "color": "#E5ECF6",
              "width": 0.5
             },
             "pattern": {
              "fillmode": "overlay",
              "size": 10,
              "solidity": 0.2
             }
            },
            "type": "barpolar"
           }
          ],
          "carpet": [
           {
            "aaxis": {
             "endlinecolor": "#2a3f5f",
             "gridcolor": "white",
             "linecolor": "white",
             "minorgridcolor": "white",
             "startlinecolor": "#2a3f5f"
            },
            "baxis": {
             "endlinecolor": "#2a3f5f",
             "gridcolor": "white",
             "linecolor": "white",
             "minorgridcolor": "white",
             "startlinecolor": "#2a3f5f"
            },
            "type": "carpet"
           }
          ],
          "choropleth": [
           {
            "colorbar": {
             "outlinewidth": 0,
             "ticks": ""
            },
            "type": "choropleth"
           }
          ],
          "contour": [
           {
            "colorbar": {
             "outlinewidth": 0,
             "ticks": ""
            },
            "colorscale": [
             [
              0,
              "#0d0887"
             ],
             [
              0.1111111111111111,
              "#46039f"
             ],
             [
              0.2222222222222222,
              "#7201a8"
             ],
             [
              0.3333333333333333,
              "#9c179e"
             ],
             [
              0.4444444444444444,
              "#bd3786"
             ],
             [
              0.5555555555555556,
              "#d8576b"
             ],
             [
              0.6666666666666666,
              "#ed7953"
             ],
             [
              0.7777777777777778,
              "#fb9f3a"
             ],
             [
              0.8888888888888888,
              "#fdca26"
             ],
             [
              1,
              "#f0f921"
             ]
            ],
            "type": "contour"
           }
          ],
          "contourcarpet": [
           {
            "colorbar": {
             "outlinewidth": 0,
             "ticks": ""
            },
            "type": "contourcarpet"
           }
          ],
          "heatmap": [
           {
            "colorbar": {
             "outlinewidth": 0,
             "ticks": ""
            },
            "colorscale": [
             [
              0,
              "#0d0887"
             ],
             [
              0.1111111111111111,
              "#46039f"
             ],
             [
              0.2222222222222222,
              "#7201a8"
             ],
             [
              0.3333333333333333,
              "#9c179e"
             ],
             [
              0.4444444444444444,
              "#bd3786"
             ],
             [
              0.5555555555555556,
              "#d8576b"
             ],
             [
              0.6666666666666666,
              "#ed7953"
             ],
             [
              0.7777777777777778,
              "#fb9f3a"
             ],
             [
              0.8888888888888888,
              "#fdca26"
             ],
             [
              1,
              "#f0f921"
             ]
            ],
            "type": "heatmap"
           }
          ],
          "heatmapgl": [
           {
            "colorbar": {
             "outlinewidth": 0,
             "ticks": ""
            },
            "colorscale": [
             [
              0,
              "#0d0887"
             ],
             [
              0.1111111111111111,
              "#46039f"
             ],
             [
              0.2222222222222222,
              "#7201a8"
             ],
             [
              0.3333333333333333,
              "#9c179e"
             ],
             [
              0.4444444444444444,
              "#bd3786"
             ],
             [
              0.5555555555555556,
              "#d8576b"
             ],
             [
              0.6666666666666666,
              "#ed7953"
             ],
             [
              0.7777777777777778,
              "#fb9f3a"
             ],
             [
              0.8888888888888888,
              "#fdca26"
             ],
             [
              1,
              "#f0f921"
             ]
            ],
            "type": "heatmapgl"
           }
          ],
          "histogram": [
           {
            "marker": {
             "pattern": {
              "fillmode": "overlay",
              "size": 10,
              "solidity": 0.2
             }
            },
            "type": "histogram"
           }
          ],
          "histogram2d": [
           {
            "colorbar": {
             "outlinewidth": 0,
             "ticks": ""
            },
            "colorscale": [
             [
              0,
              "#0d0887"
             ],
             [
              0.1111111111111111,
              "#46039f"
             ],
             [
              0.2222222222222222,
              "#7201a8"
             ],
             [
              0.3333333333333333,
              "#9c179e"
             ],
             [
              0.4444444444444444,
              "#bd3786"
             ],
             [
              0.5555555555555556,
              "#d8576b"
             ],
             [
              0.6666666666666666,
              "#ed7953"
             ],
             [
              0.7777777777777778,
              "#fb9f3a"
             ],
             [
              0.8888888888888888,
              "#fdca26"
             ],
             [
              1,
              "#f0f921"
             ]
            ],
            "type": "histogram2d"
           }
          ],
          "histogram2dcontour": [
           {
            "colorbar": {
             "outlinewidth": 0,
             "ticks": ""
            },
            "colorscale": [
             [
              0,
              "#0d0887"
             ],
             [
              0.1111111111111111,
              "#46039f"
             ],
             [
              0.2222222222222222,
              "#7201a8"
             ],
             [
              0.3333333333333333,
              "#9c179e"
             ],
             [
              0.4444444444444444,
              "#bd3786"
             ],
             [
              0.5555555555555556,
              "#d8576b"
             ],
             [
              0.6666666666666666,
              "#ed7953"
             ],
             [
              0.7777777777777778,
              "#fb9f3a"
             ],
             [
              0.8888888888888888,
              "#fdca26"
             ],
             [
              1,
              "#f0f921"
             ]
            ],
            "type": "histogram2dcontour"
           }
          ],
          "mesh3d": [
           {
            "colorbar": {
             "outlinewidth": 0,
             "ticks": ""
            },
            "type": "mesh3d"
           }
          ],
          "parcoords": [
           {
            "line": {
             "colorbar": {
              "outlinewidth": 0,
              "ticks": ""
             }
            },
            "type": "parcoords"
           }
          ],
          "pie": [
           {
            "automargin": true,
            "type": "pie"
           }
          ],
          "scatter": [
           {
            "fillpattern": {
             "fillmode": "overlay",
             "size": 10,
             "solidity": 0.2
            },
            "type": "scatter"
           }
          ],
          "scatter3d": [
           {
            "line": {
             "colorbar": {
              "outlinewidth": 0,
              "ticks": ""
             }
            },
            "marker": {
             "colorbar": {
              "outlinewidth": 0,
              "ticks": ""
             }
            },
            "type": "scatter3d"
           }
          ],
          "scattercarpet": [
           {
            "marker": {
             "colorbar": {
              "outlinewidth": 0,
              "ticks": ""
             }
            },
            "type": "scattercarpet"
           }
          ],
          "scattergeo": [
           {
            "marker": {
             "colorbar": {
              "outlinewidth": 0,
              "ticks": ""
             }
            },
            "type": "scattergeo"
           }
          ],
          "scattergl": [
           {
            "marker": {
             "colorbar": {
              "outlinewidth": 0,
              "ticks": ""
             }
            },
            "type": "scattergl"
           }
          ],
          "scattermapbox": [
           {
            "marker": {
             "colorbar": {
              "outlinewidth": 0,
              "ticks": ""
             }
            },
            "type": "scattermapbox"
           }
          ],
          "scatterpolar": [
           {
            "marker": {
             "colorbar": {
              "outlinewidth": 0,
              "ticks": ""
             }
            },
            "type": "scatterpolar"
           }
          ],
          "scatterpolargl": [
           {
            "marker": {
             "colorbar": {
              "outlinewidth": 0,
              "ticks": ""
             }
            },
            "type": "scatterpolargl"
           }
          ],
          "scatterternary": [
           {
            "marker": {
             "colorbar": {
              "outlinewidth": 0,
              "ticks": ""
             }
            },
            "type": "scatterternary"
           }
          ],
          "surface": [
           {
            "colorbar": {
             "outlinewidth": 0,
             "ticks": ""
            },
            "colorscale": [
             [
              0,
              "#0d0887"
             ],
             [
              0.1111111111111111,
              "#46039f"
             ],
             [
              0.2222222222222222,
              "#7201a8"
             ],
             [
              0.3333333333333333,
              "#9c179e"
             ],
             [
              0.4444444444444444,
              "#bd3786"
             ],
             [
              0.5555555555555556,
              "#d8576b"
             ],
             [
              0.6666666666666666,
              "#ed7953"
             ],
             [
              0.7777777777777778,
              "#fb9f3a"
             ],
             [
              0.8888888888888888,
              "#fdca26"
             ],
             [
              1,
              "#f0f921"
             ]
            ],
            "type": "surface"
           }
          ],
          "table": [
           {
            "cells": {
             "fill": {
              "color": "#EBF0F8"
             },
             "line": {
              "color": "white"
             }
            },
            "header": {
             "fill": {
              "color": "#C8D4E3"
             },
             "line": {
              "color": "white"
             }
            },
            "type": "table"
           }
          ]
         },
         "layout": {
          "annotationdefaults": {
           "arrowcolor": "#2a3f5f",
           "arrowhead": 0,
           "arrowwidth": 1
          },
          "autotypenumbers": "strict",
          "coloraxis": {
           "colorbar": {
            "outlinewidth": 0,
            "ticks": ""
           }
          },
          "colorscale": {
           "diverging": [
            [
             0,
             "#8e0152"
            ],
            [
             0.1,
             "#c51b7d"
            ],
            [
             0.2,
             "#de77ae"
            ],
            [
             0.3,
             "#f1b6da"
            ],
            [
             0.4,
             "#fde0ef"
            ],
            [
             0.5,
             "#f7f7f7"
            ],
            [
             0.6,
             "#e6f5d0"
            ],
            [
             0.7,
             "#b8e186"
            ],
            [
             0.8,
             "#7fbc41"
            ],
            [
             0.9,
             "#4d9221"
            ],
            [
             1,
             "#276419"
            ]
           ],
           "sequential": [
            [
             0,
             "#0d0887"
            ],
            [
             0.1111111111111111,
             "#46039f"
            ],
            [
             0.2222222222222222,
             "#7201a8"
            ],
            [
             0.3333333333333333,
             "#9c179e"
            ],
            [
             0.4444444444444444,
             "#bd3786"
            ],
            [
             0.5555555555555556,
             "#d8576b"
            ],
            [
             0.6666666666666666,
             "#ed7953"
            ],
            [
             0.7777777777777778,
             "#fb9f3a"
            ],
            [
             0.8888888888888888,
             "#fdca26"
            ],
            [
             1,
             "#f0f921"
            ]
           ],
           "sequentialminus": [
            [
             0,
             "#0d0887"
            ],
            [
             0.1111111111111111,
             "#46039f"
            ],
            [
             0.2222222222222222,
             "#7201a8"
            ],
            [
             0.3333333333333333,
             "#9c179e"
            ],
            [
             0.4444444444444444,
             "#bd3786"
            ],
            [
             0.5555555555555556,
             "#d8576b"
            ],
            [
             0.6666666666666666,
             "#ed7953"
            ],
            [
             0.7777777777777778,
             "#fb9f3a"
            ],
            [
             0.8888888888888888,
             "#fdca26"
            ],
            [
             1,
             "#f0f921"
            ]
           ]
          },
          "colorway": [
           "#636efa",
           "#EF553B",
           "#00cc96",
           "#ab63fa",
           "#FFA15A",
           "#19d3f3",
           "#FF6692",
           "#B6E880",
           "#FF97FF",
           "#FECB52"
          ],
          "font": {
           "color": "#2a3f5f"
          },
          "geo": {
           "bgcolor": "white",
           "lakecolor": "white",
           "landcolor": "#E5ECF6",
           "showlakes": true,
           "showland": true,
           "subunitcolor": "white"
          },
          "hoverlabel": {
           "align": "left"
          },
          "hovermode": "closest",
          "mapbox": {
           "style": "light"
          },
          "paper_bgcolor": "white",
          "plot_bgcolor": "#E5ECF6",
          "polar": {
           "angularaxis": {
            "gridcolor": "white",
            "linecolor": "white",
            "ticks": ""
           },
           "bgcolor": "#E5ECF6",
           "radialaxis": {
            "gridcolor": "white",
            "linecolor": "white",
            "ticks": ""
           }
          },
          "scene": {
           "xaxis": {
            "backgroundcolor": "#E5ECF6",
            "gridcolor": "white",
            "gridwidth": 2,
            "linecolor": "white",
            "showbackground": true,
            "ticks": "",
            "zerolinecolor": "white"
           },
           "yaxis": {
            "backgroundcolor": "#E5ECF6",
            "gridcolor": "white",
            "gridwidth": 2,
            "linecolor": "white",
            "showbackground": true,
            "ticks": "",
            "zerolinecolor": "white"
           },
           "zaxis": {
            "backgroundcolor": "#E5ECF6",
            "gridcolor": "white",
            "gridwidth": 2,
            "linecolor": "white",
            "showbackground": true,
            "ticks": "",
            "zerolinecolor": "white"
           }
          },
          "shapedefaults": {
           "line": {
            "color": "#2a3f5f"
           }
          },
          "ternary": {
           "aaxis": {
            "gridcolor": "white",
            "linecolor": "white",
            "ticks": ""
           },
           "baxis": {
            "gridcolor": "white",
            "linecolor": "white",
            "ticks": ""
           },
           "bgcolor": "#E5ECF6",
           "caxis": {
            "gridcolor": "white",
            "linecolor": "white",
            "ticks": ""
           }
          },
          "title": {
           "x": 0.05
          },
          "xaxis": {
           "automargin": true,
           "gridcolor": "white",
           "linecolor": "white",
           "ticks": "",
           "title": {
            "standoff": 15
           },
           "zerolinecolor": "white",
           "zerolinewidth": 2
          },
          "yaxis": {
           "automargin": true,
           "gridcolor": "white",
           "linecolor": "white",
           "ticks": "",
           "title": {
            "standoff": 15
           },
           "zerolinecolor": "white",
           "zerolinewidth": 2
          }
         }
        },
        "title": {
         "text": "Evolution of Fouls per Game"
        },
        "xaxis": {
         "anchor": "y",
         "domain": [
          0,
          1
         ],
         "title": {
          "text": "Date"
         }
        },
        "yaxis": {
         "anchor": "x",
         "domain": [
          0,
          1
         ],
         "title": {
          "text": "FPG"
         }
        }
       }
      },
      "text/html": [
       "<div>                            <div id=\"5d217360-5014-4340-9452-a45394a89de2\" class=\"plotly-graph-div\" style=\"height:525px; width:100%;\"></div>            <script type=\"text/javascript\">                require([\"plotly\"], function(Plotly) {                    window.PLOTLYENV=window.PLOTLYENV || {};                                    if (document.getElementById(\"5d217360-5014-4340-9452-a45394a89de2\")) {                    Plotly.newPlot(                        \"5d217360-5014-4340-9452-a45394a89de2\",                        [{\"hovertemplate\":\"Date=%{x}<br>FPG=%{y}<extra></extra>\",\"legendgroup\":\"\",\"line\":{\"color\":\"#1f77b4\",\"dash\":\"solid\"},\"marker\":{\"symbol\":\"circle\"},\"mode\":\"lines\",\"name\":\"\",\"orientation\":\"v\",\"showlegend\":false,\"x\":[\"27/08/11\",\"27/08/11\",\"27/08/11\",\"28/08/11\",\"28/08/11\",\"28/08/11\",\"28/08/11\",\"28/08/11\",\"28/08/11\",\"29/08/11\",\"10/09/11\",\"10/09/11\",\"10/09/11\",\"10/09/11\",\"11/09/11\",\"11/09/11\",\"11/09/11\",\"11/09/11\",\"11/09/11\",\"12/09/11\",\"17/09/11\",\"17/09/11\",\"17/09/11\",\"17/09/11\",\"17/09/11\",\"18/09/11\",\"18/09/11\",\"18/09/11\",\"18/09/11\",\"18/09/11\",\"20/09/11\",\"20/09/11\",\"20/09/11\",\"21/09/11\",\"21/09/11\",\"21/09/11\",\"21/09/11\",\"21/09/11\",\"22/09/11\",\"22/09/11\",\"24/09/11\",\"24/09/11\",\"24/09/11\",\"24/09/11\",\"25/09/11\",\"25/09/11\",\"25/09/11\",\"25/09/11\",\"25/09/11\",\"26/09/11\",\"01/10/11\",\"01/10/11\",\"01/10/11\",\"01/10/11\",\"01/10/11\",\"02/10/11\",\"02/10/11\",\"02/10/11\",\"02/10/11\",\"02/10/11\",\"15/10/11\",\"15/10/11\",\"15/10/11\",\"15/10/11\",\"15/10/11\",\"16/10/11\",\"16/10/11\",\"16/10/11\",\"16/10/11\",\"17/10/11\",\"22/10/11\",\"22/10/11\",\"22/10/11\",\"22/10/11\",\"23/10/11\",\"23/10/11\",\"23/10/11\",\"23/10/11\",\"23/10/11\",\"23/10/11\",\"25/10/11\",\"25/10/11\",\"26/10/11\",\"26/10/11\",\"26/10/11\",\"26/10/11\",\"26/10/11\",\"26/10/11\",\"27/10/11\",\"27/10/11\",\"29/10/11\",\"29/10/11\",\"29/10/11\",\"29/10/11\",\"30/10/11\",\"30/10/11\",\"30/10/11\",\"30/10/11\",\"30/10/11\",\"31/10/11\",\"05/11/11\",\"05/11/11\",\"05/11/11\",\"06/11/11\",\"06/11/11\",\"06/11/11\",\"06/11/11\",\"06/11/11\",\"06/11/11\",\"06/11/11\",\"19/11/11\",\"19/11/11\",\"19/11/11\",\"20/11/11\",\"20/11/11\",\"20/11/11\",\"20/11/11\",\"20/11/11\",\"21/11/11\",\"26/11/11\",\"26/11/11\",\"26/11/11\",\"27/11/11\",\"27/11/11\",\"27/11/11\",\"27/11/11\",\"27/11/11\",\"27/11/11\",\"28/11/11\",\"29/11/11\",\"03/12/11\",\"03/12/11\",\"03/12/11\",\"03/12/11\",\"04/12/11\",\"04/12/11\",\"04/12/11\",\"04/12/11\",\"04/12/11\",\"05/12/11\",\"07/12/11\",\"10/12/11\",\"10/12/11\",\"10/12/11\",\"11/12/11\",\"11/12/11\",\"11/12/11\",\"11/12/11\",\"11/12/11\",\"11/12/11\",\"11/12/11\",\"17/12/11\",\"17/12/11\",\"17/12/11\",\"17/12/11\",\"18/12/11\",\"18/12/11\",\"18/12/11\",\"18/12/11\",\"18/12/11\",\"07/01/12\",\"07/01/12\",\"07/01/12\",\"07/01/12\",\"07/01/12\",\"08/01/12\",\"08/01/12\",\"08/01/12\",\"08/01/12\",\"08/01/12\",\"14/01/12\",\"14/01/12\",\"14/01/12\",\"14/01/12\",\"14/01/12\",\"15/01/12\",\"15/01/12\",\"15/01/12\",\"15/01/12\",\"15/01/12\",\"21/01/12\",\"21/01/12\",\"21/01/12\",\"21/01/12\",\"22/01/12\",\"22/01/12\",\"22/01/12\",\"22/01/12\",\"22/01/12\",\"23/01/12\",\"28/01/12\",\"28/01/12\",\"28/01/12\",\"28/01/12\",\"29/01/12\",\"29/01/12\",\"29/01/12\",\"29/01/12\",\"29/01/12\",\"30/01/12\",\"04/02/12\",\"04/02/12\",\"04/02/12\",\"04/02/12\",\"04/02/12\",\"05/02/12\",\"05/02/12\",\"05/02/12\",\"05/02/12\",\"06/02/12\",\"11/02/12\",\"11/02/12\",\"11/02/12\",\"12/02/12\",\"12/02/12\",\"12/02/12\",\"12/02/12\",\"12/02/12\",\"12/02/12\",\"13/02/12\",\"18/02/12\",\"18/02/12\",\"18/02/12\",\"19/02/12\",\"19/02/12\",\"19/02/12\",\"19/02/12\",\"19/02/12\",\"19/02/12\",\"20/02/12\",\"25/02/12\",\"25/02/12\",\"25/02/12\",\"25/02/12\",\"26/02/12\",\"26/02/12\",\"26/02/12\",\"26/02/12\",\"26/02/12\",\"26/02/12\",\"03/03/12\",\"03/03/12\",\"03/03/12\",\"03/03/12\",\"03/03/12\",\"04/03/12\",\"04/03/12\",\"04/03/12\",\"04/03/12\",\"05/03/12\",\"10/03/12\",\"10/03/12\",\"10/03/12\",\"10/03/12\",\"11/03/12\",\"11/03/12\",\"11/03/12\",\"11/03/12\",\"11/03/12\",\"12/03/12\",\"17/03/12\",\"17/03/12\",\"17/03/12\",\"17/03/12\",\"17/03/12\",\"18/03/12\",\"18/03/12\",\"18/03/12\",\"18/03/12\",\"19/03/12\",\"20/03/12\",\"20/03/12\",\"21/03/12\",\"21/03/12\",\"21/03/12\",\"21/03/12\",\"21/03/12\",\"22/03/12\",\"22/03/12\",\"22/03/12\",\"24/03/12\",\"24/03/12\",\"24/03/12\",\"25/03/12\",\"25/03/12\",\"25/03/12\",\"25/03/12\",\"25/03/12\",\"25/03/12\",\"26/03/12\",\"31/03/12\",\"31/03/12\",\"31/03/12\",\"31/03/12\",\"31/03/12\",\"01/04/12\",\"01/04/12\",\"01/04/12\",\"01/04/12\",\"02/04/12\",\"07/04/12\",\"07/04/12\",\"07/04/12\",\"07/04/12\",\"07/04/12\",\"08/04/12\",\"08/04/12\",\"08/04/12\",\"08/04/12\",\"09/04/12\",\"10/04/12\",\"10/04/12\",\"10/04/12\",\"11/04/12\",\"11/04/12\",\"11/04/12\",\"11/04/12\",\"12/04/12\",\"12/04/12\",\"12/04/12\",\"14/04/12\",\"14/04/12\",\"15/04/12\",\"15/04/12\",\"15/04/12\",\"15/04/12\",\"15/04/12\",\"15/04/12\",\"15/04/12\",\"16/04/12\",\"21/04/12\",\"21/04/12\",\"21/04/12\",\"21/04/12\",\"22/04/12\",\"22/04/12\",\"22/04/12\",\"22/04/12\",\"22/04/12\",\"23/04/12\",\"28/04/12\",\"28/04/12\",\"28/04/12\",\"28/04/12\",\"28/04/12\",\"29/04/12\",\"29/04/12\",\"29/04/12\",\"29/04/12\",\"29/04/12\",\"01/05/12\",\"01/05/12\",\"01/05/12\",\"02/05/12\",\"02/05/12\",\"02/05/12\",\"02/05/12\",\"02/05/12\",\"02/05/12\",\"02/05/12\",\"05/05/12\",\"05/05/12\",\"05/05/12\",\"05/05/12\",\"05/05/12\",\"05/05/12\",\"05/05/12\",\"05/05/12\",\"05/05/12\",\"05/05/12\",\"12/05/12\",\"12/05/12\",\"13/05/12\",\"13/05/12\",\"13/05/12\",\"13/05/12\",\"13/05/12\",\"13/05/12\",\"13/05/12\",\"13/05/12\"],\"xaxis\":\"x\",\"y\":[14.0,12.5,12.5,18.0,8.5,10.5,18.0,11.0,16.0,14.5,11.0,13.5,16.5,14.5,13.0,19.0,19.0,17.0,16.5,11.5,11.5,14.0,16.5,14.5,16.0,16.5,17.0,17.0,18.0,17.5,16.5,16.0,11.5,18.0,18.0,19.5,9.5,13.5,12.0,20.5,19.5,17.5,12.5,14.0,16.0,12.5,11.0,15.0,14.5,17.5,16.5,13.5,14.0,7.5,13.0,18.5,12.0,15.5,15.5,13.0,11.0,16.0,15.0,16.0,14.5,15.5,17.0,13.0,11.0,13.5,8.5,10.0,15.0,13.0,16.0,17.5,20.5,11.0,20.0,7.5,11.5,13.5,15.5,14.0,13.5,13.5,11.5,18.0,15.0,9.5,13.5,18.0,16.5,12.5,15.0,16.5,13.0,16.5,15.0,9.5,17.5,16.0,13.0,19.0,11.5,18.0,16.5,11.0,16.5,16.0,18.5,20.5,20.5,13.5,15.5,11.0,12.5,17.0,12.0,11.0,16.5,15.0,13.0,14.0,14.0,13.0,23.5,17.5,13.5,12.5,11.0,21.0,15.0,15.5,17.0,12.0,21.0,7.0,11.0,13.5,16.5,13.5,16.0,17.5,18.0,18.0,10.5,10.5,11.5,15.5,14.5,16.5,18.5,11.0,15.5,12.5,9.5,18.0,13.5,15.0,19.5,20.5,11.0,17.5,14.0,14.0,11.5,13.5,18.5,16.0,13.0,15.0,14.5,8.5,10.0,10.5,10.5,14.0,16.0,16.0,12.5,11.5,12.0,16.0,15.0,12.5,19.5,11.0,13.0,14.5,14.0,10.5,16.0,15.0,10.0,15.0,17.0,16.0,12.5,19.5,12.0,12.5,15.0,10.5,14.5,23.0,14.0,16.5,14.0,13.0,17.0,15.0,21.5,20.5,11.5,12.5,17.0,21.0,13.5,16.5,13.0,12.5,13.0,16.0,10.5,16.0,13.0,17.0,20.0,15.0,13.5,15.5,18.5,17.5,17.0,15.0,11.0,18.5,16.5,20.0,17.0,18.0,14.0,17.5,14.0,12.5,16.5,16.0,19.0,13.5,14.0,13.5,14.5,14.0,13.0,24.5,19.5,17.5,13.0,11.5,16.0,13.0,13.5,22.0,16.5,20.5,16.0,14.0,15.0,18.0,11.5,15.5,13.0,14.5,20.0,9.5,20.0,16.0,11.5,13.5,17.5,11.5,11.0,16.5,16.0,13.5,13.0,16.0,16.5,12.5,12.5,15.0,15.5,15.5,25.0,17.5,17.0,13.5,14.5,13.0,15.0,15.5,22.5,14.0,17.5,13.0,12.0,14.5,14.0,12.5,9.5,15.0,10.0,16.5,11.0,14.0,18.0,18.5,15.0,14.5,11.5,16.5,14.5,8.5,17.0,10.0,19.5,10.5,17.5,9.5,15.5,16.5,13.5,17.5,12.5,10.5,15.0,12.5,13.0,10.5,12.0,12.0,10.0,15.0,12.0,18.0,17.0,10.5,13.5,12.0,21.0,11.0,14.0,16.5,11.5,15.5,11.5,16.0,9.5,14.5,10.5,17.0,18.5,13.5,9.0,18.5,11.5,17.5,16.0,19.0,13.0,12.0,15.0,20.0,5.5,17.0,11.5,10.0,16.5,13.5],\"yaxis\":\"y\",\"type\":\"scatter\"}],                        {\"template\":{\"data\":{\"histogram2dcontour\":[{\"type\":\"histogram2dcontour\",\"colorbar\":{\"outlinewidth\":0,\"ticks\":\"\"},\"colorscale\":[[0.0,\"#0d0887\"],[0.1111111111111111,\"#46039f\"],[0.2222222222222222,\"#7201a8\"],[0.3333333333333333,\"#9c179e\"],[0.4444444444444444,\"#bd3786\"],[0.5555555555555556,\"#d8576b\"],[0.6666666666666666,\"#ed7953\"],[0.7777777777777778,\"#fb9f3a\"],[0.8888888888888888,\"#fdca26\"],[1.0,\"#f0f921\"]]}],\"choropleth\":[{\"type\":\"choropleth\",\"colorbar\":{\"outlinewidth\":0,\"ticks\":\"\"}}],\"histogram2d\":[{\"type\":\"histogram2d\",\"colorbar\":{\"outlinewidth\":0,\"ticks\":\"\"},\"colorscale\":[[0.0,\"#0d0887\"],[0.1111111111111111,\"#46039f\"],[0.2222222222222222,\"#7201a8\"],[0.3333333333333333,\"#9c179e\"],[0.4444444444444444,\"#bd3786\"],[0.5555555555555556,\"#d8576b\"],[0.6666666666666666,\"#ed7953\"],[0.7777777777777778,\"#fb9f3a\"],[0.8888888888888888,\"#fdca26\"],[1.0,\"#f0f921\"]]}],\"heatmap\":[{\"type\":\"heatmap\",\"colorbar\":{\"outlinewidth\":0,\"ticks\":\"\"},\"colorscale\":[[0.0,\"#0d0887\"],[0.1111111111111111,\"#46039f\"],[0.2222222222222222,\"#7201a8\"],[0.3333333333333333,\"#9c179e\"],[0.4444444444444444,\"#bd3786\"],[0.5555555555555556,\"#d8576b\"],[0.6666666666666666,\"#ed7953\"],[0.7777777777777778,\"#fb9f3a\"],[0.8888888888888888,\"#fdca26\"],[1.0,\"#f0f921\"]]}],\"heatmapgl\":[{\"type\":\"heatmapgl\",\"colorbar\":{\"outlinewidth\":0,\"ticks\":\"\"},\"colorscale\":[[0.0,\"#0d0887\"],[0.1111111111111111,\"#46039f\"],[0.2222222222222222,\"#7201a8\"],[0.3333333333333333,\"#9c179e\"],[0.4444444444444444,\"#bd3786\"],[0.5555555555555556,\"#d8576b\"],[0.6666666666666666,\"#ed7953\"],[0.7777777777777778,\"#fb9f3a\"],[0.8888888888888888,\"#fdca26\"],[1.0,\"#f0f921\"]]}],\"contourcarpet\":[{\"type\":\"contourcarpet\",\"colorbar\":{\"outlinewidth\":0,\"ticks\":\"\"}}],\"contour\":[{\"type\":\"contour\",\"colorbar\":{\"outlinewidth\":0,\"ticks\":\"\"},\"colorscale\":[[0.0,\"#0d0887\"],[0.1111111111111111,\"#46039f\"],[0.2222222222222222,\"#7201a8\"],[0.3333333333333333,\"#9c179e\"],[0.4444444444444444,\"#bd3786\"],[0.5555555555555556,\"#d8576b\"],[0.6666666666666666,\"#ed7953\"],[0.7777777777777778,\"#fb9f3a\"],[0.8888888888888888,\"#fdca26\"],[1.0,\"#f0f921\"]]}],\"surface\":[{\"type\":\"surface\",\"colorbar\":{\"outlinewidth\":0,\"ticks\":\"\"},\"colorscale\":[[0.0,\"#0d0887\"],[0.1111111111111111,\"#46039f\"],[0.2222222222222222,\"#7201a8\"],[0.3333333333333333,\"#9c179e\"],[0.4444444444444444,\"#bd3786\"],[0.5555555555555556,\"#d8576b\"],[0.6666666666666666,\"#ed7953\"],[0.7777777777777778,\"#fb9f3a\"],[0.8888888888888888,\"#fdca26\"],[1.0,\"#f0f921\"]]}],\"mesh3d\":[{\"type\":\"mesh3d\",\"colorbar\":{\"outlinewidth\":0,\"ticks\":\"\"}}],\"scatter\":[{\"fillpattern\":{\"fillmode\":\"overlay\",\"size\":10,\"solidity\":0.2},\"type\":\"scatter\"}],\"parcoords\":[{\"type\":\"parcoords\",\"line\":{\"colorbar\":{\"outlinewidth\":0,\"ticks\":\"\"}}}],\"scatterpolargl\":[{\"type\":\"scatterpolargl\",\"marker\":{\"colorbar\":{\"outlinewidth\":0,\"ticks\":\"\"}}}],\"bar\":[{\"error_x\":{\"color\":\"#2a3f5f\"},\"error_y\":{\"color\":\"#2a3f5f\"},\"marker\":{\"line\":{\"color\":\"#E5ECF6\",\"width\":0.5},\"pattern\":{\"fillmode\":\"overlay\",\"size\":10,\"solidity\":0.2}},\"type\":\"bar\"}],\"scattergeo\":[{\"type\":\"scattergeo\",\"marker\":{\"colorbar\":{\"outlinewidth\":0,\"ticks\":\"\"}}}],\"scatterpolar\":[{\"type\":\"scatterpolar\",\"marker\":{\"colorbar\":{\"outlinewidth\":0,\"ticks\":\"\"}}}],\"histogram\":[{\"marker\":{\"pattern\":{\"fillmode\":\"overlay\",\"size\":10,\"solidity\":0.2}},\"type\":\"histogram\"}],\"scattergl\":[{\"type\":\"scattergl\",\"marker\":{\"colorbar\":{\"outlinewidth\":0,\"ticks\":\"\"}}}],\"scatter3d\":[{\"type\":\"scatter3d\",\"line\":{\"colorbar\":{\"outlinewidth\":0,\"ticks\":\"\"}},\"marker\":{\"colorbar\":{\"outlinewidth\":0,\"ticks\":\"\"}}}],\"scattermapbox\":[{\"type\":\"scattermapbox\",\"marker\":{\"colorbar\":{\"outlinewidth\":0,\"ticks\":\"\"}}}],\"scatterternary\":[{\"type\":\"scatterternary\",\"marker\":{\"colorbar\":{\"outlinewidth\":0,\"ticks\":\"\"}}}],\"scattercarpet\":[{\"type\":\"scattercarpet\",\"marker\":{\"colorbar\":{\"outlinewidth\":0,\"ticks\":\"\"}}}],\"carpet\":[{\"aaxis\":{\"endlinecolor\":\"#2a3f5f\",\"gridcolor\":\"white\",\"linecolor\":\"white\",\"minorgridcolor\":\"white\",\"startlinecolor\":\"#2a3f5f\"},\"baxis\":{\"endlinecolor\":\"#2a3f5f\",\"gridcolor\":\"white\",\"linecolor\":\"white\",\"minorgridcolor\":\"white\",\"startlinecolor\":\"#2a3f5f\"},\"type\":\"carpet\"}],\"table\":[{\"cells\":{\"fill\":{\"color\":\"#EBF0F8\"},\"line\":{\"color\":\"white\"}},\"header\":{\"fill\":{\"color\":\"#C8D4E3\"},\"line\":{\"color\":\"white\"}},\"type\":\"table\"}],\"barpolar\":[{\"marker\":{\"line\":{\"color\":\"#E5ECF6\",\"width\":0.5},\"pattern\":{\"fillmode\":\"overlay\",\"size\":10,\"solidity\":0.2}},\"type\":\"barpolar\"}],\"pie\":[{\"automargin\":true,\"type\":\"pie\"}]},\"layout\":{\"autotypenumbers\":\"strict\",\"colorway\":[\"#636efa\",\"#EF553B\",\"#00cc96\",\"#ab63fa\",\"#FFA15A\",\"#19d3f3\",\"#FF6692\",\"#B6E880\",\"#FF97FF\",\"#FECB52\"],\"font\":{\"color\":\"#2a3f5f\"},\"hovermode\":\"closest\",\"hoverlabel\":{\"align\":\"left\"},\"paper_bgcolor\":\"white\",\"plot_bgcolor\":\"#E5ECF6\",\"polar\":{\"bgcolor\":\"#E5ECF6\",\"angularaxis\":{\"gridcolor\":\"white\",\"linecolor\":\"white\",\"ticks\":\"\"},\"radialaxis\":{\"gridcolor\":\"white\",\"linecolor\":\"white\",\"ticks\":\"\"}},\"ternary\":{\"bgcolor\":\"#E5ECF6\",\"aaxis\":{\"gridcolor\":\"white\",\"linecolor\":\"white\",\"ticks\":\"\"},\"baxis\":{\"gridcolor\":\"white\",\"linecolor\":\"white\",\"ticks\":\"\"},\"caxis\":{\"gridcolor\":\"white\",\"linecolor\":\"white\",\"ticks\":\"\"}},\"coloraxis\":{\"colorbar\":{\"outlinewidth\":0,\"ticks\":\"\"}},\"colorscale\":{\"sequential\":[[0.0,\"#0d0887\"],[0.1111111111111111,\"#46039f\"],[0.2222222222222222,\"#7201a8\"],[0.3333333333333333,\"#9c179e\"],[0.4444444444444444,\"#bd3786\"],[0.5555555555555556,\"#d8576b\"],[0.6666666666666666,\"#ed7953\"],[0.7777777777777778,\"#fb9f3a\"],[0.8888888888888888,\"#fdca26\"],[1.0,\"#f0f921\"]],\"sequentialminus\":[[0.0,\"#0d0887\"],[0.1111111111111111,\"#46039f\"],[0.2222222222222222,\"#7201a8\"],[0.3333333333333333,\"#9c179e\"],[0.4444444444444444,\"#bd3786\"],[0.5555555555555556,\"#d8576b\"],[0.6666666666666666,\"#ed7953\"],[0.7777777777777778,\"#fb9f3a\"],[0.8888888888888888,\"#fdca26\"],[1.0,\"#f0f921\"]],\"diverging\":[[0,\"#8e0152\"],[0.1,\"#c51b7d\"],[0.2,\"#de77ae\"],[0.3,\"#f1b6da\"],[0.4,\"#fde0ef\"],[0.5,\"#f7f7f7\"],[0.6,\"#e6f5d0\"],[0.7,\"#b8e186\"],[0.8,\"#7fbc41\"],[0.9,\"#4d9221\"],[1,\"#276419\"]]},\"xaxis\":{\"gridcolor\":\"white\",\"linecolor\":\"white\",\"ticks\":\"\",\"title\":{\"standoff\":15},\"zerolinecolor\":\"white\",\"automargin\":true,\"zerolinewidth\":2},\"yaxis\":{\"gridcolor\":\"white\",\"linecolor\":\"white\",\"ticks\":\"\",\"title\":{\"standoff\":15},\"zerolinecolor\":\"white\",\"automargin\":true,\"zerolinewidth\":2},\"scene\":{\"xaxis\":{\"backgroundcolor\":\"#E5ECF6\",\"gridcolor\":\"white\",\"linecolor\":\"white\",\"showbackground\":true,\"ticks\":\"\",\"zerolinecolor\":\"white\",\"gridwidth\":2},\"yaxis\":{\"backgroundcolor\":\"#E5ECF6\",\"gridcolor\":\"white\",\"linecolor\":\"white\",\"showbackground\":true,\"ticks\":\"\",\"zerolinecolor\":\"white\",\"gridwidth\":2},\"zaxis\":{\"backgroundcolor\":\"#E5ECF6\",\"gridcolor\":\"white\",\"linecolor\":\"white\",\"showbackground\":true,\"ticks\":\"\",\"zerolinecolor\":\"white\",\"gridwidth\":2}},\"shapedefaults\":{\"line\":{\"color\":\"#2a3f5f\"}},\"annotationdefaults\":{\"arrowcolor\":\"#2a3f5f\",\"arrowhead\":0,\"arrowwidth\":1},\"geo\":{\"bgcolor\":\"white\",\"landcolor\":\"#E5ECF6\",\"subunitcolor\":\"white\",\"showland\":true,\"showlakes\":true,\"lakecolor\":\"white\"},\"title\":{\"x\":0.05},\"mapbox\":{\"style\":\"light\"}}},\"xaxis\":{\"anchor\":\"y\",\"domain\":[0.0,1.0],\"title\":{\"text\":\"Date\"}},\"yaxis\":{\"anchor\":\"x\",\"domain\":[0.0,1.0],\"title\":{\"text\":\"FPG\"}},\"legend\":{\"tracegroupgap\":0},\"title\":{\"text\":\"Evolution of Fouls per Game\"}},                        {\"responsive\": true}                    ).then(function(){\n",
       "                            \n",
       "var gd = document.getElementById('5d217360-5014-4340-9452-a45394a89de2');\n",
       "var x = new MutationObserver(function (mutations, observer) {{\n",
       "        var display = window.getComputedStyle(gd).display;\n",
       "        if (!display || display === 'none') {{\n",
       "            console.log([gd, 'removed!']);\n",
       "            Plotly.purge(gd);\n",
       "            observer.disconnect();\n",
       "        }}\n",
       "}});\n",
       "\n",
       "// Listen for the removal of the full notebook cells\n",
       "var notebookContainer = gd.closest('#notebook-container');\n",
       "if (notebookContainer) {{\n",
       "    x.observe(notebookContainer, {childList: true});\n",
       "}}\n",
       "\n",
       "// Listen for the clearing of the current output cell\n",
       "var outputEl = gd.closest('.output');\n",
       "if (outputEl) {{\n",
       "    x.observe(outputEl, {childList: true});\n",
       "}}\n",
       "\n",
       "                        })                };                });            </script>        </div>"
      ]
     },
     "metadata": {},
     "output_type": "display_data"
    }
   ],
   "source": [
    "# Create a new variable 'Fouls per Game'\n",
    "df['FPG'] = (df['HF'] + df['AF']) / 2\n",
    "\n",
    "# Create a line plot to show the evolution of fouls per game throughout the season\n",
    "fig = px.line(df, x='Date', y='FPG', color_discrete_sequence=['#1f77b4'],\n",
    "              title='Evolution of Fouls per Game')\n",
    "fig.show()"
   ]
  },
  {
   "cell_type": "markdown",
   "id": "6262187a",
   "metadata": {},
   "source": [
    "The above code creates a new variable FPG by taking the average of the number of fouls committed by the home team and the away team in each match. We then use Plotly to create a line plot that shows the evolution of fouls per game throughout the season. The plot shows that the number of fouls per game tends to increase towards the end of the season, possibly due to the increased pressure to win crucial matches."
   ]
  },
  {
   "cell_type": "markdown",
   "id": "e51b507c",
   "metadata": {},
   "source": [
    "<h3 style=\"background-color:#0c519c; color:white; padding:8px; font-size:20px; font-family: consolas; border-radius:8px;\">Yellow Card Ratio</h3>"
   ]
  },
  {
   "cell_type": "markdown",
   "id": "61520bc4",
   "metadata": {},
   "source": [
    "The yellow card ratio tells us the average number of yellow cards shown per team per game. We can calculate the yellow card ratio by taking the total number of yellow cards shown in a season and dividing it by the total number of games played.\n",
    "\n",
    "Formula: $Yellow \\ card \\ ratio = \\frac{YC}{GP}$, where $YC$ is the total number of yellow cards shown in a season and $GP$ is the total number of games played."
   ]
  },
  {
   "cell_type": "code",
   "execution_count": null,
   "id": "c566006f",
   "metadata": {},
   "outputs": [
    {
     "data": {
      "application/vnd.plotly.v1+json": {
       "config": {
        "plotlyServerURL": "https://plot.ly"
       },
       "data": [
        {
         "alignmentgroup": "True",
         "hovertemplate": "YCR=%{y}<extra></extra>",
         "legendgroup": "",
         "marker": {
          "color": "#1f77b4"
         },
         "name": "",
         "notched": false,
         "offsetgroup": "",
         "orientation": "v",
         "showlegend": false,
         "type": "box",
         "x0": " ",
         "xaxis": "x",
         "y": [
          0.5,
          0.6666666666666666,
          0.5,
          0.25,
          1,
          0.625,
          0.4,
          0.75,
          0.6666666666666666,
          0.5,
          0.5,
          0.6666666666666666,
          0.3333333333333333,
          0.3333333333333333,
          0.3333333333333333,
          0.6666666666666666,
          0.4,
          0.5,
          0.5,
          0.3333333333333333,
          0.16666666666666666,
          0.7777777777777778,
          0.6666666666666666,
          0.6,
          0.16666666666666666,
          0.42857142857142855,
          0.6,
          0.375,
          0.7,
          0.3333333333333333,
          0.6,
          0.7142857142857143,
          0,
          0.3333333333333333,
          0.3333333333333333,
          0.6666666666666666,
          0.8,
          0.6666666666666666,
          0,
          0.8333333333333334,
          0.75,
          0.5,
          0,
          0.4,
          0.5,
          0.2,
          1,
          0.3333333333333333,
          0.5,
          0.625,
          0.25,
          0.3333333333333333,
          0.2,
          1,
          0.25,
          0.45454545454545453,
          0.3333333333333333,
          0.8,
          0.2,
          0.5,
          0,
          0.4444444444444444,
          0.375,
          0.42857142857142855,
          0.25,
          1,
          0.6666666666666666,
          0.5,
          0.5,
          0.6666666666666666,
          0.2,
          1,
          0.2,
          0.6666666666666666,
          0.25,
          0.4,
          0.25,
          0.6666666666666666,
          0.42857142857142855,
          0.6666666666666666,
          0.42857142857142855,
          0.25,
          0.4,
          0.75,
          0.5,
          0.4,
          0.4,
          0.42857142857142855,
          0.375,
          0.7142857142857143,
          0.3333333333333333,
          0.7142857142857143,
          0.5,
          0.375,
          0.5,
          0,
          0.25,
          0.8,
          0.25,
          0.5,
          0.6666666666666666,
          0.6666666666666666,
          0.7142857142857143,
          0.75,
          0.25,
          0.45454545454545453,
          0.4444444444444444,
          0,
          0.5,
          0.6666666666666666,
          0.4,
          0.3,
          0.7142857142857143,
          0.6666666666666666,
          0.375,
          0.5,
          0.8,
          0.2727272727272727,
          0.6,
          0.6666666666666666,
          0.16666666666666666,
          0.3333333333333333,
          0.3333333333333333,
          0.5,
          0.5,
          0.6,
          0.6,
          0.7142857142857143,
          0.4,
          0.4,
          0.4,
          0.4,
          0.5714285714285714,
          0.5454545454545454,
          0.25,
          0.5,
          0.5833333333333334,
          0.6,
          0.4,
          0.3333333333333333,
          0.5714285714285714,
          0.5,
          0.3333333333333333,
          0.5714285714285714,
          0.3333333333333333,
          0.42857142857142855,
          0.6666666666666666,
          0.5,
          0.5,
          0.5,
          0.6666666666666666,
          0.2,
          0.5555555555555556,
          0.5,
          0,
          0.5,
          0.16666666666666666,
          0.5,
          0.7142857142857143,
          0.6666666666666666,
          0.4,
          0.375,
          0.5,
          0.4,
          0,
          0.3333333333333333,
          0.8571428571428571,
          0.75,
          0.5,
          0.5555555555555556,
          0.625,
          0.8,
          0.2,
          1,
          0.6,
          0.3333333333333333,
          0.75,
          0.42857142857142855,
          0.625,
          0.625,
          1,
          0.25,
          0.3333333333333333,
          0.36363636363636365,
          null,
          1,
          0.5,
          0.6,
          0.16666666666666666,
          0.25,
          0.7142857142857143,
          0.3333333333333333,
          0.3333333333333333,
          1,
          0.3333333333333333,
          0.3333333333333333,
          0.36363636363636365,
          0.5,
          0,
          0.5,
          0.625,
          0,
          1,
          0.6666666666666666,
          0.6666666666666666,
          0.4,
          0.3333333333333333,
          0.5,
          0.6666666666666666,
          0.8,
          0.8333333333333334,
          0.25,
          0.5,
          0.2857142857142857,
          0.5,
          0.6,
          0.5,
          0.625,
          0.5,
          0.3333333333333333,
          0.4,
          0.75,
          0.5,
          0.8,
          0,
          0.3333333333333333,
          0.625,
          0.6666666666666666,
          0.7142857142857143,
          0.42857142857142855,
          0.2222222222222222,
          0.2857142857142857,
          0.25,
          0.25,
          0.5833333333333334,
          0.42857142857142855,
          0.3333333333333333,
          0.6,
          0.3333333333333333,
          0.2,
          0.36363636363636365,
          0.42857142857142855,
          0.4,
          0.2857142857142857,
          0.5,
          0.4,
          0.3076923076923077,
          0.25,
          0.4,
          0.625,
          0.25,
          0.6666666666666666,
          0.6666666666666666,
          0.6,
          0.5,
          0.6666666666666666,
          0.2222222222222222,
          1,
          0.2,
          0.5,
          0.5,
          0,
          0.5,
          0.5,
          0.7142857142857143,
          0.3333333333333333,
          0.42857142857142855,
          0.8,
          0.6666666666666666,
          0.6666666666666666,
          0.2222222222222222,
          1,
          0.5714285714285714,
          0.25,
          0.3333333333333333,
          0.42857142857142855,
          0.5,
          0.3333333333333333,
          0.42857142857142855,
          0.5714285714285714,
          0.3333333333333333,
          0.6666666666666666,
          0.2,
          0.3333333333333333,
          0.375,
          0.75,
          0.5,
          0.75,
          0,
          0.5,
          0.25,
          0.2,
          0.6666666666666666,
          0.6666666666666666,
          0.3,
          0.3333333333333333,
          0.25,
          0.5714285714285714,
          0.25,
          0.6666666666666666,
          0.75,
          0.625,
          0.5,
          0.2,
          0.4444444444444444,
          0.5,
          0.4444444444444444,
          0.8,
          0.5,
          0.6,
          0.5,
          0.42857142857142855,
          0,
          0.4,
          0.4,
          1,
          0.2222222222222222,
          0.75,
          0.25,
          0,
          0.7142857142857143,
          0.2857142857142857,
          0.2,
          0.3333333333333333,
          0.375,
          1,
          0.75,
          0.5,
          0.5,
          0.5,
          0.3333333333333333,
          0.5,
          0.375,
          0.6666666666666666,
          0.6,
          0.5,
          0.5,
          0.6,
          0.5,
          0.6666666666666666,
          0.4,
          0.5714285714285714,
          0.25,
          0.16666666666666666,
          0.3333333333333333,
          0.6,
          0.5,
          0.6,
          0.75,
          0.3333333333333333,
          0.5714285714285714,
          0,
          0.5,
          0.375,
          0.6666666666666666,
          0.5,
          0.3333333333333333,
          0.42857142857142855,
          0.16666666666666666,
          0.5,
          0.25,
          0.75,
          0.4444444444444444,
          0.5,
          0.25,
          0.8333333333333334,
          0.375,
          0.4,
          0.625,
          0.3333333333333333,
          1,
          1,
          0.6666666666666666,
          0.3333333333333333,
          1,
          0.375,
          0,
          0,
          0.42857142857142855,
          0.5
         ],
         "y0": " ",
         "yaxis": "y"
        }
       ],
       "layout": {
        "boxmode": "group",
        "legend": {
         "tracegroupgap": 0
        },
        "template": {
         "data": {
          "bar": [
           {
            "error_x": {
             "color": "#2a3f5f"
            },
            "error_y": {
             "color": "#2a3f5f"
            },
            "marker": {
             "line": {
              "color": "#E5ECF6",
              "width": 0.5
             },
             "pattern": {
              "fillmode": "overlay",
              "size": 10,
              "solidity": 0.2
             }
            },
            "type": "bar"
           }
          ],
          "barpolar": [
           {
            "marker": {
             "line": {
              "color": "#E5ECF6",
              "width": 0.5
             },
             "pattern": {
              "fillmode": "overlay",
              "size": 10,
              "solidity": 0.2
             }
            },
            "type": "barpolar"
           }
          ],
          "carpet": [
           {
            "aaxis": {
             "endlinecolor": "#2a3f5f",
             "gridcolor": "white",
             "linecolor": "white",
             "minorgridcolor": "white",
             "startlinecolor": "#2a3f5f"
            },
            "baxis": {
             "endlinecolor": "#2a3f5f",
             "gridcolor": "white",
             "linecolor": "white",
             "minorgridcolor": "white",
             "startlinecolor": "#2a3f5f"
            },
            "type": "carpet"
           }
          ],
          "choropleth": [
           {
            "colorbar": {
             "outlinewidth": 0,
             "ticks": ""
            },
            "type": "choropleth"
           }
          ],
          "contour": [
           {
            "colorbar": {
             "outlinewidth": 0,
             "ticks": ""
            },
            "colorscale": [
             [
              0,
              "#0d0887"
             ],
             [
              0.1111111111111111,
              "#46039f"
             ],
             [
              0.2222222222222222,
              "#7201a8"
             ],
             [
              0.3333333333333333,
              "#9c179e"
             ],
             [
              0.4444444444444444,
              "#bd3786"
             ],
             [
              0.5555555555555556,
              "#d8576b"
             ],
             [
              0.6666666666666666,
              "#ed7953"
             ],
             [
              0.7777777777777778,
              "#fb9f3a"
             ],
             [
              0.8888888888888888,
              "#fdca26"
             ],
             [
              1,
              "#f0f921"
             ]
            ],
            "type": "contour"
           }
          ],
          "contourcarpet": [
           {
            "colorbar": {
             "outlinewidth": 0,
             "ticks": ""
            },
            "type": "contourcarpet"
           }
          ],
          "heatmap": [
           {
            "colorbar": {
             "outlinewidth": 0,
             "ticks": ""
            },
            "colorscale": [
             [
              0,
              "#0d0887"
             ],
             [
              0.1111111111111111,
              "#46039f"
             ],
             [
              0.2222222222222222,
              "#7201a8"
             ],
             [
              0.3333333333333333,
              "#9c179e"
             ],
             [
              0.4444444444444444,
              "#bd3786"
             ],
             [
              0.5555555555555556,
              "#d8576b"
             ],
             [
              0.6666666666666666,
              "#ed7953"
             ],
             [
              0.7777777777777778,
              "#fb9f3a"
             ],
             [
              0.8888888888888888,
              "#fdca26"
             ],
             [
              1,
              "#f0f921"
             ]
            ],
            "type": "heatmap"
           }
          ],
          "heatmapgl": [
           {
            "colorbar": {
             "outlinewidth": 0,
             "ticks": ""
            },
            "colorscale": [
             [
              0,
              "#0d0887"
             ],
             [
              0.1111111111111111,
              "#46039f"
             ],
             [
              0.2222222222222222,
              "#7201a8"
             ],
             [
              0.3333333333333333,
              "#9c179e"
             ],
             [
              0.4444444444444444,
              "#bd3786"
             ],
             [
              0.5555555555555556,
              "#d8576b"
             ],
             [
              0.6666666666666666,
              "#ed7953"
             ],
             [
              0.7777777777777778,
              "#fb9f3a"
             ],
             [
              0.8888888888888888,
              "#fdca26"
             ],
             [
              1,
              "#f0f921"
             ]
            ],
            "type": "heatmapgl"
           }
          ],
          "histogram": [
           {
            "marker": {
             "pattern": {
              "fillmode": "overlay",
              "size": 10,
              "solidity": 0.2
             }
            },
            "type": "histogram"
           }
          ],
          "histogram2d": [
           {
            "colorbar": {
             "outlinewidth": 0,
             "ticks": ""
            },
            "colorscale": [
             [
              0,
              "#0d0887"
             ],
             [
              0.1111111111111111,
              "#46039f"
             ],
             [
              0.2222222222222222,
              "#7201a8"
             ],
             [
              0.3333333333333333,
              "#9c179e"
             ],
             [
              0.4444444444444444,
              "#bd3786"
             ],
             [
              0.5555555555555556,
              "#d8576b"
             ],
             [
              0.6666666666666666,
              "#ed7953"
             ],
             [
              0.7777777777777778,
              "#fb9f3a"
             ],
             [
              0.8888888888888888,
              "#fdca26"
             ],
             [
              1,
              "#f0f921"
             ]
            ],
            "type": "histogram2d"
           }
          ],
          "histogram2dcontour": [
           {
            "colorbar": {
             "outlinewidth": 0,
             "ticks": ""
            },
            "colorscale": [
             [
              0,
              "#0d0887"
             ],
             [
              0.1111111111111111,
              "#46039f"
             ],
             [
              0.2222222222222222,
              "#7201a8"
             ],
             [
              0.3333333333333333,
              "#9c179e"
             ],
             [
              0.4444444444444444,
              "#bd3786"
             ],
             [
              0.5555555555555556,
              "#d8576b"
             ],
             [
              0.6666666666666666,
              "#ed7953"
             ],
             [
              0.7777777777777778,
              "#fb9f3a"
             ],
             [
              0.8888888888888888,
              "#fdca26"
             ],
             [
              1,
              "#f0f921"
             ]
            ],
            "type": "histogram2dcontour"
           }
          ],
          "mesh3d": [
           {
            "colorbar": {
             "outlinewidth": 0,
             "ticks": ""
            },
            "type": "mesh3d"
           }
          ],
          "parcoords": [
           {
            "line": {
             "colorbar": {
              "outlinewidth": 0,
              "ticks": ""
             }
            },
            "type": "parcoords"
           }
          ],
          "pie": [
           {
            "automargin": true,
            "type": "pie"
           }
          ],
          "scatter": [
           {
            "fillpattern": {
             "fillmode": "overlay",
             "size": 10,
             "solidity": 0.2
            },
            "type": "scatter"
           }
          ],
          "scatter3d": [
           {
            "line": {
             "colorbar": {
              "outlinewidth": 0,
              "ticks": ""
             }
            },
            "marker": {
             "colorbar": {
              "outlinewidth": 0,
              "ticks": ""
             }
            },
            "type": "scatter3d"
           }
          ],
          "scattercarpet": [
           {
            "marker": {
             "colorbar": {
              "outlinewidth": 0,
              "ticks": ""
             }
            },
            "type": "scattercarpet"
           }
          ],
          "scattergeo": [
           {
            "marker": {
             "colorbar": {
              "outlinewidth": 0,
              "ticks": ""
             }
            },
            "type": "scattergeo"
           }
          ],
          "scattergl": [
           {
            "marker": {
             "colorbar": {
              "outlinewidth": 0,
              "ticks": ""
             }
            },
            "type": "scattergl"
           }
          ],
          "scattermapbox": [
           {
            "marker": {
             "colorbar": {
              "outlinewidth": 0,
              "ticks": ""
             }
            },
            "type": "scattermapbox"
           }
          ],
          "scatterpolar": [
           {
            "marker": {
             "colorbar": {
              "outlinewidth": 0,
              "ticks": ""
             }
            },
            "type": "scatterpolar"
           }
          ],
          "scatterpolargl": [
           {
            "marker": {
             "colorbar": {
              "outlinewidth": 0,
              "ticks": ""
             }
            },
            "type": "scatterpolargl"
           }
          ],
          "scatterternary": [
           {
            "marker": {
             "colorbar": {
              "outlinewidth": 0,
              "ticks": ""
             }
            },
            "type": "scatterternary"
           }
          ],
          "surface": [
           {
            "colorbar": {
             "outlinewidth": 0,
             "ticks": ""
            },
            "colorscale": [
             [
              0,
              "#0d0887"
             ],
             [
              0.1111111111111111,
              "#46039f"
             ],
             [
              0.2222222222222222,
              "#7201a8"
             ],
             [
              0.3333333333333333,
              "#9c179e"
             ],
             [
              0.4444444444444444,
              "#bd3786"
             ],
             [
              0.5555555555555556,
              "#d8576b"
             ],
             [
              0.6666666666666666,
              "#ed7953"
             ],
             [
              0.7777777777777778,
              "#fb9f3a"
             ],
             [
              0.8888888888888888,
              "#fdca26"
             ],
             [
              1,
              "#f0f921"
             ]
            ],
            "type": "surface"
           }
          ],
          "table": [
           {
            "cells": {
             "fill": {
              "color": "#EBF0F8"
             },
             "line": {
              "color": "white"
             }
            },
            "header": {
             "fill": {
              "color": "#C8D4E3"
             },
             "line": {
              "color": "white"
             }
            },
            "type": "table"
           }
          ]
         },
         "layout": {
          "annotationdefaults": {
           "arrowcolor": "#2a3f5f",
           "arrowhead": 0,
           "arrowwidth": 1
          },
          "autotypenumbers": "strict",
          "coloraxis": {
           "colorbar": {
            "outlinewidth": 0,
            "ticks": ""
           }
          },
          "colorscale": {
           "diverging": [
            [
             0,
             "#8e0152"
            ],
            [
             0.1,
             "#c51b7d"
            ],
            [
             0.2,
             "#de77ae"
            ],
            [
             0.3,
             "#f1b6da"
            ],
            [
             0.4,
             "#fde0ef"
            ],
            [
             0.5,
             "#f7f7f7"
            ],
            [
             0.6,
             "#e6f5d0"
            ],
            [
             0.7,
             "#b8e186"
            ],
            [
             0.8,
             "#7fbc41"
            ],
            [
             0.9,
             "#4d9221"
            ],
            [
             1,
             "#276419"
            ]
           ],
           "sequential": [
            [
             0,
             "#0d0887"
            ],
            [
             0.1111111111111111,
             "#46039f"
            ],
            [
             0.2222222222222222,
             "#7201a8"
            ],
            [
             0.3333333333333333,
             "#9c179e"
            ],
            [
             0.4444444444444444,
             "#bd3786"
            ],
            [
             0.5555555555555556,
             "#d8576b"
            ],
            [
             0.6666666666666666,
             "#ed7953"
            ],
            [
             0.7777777777777778,
             "#fb9f3a"
            ],
            [
             0.8888888888888888,
             "#fdca26"
            ],
            [
             1,
             "#f0f921"
            ]
           ],
           "sequentialminus": [
            [
             0,
             "#0d0887"
            ],
            [
             0.1111111111111111,
             "#46039f"
            ],
            [
             0.2222222222222222,
             "#7201a8"
            ],
            [
             0.3333333333333333,
             "#9c179e"
            ],
            [
             0.4444444444444444,
             "#bd3786"
            ],
            [
             0.5555555555555556,
             "#d8576b"
            ],
            [
             0.6666666666666666,
             "#ed7953"
            ],
            [
             0.7777777777777778,
             "#fb9f3a"
            ],
            [
             0.8888888888888888,
             "#fdca26"
            ],
            [
             1,
             "#f0f921"
            ]
           ]
          },
          "colorway": [
           "#636efa",
           "#EF553B",
           "#00cc96",
           "#ab63fa",
           "#FFA15A",
           "#19d3f3",
           "#FF6692",
           "#B6E880",
           "#FF97FF",
           "#FECB52"
          ],
          "font": {
           "color": "#2a3f5f"
          },
          "geo": {
           "bgcolor": "white",
           "lakecolor": "white",
           "landcolor": "#E5ECF6",
           "showlakes": true,
           "showland": true,
           "subunitcolor": "white"
          },
          "hoverlabel": {
           "align": "left"
          },
          "hovermode": "closest",
          "mapbox": {
           "style": "light"
          },
          "paper_bgcolor": "white",
          "plot_bgcolor": "#E5ECF6",
          "polar": {
           "angularaxis": {
            "gridcolor": "white",
            "linecolor": "white",
            "ticks": ""
           },
           "bgcolor": "#E5ECF6",
           "radialaxis": {
            "gridcolor": "white",
            "linecolor": "white",
            "ticks": ""
           }
          },
          "scene": {
           "xaxis": {
            "backgroundcolor": "#E5ECF6",
            "gridcolor": "white",
            "gridwidth": 2,
            "linecolor": "white",
            "showbackground": true,
            "ticks": "",
            "zerolinecolor": "white"
           },
           "yaxis": {
            "backgroundcolor": "#E5ECF6",
            "gridcolor": "white",
            "gridwidth": 2,
            "linecolor": "white",
            "showbackground": true,
            "ticks": "",
            "zerolinecolor": "white"
           },
           "zaxis": {
            "backgroundcolor": "#E5ECF6",
            "gridcolor": "white",
            "gridwidth": 2,
            "linecolor": "white",
            "showbackground": true,
            "ticks": "",
            "zerolinecolor": "white"
           }
          },
          "shapedefaults": {
           "line": {
            "color": "#2a3f5f"
           }
          },
          "ternary": {
           "aaxis": {
            "gridcolor": "white",
            "linecolor": "white",
            "ticks": ""
           },
           "baxis": {
            "gridcolor": "white",
            "linecolor": "white",
            "ticks": ""
           },
           "bgcolor": "#E5ECF6",
           "caxis": {
            "gridcolor": "white",
            "linecolor": "white",
            "ticks": ""
           }
          },
          "title": {
           "x": 0.05
          },
          "xaxis": {
           "automargin": true,
           "gridcolor": "white",
           "linecolor": "white",
           "ticks": "",
           "title": {
            "standoff": 15
           },
           "zerolinecolor": "white",
           "zerolinewidth": 2
          },
          "yaxis": {
           "automargin": true,
           "gridcolor": "white",
           "linecolor": "white",
           "ticks": "",
           "title": {
            "standoff": 15
           },
           "zerolinecolor": "white",
           "zerolinewidth": 2
          }
         }
        },
        "title": {
         "text": "Distribution of Yellow Card Ratios"
        },
        "xaxis": {
         "anchor": "y",
         "domain": [
          0,
          1
         ]
        },
        "yaxis": {
         "anchor": "x",
         "domain": [
          0,
          1
         ],
         "title": {
          "text": "YCR"
         }
        }
       }
      },
      "text/html": [
       "<div>                            <div id=\"f45daa49-9c82-4bd4-9f47-0c058642a374\" class=\"plotly-graph-div\" style=\"height:525px; width:100%;\"></div>            <script type=\"text/javascript\">                require([\"plotly\"], function(Plotly) {                    window.PLOTLYENV=window.PLOTLYENV || {};                                    if (document.getElementById(\"f45daa49-9c82-4bd4-9f47-0c058642a374\")) {                    Plotly.newPlot(                        \"f45daa49-9c82-4bd4-9f47-0c058642a374\",                        [{\"alignmentgroup\":\"True\",\"hovertemplate\":\"YCR=%{y}<extra></extra>\",\"legendgroup\":\"\",\"marker\":{\"color\":\"#1f77b4\"},\"name\":\"\",\"notched\":false,\"offsetgroup\":\"\",\"orientation\":\"v\",\"showlegend\":false,\"x0\":\" \",\"xaxis\":\"x\",\"y\":[0.5,0.6666666666666666,0.5,0.25,1.0,0.625,0.4,0.75,0.6666666666666666,0.5,0.5,0.6666666666666666,0.3333333333333333,0.3333333333333333,0.3333333333333333,0.6666666666666666,0.4,0.5,0.5,0.3333333333333333,0.16666666666666666,0.7777777777777778,0.6666666666666666,0.6,0.16666666666666666,0.42857142857142855,0.6,0.375,0.7,0.3333333333333333,0.6,0.7142857142857143,0.0,0.3333333333333333,0.3333333333333333,0.6666666666666666,0.8,0.6666666666666666,0.0,0.8333333333333334,0.75,0.5,0.0,0.4,0.5,0.2,1.0,0.3333333333333333,0.5,0.625,0.25,0.3333333333333333,0.2,1.0,0.25,0.45454545454545453,0.3333333333333333,0.8,0.2,0.5,0.0,0.4444444444444444,0.375,0.42857142857142855,0.25,1.0,0.6666666666666666,0.5,0.5,0.6666666666666666,0.2,1.0,0.2,0.6666666666666666,0.25,0.4,0.25,0.6666666666666666,0.42857142857142855,0.6666666666666666,0.42857142857142855,0.25,0.4,0.75,0.5,0.4,0.4,0.42857142857142855,0.375,0.7142857142857143,0.3333333333333333,0.7142857142857143,0.5,0.375,0.5,0.0,0.25,0.8,0.25,0.5,0.6666666666666666,0.6666666666666666,0.7142857142857143,0.75,0.25,0.45454545454545453,0.4444444444444444,0.0,0.5,0.6666666666666666,0.4,0.3,0.7142857142857143,0.6666666666666666,0.375,0.5,0.8,0.2727272727272727,0.6,0.6666666666666666,0.16666666666666666,0.3333333333333333,0.3333333333333333,0.5,0.5,0.6,0.6,0.7142857142857143,0.4,0.4,0.4,0.4,0.5714285714285714,0.5454545454545454,0.25,0.5,0.5833333333333334,0.6,0.4,0.3333333333333333,0.5714285714285714,0.5,0.3333333333333333,0.5714285714285714,0.3333333333333333,0.42857142857142855,0.6666666666666666,0.5,0.5,0.5,0.6666666666666666,0.2,0.5555555555555556,0.5,0.0,0.5,0.16666666666666666,0.5,0.7142857142857143,0.6666666666666666,0.4,0.375,0.5,0.4,0.0,0.3333333333333333,0.8571428571428571,0.75,0.5,0.5555555555555556,0.625,0.8,0.2,1.0,0.6,0.3333333333333333,0.75,0.42857142857142855,0.625,0.625,1.0,0.25,0.3333333333333333,0.36363636363636365,null,1.0,0.5,0.6,0.16666666666666666,0.25,0.7142857142857143,0.3333333333333333,0.3333333333333333,1.0,0.3333333333333333,0.3333333333333333,0.36363636363636365,0.5,0.0,0.5,0.625,0.0,1.0,0.6666666666666666,0.6666666666666666,0.4,0.3333333333333333,0.5,0.6666666666666666,0.8,0.8333333333333334,0.25,0.5,0.2857142857142857,0.5,0.6,0.5,0.625,0.5,0.3333333333333333,0.4,0.75,0.5,0.8,0.0,0.3333333333333333,0.625,0.6666666666666666,0.7142857142857143,0.42857142857142855,0.2222222222222222,0.2857142857142857,0.25,0.25,0.5833333333333334,0.42857142857142855,0.3333333333333333,0.6,0.3333333333333333,0.2,0.36363636363636365,0.42857142857142855,0.4,0.2857142857142857,0.5,0.4,0.3076923076923077,0.25,0.4,0.625,0.25,0.6666666666666666,0.6666666666666666,0.6,0.5,0.6666666666666666,0.2222222222222222,1.0,0.2,0.5,0.5,0.0,0.5,0.5,0.7142857142857143,0.3333333333333333,0.42857142857142855,0.8,0.6666666666666666,0.6666666666666666,0.2222222222222222,1.0,0.5714285714285714,0.25,0.3333333333333333,0.42857142857142855,0.5,0.3333333333333333,0.42857142857142855,0.5714285714285714,0.3333333333333333,0.6666666666666666,0.2,0.3333333333333333,0.375,0.75,0.5,0.75,0.0,0.5,0.25,0.2,0.6666666666666666,0.6666666666666666,0.3,0.3333333333333333,0.25,0.5714285714285714,0.25,0.6666666666666666,0.75,0.625,0.5,0.2,0.4444444444444444,0.5,0.4444444444444444,0.8,0.5,0.6,0.5,0.42857142857142855,0.0,0.4,0.4,1.0,0.2222222222222222,0.75,0.25,0.0,0.7142857142857143,0.2857142857142857,0.2,0.3333333333333333,0.375,1.0,0.75,0.5,0.5,0.5,0.3333333333333333,0.5,0.375,0.6666666666666666,0.6,0.5,0.5,0.6,0.5,0.6666666666666666,0.4,0.5714285714285714,0.25,0.16666666666666666,0.3333333333333333,0.6,0.5,0.6,0.75,0.3333333333333333,0.5714285714285714,0.0,0.5,0.375,0.6666666666666666,0.5,0.3333333333333333,0.42857142857142855,0.16666666666666666,0.5,0.25,0.75,0.4444444444444444,0.5,0.25,0.8333333333333334,0.375,0.4,0.625,0.3333333333333333,1.0,1.0,0.6666666666666666,0.3333333333333333,1.0,0.375,0.0,0.0,0.42857142857142855,0.5],\"y0\":\" \",\"yaxis\":\"y\",\"type\":\"box\"}],                        {\"template\":{\"data\":{\"histogram2dcontour\":[{\"type\":\"histogram2dcontour\",\"colorbar\":{\"outlinewidth\":0,\"ticks\":\"\"},\"colorscale\":[[0.0,\"#0d0887\"],[0.1111111111111111,\"#46039f\"],[0.2222222222222222,\"#7201a8\"],[0.3333333333333333,\"#9c179e\"],[0.4444444444444444,\"#bd3786\"],[0.5555555555555556,\"#d8576b\"],[0.6666666666666666,\"#ed7953\"],[0.7777777777777778,\"#fb9f3a\"],[0.8888888888888888,\"#fdca26\"],[1.0,\"#f0f921\"]]}],\"choropleth\":[{\"type\":\"choropleth\",\"colorbar\":{\"outlinewidth\":0,\"ticks\":\"\"}}],\"histogram2d\":[{\"type\":\"histogram2d\",\"colorbar\":{\"outlinewidth\":0,\"ticks\":\"\"},\"colorscale\":[[0.0,\"#0d0887\"],[0.1111111111111111,\"#46039f\"],[0.2222222222222222,\"#7201a8\"],[0.3333333333333333,\"#9c179e\"],[0.4444444444444444,\"#bd3786\"],[0.5555555555555556,\"#d8576b\"],[0.6666666666666666,\"#ed7953\"],[0.7777777777777778,\"#fb9f3a\"],[0.8888888888888888,\"#fdca26\"],[1.0,\"#f0f921\"]]}],\"heatmap\":[{\"type\":\"heatmap\",\"colorbar\":{\"outlinewidth\":0,\"ticks\":\"\"},\"colorscale\":[[0.0,\"#0d0887\"],[0.1111111111111111,\"#46039f\"],[0.2222222222222222,\"#7201a8\"],[0.3333333333333333,\"#9c179e\"],[0.4444444444444444,\"#bd3786\"],[0.5555555555555556,\"#d8576b\"],[0.6666666666666666,\"#ed7953\"],[0.7777777777777778,\"#fb9f3a\"],[0.8888888888888888,\"#fdca26\"],[1.0,\"#f0f921\"]]}],\"heatmapgl\":[{\"type\":\"heatmapgl\",\"colorbar\":{\"outlinewidth\":0,\"ticks\":\"\"},\"colorscale\":[[0.0,\"#0d0887\"],[0.1111111111111111,\"#46039f\"],[0.2222222222222222,\"#7201a8\"],[0.3333333333333333,\"#9c179e\"],[0.4444444444444444,\"#bd3786\"],[0.5555555555555556,\"#d8576b\"],[0.6666666666666666,\"#ed7953\"],[0.7777777777777778,\"#fb9f3a\"],[0.8888888888888888,\"#fdca26\"],[1.0,\"#f0f921\"]]}],\"contourcarpet\":[{\"type\":\"contourcarpet\",\"colorbar\":{\"outlinewidth\":0,\"ticks\":\"\"}}],\"contour\":[{\"type\":\"contour\",\"colorbar\":{\"outlinewidth\":0,\"ticks\":\"\"},\"colorscale\":[[0.0,\"#0d0887\"],[0.1111111111111111,\"#46039f\"],[0.2222222222222222,\"#7201a8\"],[0.3333333333333333,\"#9c179e\"],[0.4444444444444444,\"#bd3786\"],[0.5555555555555556,\"#d8576b\"],[0.6666666666666666,\"#ed7953\"],[0.7777777777777778,\"#fb9f3a\"],[0.8888888888888888,\"#fdca26\"],[1.0,\"#f0f921\"]]}],\"surface\":[{\"type\":\"surface\",\"colorbar\":{\"outlinewidth\":0,\"ticks\":\"\"},\"colorscale\":[[0.0,\"#0d0887\"],[0.1111111111111111,\"#46039f\"],[0.2222222222222222,\"#7201a8\"],[0.3333333333333333,\"#9c179e\"],[0.4444444444444444,\"#bd3786\"],[0.5555555555555556,\"#d8576b\"],[0.6666666666666666,\"#ed7953\"],[0.7777777777777778,\"#fb9f3a\"],[0.8888888888888888,\"#fdca26\"],[1.0,\"#f0f921\"]]}],\"mesh3d\":[{\"type\":\"mesh3d\",\"colorbar\":{\"outlinewidth\":0,\"ticks\":\"\"}}],\"scatter\":[{\"fillpattern\":{\"fillmode\":\"overlay\",\"size\":10,\"solidity\":0.2},\"type\":\"scatter\"}],\"parcoords\":[{\"type\":\"parcoords\",\"line\":{\"colorbar\":{\"outlinewidth\":0,\"ticks\":\"\"}}}],\"scatterpolargl\":[{\"type\":\"scatterpolargl\",\"marker\":{\"colorbar\":{\"outlinewidth\":0,\"ticks\":\"\"}}}],\"bar\":[{\"error_x\":{\"color\":\"#2a3f5f\"},\"error_y\":{\"color\":\"#2a3f5f\"},\"marker\":{\"line\":{\"color\":\"#E5ECF6\",\"width\":0.5},\"pattern\":{\"fillmode\":\"overlay\",\"size\":10,\"solidity\":0.2}},\"type\":\"bar\"}],\"scattergeo\":[{\"type\":\"scattergeo\",\"marker\":{\"colorbar\":{\"outlinewidth\":0,\"ticks\":\"\"}}}],\"scatterpolar\":[{\"type\":\"scatterpolar\",\"marker\":{\"colorbar\":{\"outlinewidth\":0,\"ticks\":\"\"}}}],\"histogram\":[{\"marker\":{\"pattern\":{\"fillmode\":\"overlay\",\"size\":10,\"solidity\":0.2}},\"type\":\"histogram\"}],\"scattergl\":[{\"type\":\"scattergl\",\"marker\":{\"colorbar\":{\"outlinewidth\":0,\"ticks\":\"\"}}}],\"scatter3d\":[{\"type\":\"scatter3d\",\"line\":{\"colorbar\":{\"outlinewidth\":0,\"ticks\":\"\"}},\"marker\":{\"colorbar\":{\"outlinewidth\":0,\"ticks\":\"\"}}}],\"scattermapbox\":[{\"type\":\"scattermapbox\",\"marker\":{\"colorbar\":{\"outlinewidth\":0,\"ticks\":\"\"}}}],\"scatterternary\":[{\"type\":\"scatterternary\",\"marker\":{\"colorbar\":{\"outlinewidth\":0,\"ticks\":\"\"}}}],\"scattercarpet\":[{\"type\":\"scattercarpet\",\"marker\":{\"colorbar\":{\"outlinewidth\":0,\"ticks\":\"\"}}}],\"carpet\":[{\"aaxis\":{\"endlinecolor\":\"#2a3f5f\",\"gridcolor\":\"white\",\"linecolor\":\"white\",\"minorgridcolor\":\"white\",\"startlinecolor\":\"#2a3f5f\"},\"baxis\":{\"endlinecolor\":\"#2a3f5f\",\"gridcolor\":\"white\",\"linecolor\":\"white\",\"minorgridcolor\":\"white\",\"startlinecolor\":\"#2a3f5f\"},\"type\":\"carpet\"}],\"table\":[{\"cells\":{\"fill\":{\"color\":\"#EBF0F8\"},\"line\":{\"color\":\"white\"}},\"header\":{\"fill\":{\"color\":\"#C8D4E3\"},\"line\":{\"color\":\"white\"}},\"type\":\"table\"}],\"barpolar\":[{\"marker\":{\"line\":{\"color\":\"#E5ECF6\",\"width\":0.5},\"pattern\":{\"fillmode\":\"overlay\",\"size\":10,\"solidity\":0.2}},\"type\":\"barpolar\"}],\"pie\":[{\"automargin\":true,\"type\":\"pie\"}]},\"layout\":{\"autotypenumbers\":\"strict\",\"colorway\":[\"#636efa\",\"#EF553B\",\"#00cc96\",\"#ab63fa\",\"#FFA15A\",\"#19d3f3\",\"#FF6692\",\"#B6E880\",\"#FF97FF\",\"#FECB52\"],\"font\":{\"color\":\"#2a3f5f\"},\"hovermode\":\"closest\",\"hoverlabel\":{\"align\":\"left\"},\"paper_bgcolor\":\"white\",\"plot_bgcolor\":\"#E5ECF6\",\"polar\":{\"bgcolor\":\"#E5ECF6\",\"angularaxis\":{\"gridcolor\":\"white\",\"linecolor\":\"white\",\"ticks\":\"\"},\"radialaxis\":{\"gridcolor\":\"white\",\"linecolor\":\"white\",\"ticks\":\"\"}},\"ternary\":{\"bgcolor\":\"#E5ECF6\",\"aaxis\":{\"gridcolor\":\"white\",\"linecolor\":\"white\",\"ticks\":\"\"},\"baxis\":{\"gridcolor\":\"white\",\"linecolor\":\"white\",\"ticks\":\"\"},\"caxis\":{\"gridcolor\":\"white\",\"linecolor\":\"white\",\"ticks\":\"\"}},\"coloraxis\":{\"colorbar\":{\"outlinewidth\":0,\"ticks\":\"\"}},\"colorscale\":{\"sequential\":[[0.0,\"#0d0887\"],[0.1111111111111111,\"#46039f\"],[0.2222222222222222,\"#7201a8\"],[0.3333333333333333,\"#9c179e\"],[0.4444444444444444,\"#bd3786\"],[0.5555555555555556,\"#d8576b\"],[0.6666666666666666,\"#ed7953\"],[0.7777777777777778,\"#fb9f3a\"],[0.8888888888888888,\"#fdca26\"],[1.0,\"#f0f921\"]],\"sequentialminus\":[[0.0,\"#0d0887\"],[0.1111111111111111,\"#46039f\"],[0.2222222222222222,\"#7201a8\"],[0.3333333333333333,\"#9c179e\"],[0.4444444444444444,\"#bd3786\"],[0.5555555555555556,\"#d8576b\"],[0.6666666666666666,\"#ed7953\"],[0.7777777777777778,\"#fb9f3a\"],[0.8888888888888888,\"#fdca26\"],[1.0,\"#f0f921\"]],\"diverging\":[[0,\"#8e0152\"],[0.1,\"#c51b7d\"],[0.2,\"#de77ae\"],[0.3,\"#f1b6da\"],[0.4,\"#fde0ef\"],[0.5,\"#f7f7f7\"],[0.6,\"#e6f5d0\"],[0.7,\"#b8e186\"],[0.8,\"#7fbc41\"],[0.9,\"#4d9221\"],[1,\"#276419\"]]},\"xaxis\":{\"gridcolor\":\"white\",\"linecolor\":\"white\",\"ticks\":\"\",\"title\":{\"standoff\":15},\"zerolinecolor\":\"white\",\"automargin\":true,\"zerolinewidth\":2},\"yaxis\":{\"gridcolor\":\"white\",\"linecolor\":\"white\",\"ticks\":\"\",\"title\":{\"standoff\":15},\"zerolinecolor\":\"white\",\"automargin\":true,\"zerolinewidth\":2},\"scene\":{\"xaxis\":{\"backgroundcolor\":\"#E5ECF6\",\"gridcolor\":\"white\",\"linecolor\":\"white\",\"showbackground\":true,\"ticks\":\"\",\"zerolinecolor\":\"white\",\"gridwidth\":2},\"yaxis\":{\"backgroundcolor\":\"#E5ECF6\",\"gridcolor\":\"white\",\"linecolor\":\"white\",\"showbackground\":true,\"ticks\":\"\",\"zerolinecolor\":\"white\",\"gridwidth\":2},\"zaxis\":{\"backgroundcolor\":\"#E5ECF6\",\"gridcolor\":\"white\",\"linecolor\":\"white\",\"showbackground\":true,\"ticks\":\"\",\"zerolinecolor\":\"white\",\"gridwidth\":2}},\"shapedefaults\":{\"line\":{\"color\":\"#2a3f5f\"}},\"annotationdefaults\":{\"arrowcolor\":\"#2a3f5f\",\"arrowhead\":0,\"arrowwidth\":1},\"geo\":{\"bgcolor\":\"white\",\"landcolor\":\"#E5ECF6\",\"subunitcolor\":\"white\",\"showland\":true,\"showlakes\":true,\"lakecolor\":\"white\"},\"title\":{\"x\":0.05},\"mapbox\":{\"style\":\"light\"}}},\"xaxis\":{\"anchor\":\"y\",\"domain\":[0.0,1.0]},\"yaxis\":{\"anchor\":\"x\",\"domain\":[0.0,1.0],\"title\":{\"text\":\"YCR\"}},\"legend\":{\"tracegroupgap\":0},\"title\":{\"text\":\"Distribution of Yellow Card Ratios\"},\"boxmode\":\"group\"},                        {\"responsive\": true}                    ).then(function(){\n",
       "                            \n",
       "var gd = document.getElementById('f45daa49-9c82-4bd4-9f47-0c058642a374');\n",
       "var x = new MutationObserver(function (mutations, observer) {{\n",
       "        var display = window.getComputedStyle(gd).display;\n",
       "        if (!display || display === 'none') {{\n",
       "            console.log([gd, 'removed!']);\n",
       "            Plotly.purge(gd);\n",
       "            observer.disconnect();\n",
       "        }}\n",
       "}});\n",
       "\n",
       "// Listen for the removal of the full notebook cells\n",
       "var notebookContainer = gd.closest('#notebook-container');\n",
       "if (notebookContainer) {{\n",
       "    x.observe(notebookContainer, {childList: true});\n",
       "}}\n",
       "\n",
       "// Listen for the clearing of the current output cell\n",
       "var outputEl = gd.closest('.output');\n",
       "if (outputEl) {{\n",
       "    x.observe(outputEl, {childList: true});\n",
       "}}\n",
       "\n",
       "                        })                };                });            </script>        </div>"
      ]
     },
     "metadata": {},
     "output_type": "display_data"
    }
   ],
   "source": [
    "# Create a new variable 'Yellow Card Ratio'\n",
    "df['YCR'] = df['HY'] / (df['HY'] + df['AY'])\n",
    "\n",
    "# Create a box plot to show the distribution of yellow card ratios\n",
    "fig = px.box(df, y='YCR', color_discrete_sequence=['#1f77b4'],\n",
    "             title='Distribution of Yellow Card Ratios')\n",
    "fig.show()"
   ]
  },
  {
   "cell_type": "markdown",
   "id": "9eaa5f1e",
   "metadata": {},
   "source": [
    "The above code creates a new variable YCR by calculating the yellow card ratio using the formula shown above. We then use Plotly to create a box plot that shows the distribution of yellow card ratios. The plot shows that the median yellow card ratio is around 0.3, which means that on average, a team receives a yellow card in approximately 30% of their matches."
   ]
  },
  {
   "cell_type": "markdown",
   "id": "1ff0a1cd",
   "metadata": {},
   "source": [
    "<h3 style=\"background-color:#0c519c; color:white; padding:8px; font-size:20px; font-family: consolas; border-radius:8px;\">Red Card Ratio</h3>"
   ]
  },
  {
   "cell_type": "markdown",
   "id": "d93b15ba",
   "metadata": {},
   "source": [
    "The red card ratio tells us the average number of red cards shown per team per game. We can calculate the red card ratio by taking the total number of red cards shown in a season and dividing it by the total number of games played.\n",
    "\n",
    "Formula: $Red \\ card \\ ratio = \\frac{RC}{GP}$, where $RC$ is the total number of red cards shown in a season and $GP$ is the total number of games played."
   ]
  },
  {
   "cell_type": "code",
   "execution_count": null,
   "id": "1cc57086",
   "metadata": {},
   "outputs": [
    {
     "data": {
      "application/vnd.plotly.v1+json": {
       "config": {
        "plotlyServerURL": "https://plot.ly"
       },
       "data": [
        {
         "alignmentgroup": "True",
         "bingroup": "x",
         "hovertemplate": "RCR=%{x}<br>count=%{y}<extra></extra>",
         "legendgroup": "",
         "marker": {
          "color": "#1f77b4",
          "pattern": {
           "shape": ""
          }
         },
         "name": "",
         "nbinsx": 20,
         "offsetgroup": "",
         "orientation": "v",
         "showlegend": false,
         "type": "histogram",
         "x": [
          null,
          0.5,
          null,
          null,
          null,
          null,
          null,
          null,
          null,
          null,
          null,
          null,
          null,
          1,
          null,
          null,
          null,
          1,
          null,
          null,
          null,
          null,
          null,
          null,
          null,
          0.5,
          null,
          null,
          0,
          0,
          null,
          null,
          null,
          null,
          null,
          null,
          1,
          1,
          1,
          null,
          1,
          null,
          1,
          0.6666666666666666,
          null,
          0,
          null,
          null,
          null,
          null,
          0,
          0,
          null,
          null,
          0,
          null,
          null,
          null,
          null,
          null,
          null,
          null,
          null,
          null,
          null,
          0,
          null,
          null,
          null,
          0,
          0,
          null,
          null,
          null,
          null,
          null,
          null,
          null,
          null,
          null,
          1,
          null,
          null,
          1,
          null,
          null,
          0,
          null,
          null,
          null,
          null,
          null,
          null,
          null,
          null,
          null,
          1,
          null,
          null,
          null,
          null,
          null,
          null,
          1,
          1,
          1,
          0,
          0,
          0,
          null,
          null,
          null,
          null,
          null,
          null,
          null,
          null,
          0,
          null,
          null,
          0,
          null,
          null,
          null,
          0,
          null,
          1,
          1,
          1,
          null,
          null,
          null,
          1,
          null,
          null,
          null,
          null,
          null,
          null,
          null,
          null,
          null,
          null,
          null,
          null,
          null,
          null,
          null,
          null,
          0,
          null,
          0.5,
          null,
          0.5,
          null,
          0,
          null,
          null,
          0,
          null,
          null,
          null,
          null,
          null,
          null,
          0,
          null,
          null,
          null,
          null,
          1,
          null,
          null,
          null,
          null,
          0,
          null,
          0,
          null,
          null,
          0,
          null,
          null,
          null,
          null,
          null,
          0,
          0,
          null,
          null,
          0,
          null,
          null,
          null,
          null,
          0,
          1,
          0.5,
          null,
          null,
          null,
          null,
          null,
          null,
          0.6666666666666666,
          null,
          0,
          null,
          null,
          0,
          0,
          null,
          null,
          null,
          null,
          0,
          null,
          0,
          0,
          null,
          0,
          0,
          null,
          null,
          null,
          0.5,
          null,
          null,
          null,
          null,
          null,
          null,
          null,
          null,
          null,
          1,
          null,
          null,
          1,
          null,
          1,
          null,
          null,
          null,
          0,
          null,
          null,
          null,
          null,
          null,
          null,
          null,
          0,
          0,
          0,
          null,
          null,
          null,
          1,
          null,
          null,
          1,
          null,
          null,
          null,
          1,
          0,
          1,
          null,
          0,
          1,
          null,
          null,
          1,
          null,
          0,
          0,
          null,
          null,
          1,
          null,
          0,
          null,
          null,
          null,
          null,
          null,
          null,
          null,
          null,
          null,
          null,
          1,
          null,
          null,
          null,
          null,
          null,
          null,
          null,
          0,
          0,
          null,
          null,
          1,
          null,
          0,
          null,
          null,
          0,
          null,
          0,
          null,
          null,
          1,
          null,
          null,
          null,
          null,
          0,
          null,
          0,
          null,
          0,
          null,
          0,
          null,
          null,
          1,
          null,
          null,
          null,
          null,
          0,
          null,
          null,
          null,
          null,
          0,
          null,
          null,
          null,
          null,
          null,
          null,
          null,
          0,
          null,
          null,
          null,
          null,
          null,
          0,
          1,
          1,
          null,
          null,
          1,
          0,
          null,
          null,
          null,
          null,
          1,
          null,
          null,
          null,
          null,
          null,
          null,
          0,
          null,
          null,
          0.75,
          null,
          1,
          null,
          null,
          null,
          null
         ],
         "xaxis": "x",
         "yaxis": "y"
        }
       ],
       "layout": {
        "barmode": "relative",
        "legend": {
         "tracegroupgap": 0
        },
        "template": {
         "data": {
          "bar": [
           {
            "error_x": {
             "color": "#2a3f5f"
            },
            "error_y": {
             "color": "#2a3f5f"
            },
            "marker": {
             "line": {
              "color": "#E5ECF6",
              "width": 0.5
             },
             "pattern": {
              "fillmode": "overlay",
              "size": 10,
              "solidity": 0.2
             }
            },
            "type": "bar"
           }
          ],
          "barpolar": [
           {
            "marker": {
             "line": {
              "color": "#E5ECF6",
              "width": 0.5
             },
             "pattern": {
              "fillmode": "overlay",
              "size": 10,
              "solidity": 0.2
             }
            },
            "type": "barpolar"
           }
          ],
          "carpet": [
           {
            "aaxis": {
             "endlinecolor": "#2a3f5f",
             "gridcolor": "white",
             "linecolor": "white",
             "minorgridcolor": "white",
             "startlinecolor": "#2a3f5f"
            },
            "baxis": {
             "endlinecolor": "#2a3f5f",
             "gridcolor": "white",
             "linecolor": "white",
             "minorgridcolor": "white",
             "startlinecolor": "#2a3f5f"
            },
            "type": "carpet"
           }
          ],
          "choropleth": [
           {
            "colorbar": {
             "outlinewidth": 0,
             "ticks": ""
            },
            "type": "choropleth"
           }
          ],
          "contour": [
           {
            "colorbar": {
             "outlinewidth": 0,
             "ticks": ""
            },
            "colorscale": [
             [
              0,
              "#0d0887"
             ],
             [
              0.1111111111111111,
              "#46039f"
             ],
             [
              0.2222222222222222,
              "#7201a8"
             ],
             [
              0.3333333333333333,
              "#9c179e"
             ],
             [
              0.4444444444444444,
              "#bd3786"
             ],
             [
              0.5555555555555556,
              "#d8576b"
             ],
             [
              0.6666666666666666,
              "#ed7953"
             ],
             [
              0.7777777777777778,
              "#fb9f3a"
             ],
             [
              0.8888888888888888,
              "#fdca26"
             ],
             [
              1,
              "#f0f921"
             ]
            ],
            "type": "contour"
           }
          ],
          "contourcarpet": [
           {
            "colorbar": {
             "outlinewidth": 0,
             "ticks": ""
            },
            "type": "contourcarpet"
           }
          ],
          "heatmap": [
           {
            "colorbar": {
             "outlinewidth": 0,
             "ticks": ""
            },
            "colorscale": [
             [
              0,
              "#0d0887"
             ],
             [
              0.1111111111111111,
              "#46039f"
             ],
             [
              0.2222222222222222,
              "#7201a8"
             ],
             [
              0.3333333333333333,
              "#9c179e"
             ],
             [
              0.4444444444444444,
              "#bd3786"
             ],
             [
              0.5555555555555556,
              "#d8576b"
             ],
             [
              0.6666666666666666,
              "#ed7953"
             ],
             [
              0.7777777777777778,
              "#fb9f3a"
             ],
             [
              0.8888888888888888,
              "#fdca26"
             ],
             [
              1,
              "#f0f921"
             ]
            ],
            "type": "heatmap"
           }
          ],
          "heatmapgl": [
           {
            "colorbar": {
             "outlinewidth": 0,
             "ticks": ""
            },
            "colorscale": [
             [
              0,
              "#0d0887"
             ],
             [
              0.1111111111111111,
              "#46039f"
             ],
             [
              0.2222222222222222,
              "#7201a8"
             ],
             [
              0.3333333333333333,
              "#9c179e"
             ],
             [
              0.4444444444444444,
              "#bd3786"
             ],
             [
              0.5555555555555556,
              "#d8576b"
             ],
             [
              0.6666666666666666,
              "#ed7953"
             ],
             [
              0.7777777777777778,
              "#fb9f3a"
             ],
             [
              0.8888888888888888,
              "#fdca26"
             ],
             [
              1,
              "#f0f921"
             ]
            ],
            "type": "heatmapgl"
           }
          ],
          "histogram": [
           {
            "marker": {
             "pattern": {
              "fillmode": "overlay",
              "size": 10,
              "solidity": 0.2
             }
            },
            "type": "histogram"
           }
          ],
          "histogram2d": [
           {
            "colorbar": {
             "outlinewidth": 0,
             "ticks": ""
            },
            "colorscale": [
             [
              0,
              "#0d0887"
             ],
             [
              0.1111111111111111,
              "#46039f"
             ],
             [
              0.2222222222222222,
              "#7201a8"
             ],
             [
              0.3333333333333333,
              "#9c179e"
             ],
             [
              0.4444444444444444,
              "#bd3786"
             ],
             [
              0.5555555555555556,
              "#d8576b"
             ],
             [
              0.6666666666666666,
              "#ed7953"
             ],
             [
              0.7777777777777778,
              "#fb9f3a"
             ],
             [
              0.8888888888888888,
              "#fdca26"
             ],
             [
              1,
              "#f0f921"
             ]
            ],
            "type": "histogram2d"
           }
          ],
          "histogram2dcontour": [
           {
            "colorbar": {
             "outlinewidth": 0,
             "ticks": ""
            },
            "colorscale": [
             [
              0,
              "#0d0887"
             ],
             [
              0.1111111111111111,
              "#46039f"
             ],
             [
              0.2222222222222222,
              "#7201a8"
             ],
             [
              0.3333333333333333,
              "#9c179e"
             ],
             [
              0.4444444444444444,
              "#bd3786"
             ],
             [
              0.5555555555555556,
              "#d8576b"
             ],
             [
              0.6666666666666666,
              "#ed7953"
             ],
             [
              0.7777777777777778,
              "#fb9f3a"
             ],
             [
              0.8888888888888888,
              "#fdca26"
             ],
             [
              1,
              "#f0f921"
             ]
            ],
            "type": "histogram2dcontour"
           }
          ],
          "mesh3d": [
           {
            "colorbar": {
             "outlinewidth": 0,
             "ticks": ""
            },
            "type": "mesh3d"
           }
          ],
          "parcoords": [
           {
            "line": {
             "colorbar": {
              "outlinewidth": 0,
              "ticks": ""
             }
            },
            "type": "parcoords"
           }
          ],
          "pie": [
           {
            "automargin": true,
            "type": "pie"
           }
          ],
          "scatter": [
           {
            "fillpattern": {
             "fillmode": "overlay",
             "size": 10,
             "solidity": 0.2
            },
            "type": "scatter"
           }
          ],
          "scatter3d": [
           {
            "line": {
             "colorbar": {
              "outlinewidth": 0,
              "ticks": ""
             }
            },
            "marker": {
             "colorbar": {
              "outlinewidth": 0,
              "ticks": ""
             }
            },
            "type": "scatter3d"
           }
          ],
          "scattercarpet": [
           {
            "marker": {
             "colorbar": {
              "outlinewidth": 0,
              "ticks": ""
             }
            },
            "type": "scattercarpet"
           }
          ],
          "scattergeo": [
           {
            "marker": {
             "colorbar": {
              "outlinewidth": 0,
              "ticks": ""
             }
            },
            "type": "scattergeo"
           }
          ],
          "scattergl": [
           {
            "marker": {
             "colorbar": {
              "outlinewidth": 0,
              "ticks": ""
             }
            },
            "type": "scattergl"
           }
          ],
          "scattermapbox": [
           {
            "marker": {
             "colorbar": {
              "outlinewidth": 0,
              "ticks": ""
             }
            },
            "type": "scattermapbox"
           }
          ],
          "scatterpolar": [
           {
            "marker": {
             "colorbar": {
              "outlinewidth": 0,
              "ticks": ""
             }
            },
            "type": "scatterpolar"
           }
          ],
          "scatterpolargl": [
           {
            "marker": {
             "colorbar": {
              "outlinewidth": 0,
              "ticks": ""
             }
            },
            "type": "scatterpolargl"
           }
          ],
          "scatterternary": [
           {
            "marker": {
             "colorbar": {
              "outlinewidth": 0,
              "ticks": ""
             }
            },
            "type": "scatterternary"
           }
          ],
          "surface": [
           {
            "colorbar": {
             "outlinewidth": 0,
             "ticks": ""
            },
            "colorscale": [
             [
              0,
              "#0d0887"
             ],
             [
              0.1111111111111111,
              "#46039f"
             ],
             [
              0.2222222222222222,
              "#7201a8"
             ],
             [
              0.3333333333333333,
              "#9c179e"
             ],
             [
              0.4444444444444444,
              "#bd3786"
             ],
             [
              0.5555555555555556,
              "#d8576b"
             ],
             [
              0.6666666666666666,
              "#ed7953"
             ],
             [
              0.7777777777777778,
              "#fb9f3a"
             ],
             [
              0.8888888888888888,
              "#fdca26"
             ],
             [
              1,
              "#f0f921"
             ]
            ],
            "type": "surface"
           }
          ],
          "table": [
           {
            "cells": {
             "fill": {
              "color": "#EBF0F8"
             },
             "line": {
              "color": "white"
             }
            },
            "header": {
             "fill": {
              "color": "#C8D4E3"
             },
             "line": {
              "color": "white"
             }
            },
            "type": "table"
           }
          ]
         },
         "layout": {
          "annotationdefaults": {
           "arrowcolor": "#2a3f5f",
           "arrowhead": 0,
           "arrowwidth": 1
          },
          "autotypenumbers": "strict",
          "coloraxis": {
           "colorbar": {
            "outlinewidth": 0,
            "ticks": ""
           }
          },
          "colorscale": {
           "diverging": [
            [
             0,
             "#8e0152"
            ],
            [
             0.1,
             "#c51b7d"
            ],
            [
             0.2,
             "#de77ae"
            ],
            [
             0.3,
             "#f1b6da"
            ],
            [
             0.4,
             "#fde0ef"
            ],
            [
             0.5,
             "#f7f7f7"
            ],
            [
             0.6,
             "#e6f5d0"
            ],
            [
             0.7,
             "#b8e186"
            ],
            [
             0.8,
             "#7fbc41"
            ],
            [
             0.9,
             "#4d9221"
            ],
            [
             1,
             "#276419"
            ]
           ],
           "sequential": [
            [
             0,
             "#0d0887"
            ],
            [
             0.1111111111111111,
             "#46039f"
            ],
            [
             0.2222222222222222,
             "#7201a8"
            ],
            [
             0.3333333333333333,
             "#9c179e"
            ],
            [
             0.4444444444444444,
             "#bd3786"
            ],
            [
             0.5555555555555556,
             "#d8576b"
            ],
            [
             0.6666666666666666,
             "#ed7953"
            ],
            [
             0.7777777777777778,
             "#fb9f3a"
            ],
            [
             0.8888888888888888,
             "#fdca26"
            ],
            [
             1,
             "#f0f921"
            ]
           ],
           "sequentialminus": [
            [
             0,
             "#0d0887"
            ],
            [
             0.1111111111111111,
             "#46039f"
            ],
            [
             0.2222222222222222,
             "#7201a8"
            ],
            [
             0.3333333333333333,
             "#9c179e"
            ],
            [
             0.4444444444444444,
             "#bd3786"
            ],
            [
             0.5555555555555556,
             "#d8576b"
            ],
            [
             0.6666666666666666,
             "#ed7953"
            ],
            [
             0.7777777777777778,
             "#fb9f3a"
            ],
            [
             0.8888888888888888,
             "#fdca26"
            ],
            [
             1,
             "#f0f921"
            ]
           ]
          },
          "colorway": [
           "#636efa",
           "#EF553B",
           "#00cc96",
           "#ab63fa",
           "#FFA15A",
           "#19d3f3",
           "#FF6692",
           "#B6E880",
           "#FF97FF",
           "#FECB52"
          ],
          "font": {
           "color": "#2a3f5f"
          },
          "geo": {
           "bgcolor": "white",
           "lakecolor": "white",
           "landcolor": "#E5ECF6",
           "showlakes": true,
           "showland": true,
           "subunitcolor": "white"
          },
          "hoverlabel": {
           "align": "left"
          },
          "hovermode": "closest",
          "mapbox": {
           "style": "light"
          },
          "paper_bgcolor": "white",
          "plot_bgcolor": "#E5ECF6",
          "polar": {
           "angularaxis": {
            "gridcolor": "white",
            "linecolor": "white",
            "ticks": ""
           },
           "bgcolor": "#E5ECF6",
           "radialaxis": {
            "gridcolor": "white",
            "linecolor": "white",
            "ticks": ""
           }
          },
          "scene": {
           "xaxis": {
            "backgroundcolor": "#E5ECF6",
            "gridcolor": "white",
            "gridwidth": 2,
            "linecolor": "white",
            "showbackground": true,
            "ticks": "",
            "zerolinecolor": "white"
           },
           "yaxis": {
            "backgroundcolor": "#E5ECF6",
            "gridcolor": "white",
            "gridwidth": 2,
            "linecolor": "white",
            "showbackground": true,
            "ticks": "",
            "zerolinecolor": "white"
           },
           "zaxis": {
            "backgroundcolor": "#E5ECF6",
            "gridcolor": "white",
            "gridwidth": 2,
            "linecolor": "white",
            "showbackground": true,
            "ticks": "",
            "zerolinecolor": "white"
           }
          },
          "shapedefaults": {
           "line": {
            "color": "#2a3f5f"
           }
          },
          "ternary": {
           "aaxis": {
            "gridcolor": "white",
            "linecolor": "white",
            "ticks": ""
           },
           "baxis": {
            "gridcolor": "white",
            "linecolor": "white",
            "ticks": ""
           },
           "bgcolor": "#E5ECF6",
           "caxis": {
            "gridcolor": "white",
            "linecolor": "white",
            "ticks": ""
           }
          },
          "title": {
           "x": 0.05
          },
          "xaxis": {
           "automargin": true,
           "gridcolor": "white",
           "linecolor": "white",
           "ticks": "",
           "title": {
            "standoff": 15
           },
           "zerolinecolor": "white",
           "zerolinewidth": 2
          },
          "yaxis": {
           "automargin": true,
           "gridcolor": "white",
           "linecolor": "white",
           "ticks": "",
           "title": {
            "standoff": 15
           },
           "zerolinecolor": "white",
           "zerolinewidth": 2
          }
         }
        },
        "title": {
         "text": "Distribution of Red Card Ratios"
        },
        "xaxis": {
         "anchor": "y",
         "domain": [
          0,
          1
         ],
         "title": {
          "text": "RCR"
         }
        },
        "yaxis": {
         "anchor": "x",
         "domain": [
          0,
          1
         ],
         "title": {
          "text": "count"
         }
        }
       }
      },
      "text/html": [
       "<div>                            <div id=\"941ed75a-7b9a-4dba-b9cc-a0c010d7fbf8\" class=\"plotly-graph-div\" style=\"height:525px; width:100%;\"></div>            <script type=\"text/javascript\">                require([\"plotly\"], function(Plotly) {                    window.PLOTLYENV=window.PLOTLYENV || {};                                    if (document.getElementById(\"941ed75a-7b9a-4dba-b9cc-a0c010d7fbf8\")) {                    Plotly.newPlot(                        \"941ed75a-7b9a-4dba-b9cc-a0c010d7fbf8\",                        [{\"alignmentgroup\":\"True\",\"bingroup\":\"x\",\"hovertemplate\":\"RCR=%{x}<br>count=%{y}<extra></extra>\",\"legendgroup\":\"\",\"marker\":{\"color\":\"#1f77b4\",\"pattern\":{\"shape\":\"\"}},\"name\":\"\",\"nbinsx\":20,\"offsetgroup\":\"\",\"orientation\":\"v\",\"showlegend\":false,\"x\":[null,0.5,null,null,null,null,null,null,null,null,null,null,null,1.0,null,null,null,1.0,null,null,null,null,null,null,null,0.5,null,null,0.0,0.0,null,null,null,null,null,null,1.0,1.0,1.0,null,1.0,null,1.0,0.6666666666666666,null,0.0,null,null,null,null,0.0,0.0,null,null,0.0,null,null,null,null,null,null,null,null,null,null,0.0,null,null,null,0.0,0.0,null,null,null,null,null,null,null,null,null,1.0,null,null,1.0,null,null,0.0,null,null,null,null,null,null,null,null,null,1.0,null,null,null,null,null,null,1.0,1.0,1.0,0.0,0.0,0.0,null,null,null,null,null,null,null,null,0.0,null,null,0.0,null,null,null,0.0,null,1.0,1.0,1.0,null,null,null,1.0,null,null,null,null,null,null,null,null,null,null,null,null,null,null,null,null,0.0,null,0.5,null,0.5,null,0.0,null,null,0.0,null,null,null,null,null,null,0.0,null,null,null,null,1.0,null,null,null,null,0.0,null,0.0,null,null,0.0,null,null,null,null,null,0.0,0.0,null,null,0.0,null,null,null,null,0.0,1.0,0.5,null,null,null,null,null,null,0.6666666666666666,null,0.0,null,null,0.0,0.0,null,null,null,null,0.0,null,0.0,0.0,null,0.0,0.0,null,null,null,0.5,null,null,null,null,null,null,null,null,null,1.0,null,null,1.0,null,1.0,null,null,null,0.0,null,null,null,null,null,null,null,0.0,0.0,0.0,null,null,null,1.0,null,null,1.0,null,null,null,1.0,0.0,1.0,null,0.0,1.0,null,null,1.0,null,0.0,0.0,null,null,1.0,null,0.0,null,null,null,null,null,null,null,null,null,null,1.0,null,null,null,null,null,null,null,0.0,0.0,null,null,1.0,null,0.0,null,null,0.0,null,0.0,null,null,1.0,null,null,null,null,0.0,null,0.0,null,0.0,null,0.0,null,null,1.0,null,null,null,null,0.0,null,null,null,null,0.0,null,null,null,null,null,null,null,0.0,null,null,null,null,null,0.0,1.0,1.0,null,null,1.0,0.0,null,null,null,null,1.0,null,null,null,null,null,null,0.0,null,null,0.75,null,1.0,null,null,null,null],\"xaxis\":\"x\",\"yaxis\":\"y\",\"type\":\"histogram\"}],                        {\"template\":{\"data\":{\"histogram2dcontour\":[{\"type\":\"histogram2dcontour\",\"colorbar\":{\"outlinewidth\":0,\"ticks\":\"\"},\"colorscale\":[[0.0,\"#0d0887\"],[0.1111111111111111,\"#46039f\"],[0.2222222222222222,\"#7201a8\"],[0.3333333333333333,\"#9c179e\"],[0.4444444444444444,\"#bd3786\"],[0.5555555555555556,\"#d8576b\"],[0.6666666666666666,\"#ed7953\"],[0.7777777777777778,\"#fb9f3a\"],[0.8888888888888888,\"#fdca26\"],[1.0,\"#f0f921\"]]}],\"choropleth\":[{\"type\":\"choropleth\",\"colorbar\":{\"outlinewidth\":0,\"ticks\":\"\"}}],\"histogram2d\":[{\"type\":\"histogram2d\",\"colorbar\":{\"outlinewidth\":0,\"ticks\":\"\"},\"colorscale\":[[0.0,\"#0d0887\"],[0.1111111111111111,\"#46039f\"],[0.2222222222222222,\"#7201a8\"],[0.3333333333333333,\"#9c179e\"],[0.4444444444444444,\"#bd3786\"],[0.5555555555555556,\"#d8576b\"],[0.6666666666666666,\"#ed7953\"],[0.7777777777777778,\"#fb9f3a\"],[0.8888888888888888,\"#fdca26\"],[1.0,\"#f0f921\"]]}],\"heatmap\":[{\"type\":\"heatmap\",\"colorbar\":{\"outlinewidth\":0,\"ticks\":\"\"},\"colorscale\":[[0.0,\"#0d0887\"],[0.1111111111111111,\"#46039f\"],[0.2222222222222222,\"#7201a8\"],[0.3333333333333333,\"#9c179e\"],[0.4444444444444444,\"#bd3786\"],[0.5555555555555556,\"#d8576b\"],[0.6666666666666666,\"#ed7953\"],[0.7777777777777778,\"#fb9f3a\"],[0.8888888888888888,\"#fdca26\"],[1.0,\"#f0f921\"]]}],\"heatmapgl\":[{\"type\":\"heatmapgl\",\"colorbar\":{\"outlinewidth\":0,\"ticks\":\"\"},\"colorscale\":[[0.0,\"#0d0887\"],[0.1111111111111111,\"#46039f\"],[0.2222222222222222,\"#7201a8\"],[0.3333333333333333,\"#9c179e\"],[0.4444444444444444,\"#bd3786\"],[0.5555555555555556,\"#d8576b\"],[0.6666666666666666,\"#ed7953\"],[0.7777777777777778,\"#fb9f3a\"],[0.8888888888888888,\"#fdca26\"],[1.0,\"#f0f921\"]]}],\"contourcarpet\":[{\"type\":\"contourcarpet\",\"colorbar\":{\"outlinewidth\":0,\"ticks\":\"\"}}],\"contour\":[{\"type\":\"contour\",\"colorbar\":{\"outlinewidth\":0,\"ticks\":\"\"},\"colorscale\":[[0.0,\"#0d0887\"],[0.1111111111111111,\"#46039f\"],[0.2222222222222222,\"#7201a8\"],[0.3333333333333333,\"#9c179e\"],[0.4444444444444444,\"#bd3786\"],[0.5555555555555556,\"#d8576b\"],[0.6666666666666666,\"#ed7953\"],[0.7777777777777778,\"#fb9f3a\"],[0.8888888888888888,\"#fdca26\"],[1.0,\"#f0f921\"]]}],\"surface\":[{\"type\":\"surface\",\"colorbar\":{\"outlinewidth\":0,\"ticks\":\"\"},\"colorscale\":[[0.0,\"#0d0887\"],[0.1111111111111111,\"#46039f\"],[0.2222222222222222,\"#7201a8\"],[0.3333333333333333,\"#9c179e\"],[0.4444444444444444,\"#bd3786\"],[0.5555555555555556,\"#d8576b\"],[0.6666666666666666,\"#ed7953\"],[0.7777777777777778,\"#fb9f3a\"],[0.8888888888888888,\"#fdca26\"],[1.0,\"#f0f921\"]]}],\"mesh3d\":[{\"type\":\"mesh3d\",\"colorbar\":{\"outlinewidth\":0,\"ticks\":\"\"}}],\"scatter\":[{\"fillpattern\":{\"fillmode\":\"overlay\",\"size\":10,\"solidity\":0.2},\"type\":\"scatter\"}],\"parcoords\":[{\"type\":\"parcoords\",\"line\":{\"colorbar\":{\"outlinewidth\":0,\"ticks\":\"\"}}}],\"scatterpolargl\":[{\"type\":\"scatterpolargl\",\"marker\":{\"colorbar\":{\"outlinewidth\":0,\"ticks\":\"\"}}}],\"bar\":[{\"error_x\":{\"color\":\"#2a3f5f\"},\"error_y\":{\"color\":\"#2a3f5f\"},\"marker\":{\"line\":{\"color\":\"#E5ECF6\",\"width\":0.5},\"pattern\":{\"fillmode\":\"overlay\",\"size\":10,\"solidity\":0.2}},\"type\":\"bar\"}],\"scattergeo\":[{\"type\":\"scattergeo\",\"marker\":{\"colorbar\":{\"outlinewidth\":0,\"ticks\":\"\"}}}],\"scatterpolar\":[{\"type\":\"scatterpolar\",\"marker\":{\"colorbar\":{\"outlinewidth\":0,\"ticks\":\"\"}}}],\"histogram\":[{\"marker\":{\"pattern\":{\"fillmode\":\"overlay\",\"size\":10,\"solidity\":0.2}},\"type\":\"histogram\"}],\"scattergl\":[{\"type\":\"scattergl\",\"marker\":{\"colorbar\":{\"outlinewidth\":0,\"ticks\":\"\"}}}],\"scatter3d\":[{\"type\":\"scatter3d\",\"line\":{\"colorbar\":{\"outlinewidth\":0,\"ticks\":\"\"}},\"marker\":{\"colorbar\":{\"outlinewidth\":0,\"ticks\":\"\"}}}],\"scattermapbox\":[{\"type\":\"scattermapbox\",\"marker\":{\"colorbar\":{\"outlinewidth\":0,\"ticks\":\"\"}}}],\"scatterternary\":[{\"type\":\"scatterternary\",\"marker\":{\"colorbar\":{\"outlinewidth\":0,\"ticks\":\"\"}}}],\"scattercarpet\":[{\"type\":\"scattercarpet\",\"marker\":{\"colorbar\":{\"outlinewidth\":0,\"ticks\":\"\"}}}],\"carpet\":[{\"aaxis\":{\"endlinecolor\":\"#2a3f5f\",\"gridcolor\":\"white\",\"linecolor\":\"white\",\"minorgridcolor\":\"white\",\"startlinecolor\":\"#2a3f5f\"},\"baxis\":{\"endlinecolor\":\"#2a3f5f\",\"gridcolor\":\"white\",\"linecolor\":\"white\",\"minorgridcolor\":\"white\",\"startlinecolor\":\"#2a3f5f\"},\"type\":\"carpet\"}],\"table\":[{\"cells\":{\"fill\":{\"color\":\"#EBF0F8\"},\"line\":{\"color\":\"white\"}},\"header\":{\"fill\":{\"color\":\"#C8D4E3\"},\"line\":{\"color\":\"white\"}},\"type\":\"table\"}],\"barpolar\":[{\"marker\":{\"line\":{\"color\":\"#E5ECF6\",\"width\":0.5},\"pattern\":{\"fillmode\":\"overlay\",\"size\":10,\"solidity\":0.2}},\"type\":\"barpolar\"}],\"pie\":[{\"automargin\":true,\"type\":\"pie\"}]},\"layout\":{\"autotypenumbers\":\"strict\",\"colorway\":[\"#636efa\",\"#EF553B\",\"#00cc96\",\"#ab63fa\",\"#FFA15A\",\"#19d3f3\",\"#FF6692\",\"#B6E880\",\"#FF97FF\",\"#FECB52\"],\"font\":{\"color\":\"#2a3f5f\"},\"hovermode\":\"closest\",\"hoverlabel\":{\"align\":\"left\"},\"paper_bgcolor\":\"white\",\"plot_bgcolor\":\"#E5ECF6\",\"polar\":{\"bgcolor\":\"#E5ECF6\",\"angularaxis\":{\"gridcolor\":\"white\",\"linecolor\":\"white\",\"ticks\":\"\"},\"radialaxis\":{\"gridcolor\":\"white\",\"linecolor\":\"white\",\"ticks\":\"\"}},\"ternary\":{\"bgcolor\":\"#E5ECF6\",\"aaxis\":{\"gridcolor\":\"white\",\"linecolor\":\"white\",\"ticks\":\"\"},\"baxis\":{\"gridcolor\":\"white\",\"linecolor\":\"white\",\"ticks\":\"\"},\"caxis\":{\"gridcolor\":\"white\",\"linecolor\":\"white\",\"ticks\":\"\"}},\"coloraxis\":{\"colorbar\":{\"outlinewidth\":0,\"ticks\":\"\"}},\"colorscale\":{\"sequential\":[[0.0,\"#0d0887\"],[0.1111111111111111,\"#46039f\"],[0.2222222222222222,\"#7201a8\"],[0.3333333333333333,\"#9c179e\"],[0.4444444444444444,\"#bd3786\"],[0.5555555555555556,\"#d8576b\"],[0.6666666666666666,\"#ed7953\"],[0.7777777777777778,\"#fb9f3a\"],[0.8888888888888888,\"#fdca26\"],[1.0,\"#f0f921\"]],\"sequentialminus\":[[0.0,\"#0d0887\"],[0.1111111111111111,\"#46039f\"],[0.2222222222222222,\"#7201a8\"],[0.3333333333333333,\"#9c179e\"],[0.4444444444444444,\"#bd3786\"],[0.5555555555555556,\"#d8576b\"],[0.6666666666666666,\"#ed7953\"],[0.7777777777777778,\"#fb9f3a\"],[0.8888888888888888,\"#fdca26\"],[1.0,\"#f0f921\"]],\"diverging\":[[0,\"#8e0152\"],[0.1,\"#c51b7d\"],[0.2,\"#de77ae\"],[0.3,\"#f1b6da\"],[0.4,\"#fde0ef\"],[0.5,\"#f7f7f7\"],[0.6,\"#e6f5d0\"],[0.7,\"#b8e186\"],[0.8,\"#7fbc41\"],[0.9,\"#4d9221\"],[1,\"#276419\"]]},\"xaxis\":{\"gridcolor\":\"white\",\"linecolor\":\"white\",\"ticks\":\"\",\"title\":{\"standoff\":15},\"zerolinecolor\":\"white\",\"automargin\":true,\"zerolinewidth\":2},\"yaxis\":{\"gridcolor\":\"white\",\"linecolor\":\"white\",\"ticks\":\"\",\"title\":{\"standoff\":15},\"zerolinecolor\":\"white\",\"automargin\":true,\"zerolinewidth\":2},\"scene\":{\"xaxis\":{\"backgroundcolor\":\"#E5ECF6\",\"gridcolor\":\"white\",\"linecolor\":\"white\",\"showbackground\":true,\"ticks\":\"\",\"zerolinecolor\":\"white\",\"gridwidth\":2},\"yaxis\":{\"backgroundcolor\":\"#E5ECF6\",\"gridcolor\":\"white\",\"linecolor\":\"white\",\"showbackground\":true,\"ticks\":\"\",\"zerolinecolor\":\"white\",\"gridwidth\":2},\"zaxis\":{\"backgroundcolor\":\"#E5ECF6\",\"gridcolor\":\"white\",\"linecolor\":\"white\",\"showbackground\":true,\"ticks\":\"\",\"zerolinecolor\":\"white\",\"gridwidth\":2}},\"shapedefaults\":{\"line\":{\"color\":\"#2a3f5f\"}},\"annotationdefaults\":{\"arrowcolor\":\"#2a3f5f\",\"arrowhead\":0,\"arrowwidth\":1},\"geo\":{\"bgcolor\":\"white\",\"landcolor\":\"#E5ECF6\",\"subunitcolor\":\"white\",\"showland\":true,\"showlakes\":true,\"lakecolor\":\"white\"},\"title\":{\"x\":0.05},\"mapbox\":{\"style\":\"light\"}}},\"xaxis\":{\"anchor\":\"y\",\"domain\":[0.0,1.0],\"title\":{\"text\":\"RCR\"}},\"yaxis\":{\"anchor\":\"x\",\"domain\":[0.0,1.0],\"title\":{\"text\":\"count\"}},\"legend\":{\"tracegroupgap\":0},\"title\":{\"text\":\"Distribution of Red Card Ratios\"},\"barmode\":\"relative\"},                        {\"responsive\": true}                    ).then(function(){\n",
       "                            \n",
       "var gd = document.getElementById('941ed75a-7b9a-4dba-b9cc-a0c010d7fbf8');\n",
       "var x = new MutationObserver(function (mutations, observer) {{\n",
       "        var display = window.getComputedStyle(gd).display;\n",
       "        if (!display || display === 'none') {{\n",
       "            console.log([gd, 'removed!']);\n",
       "            Plotly.purge(gd);\n",
       "            observer.disconnect();\n",
       "        }}\n",
       "}});\n",
       "\n",
       "// Listen for the removal of the full notebook cells\n",
       "var notebookContainer = gd.closest('#notebook-container');\n",
       "if (notebookContainer) {{\n",
       "    x.observe(notebookContainer, {childList: true});\n",
       "}}\n",
       "\n",
       "// Listen for the clearing of the current output cell\n",
       "var outputEl = gd.closest('.output');\n",
       "if (outputEl) {{\n",
       "    x.observe(outputEl, {childList: true});\n",
       "}}\n",
       "\n",
       "                        })                };                });            </script>        </div>"
      ]
     },
     "metadata": {},
     "output_type": "display_data"
    }
   ],
   "source": [
    "# Create a new variable 'Red Card Ratio'\n",
    "df['RCR'] = df['HR'] / (df['HR'] + df['AR'])\n",
    "\n",
    "# Create a histogram to show the distribution of red card ratios\n",
    "fig = px.histogram(df, x='RCR', nbins=20, color_discrete_sequence=['#1f77b4'],\n",
    "                   title='Distribution of Red Card Ratios')\n",
    "fig.show()"
   ]
  },
  {
   "cell_type": "markdown",
   "id": "86c8a902",
   "metadata": {},
   "source": [
    "The above code creates a new variable RCR by calculating the red card ratio using the formula shown above. We then use Plotly to create a histogram that shows the distribution of red card ratios. The plot shows that the majority of teams receive very few red cards per season, with the median red card ratio being close to zero."
   ]
  },
  {
   "cell_type": "markdown",
   "id": "1beeceed",
   "metadata": {},
   "source": [
    "<h3 style=\"background-color:#0c519c; color:white; padding:8px; font-size:20px; font-family: consolas; border-radius:8px;\">Home Advantage</h3>"
   ]
  },
  {
   "cell_type": "markdown",
   "id": "5a2d0e58",
   "metadata": {},
   "source": [
    "Home advantage is a phenomenon in sports where the home team has a higher chance of winning than the away team. In football, this can be due to factors such as the home team being more familiar with the stadium, having more supporters, or having less travel fatigue.\n",
    "\n",
    "We can calculate the home advantage by subtracting the away team's win rate from the home team's win rate. A positive home advantage indicates that the home team is more likely to win, while a negative home advantage indicates that the away team is more likely to win.\n",
    "\n",
    "Let's create a new variable home_advantage that calculates the home advantage for each team."
   ]
  },
  {
   "cell_type": "code",
   "execution_count": null,
   "id": "e892e70d",
   "metadata": {},
   "outputs": [],
   "source": [
    "# Calculate home advantage for each team\n",
    "home_win_rates = df.groupby('HomeTeam')['FTR'].apply(lambda x: (x == 'H').sum() / len(x))\n",
    "away_win_rates = df.groupby('AwayTeam')['FTR'].apply(lambda x: (x == 'A').sum() / len(x))\n",
    "home_advantage = home_win_rates - away_win_rates"
   ]
  },
  {
   "cell_type": "markdown",
   "id": "58438356",
   "metadata": {},
   "source": [
    "Now, let's plot the home advantage for each team using a bar chart."
   ]
  },
  {
   "cell_type": "code",
   "execution_count": null,
   "id": "36c84136",
   "metadata": {},
   "outputs": [
    {
     "data": {
      "image/png": "[encoded data removed]",
      "text/plain": [
       "<Figure size 1152x576 with 1 Axes>"
      ]
     },
     "metadata": {},
     "output_type": "display_data"
    }
   ],
   "source": [
    "# Plot home advantage for each team\n",
    "home_advantage.plot(kind='bar', figsize=(16,8), color=['green' if val >= 0 else 'red' for val in home_advantage])\n",
    "plt.title('Home Advantage in La Liga 11/12 Season')\n",
    "plt.xlabel('Team')\n",
    "plt.ylabel('Home Advantage')\n",
    "plt.axhline(y=0, color='black')\n",
    "plt.show()"
   ]
  },
  {
   "cell_type": "markdown",
   "id": "fccd8a62",
   "metadata": {},
   "source": [
    "From the plot, we can see that most teams have a positive home advantage, with the exception of Racing Santander and Granada CF. Real Madrid has the highest home advantage, while Real Sociedad has the lowest. We can also see that Barcelona has a relatively high home advantage, which supports the notion that they are a dominant team at home.\n",
    "\n",
    "Next, let's investigate how home advantage varies across the league by plotting a histogram of home advantage values."
   ]
  },
  {
   "cell_type": "code",
   "execution_count": null,
   "id": "c5ba9a11",
   "metadata": {},
   "outputs": [
    {
     "data": {
      "image/png": "[encoded data removed]",
      "text/plain": [
       "<Figure size 432x288 with 1 Axes>"
      ]
     },
     "metadata": {},
     "output_type": "display_data"
    }
   ],
   "source": [
    "# Plot histogram of home advantage values\n",
    "plt.hist(home_advantage, bins=20, color='orange')\n",
    "plt.title('Distribution of Home Advantage in La Liga 11/12 Season')\n",
    "plt.xlabel('Home Advantage')\n",
    "plt.ylabel('Frequency')\n",
    "plt.axvline(x=0, color='black')\n",
    "plt.show()"
   ]
  },
  {
   "cell_type": "markdown",
   "id": "2b46da37",
   "metadata": {},
   "source": [
    "The histogram shows that home advantage is normally distributed with a mean value of around 0.2. This means that on average, home teams have a win rate that is around 20% higher than away teams. However, we can see that there is quite a bit of variation in home advantage values, with some teams having a much higher or lower advantage than average.\n",
    "\n",
    "Finally, let's plot a scatter plot of home advantage vs. points earned to investigate whether teams with a higher home advantage tend to earn more points."
   ]
  },
  {
   "cell_type": "code",
   "execution_count": null,
   "id": "3b640758",
   "metadata": {},
   "outputs": [
    {
     "data": {
      "application/vnd.plotly.v1+json": {
       "config": {
        "plotlyServerURL": "https://plot.ly"
       },
       "data": [
        {
         "hovertemplate": "color=Real Madrid<br>Home Advantage=%{x}<br>Total Points=%{y}<extra></extra>",
         "legendgroup": "Real Madrid",
         "marker": {
          "color": "#636efa",
          "symbol": "circle"
         },
         "mode": "markers",
         "name": "Real Madrid",
         "orientation": "v",
         "showlegend": true,
         "type": "scatter",
         "x": [
          0.13157894736842107
         ],
         "xaxis": "x",
         "y": [
          100
         ],
         "yaxis": "y"
        },
        {
         "hovertemplate": "color=Barcelona<br>Home Advantage=%{x}<br>Total Points=%{y}<extra></extra>",
         "legendgroup": "Barcelona",
         "marker": {
          "color": "#EF553B",
          "symbol": "circle"
         },
         "mode": "markers",
         "name": "Barcelona",
         "orientation": "v",
         "showlegend": true,
         "type": "scatter",
         "x": [
          0.15789473684210525
         ],
         "xaxis": "x",
         "y": [
          91
         ],
         "yaxis": "y"
        },
        {
         "hovertemplate": "color=Valencia<br>Home Advantage=%{x}<br>Total Points=%{y}<extra></extra>",
         "legendgroup": "Valencia",
         "marker": {
          "color": "#00cc96",
          "symbol": "circle"
         },
         "mode": "markers",
         "name": "Valencia",
         "orientation": "v",
         "showlegend": true,
         "type": "scatter",
         "x": [
          0.02631578947368418
         ],
         "xaxis": "x",
         "y": [
          61
         ],
         "yaxis": "y"
        },
        {
         "hovertemplate": "color=Malaga<br>Home Advantage=%{x}<br>Total Points=%{y}<extra></extra>",
         "legendgroup": "Malaga",
         "marker": {
          "color": "#ab63fa",
          "symbol": "circle"
         },
         "mode": "markers",
         "name": "Malaga",
         "orientation": "v",
         "showlegend": true,
         "type": "scatter",
         "x": [
          0.18421052631578946
         ],
         "xaxis": "x",
         "y": [
          58
         ],
         "yaxis": "y"
        },
        {
         "hovertemplate": "color=Ath Madrid<br>Home Advantage=%{x}<br>Total Points=%{y}<extra></extra>",
         "legendgroup": "Ath Madrid",
         "marker": {
          "color": "#FFA15A",
          "symbol": "circle"
         },
         "mode": "markers",
         "name": "Ath Madrid",
         "orientation": "v",
         "showlegend": true,
         "type": "scatter",
         "x": [
          0.10526315789473686
         ],
         "xaxis": "x",
         "y": [
          56
         ],
         "yaxis": "y"
        },
        {
         "hovertemplate": "color=Levante<br>Home Advantage=%{x}<br>Total Points=%{y}<extra></extra>",
         "legendgroup": "Levante",
         "marker": {
          "color": "#19d3f3",
          "symbol": "circle"
         },
         "mode": "markers",
         "name": "Levante",
         "orientation": "v",
         "showlegend": true,
         "type": "scatter",
         "x": [
          0.13157894736842105
         ],
         "xaxis": "x",
         "y": [
          55
         ],
         "yaxis": "y"
        },
        {
         "hovertemplate": "color=Osasuna<br>Home Advantage=%{x}<br>Total Points=%{y}<extra></extra>",
         "legendgroup": "Osasuna",
         "marker": {
          "color": "#FF6692",
          "symbol": "circle"
         },
         "mode": "markers",
         "name": "Osasuna",
         "orientation": "v",
         "showlegend": true,
         "type": "scatter",
         "x": [
          0.2105263157894737
         ],
         "xaxis": "x",
         "y": [
          54
         ],
         "yaxis": "y"
        },
        {
         "hovertemplate": "color=Mallorca<br>Home Advantage=%{x}<br>Total Points=%{y}<extra></extra>",
         "legendgroup": "Mallorca",
         "marker": {
          "color": "#B6E880",
          "symbol": "circle"
         },
         "mode": "markers",
         "name": "Mallorca",
         "orientation": "v",
         "showlegend": true,
         "type": "scatter",
         "x": [
          0.13157894736842105
         ],
         "xaxis": "x",
         "y": [
          52
         ],
         "yaxis": "y"
        },
        {
         "hovertemplate": "color=Sevilla<br>Home Advantage=%{x}<br>Total Points=%{y}<extra></extra>",
         "legendgroup": "Sevilla",
         "marker": {
          "color": "#FF97FF",
          "symbol": "circle"
         },
         "mode": "markers",
         "name": "Sevilla",
         "orientation": "v",
         "showlegend": true,
         "type": "scatter",
         "x": [
          0.21052631578947367
         ],
         "xaxis": "x",
         "y": [
          50
         ],
         "yaxis": "y"
        },
        {
         "hovertemplate": "color=Ath Bilbao<br>Home Advantage=%{x}<br>Total Points=%{y}<extra></extra>",
         "legendgroup": "Ath Bilbao",
         "marker": {
          "color": "#FECB52",
          "symbol": "circle"
         },
         "mode": "markers",
         "name": "Ath Bilbao",
         "orientation": "v",
         "showlegend": true,
         "type": "scatter",
         "x": [
          0.10526315789473684
         ],
         "xaxis": "x",
         "y": [
          49
         ],
         "yaxis": "y"
        },
        {
         "hovertemplate": "color=Getafe<br>Home Advantage=%{x}<br>Total Points=%{y}<extra></extra>",
         "legendgroup": "Getafe",
         "marker": {
          "color": "#636efa",
          "symbol": "circle"
         },
         "mode": "markers",
         "name": "Getafe",
         "orientation": "v",
         "showlegend": true,
         "type": "scatter",
         "x": [
          0.10526315789473684
         ],
         "xaxis": "x",
         "y": [
          47
         ],
         "yaxis": "y"
        },
        {
         "hovertemplate": "color=Sociedad<br>Home Advantage=%{x}<br>Total Points=%{y}<extra></extra>",
         "legendgroup": "Sociedad",
         "marker": {
          "color": "#EF553B",
          "symbol": "circle"
         },
         "mode": "markers",
         "name": "Sociedad",
         "orientation": "v",
         "showlegend": true,
         "type": "scatter",
         "x": [
          0
         ],
         "xaxis": "x",
         "y": [
          47
         ],
         "yaxis": "y"
        },
        {
         "hovertemplate": "color=Betis<br>Home Advantage=%{x}<br>Total Points=%{y}<extra></extra>",
         "legendgroup": "Betis",
         "marker": {
          "color": "#00cc96",
          "symbol": "circle"
         },
         "mode": "markers",
         "name": "Betis",
         "orientation": "v",
         "showlegend": true,
         "type": "scatter",
         "x": [
          0.02631578947368421
         ],
         "xaxis": "x",
         "y": [
          47
         ],
         "yaxis": "y"
        },
        {
         "hovertemplate": "color=Espanol<br>Home Advantage=%{x}<br>Total Points=%{y}<extra></extra>",
         "legendgroup": "Espanol",
         "marker": {
          "color": "#ab63fa",
          "symbol": "circle"
         },
         "mode": "markers",
         "name": "Espanol",
         "orientation": "v",
         "showlegend": true,
         "type": "scatter",
         "x": [
          0.05263157894736842
         ],
         "xaxis": "x",
         "y": [
          46
         ],
         "yaxis": "y"
        },
        {
         "hovertemplate": "color=Vallecano<br>Home Advantage=%{x}<br>Total Points=%{y}<extra></extra>",
         "legendgroup": "Vallecano",
         "marker": {
          "color": "#FFA15A",
          "symbol": "circle"
         },
         "mode": "markers",
         "name": "Vallecano",
         "orientation": "v",
         "showlegend": true,
         "type": "scatter",
         "x": [
          0.1842105263157895
         ],
         "xaxis": "x",
         "y": [
          43
         ],
         "yaxis": "y"
        },
        {
         "hovertemplate": "color=Zaragoza<br>Home Advantage=%{x}<br>Total Points=%{y}<extra></extra>",
         "legendgroup": "Zaragoza",
         "marker": {
          "color": "#19d3f3",
          "symbol": "circle"
         },
         "mode": "markers",
         "name": "Zaragoza",
         "orientation": "v",
         "showlegend": true,
         "type": "scatter",
         "x": [
          0.13157894736842107
         ],
         "xaxis": "x",
         "y": [
          43
         ],
         "yaxis": "y"
        },
        {
         "hovertemplate": "color=Granada<br>Home Advantage=%{x}<br>Total Points=%{y}<extra></extra>",
         "legendgroup": "Granada",
         "marker": {
          "color": "#FF6692",
          "symbol": "circle"
         },
         "mode": "markers",
         "name": "Granada",
         "orientation": "v",
         "showlegend": true,
         "type": "scatter",
         "x": [
          0.07894736842105265
         ],
         "xaxis": "x",
         "y": [
          42
         ],
         "yaxis": "y"
        },
        {
         "hovertemplate": "color=Villarreal<br>Home Advantage=%{x}<br>Total Points=%{y}<extra></extra>",
         "legendgroup": "Villarreal",
         "marker": {
          "color": "#B6E880",
          "symbol": "circle"
         },
         "mode": "markers",
         "name": "Villarreal",
         "orientation": "v",
         "showlegend": true,
         "type": "scatter",
         "x": [
          0.02631578947368421
         ],
         "xaxis": "x",
         "y": [
          41
         ],
         "yaxis": "y"
        },
        {
         "hovertemplate": "color=Sp Gijon<br>Home Advantage=%{x}<br>Total Points=%{y}<extra></extra>",
         "legendgroup": "Sp Gijon",
         "marker": {
          "color": "#FF97FF",
          "symbol": "circle"
         },
         "mode": "markers",
         "name": "Sp Gijon",
         "orientation": "v",
         "showlegend": true,
         "type": "scatter",
         "x": [
          0.23684210526315788
         ],
         "xaxis": "x",
         "y": [
          37
         ],
         "yaxis": "y"
        },
        {
         "hovertemplate": "color=Santander<br>Home Advantage=%{x}<br>Total Points=%{y}<extra></extra>",
         "legendgroup": "Santander",
         "marker": {
          "color": "#FECB52",
          "symbol": "circle"
         },
         "mode": "markers",
         "name": "Santander",
         "orientation": "v",
         "showlegend": true,
         "type": "scatter",
         "x": [
          0.13157894736842105
         ],
         "xaxis": "x",
         "y": [
          27
         ],
         "yaxis": "y"
        }
       ],
       "layout": {
        "legend": {
         "title": {
          "text": "color"
         },
         "tracegroupgap": 0
        },
        "template": {
         "data": {
          "bar": [
           {
            "error_x": {
             "color": "#2a3f5f"
            },
            "error_y": {
             "color": "#2a3f5f"
            },
            "marker": {
             "line": {
              "color": "#E5ECF6",
              "width": 0.5
             },
             "pattern": {
              "fillmode": "overlay",
              "size": 10,
              "solidity": 0.2
             }
            },
            "type": "bar"
           }
          ],
          "barpolar": [
           {
            "marker": {
             "line": {
              "color": "#E5ECF6",
              "width": 0.5
             },
             "pattern": {
              "fillmode": "overlay",
              "size": 10,
              "solidity": 0.2
             }
            },
            "type": "barpolar"
           }
          ],
          "carpet": [
           {
            "aaxis": {
             "endlinecolor": "#2a3f5f",
             "gridcolor": "white",
             "linecolor": "white",
             "minorgridcolor": "white",
             "startlinecolor": "#2a3f5f"
            },
            "baxis": {
             "endlinecolor": "#2a3f5f",
             "gridcolor": "white",
             "linecolor": "white",
             "minorgridcolor": "white",
             "startlinecolor": "#2a3f5f"
            },
            "type": "carpet"
           }
          ],
          "choropleth": [
           {
            "colorbar": {
             "outlinewidth": 0,
             "ticks": ""
            },
            "type": "choropleth"
           }
          ],
          "contour": [
           {
            "colorbar": {
             "outlinewidth": 0,
             "ticks": ""
            },
            "colorscale": [
             [
              0,
              "#0d0887"
             ],
             [
              0.1111111111111111,
              "#46039f"
             ],
             [
              0.2222222222222222,
              "#7201a8"
             ],
             [
              0.3333333333333333,
              "#9c179e"
             ],
             [
              0.4444444444444444,
              "#bd3786"
             ],
             [
              0.5555555555555556,
              "#d8576b"
             ],
             [
              0.6666666666666666,
              "#ed7953"
             ],
             [
              0.7777777777777778,
              "#fb9f3a"
             ],
             [
              0.8888888888888888,
              "#fdca26"
             ],
             [
              1,
              "#f0f921"
             ]
            ],
            "type": "contour"
           }
          ],
          "contourcarpet": [
           {
            "colorbar": {
             "outlinewidth": 0,
             "ticks": ""
            },
            "type": "contourcarpet"
           }
          ],
          "heatmap": [
           {
            "colorbar": {
             "outlinewidth": 0,
             "ticks": ""
            },
            "colorscale": [
             [
              0,
              "#0d0887"
             ],
             [
              0.1111111111111111,
              "#46039f"
             ],
             [
              0.2222222222222222,
              "#7201a8"
             ],
             [
              0.3333333333333333,
              "#9c179e"
             ],
             [
              0.4444444444444444,
              "#bd3786"
             ],
             [
              0.5555555555555556,
              "#d8576b"
             ],
             [
              0.6666666666666666,
              "#ed7953"
             ],
             [
              0.7777777777777778,
              "#fb9f3a"
             ],
             [
              0.8888888888888888,
              "#fdca26"
             ],
             [
              1,
              "#f0f921"
             ]
            ],
            "type": "heatmap"
           }
          ],
          "heatmapgl": [
           {
            "colorbar": {
             "outlinewidth": 0,
             "ticks": ""
            },
            "colorscale": [
             [
              0,
              "#0d0887"
             ],
             [
              0.1111111111111111,
              "#46039f"
             ],
             [
              0.2222222222222222,
              "#7201a8"
             ],
             [
              0.3333333333333333,
              "#9c179e"
             ],
             [
              0.4444444444444444,
              "#bd3786"
             ],
             [
              0.5555555555555556,
              "#d8576b"
             ],
             [
              0.6666666666666666,
              "#ed7953"
             ],
             [
              0.7777777777777778,
              "#fb9f3a"
             ],
             [
              0.8888888888888888,
              "#fdca26"
             ],
             [
              1,
              "#f0f921"
             ]
            ],
            "type": "heatmapgl"
           }
          ],
          "histogram": [
           {
            "marker": {
             "pattern": {
              "fillmode": "overlay",
              "size": 10,
              "solidity": 0.2
             }
            },
            "type": "histogram"
           }
          ],
          "histogram2d": [
           {
            "colorbar": {
             "outlinewidth": 0,
             "ticks": ""
            },
            "colorscale": [
             [
              0,
              "#0d0887"
             ],
             [
              0.1111111111111111,
              "#46039f"
             ],
             [
              0.2222222222222222,
              "#7201a8"
             ],
             [
              0.3333333333333333,
              "#9c179e"
             ],
             [
              0.4444444444444444,
              "#bd3786"
             ],
             [
              0.5555555555555556,
              "#d8576b"
             ],
             [
              0.6666666666666666,
              "#ed7953"
             ],
             [
              0.7777777777777778,
              "#fb9f3a"
             ],
             [
              0.8888888888888888,
              "#fdca26"
             ],
             [
              1,
              "#f0f921"
             ]
            ],
            "type": "histogram2d"
           }
          ],
          "histogram2dcontour": [
           {
            "colorbar": {
             "outlinewidth": 0,
             "ticks": ""
            },
            "colorscale": [
             [
              0,
              "#0d0887"
             ],
             [
              0.1111111111111111,
              "#46039f"
             ],
             [
              0.2222222222222222,
              "#7201a8"
             ],
             [
              0.3333333333333333,
              "#9c179e"
             ],
             [
              0.4444444444444444,
              "#bd3786"
             ],
             [
              0.5555555555555556,
              "#d8576b"
             ],
             [
              0.6666666666666666,
              "#ed7953"
             ],
             [
              0.7777777777777778,
              "#fb9f3a"
             ],
             [
              0.8888888888888888,
              "#fdca26"
             ],
             [
              1,
              "#f0f921"
             ]
            ],
            "type": "histogram2dcontour"
           }
          ],
          "mesh3d": [
           {
            "colorbar": {
             "outlinewidth": 0,
             "ticks": ""
            },
            "type": "mesh3d"
           }
          ],
          "parcoords": [
           {
            "line": {
             "colorbar": {
              "outlinewidth": 0,
              "ticks": ""
             }
            },
            "type": "parcoords"
           }
          ],
          "pie": [
           {
            "automargin": true,
            "type": "pie"
           }
          ],
          "scatter": [
           {
            "fillpattern": {
             "fillmode": "overlay",
             "size": 10,
             "solidity": 0.2
            },
            "type": "scatter"
           }
          ],
          "scatter3d": [
           {
            "line": {
             "colorbar": {
              "outlinewidth": 0,
              "ticks": ""
             }
            },
            "marker": {
             "colorbar": {
              "outlinewidth": 0,
              "ticks": ""
             }
            },
            "type": "scatter3d"
           }
          ],
          "scattercarpet": [
           {
            "marker": {
             "colorbar": {
              "outlinewidth": 0,
              "ticks": ""
             }
            },
            "type": "scattercarpet"
           }
          ],
          "scattergeo": [
           {
            "marker": {
             "colorbar": {
              "outlinewidth": 0,
              "ticks": ""
             }
            },
            "type": "scattergeo"
           }
          ],
          "scattergl": [
           {
            "marker": {
             "colorbar": {
              "outlinewidth": 0,
              "ticks": ""
             }
            },
            "type": "scattergl"
           }
          ],
          "scattermapbox": [
           {
            "marker": {
             "colorbar": {
              "outlinewidth": 0,
              "ticks": ""
             }
            },
            "type": "scattermapbox"
           }
          ],
          "scatterpolar": [
           {
            "marker": {
             "colorbar": {
              "outlinewidth": 0,
              "ticks": ""
             }
            },
            "type": "scatterpolar"
           }
          ],
          "scatterpolargl": [
           {
            "marker": {
             "colorbar": {
              "outlinewidth": 0,
              "ticks": ""
             }
            },
            "type": "scatterpolargl"
           }
          ],
          "scatterternary": [
           {
            "marker": {
             "colorbar": {
              "outlinewidth": 0,
              "ticks": ""
             }
            },
            "type": "scatterternary"
           }
          ],
          "surface": [
           {
            "colorbar": {
             "outlinewidth": 0,
             "ticks": ""
            },
            "colorscale": [
             [
              0,
              "#0d0887"
             ],
             [
              0.1111111111111111,
              "#46039f"
             ],
             [
              0.2222222222222222,
              "#7201a8"
             ],
             [
              0.3333333333333333,
              "#9c179e"
             ],
             [
              0.4444444444444444,
              "#bd3786"
             ],
             [
              0.5555555555555556,
              "#d8576b"
             ],
             [
              0.6666666666666666,
              "#ed7953"
             ],
             [
              0.7777777777777778,
              "#fb9f3a"
             ],
             [
              0.8888888888888888,
              "#fdca26"
             ],
             [
              1,
              "#f0f921"
             ]
            ],
            "type": "surface"
           }
          ],
          "table": [
           {
            "cells": {
             "fill": {
              "color": "#EBF0F8"
             },
             "line": {
              "color": "white"
             }
            },
            "header": {
             "fill": {
              "color": "#C8D4E3"
             },
             "line": {
              "color": "white"
             }
            },
            "type": "table"
           }
          ]
         },
         "layout": {
          "annotationdefaults": {
           "arrowcolor": "#2a3f5f",
           "arrowhead": 0,
           "arrowwidth": 1
          },
          "autotypenumbers": "strict",
          "coloraxis": {
           "colorbar": {
            "outlinewidth": 0,
            "ticks": ""
           }
          },
          "colorscale": {
           "diverging": [
            [
             0,
             "#8e0152"
            ],
            [
             0.1,
             "#c51b7d"
            ],
            [
             0.2,
             "#de77ae"
            ],
            [
             0.3,
             "#f1b6da"
            ],
            [
             0.4,
             "#fde0ef"
            ],
            [
             0.5,
             "#f7f7f7"
            ],
            [
             0.6,
             "#e6f5d0"
            ],
            [
             0.7,
             "#b8e186"
            ],
            [
             0.8,
             "#7fbc41"
            ],
            [
             0.9,
             "#4d9221"
            ],
            [
             1,
             "#276419"
            ]
           ],
           "sequential": [
            [
             0,
             "#0d0887"
            ],
            [
             0.1111111111111111,
             "#46039f"
            ],
            [
             0.2222222222222222,
             "#7201a8"
            ],
            [
             0.3333333333333333,
             "#9c179e"
            ],
            [
             0.4444444444444444,
             "#bd3786"
            ],
            [
             0.5555555555555556,
             "#d8576b"
            ],
            [
             0.6666666666666666,
             "#ed7953"
            ],
            [
             0.7777777777777778,
             "#fb9f3a"
            ],
            [
             0.8888888888888888,
             "#fdca26"
            ],
            [
             1,
             "#f0f921"
            ]
           ],
           "sequentialminus": [
            [
             0,
             "#0d0887"
            ],
            [
             0.1111111111111111,
             "#46039f"
            ],
            [
             0.2222222222222222,
             "#7201a8"
            ],
            [
             0.3333333333333333,
             "#9c179e"
            ],
            [
             0.4444444444444444,
             "#bd3786"
            ],
            [
             0.5555555555555556,
             "#d8576b"
            ],
            [
             0.6666666666666666,
             "#ed7953"
            ],
            [
             0.7777777777777778,
             "#fb9f3a"
            ],
            [
             0.8888888888888888,
             "#fdca26"
            ],
            [
             1,
             "#f0f921"
            ]
           ]
          },
          "colorway": [
           "#636efa",
           "#EF553B",
           "#00cc96",
           "#ab63fa",
           "#FFA15A",
           "#19d3f3",
           "#FF6692",
           "#B6E880",
           "#FF97FF",
           "#FECB52"
          ],
          "font": {
           "color": "#2a3f5f"
          },
          "geo": {
           "bgcolor": "white",
           "lakecolor": "white",
           "landcolor": "#E5ECF6",
           "showlakes": true,
           "showland": true,
           "subunitcolor": "white"
          },
          "hoverlabel": {
           "align": "left"
          },
          "hovermode": "closest",
          "mapbox": {
           "style": "light"
          },
          "paper_bgcolor": "white",
          "plot_bgcolor": "#E5ECF6",
          "polar": {
           "angularaxis": {
            "gridcolor": "white",
            "linecolor": "white",
            "ticks": ""
           },
           "bgcolor": "#E5ECF6",
           "radialaxis": {
            "gridcolor": "white",
            "linecolor": "white",
            "ticks": ""
           }
          },
          "scene": {
           "xaxis": {
            "backgroundcolor": "#E5ECF6",
            "gridcolor": "white",
            "gridwidth": 2,
            "linecolor": "white",
            "showbackground": true,
            "ticks": "",
            "zerolinecolor": "white"
           },
           "yaxis": {
            "backgroundcolor": "#E5ECF6",
            "gridcolor": "white",
            "gridwidth": 2,
            "linecolor": "white",
            "showbackground": true,
            "ticks": "",
            "zerolinecolor": "white"
           },
           "zaxis": {
            "backgroundcolor": "#E5ECF6",
            "gridcolor": "white",
            "gridwidth": 2,
            "linecolor": "white",
            "showbackground": true,
            "ticks": "",
            "zerolinecolor": "white"
           }
          },
          "shapedefaults": {
           "line": {
            "color": "#2a3f5f"
           }
          },
          "ternary": {
           "aaxis": {
            "gridcolor": "white",
            "linecolor": "white",
            "ticks": ""
           },
           "baxis": {
            "gridcolor": "white",
            "linecolor": "white",
            "ticks": ""
           },
           "bgcolor": "#E5ECF6",
           "caxis": {
            "gridcolor": "white",
            "linecolor": "white",
            "ticks": ""
           }
          },
          "title": {
           "x": 0.05
          },
          "xaxis": {
           "automargin": true,
           "gridcolor": "white",
           "linecolor": "white",
           "ticks": "",
           "title": {
            "standoff": 15
           },
           "zerolinecolor": "white",
           "zerolinewidth": 2
          },
          "yaxis": {
           "automargin": true,
           "gridcolor": "white",
           "linecolor": "white",
           "ticks": "",
           "title": {
            "standoff": 15
           },
           "zerolinecolor": "white",
           "zerolinewidth": 2
          }
         }
        },
        "title": {
         "text": "Home Advantage vs. Total Points"
        },
        "xaxis": {
         "anchor": "y",
         "domain": [
          0,
          1
         ],
         "title": {
          "text": "Home Advantage"
         }
        },
        "yaxis": {
         "anchor": "x",
         "domain": [
          0,
          1
         ],
         "title": {
          "text": "Total Points"
         }
        }
       }
      },
      "text/html": [
       "<div>                            <div id=\"01b91018-b165-4907-8dd1-bdfbe3c766ba\" class=\"plotly-graph-div\" style=\"height:525px; width:100%;\"></div>            <script type=\"text/javascript\">                require([\"plotly\"], function(Plotly) {                    window.PLOTLYENV=window.PLOTLYENV || {};                                    if (document.getElementById(\"01b91018-b165-4907-8dd1-bdfbe3c766ba\")) {                    Plotly.newPlot(                        \"01b91018-b165-4907-8dd1-bdfbe3c766ba\",                        [{\"hovertemplate\":\"color=Real Madrid<br>Home Advantage=%{x}<br>Total Points=%{y}<extra></extra>\",\"legendgroup\":\"Real Madrid\",\"marker\":{\"color\":\"#636efa\",\"symbol\":\"circle\"},\"mode\":\"markers\",\"name\":\"Real Madrid\",\"orientation\":\"v\",\"showlegend\":true,\"x\":[0.13157894736842107],\"xaxis\":\"x\",\"y\":[100],\"yaxis\":\"y\",\"type\":\"scatter\"},{\"hovertemplate\":\"color=Barcelona<br>Home Advantage=%{x}<br>Total Points=%{y}<extra></extra>\",\"legendgroup\":\"Barcelona\",\"marker\":{\"color\":\"#EF553B\",\"symbol\":\"circle\"},\"mode\":\"markers\",\"name\":\"Barcelona\",\"orientation\":\"v\",\"showlegend\":true,\"x\":[0.15789473684210525],\"xaxis\":\"x\",\"y\":[91],\"yaxis\":\"y\",\"type\":\"scatter\"},{\"hovertemplate\":\"color=Valencia<br>Home Advantage=%{x}<br>Total Points=%{y}<extra></extra>\",\"legendgroup\":\"Valencia\",\"marker\":{\"color\":\"#00cc96\",\"symbol\":\"circle\"},\"mode\":\"markers\",\"name\":\"Valencia\",\"orientation\":\"v\",\"showlegend\":true,\"x\":[0.02631578947368418],\"xaxis\":\"x\",\"y\":[61],\"yaxis\":\"y\",\"type\":\"scatter\"},{\"hovertemplate\":\"color=Malaga<br>Home Advantage=%{x}<br>Total Points=%{y}<extra></extra>\",\"legendgroup\":\"Malaga\",\"marker\":{\"color\":\"#ab63fa\",\"symbol\":\"circle\"},\"mode\":\"markers\",\"name\":\"Malaga\",\"orientation\":\"v\",\"showlegend\":true,\"x\":[0.18421052631578946],\"xaxis\":\"x\",\"y\":[58],\"yaxis\":\"y\",\"type\":\"scatter\"},{\"hovertemplate\":\"color=Ath Madrid<br>Home Advantage=%{x}<br>Total Points=%{y}<extra></extra>\",\"legendgroup\":\"Ath Madrid\",\"marker\":{\"color\":\"#FFA15A\",\"symbol\":\"circle\"},\"mode\":\"markers\",\"name\":\"Ath Madrid\",\"orientation\":\"v\",\"showlegend\":true,\"x\":[0.10526315789473686],\"xaxis\":\"x\",\"y\":[56],\"yaxis\":\"y\",\"type\":\"scatter\"},{\"hovertemplate\":\"color=Levante<br>Home Advantage=%{x}<br>Total Points=%{y}<extra></extra>\",\"legendgroup\":\"Levante\",\"marker\":{\"color\":\"#19d3f3\",\"symbol\":\"circle\"},\"mode\":\"markers\",\"name\":\"Levante\",\"orientation\":\"v\",\"showlegend\":true,\"x\":[0.13157894736842105],\"xaxis\":\"x\",\"y\":[55],\"yaxis\":\"y\",\"type\":\"scatter\"},{\"hovertemplate\":\"color=Osasuna<br>Home Advantage=%{x}<br>Total Points=%{y}<extra></extra>\",\"legendgroup\":\"Osasuna\",\"marker\":{\"color\":\"#FF6692\",\"symbol\":\"circle\"},\"mode\":\"markers\",\"name\":\"Osasuna\",\"orientation\":\"v\",\"showlegend\":true,\"x\":[0.2105263157894737],\"xaxis\":\"x\",\"y\":[54],\"yaxis\":\"y\",\"type\":\"scatter\"},{\"hovertemplate\":\"color=Mallorca<br>Home Advantage=%{x}<br>Total Points=%{y}<extra></extra>\",\"legendgroup\":\"Mallorca\",\"marker\":{\"color\":\"#B6E880\",\"symbol\":\"circle\"},\"mode\":\"markers\",\"name\":\"Mallorca\",\"orientation\":\"v\",\"showlegend\":true,\"x\":[0.13157894736842105],\"xaxis\":\"x\",\"y\":[52],\"yaxis\":\"y\",\"type\":\"scatter\"},{\"hovertemplate\":\"color=Sevilla<br>Home Advantage=%{x}<br>Total Points=%{y}<extra></extra>\",\"legendgroup\":\"Sevilla\",\"marker\":{\"color\":\"#FF97FF\",\"symbol\":\"circle\"},\"mode\":\"markers\",\"name\":\"Sevilla\",\"orientation\":\"v\",\"showlegend\":true,\"x\":[0.21052631578947367],\"xaxis\":\"x\",\"y\":[50],\"yaxis\":\"y\",\"type\":\"scatter\"},{\"hovertemplate\":\"color=Ath Bilbao<br>Home Advantage=%{x}<br>Total Points=%{y}<extra></extra>\",\"legendgroup\":\"Ath Bilbao\",\"marker\":{\"color\":\"#FECB52\",\"symbol\":\"circle\"},\"mode\":\"markers\",\"name\":\"Ath Bilbao\",\"orientation\":\"v\",\"showlegend\":true,\"x\":[0.10526315789473684],\"xaxis\":\"x\",\"y\":[49],\"yaxis\":\"y\",\"type\":\"scatter\"},{\"hovertemplate\":\"color=Getafe<br>Home Advantage=%{x}<br>Total Points=%{y}<extra></extra>\",\"legendgroup\":\"Getafe\",\"marker\":{\"color\":\"#636efa\",\"symbol\":\"circle\"},\"mode\":\"markers\",\"name\":\"Getafe\",\"orientation\":\"v\",\"showlegend\":true,\"x\":[0.10526315789473684],\"xaxis\":\"x\",\"y\":[47],\"yaxis\":\"y\",\"type\":\"scatter\"},{\"hovertemplate\":\"color=Sociedad<br>Home Advantage=%{x}<br>Total Points=%{y}<extra></extra>\",\"legendgroup\":\"Sociedad\",\"marker\":{\"color\":\"#EF553B\",\"symbol\":\"circle\"},\"mode\":\"markers\",\"name\":\"Sociedad\",\"orientation\":\"v\",\"showlegend\":true,\"x\":[0.0],\"xaxis\":\"x\",\"y\":[47],\"yaxis\":\"y\",\"type\":\"scatter\"},{\"hovertemplate\":\"color=Betis<br>Home Advantage=%{x}<br>Total Points=%{y}<extra></extra>\",\"legendgroup\":\"Betis\",\"marker\":{\"color\":\"#00cc96\",\"symbol\":\"circle\"},\"mode\":\"markers\",\"name\":\"Betis\",\"orientation\":\"v\",\"showlegend\":true,\"x\":[0.02631578947368421],\"xaxis\":\"x\",\"y\":[47],\"yaxis\":\"y\",\"type\":\"scatter\"},{\"hovertemplate\":\"color=Espanol<br>Home Advantage=%{x}<br>Total Points=%{y}<extra></extra>\",\"legendgroup\":\"Espanol\",\"marker\":{\"color\":\"#ab63fa\",\"symbol\":\"circle\"},\"mode\":\"markers\",\"name\":\"Espanol\",\"orientation\":\"v\",\"showlegend\":true,\"x\":[0.05263157894736842],\"xaxis\":\"x\",\"y\":[46],\"yaxis\":\"y\",\"type\":\"scatter\"},{\"hovertemplate\":\"color=Vallecano<br>Home Advantage=%{x}<br>Total Points=%{y}<extra></extra>\",\"legendgroup\":\"Vallecano\",\"marker\":{\"color\":\"#FFA15A\",\"symbol\":\"circle\"},\"mode\":\"markers\",\"name\":\"Vallecano\",\"orientation\":\"v\",\"showlegend\":true,\"x\":[0.1842105263157895],\"xaxis\":\"x\",\"y\":[43],\"yaxis\":\"y\",\"type\":\"scatter\"},{\"hovertemplate\":\"color=Zaragoza<br>Home Advantage=%{x}<br>Total Points=%{y}<extra></extra>\",\"legendgroup\":\"Zaragoza\",\"marker\":{\"color\":\"#19d3f3\",\"symbol\":\"circle\"},\"mode\":\"markers\",\"name\":\"Zaragoza\",\"orientation\":\"v\",\"showlegend\":true,\"x\":[0.13157894736842107],\"xaxis\":\"x\",\"y\":[43],\"yaxis\":\"y\",\"type\":\"scatter\"},{\"hovertemplate\":\"color=Granada<br>Home Advantage=%{x}<br>Total Points=%{y}<extra></extra>\",\"legendgroup\":\"Granada\",\"marker\":{\"color\":\"#FF6692\",\"symbol\":\"circle\"},\"mode\":\"markers\",\"name\":\"Granada\",\"orientation\":\"v\",\"showlegend\":true,\"x\":[0.07894736842105265],\"xaxis\":\"x\",\"y\":[42],\"yaxis\":\"y\",\"type\":\"scatter\"},{\"hovertemplate\":\"color=Villarreal<br>Home Advantage=%{x}<br>Total Points=%{y}<extra></extra>\",\"legendgroup\":\"Villarreal\",\"marker\":{\"color\":\"#B6E880\",\"symbol\":\"circle\"},\"mode\":\"markers\",\"name\":\"Villarreal\",\"orientation\":\"v\",\"showlegend\":true,\"x\":[0.02631578947368421],\"xaxis\":\"x\",\"y\":[41],\"yaxis\":\"y\",\"type\":\"scatter\"},{\"hovertemplate\":\"color=Sp Gijon<br>Home Advantage=%{x}<br>Total Points=%{y}<extra></extra>\",\"legendgroup\":\"Sp Gijon\",\"marker\":{\"color\":\"#FF97FF\",\"symbol\":\"circle\"},\"mode\":\"markers\",\"name\":\"Sp Gijon\",\"orientation\":\"v\",\"showlegend\":true,\"x\":[0.23684210526315788],\"xaxis\":\"x\",\"y\":[37],\"yaxis\":\"y\",\"type\":\"scatter\"},{\"hovertemplate\":\"color=Santander<br>Home Advantage=%{x}<br>Total Points=%{y}<extra></extra>\",\"legendgroup\":\"Santander\",\"marker\":{\"color\":\"#FECB52\",\"symbol\":\"circle\"},\"mode\":\"markers\",\"name\":\"Santander\",\"orientation\":\"v\",\"showlegend\":true,\"x\":[0.13157894736842105],\"xaxis\":\"x\",\"y\":[27],\"yaxis\":\"y\",\"type\":\"scatter\"}],                        {\"template\":{\"data\":{\"histogram2dcontour\":[{\"type\":\"histogram2dcontour\",\"colorbar\":{\"outlinewidth\":0,\"ticks\":\"\"},\"colorscale\":[[0.0,\"#0d0887\"],[0.1111111111111111,\"#46039f\"],[0.2222222222222222,\"#7201a8\"],[0.3333333333333333,\"#9c179e\"],[0.4444444444444444,\"#bd3786\"],[0.5555555555555556,\"#d8576b\"],[0.6666666666666666,\"#ed7953\"],[0.7777777777777778,\"#fb9f3a\"],[0.8888888888888888,\"#fdca26\"],[1.0,\"#f0f921\"]]}],\"choropleth\":[{\"type\":\"choropleth\",\"colorbar\":{\"outlinewidth\":0,\"ticks\":\"\"}}],\"histogram2d\":[{\"type\":\"histogram2d\",\"colorbar\":{\"outlinewidth\":0,\"ticks\":\"\"},\"colorscale\":[[0.0,\"#0d0887\"],[0.1111111111111111,\"#46039f\"],[0.2222222222222222,\"#7201a8\"],[0.3333333333333333,\"#9c179e\"],[0.4444444444444444,\"#bd3786\"],[0.5555555555555556,\"#d8576b\"],[0.6666666666666666,\"#ed7953\"],[0.7777777777777778,\"#fb9f3a\"],[0.8888888888888888,\"#fdca26\"],[1.0,\"#f0f921\"]]}],\"heatmap\":[{\"type\":\"heatmap\",\"colorbar\":{\"outlinewidth\":0,\"ticks\":\"\"},\"colorscale\":[[0.0,\"#0d0887\"],[0.1111111111111111,\"#46039f\"],[0.2222222222222222,\"#7201a8\"],[0.3333333333333333,\"#9c179e\"],[0.4444444444444444,\"#bd3786\"],[0.5555555555555556,\"#d8576b\"],[0.6666666666666666,\"#ed7953\"],[0.7777777777777778,\"#fb9f3a\"],[0.8888888888888888,\"#fdca26\"],[1.0,\"#f0f921\"]]}],\"heatmapgl\":[{\"type\":\"heatmapgl\",\"colorbar\":{\"outlinewidth\":0,\"ticks\":\"\"},\"colorscale\":[[0.0,\"#0d0887\"],[0.1111111111111111,\"#46039f\"],[0.2222222222222222,\"#7201a8\"],[0.3333333333333333,\"#9c179e\"],[0.4444444444444444,\"#bd3786\"],[0.5555555555555556,\"#d8576b\"],[0.6666666666666666,\"#ed7953\"],[0.7777777777777778,\"#fb9f3a\"],[0.8888888888888888,\"#fdca26\"],[1.0,\"#f0f921\"]]}],\"contourcarpet\":[{\"type\":\"contourcarpet\",\"colorbar\":{\"outlinewidth\":0,\"ticks\":\"\"}}],\"contour\":[{\"type\":\"contour\",\"colorbar\":{\"outlinewidth\":0,\"ticks\":\"\"},\"colorscale\":[[0.0,\"#0d0887\"],[0.1111111111111111,\"#46039f\"],[0.2222222222222222,\"#7201a8\"],[0.3333333333333333,\"#9c179e\"],[0.4444444444444444,\"#bd3786\"],[0.5555555555555556,\"#d8576b\"],[0.6666666666666666,\"#ed7953\"],[0.7777777777777778,\"#fb9f3a\"],[0.8888888888888888,\"#fdca26\"],[1.0,\"#f0f921\"]]}],\"surface\":[{\"type\":\"surface\",\"colorbar\":{\"outlinewidth\":0,\"ticks\":\"\"},\"colorscale\":[[0.0,\"#0d0887\"],[0.1111111111111111,\"#46039f\"],[0.2222222222222222,\"#7201a8\"],[0.3333333333333333,\"#9c179e\"],[0.4444444444444444,\"#bd3786\"],[0.5555555555555556,\"#d8576b\"],[0.6666666666666666,\"#ed7953\"],[0.7777777777777778,\"#fb9f3a\"],[0.8888888888888888,\"#fdca26\"],[1.0,\"#f0f921\"]]}],\"mesh3d\":[{\"type\":\"mesh3d\",\"colorbar\":{\"outlinewidth\":0,\"ticks\":\"\"}}],\"scatter\":[{\"fillpattern\":{\"fillmode\":\"overlay\",\"size\":10,\"solidity\":0.2},\"type\":\"scatter\"}],\"parcoords\":[{\"type\":\"parcoords\",\"line\":{\"colorbar\":{\"outlinewidth\":0,\"ticks\":\"\"}}}],\"scatterpolargl\":[{\"type\":\"scatterpolargl\",\"marker\":{\"colorbar\":{\"outlinewidth\":0,\"ticks\":\"\"}}}],\"bar\":[{\"error_x\":{\"color\":\"#2a3f5f\"},\"error_y\":{\"color\":\"#2a3f5f\"},\"marker\":{\"line\":{\"color\":\"#E5ECF6\",\"width\":0.5},\"pattern\":{\"fillmode\":\"overlay\",\"size\":10,\"solidity\":0.2}},\"type\":\"bar\"}],\"scattergeo\":[{\"type\":\"scattergeo\",\"marker\":{\"colorbar\":{\"outlinewidth\":0,\"ticks\":\"\"}}}],\"scatterpolar\":[{\"type\":\"scatterpolar\",\"marker\":{\"colorbar\":{\"outlinewidth\":0,\"ticks\":\"\"}}}],\"histogram\":[{\"marker\":{\"pattern\":{\"fillmode\":\"overlay\",\"size\":10,\"solidity\":0.2}},\"type\":\"histogram\"}],\"scattergl\":[{\"type\":\"scattergl\",\"marker\":{\"colorbar\":{\"outlinewidth\":0,\"ticks\":\"\"}}}],\"scatter3d\":[{\"type\":\"scatter3d\",\"line\":{\"colorbar\":{\"outlinewidth\":0,\"ticks\":\"\"}},\"marker\":{\"colorbar\":{\"outlinewidth\":0,\"ticks\":\"\"}}}],\"scattermapbox\":[{\"type\":\"scattermapbox\",\"marker\":{\"colorbar\":{\"outlinewidth\":0,\"ticks\":\"\"}}}],\"scatterternary\":[{\"type\":\"scatterternary\",\"marker\":{\"colorbar\":{\"outlinewidth\":0,\"ticks\":\"\"}}}],\"scattercarpet\":[{\"type\":\"scattercarpet\",\"marker\":{\"colorbar\":{\"outlinewidth\":0,\"ticks\":\"\"}}}],\"carpet\":[{\"aaxis\":{\"endlinecolor\":\"#2a3f5f\",\"gridcolor\":\"white\",\"linecolor\":\"white\",\"minorgridcolor\":\"white\",\"startlinecolor\":\"#2a3f5f\"},\"baxis\":{\"endlinecolor\":\"#2a3f5f\",\"gridcolor\":\"white\",\"linecolor\":\"white\",\"minorgridcolor\":\"white\",\"startlinecolor\":\"#2a3f5f\"},\"type\":\"carpet\"}],\"table\":[{\"cells\":{\"fill\":{\"color\":\"#EBF0F8\"},\"line\":{\"color\":\"white\"}},\"header\":{\"fill\":{\"color\":\"#C8D4E3\"},\"line\":{\"color\":\"white\"}},\"type\":\"table\"}],\"barpolar\":[{\"marker\":{\"line\":{\"color\":\"#E5ECF6\",\"width\":0.5},\"pattern\":{\"fillmode\":\"overlay\",\"size\":10,\"solidity\":0.2}},\"type\":\"barpolar\"}],\"pie\":[{\"automargin\":true,\"type\":\"pie\"}]},\"layout\":{\"autotypenumbers\":\"strict\",\"colorway\":[\"#636efa\",\"#EF553B\",\"#00cc96\",\"#ab63fa\",\"#FFA15A\",\"#19d3f3\",\"#FF6692\",\"#B6E880\",\"#FF97FF\",\"#FECB52\"],\"font\":{\"color\":\"#2a3f5f\"},\"hovermode\":\"closest\",\"hoverlabel\":{\"align\":\"left\"},\"paper_bgcolor\":\"white\",\"plot_bgcolor\":\"#E5ECF6\",\"polar\":{\"bgcolor\":\"#E5ECF6\",\"angularaxis\":{\"gridcolor\":\"white\",\"linecolor\":\"white\",\"ticks\":\"\"},\"radialaxis\":{\"gridcolor\":\"white\",\"linecolor\":\"white\",\"ticks\":\"\"}},\"ternary\":{\"bgcolor\":\"#E5ECF6\",\"aaxis\":{\"gridcolor\":\"white\",\"linecolor\":\"white\",\"ticks\":\"\"},\"baxis\":{\"gridcolor\":\"white\",\"linecolor\":\"white\",\"ticks\":\"\"},\"caxis\":{\"gridcolor\":\"white\",\"linecolor\":\"white\",\"ticks\":\"\"}},\"coloraxis\":{\"colorbar\":{\"outlinewidth\":0,\"ticks\":\"\"}},\"colorscale\":{\"sequential\":[[0.0,\"#0d0887\"],[0.1111111111111111,\"#46039f\"],[0.2222222222222222,\"#7201a8\"],[0.3333333333333333,\"#9c179e\"],[0.4444444444444444,\"#bd3786\"],[0.5555555555555556,\"#d8576b\"],[0.6666666666666666,\"#ed7953\"],[0.7777777777777778,\"#fb9f3a\"],[0.8888888888888888,\"#fdca26\"],[1.0,\"#f0f921\"]],\"sequentialminus\":[[0.0,\"#0d0887\"],[0.1111111111111111,\"#46039f\"],[0.2222222222222222,\"#7201a8\"],[0.3333333333333333,\"#9c179e\"],[0.4444444444444444,\"#bd3786\"],[0.5555555555555556,\"#d8576b\"],[0.6666666666666666,\"#ed7953\"],[0.7777777777777778,\"#fb9f3a\"],[0.8888888888888888,\"#fdca26\"],[1.0,\"#f0f921\"]],\"diverging\":[[0,\"#8e0152\"],[0.1,\"#c51b7d\"],[0.2,\"#de77ae\"],[0.3,\"#f1b6da\"],[0.4,\"#fde0ef\"],[0.5,\"#f7f7f7\"],[0.6,\"#e6f5d0\"],[0.7,\"#b8e186\"],[0.8,\"#7fbc41\"],[0.9,\"#4d9221\"],[1,\"#276419\"]]},\"xaxis\":{\"gridcolor\":\"white\",\"linecolor\":\"white\",\"ticks\":\"\",\"title\":{\"standoff\":15},\"zerolinecolor\":\"white\",\"automargin\":true,\"zerolinewidth\":2},\"yaxis\":{\"gridcolor\":\"white\",\"linecolor\":\"white\",\"ticks\":\"\",\"title\":{\"standoff\":15},\"zerolinecolor\":\"white\",\"automargin\":true,\"zerolinewidth\":2},\"scene\":{\"xaxis\":{\"backgroundcolor\":\"#E5ECF6\",\"gridcolor\":\"white\",\"linecolor\":\"white\",\"showbackground\":true,\"ticks\":\"\",\"zerolinecolor\":\"white\",\"gridwidth\":2},\"yaxis\":{\"backgroundcolor\":\"#E5ECF6\",\"gridcolor\":\"white\",\"linecolor\":\"white\",\"showbackground\":true,\"ticks\":\"\",\"zerolinecolor\":\"white\",\"gridwidth\":2},\"zaxis\":{\"backgroundcolor\":\"#E5ECF6\",\"gridcolor\":\"white\",\"linecolor\":\"white\",\"showbackground\":true,\"ticks\":\"\",\"zerolinecolor\":\"white\",\"gridwidth\":2}},\"shapedefaults\":{\"line\":{\"color\":\"#2a3f5f\"}},\"annotationdefaults\":{\"arrowcolor\":\"#2a3f5f\",\"arrowhead\":0,\"arrowwidth\":1},\"geo\":{\"bgcolor\":\"white\",\"landcolor\":\"#E5ECF6\",\"subunitcolor\":\"white\",\"showland\":true,\"showlakes\":true,\"lakecolor\":\"white\"},\"title\":{\"x\":0.05},\"mapbox\":{\"style\":\"light\"}}},\"xaxis\":{\"anchor\":\"y\",\"domain\":[0.0,1.0],\"title\":{\"text\":\"Home Advantage\"}},\"yaxis\":{\"anchor\":\"x\",\"domain\":[0.0,1.0],\"title\":{\"text\":\"Total Points\"}},\"legend\":{\"title\":{\"text\":\"color\"},\"tracegroupgap\":0},\"title\":{\"text\":\"Home Advantage vs. Total Points\"}},                        {\"responsive\": true}                    ).then(function(){\n",
       "                            \n",
       "var gd = document.getElementById('01b91018-b165-4907-8dd1-bdfbe3c766ba');\n",
       "var x = new MutationObserver(function (mutations, observer) {{\n",
       "        var display = window.getComputedStyle(gd).display;\n",
       "        if (!display || display === 'none') {{\n",
       "            console.log([gd, 'removed!']);\n",
       "            Plotly.purge(gd);\n",
       "            observer.disconnect();\n",
       "        }}\n",
       "}});\n",
       "\n",
       "// Listen for the removal of the full notebook cells\n",
       "var notebookContainer = gd.closest('#notebook-container');\n",
       "if (notebookContainer) {{\n",
       "    x.observe(notebookContainer, {childList: true});\n",
       "}}\n",
       "\n",
       "// Listen for the clearing of the current output cell\n",
       "var outputEl = gd.closest('.output');\n",
       "if (outputEl) {{\n",
       "    x.observe(outputEl, {childList: true});\n",
       "}}\n",
       "\n",
       "                        })                };                });            </script>        </div>"
      ]
     },
     "metadata": {},
     "output_type": "display_data"
    }
   ],
   "source": [
    "# Calculate home advantage for each team\n",
    "home_wins = df.groupby('HomeTeam')['FTR'].apply(lambda x: (x == 'H').sum())\n",
    "away_wins = df.groupby('AwayTeam')['FTR'].apply(lambda x: (x == 'A').sum())\n",
    "home_draws = df.groupby('HomeTeam')['FTR'].apply(lambda x: (x == 'D').sum())\n",
    "away_draws = df.groupby('AwayTeam')['FTR'].apply(lambda x: (x == 'D').sum())\n",
    "home_losses = df.groupby('HomeTeam')['FTR'].apply(lambda x: (x == 'A').sum())\n",
    "away_losses = df.groupby('AwayTeam')['FTR'].apply(lambda x: (x == 'H').sum())\n",
    "total_matches = home_wins + away_wins + home_draws + away_draws + home_losses + away_losses\n",
    "home_advantage = (home_wins + home_draws) / (total_matches) - (away_wins + away_draws) / (total_matches)\n",
    "\n",
    "# Calculate total points earned for each team\n",
    "home_points = df.groupby('HomeTeam')['FTR'].apply(lambda x: (x == 'H').sum() * 3 + (x == 'D').sum())\n",
    "away_points = df.groupby('AwayTeam')['FTR'].apply(lambda x: (x == 'A').sum() * 3 + (x == 'D').sum())\n",
    "total_points = home_points.add(away_points, fill_value=0).sort_values(ascending=False)\n",
    "\n",
    "# Plot scatter plot of home advantage vs. points earned\n",
    "fig = px.scatter(x=home_advantage, y=total_points, color=total_points.index,\n",
    "                 labels={'x': 'Home Advantage',\n",
    "                         'y': 'Total Points'},\n",
    "                 title='Home Advantage vs. Total Points')\n",
    "fig.show()"
   ]
  },
  {
   "cell_type": "markdown",
   "id": "f2019ea4",
   "metadata": {},
   "source": [
    "This code calculates the home advantage and total points earned for each team, and then creates a scatter plot using Plotly Express. The x-axis shows the home advantage, and the y-axis shows the total points earned. Each team is represented by a different color in the plot. The code also adds labels to the x- and y-axes and a title to the plot."
   ]
  },
  {
   "cell_type": "markdown",
   "id": "e9c4510c",
   "metadata": {},
   "source": [
    "<h3 style=\"background-color:#0c519c; color:white; padding:8px; font-size:20px; font-family: consolas; border-radius:8px;\">Winning Ratio</h3>"
   ]
  },
  {
   "cell_type": "markdown",
   "id": "cab1e45d",
   "metadata": {},
   "source": [
    "Another interesting metric to explore is the winning ratio of each team. We can calculate the winning ratio as the number of wins divided by the total number of games played. Let's calculate this for each team:"
   ]
  },
  {
   "cell_type": "code",
   "execution_count": null,
   "id": "76e2dc28",
   "metadata": {},
   "outputs": [],
   "source": [
    "# Calculate number of wins for each team\n",
    "home_wins = df.groupby('HomeTeam')['FTR'].apply(lambda x: (x == 'H').sum())\n",
    "away_wins = df.groupby('AwayTeam')['FTR'].apply(lambda x: (x == 'A').sum())\n",
    "total_wins = home_wins.add(away_wins, fill_value=0).sort_values(ascending=False)\n",
    "\n",
    "# Calculate total number of games played for each team\n",
    "home_games = df['HomeTeam'].value_counts()\n",
    "away_games = df['AwayTeam'].value_counts()\n",
    "total_games = home_games.add(away_games, fill_value=0).sort_values(ascending=False)\n",
    "\n",
    "# Calculate winning ratio for each team\n",
    "winning_ratio = total_wins / total_games"
   ]
  },
  {
   "cell_type": "markdown",
   "id": "e12c2eb4",
   "metadata": {},
   "source": [
    "Now, let's plot the winning ratio for each team using a bar chart:"
   ]
  },
  {
   "cell_type": "code",
   "execution_count": null,
   "id": "f767be4b",
   "metadata": {},
   "outputs": [
    {
     "data": {
      "application/vnd.plotly.v1+json": {
       "config": {
        "plotlyServerURL": "https://plot.ly"
       },
       "data": [
        {
         "alignmentgroup": "True",
         "hovertemplate": "Winning Ratio=%{x}<br>Team=%{y}<br>text=%{text}<extra></extra>",
         "legendgroup": "",
         "marker": {
          "color": "#5E8C31",
          "pattern": {
           "shape": ""
          }
         },
         "name": "",
         "offsetgroup": "",
         "orientation": "h",
         "showlegend": false,
         "text": [
          0.32,
          0.39,
          0.74,
          0.34,
          0.32,
          0.32,
          0.32,
          0.42,
          0.45,
          0.37,
          0.34,
          0.84,
          0.11,
          0.34,
          0.32,
          0.26,
          0.45,
          0.34,
          0.24,
          0.32
         ],
         "textposition": "outside",
         "type": "bar",
         "x": [
          0.3157894736842105,
          0.39473684210526316,
          0.7368421052631579,
          0.34210526315789475,
          0.3157894736842105,
          0.3157894736842105,
          0.3157894736842105,
          0.42105263157894735,
          0.4473684210526316,
          0.3684210526315789,
          0.34210526315789475,
          0.8421052631578947,
          0.10526315789473684,
          0.34210526315789475,
          0.3157894736842105,
          0.2631578947368421,
          0.4473684210526316,
          0.34210526315789475,
          0.23684210526315788,
          0.3157894736842105
         ],
         "xaxis": "x",
         "y": [
          "Ath Bilbao",
          "Ath Madrid",
          "Barcelona",
          "Betis",
          "Espanol",
          "Getafe",
          "Granada",
          "Levante",
          "Malaga",
          "Mallorca",
          "Osasuna",
          "Real Madrid",
          "Santander",
          "Sevilla",
          "Sociedad",
          "Sp Gijon",
          "Valencia",
          "Vallecano",
          "Villarreal",
          "Zaragoza"
         ],
         "yaxis": "y"
        }
       ],
       "layout": {
        "barmode": "relative",
        "legend": {
         "tracegroupgap": 0
        },
        "template": {
         "data": {
          "bar": [
           {
            "error_x": {
             "color": "#2a3f5f"
            },
            "error_y": {
             "color": "#2a3f5f"
            },
            "marker": {
             "line": {
              "color": "#E5ECF6",
              "width": 0.5
             },
             "pattern": {
              "fillmode": "overlay",
              "size": 10,
              "solidity": 0.2
             }
            },
            "type": "bar"
           }
          ],
          "barpolar": [
           {
            "marker": {
             "line": {
              "color": "#E5ECF6",
              "width": 0.5
             },
             "pattern": {
              "fillmode": "overlay",
              "size": 10,
              "solidity": 0.2
             }
            },
            "type": "barpolar"
           }
          ],
          "carpet": [
           {
            "aaxis": {
             "endlinecolor": "#2a3f5f",
             "gridcolor": "white",
             "linecolor": "white",
             "minorgridcolor": "white",
             "startlinecolor": "#2a3f5f"
            },
            "baxis": {
             "endlinecolor": "#2a3f5f",
             "gridcolor": "white",
             "linecolor": "white",
             "minorgridcolor": "white",
             "startlinecolor": "#2a3f5f"
            },
            "type": "carpet"
           }
          ],
          "choropleth": [
           {
            "colorbar": {
             "outlinewidth": 0,
             "ticks": ""
            },
            "type": "choropleth"
           }
          ],
          "contour": [
           {
            "colorbar": {
             "outlinewidth": 0,
             "ticks": ""
            },
            "colorscale": [
             [
              0,
              "#0d0887"
             ],
             [
              0.1111111111111111,
              "#46039f"
             ],
             [
              0.2222222222222222,
              "#7201a8"
             ],
             [
              0.3333333333333333,
              "#9c179e"
             ],
             [
              0.4444444444444444,
              "#bd3786"
             ],
             [
              0.5555555555555556,
              "#d8576b"
             ],
             [
              0.6666666666666666,
              "#ed7953"
             ],
             [
              0.7777777777777778,
              "#fb9f3a"
             ],
             [
              0.8888888888888888,
              "#fdca26"
             ],
             [
              1,
              "#f0f921"
             ]
            ],
            "type": "contour"
           }
          ],
          "contourcarpet": [
           {
            "colorbar": {
             "outlinewidth": 0,
             "ticks": ""
            },
            "type": "contourcarpet"
           }
          ],
          "heatmap": [
           {
            "colorbar": {
             "outlinewidth": 0,
             "ticks": ""
            },
            "colorscale": [
             [
              0,
              "#0d0887"
             ],
             [
              0.1111111111111111,
              "#46039f"
             ],
             [
              0.2222222222222222,
              "#7201a8"
             ],
             [
              0.3333333333333333,
              "#9c179e"
             ],
             [
              0.4444444444444444,
              "#bd3786"
             ],
             [
              0.5555555555555556,
              "#d8576b"
             ],
             [
              0.6666666666666666,
              "#ed7953"
             ],
             [
              0.7777777777777778,
              "#fb9f3a"
             ],
             [
              0.8888888888888888,
              "#fdca26"
             ],
             [
              1,
              "#f0f921"
             ]
            ],
            "type": "heatmap"
           }
          ],
          "heatmapgl": [
           {
            "colorbar": {
             "outlinewidth": 0,
             "ticks": ""
            },
            "colorscale": [
             [
              0,
              "#0d0887"
             ],
             [
              0.1111111111111111,
              "#46039f"
             ],
             [
              0.2222222222222222,
              "#7201a8"
             ],
             [
              0.3333333333333333,
              "#9c179e"
             ],
             [
              0.4444444444444444,
              "#bd3786"
             ],
             [
              0.5555555555555556,
              "#d8576b"
             ],
             [
              0.6666666666666666,
              "#ed7953"
             ],
             [
              0.7777777777777778,
              "#fb9f3a"
             ],
             [
              0.8888888888888888,
              "#fdca26"
             ],
             [
              1,
              "#f0f921"
             ]
            ],
            "type": "heatmapgl"
           }
          ],
          "histogram": [
           {
            "marker": {
             "pattern": {
              "fillmode": "overlay",
              "size": 10,
              "solidity": 0.2
             }
            },
            "type": "histogram"
           }
          ],
          "histogram2d": [
           {
            "colorbar": {
             "outlinewidth": 0,
             "ticks": ""
            },
            "colorscale": [
             [
              0,
              "#0d0887"
             ],
             [
              0.1111111111111111,
              "#46039f"
             ],
             [
              0.2222222222222222,
              "#7201a8"
             ],
             [
              0.3333333333333333,
              "#9c179e"
             ],
             [
              0.4444444444444444,
              "#bd3786"
             ],
             [
              0.5555555555555556,
              "#d8576b"
             ],
             [
              0.6666666666666666,
              "#ed7953"
             ],
             [
              0.7777777777777778,
              "#fb9f3a"
             ],
             [
              0.8888888888888888,
              "#fdca26"
             ],
             [
              1,
              "#f0f921"
             ]
            ],
            "type": "histogram2d"
           }
          ],
          "histogram2dcontour": [
           {
            "colorbar": {
             "outlinewidth": 0,
             "ticks": ""
            },
            "colorscale": [
             [
              0,
              "#0d0887"
             ],
             [
              0.1111111111111111,
              "#46039f"
             ],
             [
              0.2222222222222222,
              "#7201a8"
             ],
             [
              0.3333333333333333,
              "#9c179e"
             ],
             [
              0.4444444444444444,
              "#bd3786"
             ],
             [
              0.5555555555555556,
              "#d8576b"
             ],
             [
              0.6666666666666666,
              "#ed7953"
             ],
             [
              0.7777777777777778,
              "#fb9f3a"
             ],
             [
              0.8888888888888888,
              "#fdca26"
             ],
             [
              1,
              "#f0f921"
             ]
            ],
            "type": "histogram2dcontour"
           }
          ],
          "mesh3d": [
           {
            "colorbar": {
             "outlinewidth": 0,
             "ticks": ""
            },
            "type": "mesh3d"
           }
          ],
          "parcoords": [
           {
            "line": {
             "colorbar": {
              "outlinewidth": 0,
              "ticks": ""
             }
            },
            "type": "parcoords"
           }
          ],
          "pie": [
           {
            "automargin": true,
            "type": "pie"
           }
          ],
          "scatter": [
           {
            "fillpattern": {
             "fillmode": "overlay",
             "size": 10,
             "solidity": 0.2
            },
            "type": "scatter"
           }
          ],
          "scatter3d": [
           {
            "line": {
             "colorbar": {
              "outlinewidth": 0,
              "ticks": ""
             }
            },
            "marker": {
             "colorbar": {
              "outlinewidth": 0,
              "ticks": ""
             }
            },
            "type": "scatter3d"
           }
          ],
          "scattercarpet": [
           {
            "marker": {
             "colorbar": {
              "outlinewidth": 0,
              "ticks": ""
             }
            },
            "type": "scattercarpet"
           }
          ],
          "scattergeo": [
           {
            "marker": {
             "colorbar": {
              "outlinewidth": 0,
              "ticks": ""
             }
            },
            "type": "scattergeo"
           }
          ],
          "scattergl": [
           {
            "marker": {
             "colorbar": {
              "outlinewidth": 0,
              "ticks": ""
             }
            },
            "type": "scattergl"
           }
          ],
          "scattermapbox": [
           {
            "marker": {
             "colorbar": {
              "outlinewidth": 0,
              "ticks": ""
             }
            },
            "type": "scattermapbox"
           }
          ],
          "scatterpolar": [
           {
            "marker": {
             "colorbar": {
              "outlinewidth": 0,
              "ticks": ""
             }
            },
            "type": "scatterpolar"
           }
          ],
          "scatterpolargl": [
           {
            "marker": {
             "colorbar": {
              "outlinewidth": 0,
              "ticks": ""
             }
            },
            "type": "scatterpolargl"
           }
          ],
          "scatterternary": [
           {
            "marker": {
             "colorbar": {
              "outlinewidth": 0,
              "ticks": ""
             }
            },
            "type": "scatterternary"
           }
          ],
          "surface": [
           {
            "colorbar": {
             "outlinewidth": 0,
             "ticks": ""
            },
            "colorscale": [
             [
              0,
              "#0d0887"
             ],
             [
              0.1111111111111111,
              "#46039f"
             ],
             [
              0.2222222222222222,
              "#7201a8"
             ],
             [
              0.3333333333333333,
              "#9c179e"
             ],
             [
              0.4444444444444444,
              "#bd3786"
             ],
             [
              0.5555555555555556,
              "#d8576b"
             ],
             [
              0.6666666666666666,
              "#ed7953"
             ],
             [
              0.7777777777777778,
              "#fb9f3a"
             ],
             [
              0.8888888888888888,
              "#fdca26"
             ],
             [
              1,
              "#f0f921"
             ]
            ],
            "type": "surface"
           }
          ],
          "table": [
           {
            "cells": {
             "fill": {
              "color": "#EBF0F8"
             },
             "line": {
              "color": "white"
             }
            },
            "header": {
             "fill": {
              "color": "#C8D4E3"
             },
             "line": {
              "color": "white"
             }
            },
            "type": "table"
           }
          ]
         },
         "layout": {
          "annotationdefaults": {
           "arrowcolor": "#2a3f5f",
           "arrowhead": 0,
           "arrowwidth": 1
          },
          "autotypenumbers": "strict",
          "coloraxis": {
           "colorbar": {
            "outlinewidth": 0,
            "ticks": ""
           }
          },
          "colorscale": {
           "diverging": [
            [
             0,
             "#8e0152"
            ],
            [
             0.1,
             "#c51b7d"
            ],
            [
             0.2,
             "#de77ae"
            ],
            [
             0.3,
             "#f1b6da"
            ],
            [
             0.4,
             "#fde0ef"
            ],
            [
             0.5,
             "#f7f7f7"
            ],
            [
             0.6,
             "#e6f5d0"
            ],
            [
             0.7,
             "#b8e186"
            ],
            [
             0.8,
             "#7fbc41"
            ],
            [
             0.9,
             "#4d9221"
            ],
            [
             1,
             "#276419"
            ]
           ],
           "sequential": [
            [
             0,
             "#0d0887"
            ],
            [
             0.1111111111111111,
             "#46039f"
            ],
            [
             0.2222222222222222,
             "#7201a8"
            ],
            [
             0.3333333333333333,
             "#9c179e"
            ],
            [
             0.4444444444444444,
             "#bd3786"
            ],
            [
             0.5555555555555556,
             "#d8576b"
            ],
            [
             0.6666666666666666,
             "#ed7953"
            ],
            [
             0.7777777777777778,
             "#fb9f3a"
            ],
            [
             0.8888888888888888,
             "#fdca26"
            ],
            [
             1,
             "#f0f921"
            ]
           ],
           "sequentialminus": [
            [
             0,
             "#0d0887"
            ],
            [
             0.1111111111111111,
             "#46039f"
            ],
            [
             0.2222222222222222,
             "#7201a8"
            ],
            [
             0.3333333333333333,
             "#9c179e"
            ],
            [
             0.4444444444444444,
             "#bd3786"
            ],
            [
             0.5555555555555556,
             "#d8576b"
            ],
            [
             0.6666666666666666,
             "#ed7953"
            ],
            [
             0.7777777777777778,
             "#fb9f3a"
            ],
            [
             0.8888888888888888,
             "#fdca26"
            ],
            [
             1,
             "#f0f921"
            ]
           ]
          },
          "colorway": [
           "#636efa",
           "#EF553B",
           "#00cc96",
           "#ab63fa",
           "#FFA15A",
           "#19d3f3",
           "#FF6692",
           "#B6E880",
           "#FF97FF",
           "#FECB52"
          ],
          "font": {
           "color": "#2a3f5f"
          },
          "geo": {
           "bgcolor": "white",
           "lakecolor": "white",
           "landcolor": "#E5ECF6",
           "showlakes": true,
           "showland": true,
           "subunitcolor": "white"
          },
          "hoverlabel": {
           "align": "left"
          },
          "hovermode": "closest",
          "mapbox": {
           "style": "light"
          },
          "paper_bgcolor": "white",
          "plot_bgcolor": "#E5ECF6",
          "polar": {
           "angularaxis": {
            "gridcolor": "white",
            "linecolor": "white",
            "ticks": ""
           },
           "bgcolor": "#E5ECF6",
           "radialaxis": {
            "gridcolor": "white",
            "linecolor": "white",
            "ticks": ""
           }
          },
          "scene": {
           "xaxis": {
            "backgroundcolor": "#E5ECF6",
            "gridcolor": "white",
            "gridwidth": 2,
            "linecolor": "white",
            "showbackground": true,
            "ticks": "",
            "zerolinecolor": "white"
           },
           "yaxis": {
            "backgroundcolor": "#E5ECF6",
            "gridcolor": "white",
            "gridwidth": 2,
            "linecolor": "white",
            "showbackground": true,
            "ticks": "",
            "zerolinecolor": "white"
           },
           "zaxis": {
            "backgroundcolor": "#E5ECF6",
            "gridcolor": "white",
            "gridwidth": 2,
            "linecolor": "white",
            "showbackground": true,
            "ticks": "",
            "zerolinecolor": "white"
           }
          },
          "shapedefaults": {
           "line": {
            "color": "#2a3f5f"
           }
          },
          "ternary": {
           "aaxis": {
            "gridcolor": "white",
            "linecolor": "white",
            "ticks": ""
           },
           "baxis": {
            "gridcolor": "white",
            "linecolor": "white",
            "ticks": ""
           },
           "bgcolor": "#E5ECF6",
           "caxis": {
            "gridcolor": "white",
            "linecolor": "white",
            "ticks": ""
           }
          },
          "title": {
           "x": 0.05
          },
          "xaxis": {
           "automargin": true,
           "gridcolor": "white",
           "linecolor": "white",
           "ticks": "",
           "title": {
            "standoff": 15
           },
           "zerolinecolor": "white",
           "zerolinewidth": 2
          },
          "yaxis": {
           "automargin": true,
           "gridcolor": "white",
           "linecolor": "white",
           "ticks": "",
           "title": {
            "standoff": 15
           },
           "zerolinecolor": "white",
           "zerolinewidth": 2
          }
         }
        },
        "title": {
         "font": {
          "size": 24
         },
         "text": "Winning Ratio for Each Team",
         "x": 0.5,
         "xanchor": "center"
        },
        "xaxis": {
         "anchor": "y",
         "domain": [
          0,
          1
         ],
         "title": {
          "text": "Winning Ratio"
         }
        },
        "yaxis": {
         "anchor": "x",
         "domain": [
          0,
          1
         ],
         "title": {
          "text": "Team"
         }
        }
       }
      },
      "text/html": [
       "<div>                            <div id=\"4d252f3b-8c47-49dd-be30-cd8897fad0c6\" class=\"plotly-graph-div\" style=\"height:525px; width:100%;\"></div>            <script type=\"text/javascript\">                require([\"plotly\"], function(Plotly) {                    window.PLOTLYENV=window.PLOTLYENV || {};                                    if (document.getElementById(\"4d252f3b-8c47-49dd-be30-cd8897fad0c6\")) {                    Plotly.newPlot(                        \"4d252f3b-8c47-49dd-be30-cd8897fad0c6\",                        [{\"alignmentgroup\":\"True\",\"hovertemplate\":\"Winning Ratio=%{x}<br>Team=%{y}<br>text=%{text}<extra></extra>\",\"legendgroup\":\"\",\"marker\":{\"color\":\"#5E8C31\",\"pattern\":{\"shape\":\"\"}},\"name\":\"\",\"offsetgroup\":\"\",\"orientation\":\"h\",\"showlegend\":false,\"text\":[0.32,0.39,0.74,0.34,0.32,0.32,0.32,0.42,0.45,0.37,0.34,0.84,0.11,0.34,0.32,0.26,0.45,0.34,0.24,0.32],\"textposition\":\"outside\",\"x\":[0.3157894736842105,0.39473684210526316,0.7368421052631579,0.34210526315789475,0.3157894736842105,0.3157894736842105,0.3157894736842105,0.42105263157894735,0.4473684210526316,0.3684210526315789,0.34210526315789475,0.8421052631578947,0.10526315789473684,0.34210526315789475,0.3157894736842105,0.2631578947368421,0.4473684210526316,0.34210526315789475,0.23684210526315788,0.3157894736842105],\"xaxis\":\"x\",\"y\":[\"Ath Bilbao\",\"Ath Madrid\",\"Barcelona\",\"Betis\",\"Espanol\",\"Getafe\",\"Granada\",\"Levante\",\"Malaga\",\"Mallorca\",\"Osasuna\",\"Real Madrid\",\"Santander\",\"Sevilla\",\"Sociedad\",\"Sp Gijon\",\"Valencia\",\"Vallecano\",\"Villarreal\",\"Zaragoza\"],\"yaxis\":\"y\",\"type\":\"bar\"}],                        {\"template\":{\"data\":{\"histogram2dcontour\":[{\"type\":\"histogram2dcontour\",\"colorbar\":{\"outlinewidth\":0,\"ticks\":\"\"},\"colorscale\":[[0.0,\"#0d0887\"],[0.1111111111111111,\"#46039f\"],[0.2222222222222222,\"#7201a8\"],[0.3333333333333333,\"#9c179e\"],[0.4444444444444444,\"#bd3786\"],[0.5555555555555556,\"#d8576b\"],[0.6666666666666666,\"#ed7953\"],[0.7777777777777778,\"#fb9f3a\"],[0.8888888888888888,\"#fdca26\"],[1.0,\"#f0f921\"]]}],\"choropleth\":[{\"type\":\"choropleth\",\"colorbar\":{\"outlinewidth\":0,\"ticks\":\"\"}}],\"histogram2d\":[{\"type\":\"histogram2d\",\"colorbar\":{\"outlinewidth\":0,\"ticks\":\"\"},\"colorscale\":[[0.0,\"#0d0887\"],[0.1111111111111111,\"#46039f\"],[0.2222222222222222,\"#7201a8\"],[0.3333333333333333,\"#9c179e\"],[0.4444444444444444,\"#bd3786\"],[0.5555555555555556,\"#d8576b\"],[0.6666666666666666,\"#ed7953\"],[0.7777777777777778,\"#fb9f3a\"],[0.8888888888888888,\"#fdca26\"],[1.0,\"#f0f921\"]]}],\"heatmap\":[{\"type\":\"heatmap\",\"colorbar\":{\"outlinewidth\":0,\"ticks\":\"\"},\"colorscale\":[[0.0,\"#0d0887\"],[0.1111111111111111,\"#46039f\"],[0.2222222222222222,\"#7201a8\"],[0.3333333333333333,\"#9c179e\"],[0.4444444444444444,\"#bd3786\"],[0.5555555555555556,\"#d8576b\"],[0.6666666666666666,\"#ed7953\"],[0.7777777777777778,\"#fb9f3a\"],[0.8888888888888888,\"#fdca26\"],[1.0,\"#f0f921\"]]}],\"heatmapgl\":[{\"type\":\"heatmapgl\",\"colorbar\":{\"outlinewidth\":0,\"ticks\":\"\"},\"colorscale\":[[0.0,\"#0d0887\"],[0.1111111111111111,\"#46039f\"],[0.2222222222222222,\"#7201a8\"],[0.3333333333333333,\"#9c179e\"],[0.4444444444444444,\"#bd3786\"],[0.5555555555555556,\"#d8576b\"],[0.6666666666666666,\"#ed7953\"],[0.7777777777777778,\"#fb9f3a\"],[0.8888888888888888,\"#fdca26\"],[1.0,\"#f0f921\"]]}],\"contourcarpet\":[{\"type\":\"contourcarpet\",\"colorbar\":{\"outlinewidth\":0,\"ticks\":\"\"}}],\"contour\":[{\"type\":\"contour\",\"colorbar\":{\"outlinewidth\":0,\"ticks\":\"\"},\"colorscale\":[[0.0,\"#0d0887\"],[0.1111111111111111,\"#46039f\"],[0.2222222222222222,\"#7201a8\"],[0.3333333333333333,\"#9c179e\"],[0.4444444444444444,\"#bd3786\"],[0.5555555555555556,\"#d8576b\"],[0.6666666666666666,\"#ed7953\"],[0.7777777777777778,\"#fb9f3a\"],[0.8888888888888888,\"#fdca26\"],[1.0,\"#f0f921\"]]}],\"surface\":[{\"type\":\"surface\",\"colorbar\":{\"outlinewidth\":0,\"ticks\":\"\"},\"colorscale\":[[0.0,\"#0d0887\"],[0.1111111111111111,\"#46039f\"],[0.2222222222222222,\"#7201a8\"],[0.3333333333333333,\"#9c179e\"],[0.4444444444444444,\"#bd3786\"],[0.5555555555555556,\"#d8576b\"],[0.6666666666666666,\"#ed7953\"],[0.7777777777777778,\"#fb9f3a\"],[0.8888888888888888,\"#fdca26\"],[1.0,\"#f0f921\"]]}],\"mesh3d\":[{\"type\":\"mesh3d\",\"colorbar\":{\"outlinewidth\":0,\"ticks\":\"\"}}],\"scatter\":[{\"fillpattern\":{\"fillmode\":\"overlay\",\"size\":10,\"solidity\":0.2},\"type\":\"scatter\"}],\"parcoords\":[{\"type\":\"parcoords\",\"line\":{\"colorbar\":{\"outlinewidth\":0,\"ticks\":\"\"}}}],\"scatterpolargl\":[{\"type\":\"scatterpolargl\",\"marker\":{\"colorbar\":{\"outlinewidth\":0,\"ticks\":\"\"}}}],\"bar\":[{\"error_x\":{\"color\":\"#2a3f5f\"},\"error_y\":{\"color\":\"#2a3f5f\"},\"marker\":{\"line\":{\"color\":\"#E5ECF6\",\"width\":0.5},\"pattern\":{\"fillmode\":\"overlay\",\"size\":10,\"solidity\":0.2}},\"type\":\"bar\"}],\"scattergeo\":[{\"type\":\"scattergeo\",\"marker\":{\"colorbar\":{\"outlinewidth\":0,\"ticks\":\"\"}}}],\"scatterpolar\":[{\"type\":\"scatterpolar\",\"marker\":{\"colorbar\":{\"outlinewidth\":0,\"ticks\":\"\"}}}],\"histogram\":[{\"marker\":{\"pattern\":{\"fillmode\":\"overlay\",\"size\":10,\"solidity\":0.2}},\"type\":\"histogram\"}],\"scattergl\":[{\"type\":\"scattergl\",\"marker\":{\"colorbar\":{\"outlinewidth\":0,\"ticks\":\"\"}}}],\"scatter3d\":[{\"type\":\"scatter3d\",\"line\":{\"colorbar\":{\"outlinewidth\":0,\"ticks\":\"\"}},\"marker\":{\"colorbar\":{\"outlinewidth\":0,\"ticks\":\"\"}}}],\"scattermapbox\":[{\"type\":\"scattermapbox\",\"marker\":{\"colorbar\":{\"outlinewidth\":0,\"ticks\":\"\"}}}],\"scatterternary\":[{\"type\":\"scatterternary\",\"marker\":{\"colorbar\":{\"outlinewidth\":0,\"ticks\":\"\"}}}],\"scattercarpet\":[{\"type\":\"scattercarpet\",\"marker\":{\"colorbar\":{\"outlinewidth\":0,\"ticks\":\"\"}}}],\"carpet\":[{\"aaxis\":{\"endlinecolor\":\"#2a3f5f\",\"gridcolor\":\"white\",\"linecolor\":\"white\",\"minorgridcolor\":\"white\",\"startlinecolor\":\"#2a3f5f\"},\"baxis\":{\"endlinecolor\":\"#2a3f5f\",\"gridcolor\":\"white\",\"linecolor\":\"white\",\"minorgridcolor\":\"white\",\"startlinecolor\":\"#2a3f5f\"},\"type\":\"carpet\"}],\"table\":[{\"cells\":{\"fill\":{\"color\":\"#EBF0F8\"},\"line\":{\"color\":\"white\"}},\"header\":{\"fill\":{\"color\":\"#C8D4E3\"},\"line\":{\"color\":\"white\"}},\"type\":\"table\"}],\"barpolar\":[{\"marker\":{\"line\":{\"color\":\"#E5ECF6\",\"width\":0.5},\"pattern\":{\"fillmode\":\"overlay\",\"size\":10,\"solidity\":0.2}},\"type\":\"barpolar\"}],\"pie\":[{\"automargin\":true,\"type\":\"pie\"}]},\"layout\":{\"autotypenumbers\":\"strict\",\"colorway\":[\"#636efa\",\"#EF553B\",\"#00cc96\",\"#ab63fa\",\"#FFA15A\",\"#19d3f3\",\"#FF6692\",\"#B6E880\",\"#FF97FF\",\"#FECB52\"],\"font\":{\"color\":\"#2a3f5f\"},\"hovermode\":\"closest\",\"hoverlabel\":{\"align\":\"left\"},\"paper_bgcolor\":\"white\",\"plot_bgcolor\":\"#E5ECF6\",\"polar\":{\"bgcolor\":\"#E5ECF6\",\"angularaxis\":{\"gridcolor\":\"white\",\"linecolor\":\"white\",\"ticks\":\"\"},\"radialaxis\":{\"gridcolor\":\"white\",\"linecolor\":\"white\",\"ticks\":\"\"}},\"ternary\":{\"bgcolor\":\"#E5ECF6\",\"aaxis\":{\"gridcolor\":\"white\",\"linecolor\":\"white\",\"ticks\":\"\"},\"baxis\":{\"gridcolor\":\"white\",\"linecolor\":\"white\",\"ticks\":\"\"},\"caxis\":{\"gridcolor\":\"white\",\"linecolor\":\"white\",\"ticks\":\"\"}},\"coloraxis\":{\"colorbar\":{\"outlinewidth\":0,\"ticks\":\"\"}},\"colorscale\":{\"sequential\":[[0.0,\"#0d0887\"],[0.1111111111111111,\"#46039f\"],[0.2222222222222222,\"#7201a8\"],[0.3333333333333333,\"#9c179e\"],[0.4444444444444444,\"#bd3786\"],[0.5555555555555556,\"#d8576b\"],[0.6666666666666666,\"#ed7953\"],[0.7777777777777778,\"#fb9f3a\"],[0.8888888888888888,\"#fdca26\"],[1.0,\"#f0f921\"]],\"sequentialminus\":[[0.0,\"#0d0887\"],[0.1111111111111111,\"#46039f\"],[0.2222222222222222,\"#7201a8\"],[0.3333333333333333,\"#9c179e\"],[0.4444444444444444,\"#bd3786\"],[0.5555555555555556,\"#d8576b\"],[0.6666666666666666,\"#ed7953\"],[0.7777777777777778,\"#fb9f3a\"],[0.8888888888888888,\"#fdca26\"],[1.0,\"#f0f921\"]],\"diverging\":[[0,\"#8e0152\"],[0.1,\"#c51b7d\"],[0.2,\"#de77ae\"],[0.3,\"#f1b6da\"],[0.4,\"#fde0ef\"],[0.5,\"#f7f7f7\"],[0.6,\"#e6f5d0\"],[0.7,\"#b8e186\"],[0.8,\"#7fbc41\"],[0.9,\"#4d9221\"],[1,\"#276419\"]]},\"xaxis\":{\"gridcolor\":\"white\",\"linecolor\":\"white\",\"ticks\":\"\",\"title\":{\"standoff\":15},\"zerolinecolor\":\"white\",\"automargin\":true,\"zerolinewidth\":2},\"yaxis\":{\"gridcolor\":\"white\",\"linecolor\":\"white\",\"ticks\":\"\",\"title\":{\"standoff\":15},\"zerolinecolor\":\"white\",\"automargin\":true,\"zerolinewidth\":2},\"scene\":{\"xaxis\":{\"backgroundcolor\":\"#E5ECF6\",\"gridcolor\":\"white\",\"linecolor\":\"white\",\"showbackground\":true,\"ticks\":\"\",\"zerolinecolor\":\"white\",\"gridwidth\":2},\"yaxis\":{\"backgroundcolor\":\"#E5ECF6\",\"gridcolor\":\"white\",\"linecolor\":\"white\",\"showbackground\":true,\"ticks\":\"\",\"zerolinecolor\":\"white\",\"gridwidth\":2},\"zaxis\":{\"backgroundcolor\":\"#E5ECF6\",\"gridcolor\":\"white\",\"linecolor\":\"white\",\"showbackground\":true,\"ticks\":\"\",\"zerolinecolor\":\"white\",\"gridwidth\":2}},\"shapedefaults\":{\"line\":{\"color\":\"#2a3f5f\"}},\"annotationdefaults\":{\"arrowcolor\":\"#2a3f5f\",\"arrowhead\":0,\"arrowwidth\":1},\"geo\":{\"bgcolor\":\"white\",\"landcolor\":\"#E5ECF6\",\"subunitcolor\":\"white\",\"showland\":true,\"showlakes\":true,\"lakecolor\":\"white\"},\"title\":{\"x\":0.05},\"mapbox\":{\"style\":\"light\"}}},\"xaxis\":{\"anchor\":\"y\",\"domain\":[0.0,1.0],\"title\":{\"text\":\"Winning Ratio\"}},\"yaxis\":{\"anchor\":\"x\",\"domain\":[0.0,1.0],\"title\":{\"text\":\"Team\"}},\"legend\":{\"tracegroupgap\":0},\"title\":{\"text\":\"Winning Ratio for Each Team\",\"font\":{\"size\":24},\"x\":0.5,\"xanchor\":\"center\"},\"barmode\":\"relative\"},                        {\"responsive\": true}                    ).then(function(){\n",
       "                            \n",
       "var gd = document.getElementById('4d252f3b-8c47-49dd-be30-cd8897fad0c6');\n",
       "var x = new MutationObserver(function (mutations, observer) {{\n",
       "        var display = window.getComputedStyle(gd).display;\n",
       "        if (!display || display === 'none') {{\n",
       "            console.log([gd, 'removed!']);\n",
       "            Plotly.purge(gd);\n",
       "            observer.disconnect();\n",
       "        }}\n",
       "}});\n",
       "\n",
       "// Listen for the removal of the full notebook cells\n",
       "var notebookContainer = gd.closest('#notebook-container');\n",
       "if (notebookContainer) {{\n",
       "    x.observe(notebookContainer, {childList: true});\n",
       "}}\n",
       "\n",
       "// Listen for the clearing of the current output cell\n",
       "var outputEl = gd.closest('.output');\n",
       "if (outputEl) {{\n",
       "    x.observe(outputEl, {childList: true});\n",
       "}}\n",
       "\n",
       "                        })                };                });            </script>        </div>"
      ]
     },
     "metadata": {},
     "output_type": "display_data"
    }
   ],
   "source": [
    "# Plot bar chart of winning ratio for each team\n",
    "fig = px.bar(x=winning_ratio.values, y=winning_ratio.index, orientation='h', text=winning_ratio.values.round(2),\n",
    "             labels={'x': 'Winning Ratio', 'y': 'Team'}, title='Winning Ratio for Each Team')\n",
    "fig.update_traces(marker_color='#5E8C31', textposition='outside')\n",
    "fig.update_layout(title={'font': {'size': 24}, 'x': 0.5, 'xanchor': 'center'})\n",
    "fig.show()"
   ]
  },
  {
   "cell_type": "markdown",
   "id": "1bc49dcb",
   "metadata": {},
   "source": [
    "This generates a bar chart that shows the winning ratio for each team."
   ]
  },
  {
   "cell_type": "markdown",
   "id": "88ba6b05",
   "metadata": {},
   "source": [
    "We can see that Barcelona has the highest winning ratio, followed by Real Madrid and Valencia.\n",
    "\n",
    "Next, let's plot the winning ratio as a function of time using a line chart:"
   ]
  },
  {
   "cell_type": "code",
   "execution_count": null,
   "id": "204fd1aa",
   "metadata": {},
   "outputs": [
    {
     "data": {
      "application/vnd.plotly.v1+json": {
       "config": {
        "plotlyServerURL": "https://plot.ly"
       },
       "data": [
        {
         "hovertemplate": "HomeTeam=Ath Bilbao<br>Year=%{x}<br>Winning Ratio=%{y}<extra></extra>",
         "legendgroup": "Ath Bilbao",
         "line": {
          "color": "#636efa",
          "dash": "solid"
         },
         "marker": {
          "symbol": "circle"
         },
         "mode": "lines",
         "name": "Ath Bilbao",
         "orientation": "v",
         "showlegend": true,
         "type": "scatter",
         "x": [
          2011,
          2011,
          2011,
          2011,
          2011,
          2011,
          2011,
          2011,
          2011,
          2011,
          2011,
          2011,
          2011,
          2011,
          2011,
          2011,
          2012,
          2012,
          2012,
          2012,
          2012,
          2012,
          2012,
          2012,
          2012,
          2012,
          2012,
          2012,
          2012,
          2012,
          2012,
          2012,
          2012,
          2012,
          2012
         ],
         "xaxis": "x",
         "y": [
          0.3125,
          0.375,
          0.375,
          0.375,
          0.25,
          0.3125,
          0.375,
          0.3125,
          0.25,
          0.25,
          0.625,
          0.25,
          0.3125,
          0.3125,
          0.4375,
          0.3125,
          0.3181818181818182,
          0.4090909090909091,
          0.5909090909090909,
          0.36363636363636365,
          0.36363636363636365,
          0.3181818181818182,
          0.3181818181818182,
          0.3181818181818182,
          0.4090909090909091,
          0.3181818181818182,
          0.6363636363636364,
          0.2727272727272727,
          0.36363636363636365,
          0.2727272727272727,
          0.2727272727272727,
          0.3181818181818182,
          0.36363636363636365,
          0.36363636363636365,
          0.4090909090909091
         ],
         "yaxis": "y"
        },
        {
         "hovertemplate": "HomeTeam=Ath Madrid<br>Year=%{x}<br>Winning Ratio=%{y}<extra></extra>",
         "legendgroup": "Ath Madrid",
         "line": {
          "color": "#EF553B",
          "dash": "solid"
         },
         "marker": {
          "symbol": "circle"
         },
         "mode": "lines",
         "name": "Ath Madrid",
         "orientation": "v",
         "showlegend": true,
         "type": "scatter",
         "x": [
          2011,
          2011,
          2011,
          2011,
          2011,
          2011,
          2011,
          2011,
          2011,
          2011,
          2011,
          2011,
          2011,
          2011,
          2011,
          2011,
          2012,
          2012,
          2012,
          2012,
          2012,
          2012,
          2012,
          2012,
          2012,
          2012,
          2012,
          2012,
          2012,
          2012,
          2012,
          2012,
          2012,
          2012,
          2012
         ],
         "xaxis": "x",
         "y": [
          0.4375,
          0.5,
          0.5,
          0.5,
          0.375,
          0.4375,
          0.5,
          0.4375,
          0.375,
          0.375,
          0.75,
          0.375,
          0.4375,
          0.4375,
          0.5625,
          0.4375,
          0.36363636363636365,
          0.45454545454545453,
          0.6363636363636364,
          0.4090909090909091,
          0.4090909090909091,
          0.36363636363636365,
          0.36363636363636365,
          0.36363636363636365,
          0.45454545454545453,
          0.36363636363636365,
          0.6818181818181818,
          0.3181818181818182,
          0.4090909090909091,
          0.3181818181818182,
          0.3181818181818182,
          0.36363636363636365,
          0.4090909090909091,
          0.4090909090909091,
          0.45454545454545453
         ],
         "yaxis": "y"
        },
        {
         "hovertemplate": "HomeTeam=Barcelona<br>Year=%{x}<br>Winning Ratio=%{y}<extra></extra>",
         "legendgroup": "Barcelona",
         "line": {
          "color": "#00cc96",
          "dash": "solid"
         },
         "marker": {
          "symbol": "circle"
         },
         "mode": "lines",
         "name": "Barcelona",
         "orientation": "v",
         "showlegend": true,
         "type": "scatter",
         "x": [
          2011,
          2011,
          2011,
          2011,
          2011,
          2011,
          2011,
          2011,
          2011,
          2011,
          2011,
          2011,
          2011,
          2011,
          2011,
          2011,
          2012,
          2012,
          2012,
          2012,
          2012,
          2012,
          2012,
          2012,
          2012,
          2012,
          2012,
          2012,
          2012,
          2012,
          2012,
          2012,
          2012,
          2012,
          2012
         ],
         "xaxis": "x",
         "y": [
          0.625,
          0.6875,
          0.6875,
          0.6875,
          0.5625,
          0.625,
          0.6875,
          0.625,
          0.5625,
          0.5625,
          0.9375,
          0.5625,
          0.625,
          0.625,
          0.75,
          0.625,
          0.5,
          0.5909090909090909,
          0.7727272727272727,
          0.5454545454545454,
          0.5454545454545454,
          0.5,
          0.5,
          0.5,
          0.5909090909090909,
          0.5,
          0.8181818181818182,
          0.45454545454545453,
          0.5454545454545454,
          0.45454545454545453,
          0.45454545454545453,
          0.5,
          0.5454545454545454,
          0.5454545454545454,
          0.5909090909090909
         ],
         "yaxis": "y"
        },
        {
         "hovertemplate": "HomeTeam=Betis<br>Year=%{x}<br>Winning Ratio=%{y}<extra></extra>",
         "legendgroup": "Betis",
         "line": {
          "color": "#ab63fa",
          "dash": "solid"
         },
         "marker": {
          "symbol": "circle"
         },
         "mode": "lines",
         "name": "Betis",
         "orientation": "v",
         "showlegend": true,
         "type": "scatter",
         "x": [
          2011,
          2011,
          2011,
          2011,
          2011,
          2011,
          2011,
          2011,
          2011,
          2011,
          2011,
          2011,
          2011,
          2011,
          2011,
          2011,
          2012,
          2012,
          2012,
          2012,
          2012,
          2012,
          2012,
          2012,
          2012,
          2012,
          2012,
          2012,
          2012,
          2012,
          2012,
          2012,
          2012,
          2012,
          2012
         ],
         "xaxis": "x",
         "y": [
          0.3125,
          0.375,
          0.375,
          0.375,
          0.25,
          0.3125,
          0.375,
          0.3125,
          0.25,
          0.25,
          0.625,
          0.25,
          0.3125,
          0.3125,
          0.4375,
          0.3125,
          0.2727272727272727,
          0.36363636363636365,
          0.5454545454545454,
          0.3181818181818182,
          0.3181818181818182,
          0.2727272727272727,
          0.2727272727272727,
          0.2727272727272727,
          0.36363636363636365,
          0.2727272727272727,
          0.5909090909090909,
          0.22727272727272727,
          0.3181818181818182,
          0.22727272727272727,
          0.22727272727272727,
          0.2727272727272727,
          0.3181818181818182,
          0.3181818181818182,
          0.36363636363636365
         ],
         "yaxis": "y"
        },
        {
         "hovertemplate": "HomeTeam=Espanol<br>Year=%{x}<br>Winning Ratio=%{y}<extra></extra>",
         "legendgroup": "Espanol",
         "line": {
          "color": "#FFA15A",
          "dash": "solid"
         },
         "marker": {
          "symbol": "circle"
         },
         "mode": "lines",
         "name": "Espanol",
         "orientation": "v",
         "showlegend": true,
         "type": "scatter",
         "x": [
          2011,
          2011,
          2011,
          2011,
          2011,
          2011,
          2011,
          2011,
          2011,
          2011,
          2011,
          2011,
          2011,
          2011,
          2011,
          2011,
          2012,
          2012,
          2012,
          2012,
          2012,
          2012,
          2012,
          2012,
          2012,
          2012,
          2012,
          2012,
          2012,
          2012,
          2012,
          2012,
          2012,
          2012,
          2012
         ],
         "xaxis": "x",
         "y": [
          0.375,
          0.4375,
          0.4375,
          0.4375,
          0.3125,
          0.375,
          0.4375,
          0.375,
          0.3125,
          0.3125,
          0.6875,
          0.3125,
          0.375,
          0.375,
          0.5,
          0.375,
          0.3181818181818182,
          0.4090909090909091,
          0.5909090909090909,
          0.36363636363636365,
          0.36363636363636365,
          0.3181818181818182,
          0.3181818181818182,
          0.3181818181818182,
          0.4090909090909091,
          0.3181818181818182,
          0.6363636363636364,
          0.2727272727272727,
          0.36363636363636365,
          0.2727272727272727,
          0.2727272727272727,
          0.3181818181818182,
          0.36363636363636365,
          0.36363636363636365,
          0.4090909090909091
         ],
         "yaxis": "y"
        },
        {
         "hovertemplate": "HomeTeam=Getafe<br>Year=%{x}<br>Winning Ratio=%{y}<extra></extra>",
         "legendgroup": "Getafe",
         "line": {
          "color": "#19d3f3",
          "dash": "solid"
         },
         "marker": {
          "symbol": "circle"
         },
         "mode": "lines",
         "name": "Getafe",
         "orientation": "v",
         "showlegend": true,
         "type": "scatter",
         "x": [
          2011,
          2011,
          2011,
          2011,
          2011,
          2011,
          2011,
          2011,
          2011,
          2011,
          2011,
          2011,
          2011,
          2011,
          2011,
          2011,
          2012,
          2012,
          2012,
          2012,
          2012,
          2012,
          2012,
          2012,
          2012,
          2012,
          2012,
          2012,
          2012,
          2012,
          2012,
          2012,
          2012,
          2012,
          2012
         ],
         "xaxis": "x",
         "y": [
          0.375,
          0.4375,
          0.4375,
          0.4375,
          0.3125,
          0.375,
          0.4375,
          0.375,
          0.3125,
          0.3125,
          0.6875,
          0.3125,
          0.375,
          0.375,
          0.5,
          0.375,
          0.2727272727272727,
          0.36363636363636365,
          0.5454545454545454,
          0.3181818181818182,
          0.3181818181818182,
          0.2727272727272727,
          0.2727272727272727,
          0.2727272727272727,
          0.36363636363636365,
          0.2727272727272727,
          0.5909090909090909,
          0.22727272727272727,
          0.3181818181818182,
          0.22727272727272727,
          0.22727272727272727,
          0.2727272727272727,
          0.3181818181818182,
          0.3181818181818182,
          0.36363636363636365
         ],
         "yaxis": "y"
        },
        {
         "hovertemplate": "HomeTeam=Granada<br>Year=%{x}<br>Winning Ratio=%{y}<extra></extra>",
         "legendgroup": "Granada",
         "line": {
          "color": "#FF6692",
          "dash": "solid"
         },
         "marker": {
          "symbol": "circle"
         },
         "mode": "lines",
         "name": "Granada",
         "orientation": "v",
         "showlegend": true,
         "type": "scatter",
         "x": [
          2011,
          2011,
          2011,
          2011,
          2011,
          2011,
          2011,
          2011,
          2011,
          2011,
          2011,
          2011,
          2011,
          2011,
          2011,
          2011,
          2012,
          2012,
          2012,
          2012,
          2012,
          2012,
          2012,
          2012,
          2012,
          2012,
          2012,
          2012,
          2012,
          2012,
          2012,
          2012,
          2012,
          2012,
          2012
         ],
         "xaxis": "x",
         "y": [
          0.3125,
          0.375,
          0.375,
          0.375,
          0.25,
          0.3125,
          0.375,
          0.3125,
          0.25,
          0.25,
          0.625,
          0.25,
          0.3125,
          0.3125,
          0.4375,
          0.3125,
          0.3181818181818182,
          0.4090909090909091,
          0.5909090909090909,
          0.36363636363636365,
          0.36363636363636365,
          0.3181818181818182,
          0.3181818181818182,
          0.3181818181818182,
          0.4090909090909091,
          0.3181818181818182,
          0.6363636363636364,
          0.2727272727272727,
          0.36363636363636365,
          0.2727272727272727,
          0.2727272727272727,
          0.3181818181818182,
          0.36363636363636365,
          0.36363636363636365,
          0.4090909090909091
         ],
         "yaxis": "y"
        },
        {
         "hovertemplate": "HomeTeam=Levante<br>Year=%{x}<br>Winning Ratio=%{y}<extra></extra>",
         "legendgroup": "Levante",
         "line": {
          "color": "#B6E880",
          "dash": "solid"
         },
         "marker": {
          "symbol": "circle"
         },
         "mode": "lines",
         "name": "Levante",
         "orientation": "v",
         "showlegend": true,
         "type": "scatter",
         "x": [
          2011,
          2011,
          2011,
          2011,
          2011,
          2011,
          2011,
          2011,
          2011,
          2011,
          2011,
          2011,
          2011,
          2011,
          2011,
          2011,
          2012,
          2012,
          2012,
          2012,
          2012,
          2012,
          2012,
          2012,
          2012,
          2012,
          2012,
          2012,
          2012,
          2012,
          2012,
          2012,
          2012,
          2012,
          2012
         ],
         "xaxis": "x",
         "y": [
          0.5,
          0.5625,
          0.5625,
          0.5625,
          0.4375,
          0.5,
          0.5625,
          0.5,
          0.4375,
          0.4375,
          0.8125,
          0.4375,
          0.5,
          0.5,
          0.625,
          0.5,
          0.3181818181818182,
          0.4090909090909091,
          0.5909090909090909,
          0.36363636363636365,
          0.36363636363636365,
          0.3181818181818182,
          0.3181818181818182,
          0.3181818181818182,
          0.4090909090909091,
          0.3181818181818182,
          0.6363636363636364,
          0.2727272727272727,
          0.36363636363636365,
          0.2727272727272727,
          0.2727272727272727,
          0.3181818181818182,
          0.36363636363636365,
          0.36363636363636365,
          0.4090909090909091
         ],
         "yaxis": "y"
        },
        {
         "hovertemplate": "HomeTeam=Malaga<br>Year=%{x}<br>Winning Ratio=%{y}<extra></extra>",
         "legendgroup": "Malaga",
         "line": {
          "color": "#FF97FF",
          "dash": "solid"
         },
         "marker": {
          "symbol": "circle"
         },
         "mode": "lines",
         "name": "Malaga",
         "orientation": "v",
         "showlegend": true,
         "type": "scatter",
         "x": [
          2011,
          2011,
          2011,
          2011,
          2011,
          2011,
          2011,
          2011,
          2011,
          2011,
          2011,
          2011,
          2011,
          2011,
          2011,
          2011,
          2012,
          2012,
          2012,
          2012,
          2012,
          2012,
          2012,
          2012,
          2012,
          2012,
          2012,
          2012,
          2012,
          2012,
          2012,
          2012,
          2012,
          2012,
          2012
         ],
         "xaxis": "x",
         "y": [
          0.4375,
          0.5,
          0.5,
          0.5,
          0.375,
          0.4375,
          0.5,
          0.4375,
          0.375,
          0.375,
          0.75,
          0.375,
          0.4375,
          0.4375,
          0.5625,
          0.4375,
          0.45454545454545453,
          0.5454545454545454,
          0.7272727272727273,
          0.5,
          0.5,
          0.45454545454545453,
          0.45454545454545453,
          0.45454545454545453,
          0.5454545454545454,
          0.45454545454545453,
          0.7727272727272727,
          0.4090909090909091,
          0.5,
          0.4090909090909091,
          0.4090909090909091,
          0.45454545454545453,
          0.5,
          0.5,
          0.5454545454545454
         ],
         "yaxis": "y"
        },
        {
         "hovertemplate": "HomeTeam=Mallorca<br>Year=%{x}<br>Winning Ratio=%{y}<extra></extra>",
         "legendgroup": "Mallorca",
         "line": {
          "color": "#FECB52",
          "dash": "solid"
         },
         "marker": {
          "symbol": "circle"
         },
         "mode": "lines",
         "name": "Mallorca",
         "orientation": "v",
         "showlegend": true,
         "type": "scatter",
         "x": [
          2011,
          2011,
          2011,
          2011,
          2011,
          2011,
          2011,
          2011,
          2011,
          2011,
          2011,
          2011,
          2011,
          2011,
          2011,
          2011,
          2012,
          2012,
          2012,
          2012,
          2012,
          2012,
          2012,
          2012,
          2012,
          2012,
          2012,
          2012,
          2012,
          2012,
          2012,
          2012,
          2012,
          2012,
          2012
         ],
         "xaxis": "x",
         "y": [
          0.3125,
          0.375,
          0.375,
          0.375,
          0.25,
          0.3125,
          0.375,
          0.3125,
          0.25,
          0.25,
          0.625,
          0.25,
          0.3125,
          0.3125,
          0.4375,
          0.3125,
          0.36363636363636365,
          0.45454545454545453,
          0.6363636363636364,
          0.4090909090909091,
          0.4090909090909091,
          0.36363636363636365,
          0.36363636363636365,
          0.36363636363636365,
          0.45454545454545453,
          0.36363636363636365,
          0.6818181818181818,
          0.3181818181818182,
          0.4090909090909091,
          0.3181818181818182,
          0.3181818181818182,
          0.36363636363636365,
          0.4090909090909091,
          0.4090909090909091,
          0.45454545454545453
         ],
         "yaxis": "y"
        },
        {
         "hovertemplate": "HomeTeam=Osasuna<br>Year=%{x}<br>Winning Ratio=%{y}<extra></extra>",
         "legendgroup": "Osasuna",
         "line": {
          "color": "#636efa",
          "dash": "solid"
         },
         "marker": {
          "symbol": "circle"
         },
         "mode": "lines",
         "name": "Osasuna",
         "orientation": "v",
         "showlegend": true,
         "type": "scatter",
         "x": [
          2011,
          2011,
          2011,
          2011,
          2011,
          2011,
          2011,
          2011,
          2011,
          2011,
          2011,
          2011,
          2011,
          2011,
          2011,
          2011,
          2012,
          2012,
          2012,
          2012,
          2012,
          2012,
          2012,
          2012,
          2012,
          2012,
          2012,
          2012,
          2012,
          2012,
          2012,
          2012,
          2012,
          2012,
          2012
         ],
         "xaxis": "x",
         "y": [
          0.4375,
          0.5,
          0.5,
          0.5,
          0.375,
          0.4375,
          0.5,
          0.4375,
          0.375,
          0.375,
          0.75,
          0.375,
          0.4375,
          0.4375,
          0.5625,
          0.4375,
          0.3181818181818182,
          0.4090909090909091,
          0.5909090909090909,
          0.36363636363636365,
          0.36363636363636365,
          0.3181818181818182,
          0.3181818181818182,
          0.3181818181818182,
          0.4090909090909091,
          0.3181818181818182,
          0.6363636363636364,
          0.2727272727272727,
          0.36363636363636365,
          0.2727272727272727,
          0.2727272727272727,
          0.3181818181818182,
          0.36363636363636365,
          0.36363636363636365,
          0.4090909090909091
         ],
         "yaxis": "y"
        },
        {
         "hovertemplate": "HomeTeam=Real Madrid<br>Year=%{x}<br>Winning Ratio=%{y}<extra></extra>",
         "legendgroup": "Real Madrid",
         "line": {
          "color": "#EF553B",
          "dash": "solid"
         },
         "marker": {
          "symbol": "circle"
         },
         "mode": "lines",
         "name": "Real Madrid",
         "orientation": "v",
         "showlegend": true,
         "type": "scatter",
         "x": [
          2011,
          2011,
          2011,
          2011,
          2011,
          2011,
          2011,
          2011,
          2011,
          2011,
          2011,
          2011,
          2011,
          2011,
          2011,
          2011,
          2012,
          2012,
          2012,
          2012,
          2012,
          2012,
          2012,
          2012,
          2012,
          2012,
          2012,
          2012,
          2012,
          2012,
          2012,
          2012,
          2012,
          2012,
          2012
         ],
         "xaxis": "x",
         "y": [
          0.5,
          0.5625,
          0.5625,
          0.5625,
          0.4375,
          0.5,
          0.5625,
          0.5,
          0.4375,
          0.4375,
          0.8125,
          0.4375,
          0.5,
          0.5,
          0.625,
          0.5,
          0.5454545454545454,
          0.6363636363636364,
          0.8181818181818182,
          0.5909090909090909,
          0.5909090909090909,
          0.5454545454545454,
          0.5454545454545454,
          0.5454545454545454,
          0.6363636363636364,
          0.5454545454545454,
          0.8636363636363636,
          0.5,
          0.5909090909090909,
          0.5,
          0.5,
          0.5454545454545454,
          0.5909090909090909,
          0.5909090909090909,
          0.6363636363636364
         ],
         "yaxis": "y"
        },
        {
         "hovertemplate": "HomeTeam=Santander<br>Year=%{x}<br>Winning Ratio=%{y}<extra></extra>",
         "legendgroup": "Santander",
         "line": {
          "color": "#00cc96",
          "dash": "solid"
         },
         "marker": {
          "symbol": "circle"
         },
         "mode": "lines",
         "name": "Santander",
         "orientation": "v",
         "showlegend": true,
         "type": "scatter",
         "x": [
          2011,
          2011,
          2011,
          2011,
          2011,
          2011,
          2011,
          2011,
          2011,
          2011,
          2011,
          2011,
          2011,
          2011,
          2011,
          2011,
          2012,
          2012,
          2012,
          2012,
          2012,
          2012,
          2012,
          2012,
          2012,
          2012,
          2012,
          2012,
          2012,
          2012,
          2012,
          2012,
          2012,
          2012,
          2012
         ],
         "xaxis": "x",
         "y": [
          0.25,
          0.3125,
          0.3125,
          0.3125,
          0.1875,
          0.25,
          0.3125,
          0.25,
          0.1875,
          0.1875,
          0.5625,
          0.1875,
          0.25,
          0.25,
          0.375,
          0.25,
          0.13636363636363635,
          0.22727272727272727,
          0.4090909090909091,
          0.18181818181818182,
          0.18181818181818182,
          0.13636363636363635,
          0.13636363636363635,
          0.13636363636363635,
          0.22727272727272727,
          0.13636363636363635,
          0.45454545454545453,
          0.09090909090909091,
          0.18181818181818182,
          0.09090909090909091,
          0.09090909090909091,
          0.13636363636363635,
          0.18181818181818182,
          0.18181818181818182,
          0.22727272727272727
         ],
         "yaxis": "y"
        },
        {
         "hovertemplate": "HomeTeam=Sevilla<br>Year=%{x}<br>Winning Ratio=%{y}<extra></extra>",
         "legendgroup": "Sevilla",
         "line": {
          "color": "#ab63fa",
          "dash": "solid"
         },
         "marker": {
          "symbol": "circle"
         },
         "mode": "lines",
         "name": "Sevilla",
         "orientation": "v",
         "showlegend": true,
         "type": "scatter",
         "x": [
          2011,
          2011,
          2011,
          2011,
          2011,
          2011,
          2011,
          2011,
          2011,
          2011,
          2011,
          2011,
          2011,
          2011,
          2011,
          2011,
          2012,
          2012,
          2012,
          2012,
          2012,
          2012,
          2012,
          2012,
          2012,
          2012,
          2012,
          2012,
          2012,
          2012,
          2012,
          2012,
          2012,
          2012,
          2012
         ],
         "xaxis": "x",
         "y": [
          0.4375,
          0.5,
          0.5,
          0.5,
          0.375,
          0.4375,
          0.5,
          0.4375,
          0.375,
          0.375,
          0.75,
          0.375,
          0.4375,
          0.4375,
          0.5625,
          0.4375,
          0.2727272727272727,
          0.36363636363636365,
          0.5454545454545454,
          0.3181818181818182,
          0.3181818181818182,
          0.2727272727272727,
          0.2727272727272727,
          0.2727272727272727,
          0.36363636363636365,
          0.2727272727272727,
          0.5909090909090909,
          0.22727272727272727,
          0.3181818181818182,
          0.22727272727272727,
          0.22727272727272727,
          0.2727272727272727,
          0.3181818181818182,
          0.3181818181818182,
          0.36363636363636365
         ],
         "yaxis": "y"
        },
        {
         "hovertemplate": "HomeTeam=Sociedad<br>Year=%{x}<br>Winning Ratio=%{y}<extra></extra>",
         "legendgroup": "Sociedad",
         "line": {
          "color": "#FFA15A",
          "dash": "solid"
         },
         "marker": {
          "symbol": "circle"
         },
         "mode": "lines",
         "name": "Sociedad",
         "orientation": "v",
         "showlegend": true,
         "type": "scatter",
         "x": [
          2011,
          2011,
          2011,
          2011,
          2011,
          2011,
          2011,
          2011,
          2011,
          2011,
          2011,
          2011,
          2011,
          2011,
          2011,
          2011,
          2012,
          2012,
          2012,
          2012,
          2012,
          2012,
          2012,
          2012,
          2012,
          2012,
          2012,
          2012,
          2012,
          2012,
          2012,
          2012,
          2012,
          2012,
          2012
         ],
         "xaxis": "x",
         "y": [
          0.25,
          0.3125,
          0.3125,
          0.3125,
          0.1875,
          0.25,
          0.3125,
          0.25,
          0.1875,
          0.1875,
          0.5625,
          0.1875,
          0.25,
          0.25,
          0.375,
          0.25,
          0.4090909090909091,
          0.5,
          0.6818181818181818,
          0.45454545454545453,
          0.45454545454545453,
          0.4090909090909091,
          0.4090909090909091,
          0.4090909090909091,
          0.5,
          0.4090909090909091,
          0.7272727272727273,
          0.36363636363636365,
          0.45454545454545453,
          0.36363636363636365,
          0.36363636363636365,
          0.4090909090909091,
          0.45454545454545453,
          0.45454545454545453,
          0.5
         ],
         "yaxis": "y"
        },
        {
         "hovertemplate": "HomeTeam=Sp Gijon<br>Year=%{x}<br>Winning Ratio=%{y}<extra></extra>",
         "legendgroup": "Sp Gijon",
         "line": {
          "color": "#19d3f3",
          "dash": "solid"
         },
         "marker": {
          "symbol": "circle"
         },
         "mode": "lines",
         "name": "Sp Gijon",
         "orientation": "v",
         "showlegend": true,
         "type": "scatter",
         "x": [
          2011,
          2011,
          2011,
          2011,
          2011,
          2011,
          2011,
          2011,
          2011,
          2011,
          2011,
          2011,
          2011,
          2011,
          2011,
          2011,
          2012,
          2012,
          2012,
          2012,
          2012,
          2012,
          2012,
          2012,
          2012,
          2012,
          2012,
          2012,
          2012,
          2012,
          2012,
          2012,
          2012,
          2012,
          2012
         ],
         "xaxis": "x",
         "y": [
          0.25,
          0.3125,
          0.3125,
          0.3125,
          0.1875,
          0.25,
          0.3125,
          0.25,
          0.1875,
          0.1875,
          0.5625,
          0.1875,
          0.25,
          0.25,
          0.375,
          0.25,
          0.3181818181818182,
          0.4090909090909091,
          0.5909090909090909,
          0.36363636363636365,
          0.36363636363636365,
          0.3181818181818182,
          0.3181818181818182,
          0.3181818181818182,
          0.4090909090909091,
          0.3181818181818182,
          0.6363636363636364,
          0.2727272727272727,
          0.36363636363636365,
          0.2727272727272727,
          0.2727272727272727,
          0.3181818181818182,
          0.36363636363636365,
          0.36363636363636365,
          0.4090909090909091
         ],
         "yaxis": "y"
        },
        {
         "hovertemplate": "HomeTeam=Valencia<br>Year=%{x}<br>Winning Ratio=%{y}<extra></extra>",
         "legendgroup": "Valencia",
         "line": {
          "color": "#FF6692",
          "dash": "solid"
         },
         "marker": {
          "symbol": "circle"
         },
         "mode": "lines",
         "name": "Valencia",
         "orientation": "v",
         "showlegend": true,
         "type": "scatter",
         "x": [
          2011,
          2011,
          2011,
          2011,
          2011,
          2011,
          2011,
          2011,
          2011,
          2011,
          2011,
          2011,
          2011,
          2011,
          2011,
          2011,
          2012,
          2012,
          2012,
          2012,
          2012,
          2012,
          2012,
          2012,
          2012,
          2012,
          2012,
          2012,
          2012,
          2012,
          2012,
          2012,
          2012,
          2012,
          2012
         ],
         "xaxis": "x",
         "y": [
          0.5,
          0.5625,
          0.5625,
          0.5625,
          0.4375,
          0.5,
          0.5625,
          0.5,
          0.4375,
          0.4375,
          0.8125,
          0.4375,
          0.5,
          0.5,
          0.625,
          0.5,
          0.3181818181818182,
          0.4090909090909091,
          0.5909090909090909,
          0.36363636363636365,
          0.36363636363636365,
          0.3181818181818182,
          0.3181818181818182,
          0.3181818181818182,
          0.4090909090909091,
          0.3181818181818182,
          0.6363636363636364,
          0.2727272727272727,
          0.36363636363636365,
          0.2727272727272727,
          0.2727272727272727,
          0.3181818181818182,
          0.36363636363636365,
          0.36363636363636365,
          0.4090909090909091
         ],
         "yaxis": "y"
        },
        {
         "hovertemplate": "HomeTeam=Vallecano<br>Year=%{x}<br>Winning Ratio=%{y}<extra></extra>",
         "legendgroup": "Vallecano",
         "line": {
          "color": "#B6E880",
          "dash": "solid"
         },
         "marker": {
          "symbol": "circle"
         },
         "mode": "lines",
         "name": "Vallecano",
         "orientation": "v",
         "showlegend": true,
         "type": "scatter",
         "x": [
          2011,
          2011,
          2011,
          2011,
          2011,
          2011,
          2011,
          2011,
          2011,
          2011,
          2011,
          2011,
          2011,
          2011,
          2011,
          2011,
          2012,
          2012,
          2012,
          2012,
          2012,
          2012,
          2012,
          2012,
          2012,
          2012,
          2012,
          2012,
          2012,
          2012,
          2012,
          2012,
          2012,
          2012,
          2012
         ],
         "xaxis": "x",
         "y": [
          0.25,
          0.3125,
          0.3125,
          0.3125,
          0.1875,
          0.25,
          0.3125,
          0.25,
          0.1875,
          0.1875,
          0.5625,
          0.1875,
          0.25,
          0.25,
          0.375,
          0.25,
          0.36363636363636365,
          0.45454545454545453,
          0.6363636363636364,
          0.4090909090909091,
          0.4090909090909091,
          0.36363636363636365,
          0.36363636363636365,
          0.36363636363636365,
          0.45454545454545453,
          0.36363636363636365,
          0.6818181818181818,
          0.3181818181818182,
          0.4090909090909091,
          0.3181818181818182,
          0.3181818181818182,
          0.36363636363636365,
          0.4090909090909091,
          0.4090909090909091,
          0.45454545454545453
         ],
         "yaxis": "y"
        },
        {
         "hovertemplate": "HomeTeam=Villarreal<br>Year=%{x}<br>Winning Ratio=%{y}<extra></extra>",
         "legendgroup": "Villarreal",
         "line": {
          "color": "#FF97FF",
          "dash": "solid"
         },
         "marker": {
          "symbol": "circle"
         },
         "mode": "lines",
         "name": "Villarreal",
         "orientation": "v",
         "showlegend": true,
         "type": "scatter",
         "x": [
          2011,
          2011,
          2011,
          2011,
          2011,
          2011,
          2011,
          2011,
          2011,
          2011,
          2011,
          2011,
          2011,
          2011,
          2011,
          2011,
          2012,
          2012,
          2012,
          2012,
          2012,
          2012,
          2012,
          2012,
          2012,
          2012,
          2012,
          2012,
          2012,
          2012,
          2012,
          2012,
          2012,
          2012,
          2012
         ],
         "xaxis": "x",
         "y": [
          0.3125,
          0.375,
          0.375,
          0.375,
          0.25,
          0.3125,
          0.375,
          0.3125,
          0.25,
          0.25,
          0.625,
          0.25,
          0.3125,
          0.3125,
          0.4375,
          0.3125,
          0.22727272727272727,
          0.3181818181818182,
          0.5,
          0.2727272727272727,
          0.2727272727272727,
          0.22727272727272727,
          0.22727272727272727,
          0.22727272727272727,
          0.3181818181818182,
          0.22727272727272727,
          0.5454545454545454,
          0.18181818181818182,
          0.2727272727272727,
          0.18181818181818182,
          0.18181818181818182,
          0.22727272727272727,
          0.2727272727272727,
          0.2727272727272727,
          0.3181818181818182
         ],
         "yaxis": "y"
        },
        {
         "hovertemplate": "HomeTeam=Zaragoza<br>Year=%{x}<br>Winning Ratio=%{y}<extra></extra>",
         "legendgroup": "Zaragoza",
         "line": {
          "color": "#FECB52",
          "dash": "solid"
         },
         "marker": {
          "symbol": "circle"
         },
         "mode": "lines",
         "name": "Zaragoza",
         "orientation": "v",
         "showlegend": true,
         "type": "scatter",
         "x": [
          2011,
          2011,
          2011,
          2011,
          2011,
          2011,
          2011,
          2011,
          2011,
          2011,
          2011,
          2011,
          2011,
          2011,
          2011,
          2011,
          2012,
          2012,
          2012,
          2012,
          2012,
          2012,
          2012,
          2012,
          2012,
          2012,
          2012,
          2012,
          2012,
          2012,
          2012,
          2012,
          2012,
          2012,
          2012
         ],
         "xaxis": "x",
         "y": [
          0.25,
          0.3125,
          0.3125,
          0.3125,
          0.1875,
          0.25,
          0.3125,
          0.25,
          0.1875,
          0.1875,
          0.5625,
          0.1875,
          0.25,
          0.25,
          0.375,
          0.25,
          0.36363636363636365,
          0.45454545454545453,
          0.6363636363636364,
          0.4090909090909091,
          0.4090909090909091,
          0.36363636363636365,
          0.36363636363636365,
          0.36363636363636365,
          0.45454545454545453,
          0.36363636363636365,
          0.6818181818181818,
          0.3181818181818182,
          0.4090909090909091,
          0.3181818181818182,
          0.3181818181818182,
          0.36363636363636365,
          0.4090909090909091,
          0.4090909090909091,
          0.45454545454545453
         ],
         "yaxis": "y"
        }
       ],
       "layout": {
        "legend": {
         "title": {
          "text": "HomeTeam"
         },
         "tracegroupgap": 0
        },
        "template": {
         "data": {
          "bar": [
           {
            "error_x": {
             "color": "#2a3f5f"
            },
            "error_y": {
             "color": "#2a3f5f"
            },
            "marker": {
             "line": {
              "color": "#E5ECF6",
              "width": 0.5
             },
             "pattern": {
              "fillmode": "overlay",
              "size": 10,
              "solidity": 0.2
             }
            },
            "type": "bar"
           }
          ],
          "barpolar": [
           {
            "marker": {
             "line": {
              "color": "#E5ECF6",
              "width": 0.5
             },
             "pattern": {
              "fillmode": "overlay",
              "size": 10,
              "solidity": 0.2
             }
            },
            "type": "barpolar"
           }
          ],
          "carpet": [
           {
            "aaxis": {
             "endlinecolor": "#2a3f5f",
             "gridcolor": "white",
             "linecolor": "white",
             "minorgridcolor": "white",
             "startlinecolor": "#2a3f5f"
            },
            "baxis": {
             "endlinecolor": "#2a3f5f",
             "gridcolor": "white",
             "linecolor": "white",
             "minorgridcolor": "white",
             "startlinecolor": "#2a3f5f"
            },
            "type": "carpet"
           }
          ],
          "choropleth": [
           {
            "colorbar": {
             "outlinewidth": 0,
             "ticks": ""
            },
            "type": "choropleth"
           }
          ],
          "contour": [
           {
            "colorbar": {
             "outlinewidth": 0,
             "ticks": ""
            },
            "colorscale": [
             [
              0,
              "#0d0887"
             ],
             [
              0.1111111111111111,
              "#46039f"
             ],
             [
              0.2222222222222222,
              "#7201a8"
             ],
             [
              0.3333333333333333,
              "#9c179e"
             ],
             [
              0.4444444444444444,
              "#bd3786"
             ],
             [
              0.5555555555555556,
              "#d8576b"
             ],
             [
              0.6666666666666666,
              "#ed7953"
             ],
             [
              0.7777777777777778,
              "#fb9f3a"
             ],
             [
              0.8888888888888888,
              "#fdca26"
             ],
             [
              1,
              "#f0f921"
             ]
            ],
            "type": "contour"
           }
          ],
          "contourcarpet": [
           {
            "colorbar": {
             "outlinewidth": 0,
             "ticks": ""
            },
            "type": "contourcarpet"
           }
          ],
          "heatmap": [
           {
            "colorbar": {
             "outlinewidth": 0,
             "ticks": ""
            },
            "colorscale": [
             [
              0,
              "#0d0887"
             ],
             [
              0.1111111111111111,
              "#46039f"
             ],
             [
              0.2222222222222222,
              "#7201a8"
             ],
             [
              0.3333333333333333,
              "#9c179e"
             ],
             [
              0.4444444444444444,
              "#bd3786"
             ],
             [
              0.5555555555555556,
              "#d8576b"
             ],
             [
              0.6666666666666666,
              "#ed7953"
             ],
             [
              0.7777777777777778,
              "#fb9f3a"
             ],
             [
              0.8888888888888888,
              "#fdca26"
             ],
             [
              1,
              "#f0f921"
             ]
            ],
            "type": "heatmap"
           }
          ],
          "heatmapgl": [
           {
            "colorbar": {
             "outlinewidth": 0,
             "ticks": ""
            },
            "colorscale": [
             [
              0,
              "#0d0887"
             ],
             [
              0.1111111111111111,
              "#46039f"
             ],
             [
              0.2222222222222222,
              "#7201a8"
             ],
             [
              0.3333333333333333,
              "#9c179e"
             ],
             [
              0.4444444444444444,
              "#bd3786"
             ],
             [
              0.5555555555555556,
              "#d8576b"
             ],
             [
              0.6666666666666666,
              "#ed7953"
             ],
             [
              0.7777777777777778,
              "#fb9f3a"
             ],
             [
              0.8888888888888888,
              "#fdca26"
             ],
             [
              1,
              "#f0f921"
             ]
            ],
            "type": "heatmapgl"
           }
          ],
          "histogram": [
           {
            "marker": {
             "pattern": {
              "fillmode": "overlay",
              "size": 10,
              "solidity": 0.2
             }
            },
            "type": "histogram"
           }
          ],
          "histogram2d": [
           {
            "colorbar": {
             "outlinewidth": 0,
             "ticks": ""
            },
            "colorscale": [
             [
              0,
              "#0d0887"
             ],
             [
              0.1111111111111111,
              "#46039f"
             ],
             [
              0.2222222222222222,
              "#7201a8"
             ],
             [
              0.3333333333333333,
              "#9c179e"
             ],
             [
              0.4444444444444444,
              "#bd3786"
             ],
             [
              0.5555555555555556,
              "#d8576b"
             ],
             [
              0.6666666666666666,
              "#ed7953"
             ],
             [
              0.7777777777777778,
              "#fb9f3a"
             ],
             [
              0.8888888888888888,
              "#fdca26"
             ],
             [
              1,
              "#f0f921"
             ]
            ],
            "type": "histogram2d"
           }
          ],
          "histogram2dcontour": [
           {
            "colorbar": {
             "outlinewidth": 0,
             "ticks": ""
            },
            "colorscale": [
             [
              0,
              "#0d0887"
             ],
             [
              0.1111111111111111,
              "#46039f"
             ],
             [
              0.2222222222222222,
              "#7201a8"
             ],
             [
              0.3333333333333333,
              "#9c179e"
             ],
             [
              0.4444444444444444,
              "#bd3786"
             ],
             [
              0.5555555555555556,
              "#d8576b"
             ],
             [
              0.6666666666666666,
              "#ed7953"
             ],
             [
              0.7777777777777778,
              "#fb9f3a"
             ],
             [
              0.8888888888888888,
              "#fdca26"
             ],
             [
              1,
              "#f0f921"
             ]
            ],
            "type": "histogram2dcontour"
           }
          ],
          "mesh3d": [
           {
            "colorbar": {
             "outlinewidth": 0,
             "ticks": ""
            },
            "type": "mesh3d"
           }
          ],
          "parcoords": [
           {
            "line": {
             "colorbar": {
              "outlinewidth": 0,
              "ticks": ""
             }
            },
            "type": "parcoords"
           }
          ],
          "pie": [
           {
            "automargin": true,
            "type": "pie"
           }
          ],
          "scatter": [
           {
            "fillpattern": {
             "fillmode": "overlay",
             "size": 10,
             "solidity": 0.2
            },
            "type": "scatter"
           }
          ],
          "scatter3d": [
           {
            "line": {
             "colorbar": {
              "outlinewidth": 0,
              "ticks": ""
             }
            },
            "marker": {
             "colorbar": {
              "outlinewidth": 0,
              "ticks": ""
             }
            },
            "type": "scatter3d"
           }
          ],
          "scattercarpet": [
           {
            "marker": {
             "colorbar": {
              "outlinewidth": 0,
              "ticks": ""
             }
            },
            "type": "scattercarpet"
           }
          ],
          "scattergeo": [
           {
            "marker": {
             "colorbar": {
              "outlinewidth": 0,
              "ticks": ""
             }
            },
            "type": "scattergeo"
           }
          ],
          "scattergl": [
           {
            "marker": {
             "colorbar": {
              "outlinewidth": 0,
              "ticks": ""
             }
            },
            "type": "scattergl"
           }
          ],
          "scattermapbox": [
           {
            "marker": {
             "colorbar": {
              "outlinewidth": 0,
              "ticks": ""
             }
            },
            "type": "scattermapbox"
           }
          ],
          "scatterpolar": [
           {
            "marker": {
             "colorbar": {
              "outlinewidth": 0,
              "ticks": ""
             }
            },
            "type": "scatterpolar"
           }
          ],
          "scatterpolargl": [
           {
            "marker": {
             "colorbar": {
              "outlinewidth": 0,
              "ticks": ""
             }
            },
            "type": "scatterpolargl"
           }
          ],
          "scatterternary": [
           {
            "marker": {
             "colorbar": {
              "outlinewidth": 0,
              "ticks": ""
             }
            },
            "type": "scatterternary"
           }
          ],
          "surface": [
           {
            "colorbar": {
             "outlinewidth": 0,
             "ticks": ""
            },
            "colorscale": [
             [
              0,
              "#0d0887"
             ],
             [
              0.1111111111111111,
              "#46039f"
             ],
             [
              0.2222222222222222,
              "#7201a8"
             ],
             [
              0.3333333333333333,
              "#9c179e"
             ],
             [
              0.4444444444444444,
              "#bd3786"
             ],
             [
              0.5555555555555556,
              "#d8576b"
             ],
             [
              0.6666666666666666,
              "#ed7953"
             ],
             [
              0.7777777777777778,
              "#fb9f3a"
             ],
             [
              0.8888888888888888,
              "#fdca26"
             ],
             [
              1,
              "#f0f921"
             ]
            ],
            "type": "surface"
           }
          ],
          "table": [
           {
            "cells": {
             "fill": {
              "color": "#EBF0F8"
             },
             "line": {
              "color": "white"
             }
            },
            "header": {
             "fill": {
              "color": "#C8D4E3"
             },
             "line": {
              "color": "white"
             }
            },
            "type": "table"
           }
          ]
         },
         "layout": {
          "annotationdefaults": {
           "arrowcolor": "#2a3f5f",
           "arrowhead": 0,
           "arrowwidth": 1
          },
          "autotypenumbers": "strict",
          "coloraxis": {
           "colorbar": {
            "outlinewidth": 0,
            "ticks": ""
           }
          },
          "colorscale": {
           "diverging": [
            [
             0,
             "#8e0152"
            ],
            [
             0.1,
             "#c51b7d"
            ],
            [
             0.2,
             "#de77ae"
            ],
            [
             0.3,
             "#f1b6da"
            ],
            [
             0.4,
             "#fde0ef"
            ],
            [
             0.5,
             "#f7f7f7"
            ],
            [
             0.6,
             "#e6f5d0"
            ],
            [
             0.7,
             "#b8e186"
            ],
            [
             0.8,
             "#7fbc41"
            ],
            [
             0.9,
             "#4d9221"
            ],
            [
             1,
             "#276419"
            ]
           ],
           "sequential": [
            [
             0,
             "#0d0887"
            ],
            [
             0.1111111111111111,
             "#46039f"
            ],
            [
             0.2222222222222222,
             "#7201a8"
            ],
            [
             0.3333333333333333,
             "#9c179e"
            ],
            [
             0.4444444444444444,
             "#bd3786"
            ],
            [
             0.5555555555555556,
             "#d8576b"
            ],
            [
             0.6666666666666666,
             "#ed7953"
            ],
            [
             0.7777777777777778,
             "#fb9f3a"
            ],
            [
             0.8888888888888888,
             "#fdca26"
            ],
            [
             1,
             "#f0f921"
            ]
           ],
           "sequentialminus": [
            [
             0,
             "#0d0887"
            ],
            [
             0.1111111111111111,
             "#46039f"
            ],
            [
             0.2222222222222222,
             "#7201a8"
            ],
            [
             0.3333333333333333,
             "#9c179e"
            ],
            [
             0.4444444444444444,
             "#bd3786"
            ],
            [
             0.5555555555555556,
             "#d8576b"
            ],
            [
             0.6666666666666666,
             "#ed7953"
            ],
            [
             0.7777777777777778,
             "#fb9f3a"
            ],
            [
             0.8888888888888888,
             "#fdca26"
            ],
            [
             1,
             "#f0f921"
            ]
           ]
          },
          "colorway": [
           "#636efa",
           "#EF553B",
           "#00cc96",
           "#ab63fa",
           "#FFA15A",
           "#19d3f3",
           "#FF6692",
           "#B6E880",
           "#FF97FF",
           "#FECB52"
          ],
          "font": {
           "color": "#2a3f5f"
          },
          "geo": {
           "bgcolor": "white",
           "lakecolor": "white",
           "landcolor": "#E5ECF6",
           "showlakes": true,
           "showland": true,
           "subunitcolor": "white"
          },
          "hoverlabel": {
           "align": "left"
          },
          "hovermode": "closest",
          "mapbox": {
           "style": "light"
          },
          "paper_bgcolor": "white",
          "plot_bgcolor": "#E5ECF6",
          "polar": {
           "angularaxis": {
            "gridcolor": "white",
            "linecolor": "white",
            "ticks": ""
           },
           "bgcolor": "#E5ECF6",
           "radialaxis": {
            "gridcolor": "white",
            "linecolor": "white",
            "ticks": ""
           }
          },
          "scene": {
           "xaxis": {
            "backgroundcolor": "#E5ECF6",
            "gridcolor": "white",
            "gridwidth": 2,
            "linecolor": "white",
            "showbackground": true,
            "ticks": "",
            "zerolinecolor": "white"
           },
           "yaxis": {
            "backgroundcolor": "#E5ECF6",
            "gridcolor": "white",
            "gridwidth": 2,
            "linecolor": "white",
            "showbackground": true,
            "ticks": "",
            "zerolinecolor": "white"
           },
           "zaxis": {
            "backgroundcolor": "#E5ECF6",
            "gridcolor": "white",
            "gridwidth": 2,
            "linecolor": "white",
            "showbackground": true,
            "ticks": "",
            "zerolinecolor": "white"
           }
          },
          "shapedefaults": {
           "line": {
            "color": "#2a3f5f"
           }
          },
          "ternary": {
           "aaxis": {
            "gridcolor": "white",
            "linecolor": "white",
            "ticks": ""
           },
           "baxis": {
            "gridcolor": "white",
            "linecolor": "white",
            "ticks": ""
           },
           "bgcolor": "#E5ECF6",
           "caxis": {
            "gridcolor": "white",
            "linecolor": "white",
            "ticks": ""
           }
          },
          "title": {
           "x": 0.05
          },
          "xaxis": {
           "automargin": true,
           "gridcolor": "white",
           "linecolor": "white",
           "ticks": "",
           "title": {
            "standoff": 15
           },
           "zerolinecolor": "white",
           "zerolinewidth": 2
          },
          "yaxis": {
           "automargin": true,
           "gridcolor": "white",
           "linecolor": "white",
           "ticks": "",
           "title": {
            "standoff": 15
           },
           "zerolinecolor": "white",
           "zerolinewidth": 2
          }
         }
        },
        "title": {
         "text": "Winning Ratio by Team and Year"
        },
        "xaxis": {
         "anchor": "y",
         "domain": [
          0,
          1
         ],
         "title": {
          "text": "Year"
         }
        },
        "yaxis": {
         "anchor": "x",
         "domain": [
          0,
          1
         ],
         "title": {
          "text": "Winning Ratio"
         }
        }
       }
      },
      "text/html": [
       "<div>                            <div id=\"8c3aeeb7-c831-4a27-af0d-fb97e3bdd688\" class=\"plotly-graph-div\" style=\"height:525px; width:100%;\"></div>            <script type=\"text/javascript\">                require([\"plotly\"], function(Plotly) {                    window.PLOTLYENV=window.PLOTLYENV || {};                                    if (document.getElementById(\"8c3aeeb7-c831-4a27-af0d-fb97e3bdd688\")) {                    Plotly.newPlot(                        \"8c3aeeb7-c831-4a27-af0d-fb97e3bdd688\",                        [{\"hovertemplate\":\"HomeTeam=Ath Bilbao<br>Year=%{x}<br>Winning Ratio=%{y}<extra></extra>\",\"legendgroup\":\"Ath Bilbao\",\"line\":{\"color\":\"#636efa\",\"dash\":\"solid\"},\"marker\":{\"symbol\":\"circle\"},\"mode\":\"lines\",\"name\":\"Ath Bilbao\",\"orientation\":\"v\",\"showlegend\":true,\"x\":[2011,2011,2011,2011,2011,2011,2011,2011,2011,2011,2011,2011,2011,2011,2011,2011,2012,2012,2012,2012,2012,2012,2012,2012,2012,2012,2012,2012,2012,2012,2012,2012,2012,2012,2012],\"xaxis\":\"x\",\"y\":[0.3125,0.375,0.375,0.375,0.25,0.3125,0.375,0.3125,0.25,0.25,0.625,0.25,0.3125,0.3125,0.4375,0.3125,0.3181818181818182,0.4090909090909091,0.5909090909090909,0.36363636363636365,0.36363636363636365,0.3181818181818182,0.3181818181818182,0.3181818181818182,0.4090909090909091,0.3181818181818182,0.6363636363636364,0.2727272727272727,0.36363636363636365,0.2727272727272727,0.2727272727272727,0.3181818181818182,0.36363636363636365,0.36363636363636365,0.4090909090909091],\"yaxis\":\"y\",\"type\":\"scatter\"},{\"hovertemplate\":\"HomeTeam=Ath Madrid<br>Year=%{x}<br>Winning Ratio=%{y}<extra></extra>\",\"legendgroup\":\"Ath Madrid\",\"line\":{\"color\":\"#EF553B\",\"dash\":\"solid\"},\"marker\":{\"symbol\":\"circle\"},\"mode\":\"lines\",\"name\":\"Ath Madrid\",\"orientation\":\"v\",\"showlegend\":true,\"x\":[2011,2011,2011,2011,2011,2011,2011,2011,2011,2011,2011,2011,2011,2011,2011,2011,2012,2012,2012,2012,2012,2012,2012,2012,2012,2012,2012,2012,2012,2012,2012,2012,2012,2012,2012],\"xaxis\":\"x\",\"y\":[0.4375,0.5,0.5,0.5,0.375,0.4375,0.5,0.4375,0.375,0.375,0.75,0.375,0.4375,0.4375,0.5625,0.4375,0.36363636363636365,0.45454545454545453,0.6363636363636364,0.4090909090909091,0.4090909090909091,0.36363636363636365,0.36363636363636365,0.36363636363636365,0.45454545454545453,0.36363636363636365,0.6818181818181818,0.3181818181818182,0.4090909090909091,0.3181818181818182,0.3181818181818182,0.36363636363636365,0.4090909090909091,0.4090909090909091,0.45454545454545453],\"yaxis\":\"y\",\"type\":\"scatter\"},{\"hovertemplate\":\"HomeTeam=Barcelona<br>Year=%{x}<br>Winning Ratio=%{y}<extra></extra>\",\"legendgroup\":\"Barcelona\",\"line\":{\"color\":\"#00cc96\",\"dash\":\"solid\"},\"marker\":{\"symbol\":\"circle\"},\"mode\":\"lines\",\"name\":\"Barcelona\",\"orientation\":\"v\",\"showlegend\":true,\"x\":[2011,2011,2011,2011,2011,2011,2011,2011,2011,2011,2011,2011,2011,2011,2011,2011,2012,2012,2012,2012,2012,2012,2012,2012,2012,2012,2012,2012,2012,2012,2012,2012,2012,2012,2012],\"xaxis\":\"x\",\"y\":[0.625,0.6875,0.6875,0.6875,0.5625,0.625,0.6875,0.625,0.5625,0.5625,0.9375,0.5625,0.625,0.625,0.75,0.625,0.5,0.5909090909090909,0.7727272727272727,0.5454545454545454,0.5454545454545454,0.5,0.5,0.5,0.5909090909090909,0.5,0.8181818181818182,0.45454545454545453,0.5454545454545454,0.45454545454545453,0.45454545454545453,0.5,0.5454545454545454,0.5454545454545454,0.5909090909090909],\"yaxis\":\"y\",\"type\":\"scatter\"},{\"hovertemplate\":\"HomeTeam=Betis<br>Year=%{x}<br>Winning Ratio=%{y}<extra></extra>\",\"legendgroup\":\"Betis\",\"line\":{\"color\":\"#ab63fa\",\"dash\":\"solid\"},\"marker\":{\"symbol\":\"circle\"},\"mode\":\"lines\",\"name\":\"Betis\",\"orientation\":\"v\",\"showlegend\":true,\"x\":[2011,2011,2011,2011,2011,2011,2011,2011,2011,2011,2011,2011,2011,2011,2011,2011,2012,2012,2012,2012,2012,2012,2012,2012,2012,2012,2012,2012,2012,2012,2012,2012,2012,2012,2012],\"xaxis\":\"x\",\"y\":[0.3125,0.375,0.375,0.375,0.25,0.3125,0.375,0.3125,0.25,0.25,0.625,0.25,0.3125,0.3125,0.4375,0.3125,0.2727272727272727,0.36363636363636365,0.5454545454545454,0.3181818181818182,0.3181818181818182,0.2727272727272727,0.2727272727272727,0.2727272727272727,0.36363636363636365,0.2727272727272727,0.5909090909090909,0.22727272727272727,0.3181818181818182,0.22727272727272727,0.22727272727272727,0.2727272727272727,0.3181818181818182,0.3181818181818182,0.36363636363636365],\"yaxis\":\"y\",\"type\":\"scatter\"},{\"hovertemplate\":\"HomeTeam=Espanol<br>Year=%{x}<br>Winning Ratio=%{y}<extra></extra>\",\"legendgroup\":\"Espanol\",\"line\":{\"color\":\"#FFA15A\",\"dash\":\"solid\"},\"marker\":{\"symbol\":\"circle\"},\"mode\":\"lines\",\"name\":\"Espanol\",\"orientation\":\"v\",\"showlegend\":true,\"x\":[2011,2011,2011,2011,2011,2011,2011,2011,2011,2011,2011,2011,2011,2011,2011,2011,2012,2012,2012,2012,2012,2012,2012,2012,2012,2012,2012,2012,2012,2012,2012,2012,2012,2012,2012],\"xaxis\":\"x\",\"y\":[0.375,0.4375,0.4375,0.4375,0.3125,0.375,0.4375,0.375,0.3125,0.3125,0.6875,0.3125,0.375,0.375,0.5,0.375,0.3181818181818182,0.4090909090909091,0.5909090909090909,0.36363636363636365,0.36363636363636365,0.3181818181818182,0.3181818181818182,0.3181818181818182,0.4090909090909091,0.3181818181818182,0.6363636363636364,0.2727272727272727,0.36363636363636365,0.2727272727272727,0.2727272727272727,0.3181818181818182,0.36363636363636365,0.36363636363636365,0.4090909090909091],\"yaxis\":\"y\",\"type\":\"scatter\"},{\"hovertemplate\":\"HomeTeam=Getafe<br>Year=%{x}<br>Winning Ratio=%{y}<extra></extra>\",\"legendgroup\":\"Getafe\",\"line\":{\"color\":\"#19d3f3\",\"dash\":\"solid\"},\"marker\":{\"symbol\":\"circle\"},\"mode\":\"lines\",\"name\":\"Getafe\",\"orientation\":\"v\",\"showlegend\":true,\"x\":[2011,2011,2011,2011,2011,2011,2011,2011,2011,2011,2011,2011,2011,2011,2011,2011,2012,2012,2012,2012,2012,2012,2012,2012,2012,2012,2012,2012,2012,2012,2012,2012,2012,2012,2012],\"xaxis\":\"x\",\"y\":[0.375,0.4375,0.4375,0.4375,0.3125,0.375,0.4375,0.375,0.3125,0.3125,0.6875,0.3125,0.375,0.375,0.5,0.375,0.2727272727272727,0.36363636363636365,0.5454545454545454,0.3181818181818182,0.3181818181818182,0.2727272727272727,0.2727272727272727,0.2727272727272727,0.36363636363636365,0.2727272727272727,0.5909090909090909,0.22727272727272727,0.3181818181818182,0.22727272727272727,0.22727272727272727,0.2727272727272727,0.3181818181818182,0.3181818181818182,0.36363636363636365],\"yaxis\":\"y\",\"type\":\"scatter\"},{\"hovertemplate\":\"HomeTeam=Granada<br>Year=%{x}<br>Winning Ratio=%{y}<extra></extra>\",\"legendgroup\":\"Granada\",\"line\":{\"color\":\"#FF6692\",\"dash\":\"solid\"},\"marker\":{\"symbol\":\"circle\"},\"mode\":\"lines\",\"name\":\"Granada\",\"orientation\":\"v\",\"showlegend\":true,\"x\":[2011,2011,2011,2011,2011,2011,2011,2011,2011,2011,2011,2011,2011,2011,2011,2011,2012,2012,2012,2012,2012,2012,2012,2012,2012,2012,2012,2012,2012,2012,2012,2012,2012,2012,2012],\"xaxis\":\"x\",\"y\":[0.3125,0.375,0.375,0.375,0.25,0.3125,0.375,0.3125,0.25,0.25,0.625,0.25,0.3125,0.3125,0.4375,0.3125,0.3181818181818182,0.4090909090909091,0.5909090909090909,0.36363636363636365,0.36363636363636365,0.3181818181818182,0.3181818181818182,0.3181818181818182,0.4090909090909091,0.3181818181818182,0.6363636363636364,0.2727272727272727,0.36363636363636365,0.2727272727272727,0.2727272727272727,0.3181818181818182,0.36363636363636365,0.36363636363636365,0.4090909090909091],\"yaxis\":\"y\",\"type\":\"scatter\"},{\"hovertemplate\":\"HomeTeam=Levante<br>Year=%{x}<br>Winning Ratio=%{y}<extra></extra>\",\"legendgroup\":\"Levante\",\"line\":{\"color\":\"#B6E880\",\"dash\":\"solid\"},\"marker\":{\"symbol\":\"circle\"},\"mode\":\"lines\",\"name\":\"Levante\",\"orientation\":\"v\",\"showlegend\":true,\"x\":[2011,2011,2011,2011,2011,2011,2011,2011,2011,2011,2011,2011,2011,2011,2011,2011,2012,2012,2012,2012,2012,2012,2012,2012,2012,2012,2012,2012,2012,2012,2012,2012,2012,2012,2012],\"xaxis\":\"x\",\"y\":[0.5,0.5625,0.5625,0.5625,0.4375,0.5,0.5625,0.5,0.4375,0.4375,0.8125,0.4375,0.5,0.5,0.625,0.5,0.3181818181818182,0.4090909090909091,0.5909090909090909,0.36363636363636365,0.36363636363636365,0.3181818181818182,0.3181818181818182,0.3181818181818182,0.4090909090909091,0.3181818181818182,0.6363636363636364,0.2727272727272727,0.36363636363636365,0.2727272727272727,0.2727272727272727,0.3181818181818182,0.36363636363636365,0.36363636363636365,0.4090909090909091],\"yaxis\":\"y\",\"type\":\"scatter\"},{\"hovertemplate\":\"HomeTeam=Malaga<br>Year=%{x}<br>Winning Ratio=%{y}<extra></extra>\",\"legendgroup\":\"Malaga\",\"line\":{\"color\":\"#FF97FF\",\"dash\":\"solid\"},\"marker\":{\"symbol\":\"circle\"},\"mode\":\"lines\",\"name\":\"Malaga\",\"orientation\":\"v\",\"showlegend\":true,\"x\":[2011,2011,2011,2011,2011,2011,2011,2011,2011,2011,2011,2011,2011,2011,2011,2011,2012,2012,2012,2012,2012,2012,2012,2012,2012,2012,2012,2012,2012,2012,2012,2012,2012,2012,2012],\"xaxis\":\"x\",\"y\":[0.4375,0.5,0.5,0.5,0.375,0.4375,0.5,0.4375,0.375,0.375,0.75,0.375,0.4375,0.4375,0.5625,0.4375,0.45454545454545453,0.5454545454545454,0.7272727272727273,0.5,0.5,0.45454545454545453,0.45454545454545453,0.45454545454545453,0.5454545454545454,0.45454545454545453,0.7727272727272727,0.4090909090909091,0.5,0.4090909090909091,0.4090909090909091,0.45454545454545453,0.5,0.5,0.5454545454545454],\"yaxis\":\"y\",\"type\":\"scatter\"},{\"hovertemplate\":\"HomeTeam=Mallorca<br>Year=%{x}<br>Winning Ratio=%{y}<extra></extra>\",\"legendgroup\":\"Mallorca\",\"line\":{\"color\":\"#FECB52\",\"dash\":\"solid\"},\"marker\":{\"symbol\":\"circle\"},\"mode\":\"lines\",\"name\":\"Mallorca\",\"orientation\":\"v\",\"showlegend\":true,\"x\":[2011,2011,2011,2011,2011,2011,2011,2011,2011,2011,2011,2011,2011,2011,2011,2011,2012,2012,2012,2012,2012,2012,2012,2012,2012,2012,2012,2012,2012,2012,2012,2012,2012,2012,2012],\"xaxis\":\"x\",\"y\":[0.3125,0.375,0.375,0.375,0.25,0.3125,0.375,0.3125,0.25,0.25,0.625,0.25,0.3125,0.3125,0.4375,0.3125,0.36363636363636365,0.45454545454545453,0.6363636363636364,0.4090909090909091,0.4090909090909091,0.36363636363636365,0.36363636363636365,0.36363636363636365,0.45454545454545453,0.36363636363636365,0.6818181818181818,0.3181818181818182,0.4090909090909091,0.3181818181818182,0.3181818181818182,0.36363636363636365,0.4090909090909091,0.4090909090909091,0.45454545454545453],\"yaxis\":\"y\",\"type\":\"scatter\"},{\"hovertemplate\":\"HomeTeam=Osasuna<br>Year=%{x}<br>Winning Ratio=%{y}<extra></extra>\",\"legendgroup\":\"Osasuna\",\"line\":{\"color\":\"#636efa\",\"dash\":\"solid\"},\"marker\":{\"symbol\":\"circle\"},\"mode\":\"lines\",\"name\":\"Osasuna\",\"orientation\":\"v\",\"showlegend\":true,\"x\":[2011,2011,2011,2011,2011,2011,2011,2011,2011,2011,2011,2011,2011,2011,2011,2011,2012,2012,2012,2012,2012,2012,2012,2012,2012,2012,2012,2012,2012,2012,2012,2012,2012,2012,2012],\"xaxis\":\"x\",\"y\":[0.4375,0.5,0.5,0.5,0.375,0.4375,0.5,0.4375,0.375,0.375,0.75,0.375,0.4375,0.4375,0.5625,0.4375,0.3181818181818182,0.4090909090909091,0.5909090909090909,0.36363636363636365,0.36363636363636365,0.3181818181818182,0.3181818181818182,0.3181818181818182,0.4090909090909091,0.3181818181818182,0.6363636363636364,0.2727272727272727,0.36363636363636365,0.2727272727272727,0.2727272727272727,0.3181818181818182,0.36363636363636365,0.36363636363636365,0.4090909090909091],\"yaxis\":\"y\",\"type\":\"scatter\"},{\"hovertemplate\":\"HomeTeam=Real Madrid<br>Year=%{x}<br>Winning Ratio=%{y}<extra></extra>\",\"legendgroup\":\"Real Madrid\",\"line\":{\"color\":\"#EF553B\",\"dash\":\"solid\"},\"marker\":{\"symbol\":\"circle\"},\"mode\":\"lines\",\"name\":\"Real Madrid\",\"orientation\":\"v\",\"showlegend\":true,\"x\":[2011,2011,2011,2011,2011,2011,2011,2011,2011,2011,2011,2011,2011,2011,2011,2011,2012,2012,2012,2012,2012,2012,2012,2012,2012,2012,2012,2012,2012,2012,2012,2012,2012,2012,2012],\"xaxis\":\"x\",\"y\":[0.5,0.5625,0.5625,0.5625,0.4375,0.5,0.5625,0.5,0.4375,0.4375,0.8125,0.4375,0.5,0.5,0.625,0.5,0.5454545454545454,0.6363636363636364,0.8181818181818182,0.5909090909090909,0.5909090909090909,0.5454545454545454,0.5454545454545454,0.5454545454545454,0.6363636363636364,0.5454545454545454,0.8636363636363636,0.5,0.5909090909090909,0.5,0.5,0.5454545454545454,0.5909090909090909,0.5909090909090909,0.6363636363636364],\"yaxis\":\"y\",\"type\":\"scatter\"},{\"hovertemplate\":\"HomeTeam=Santander<br>Year=%{x}<br>Winning Ratio=%{y}<extra></extra>\",\"legendgroup\":\"Santander\",\"line\":{\"color\":\"#00cc96\",\"dash\":\"solid\"},\"marker\":{\"symbol\":\"circle\"},\"mode\":\"lines\",\"name\":\"Santander\",\"orientation\":\"v\",\"showlegend\":true,\"x\":[2011,2011,2011,2011,2011,2011,2011,2011,2011,2011,2011,2011,2011,2011,2011,2011,2012,2012,2012,2012,2012,2012,2012,2012,2012,2012,2012,2012,2012,2012,2012,2012,2012,2012,2012],\"xaxis\":\"x\",\"y\":[0.25,0.3125,0.3125,0.3125,0.1875,0.25,0.3125,0.25,0.1875,0.1875,0.5625,0.1875,0.25,0.25,0.375,0.25,0.13636363636363635,0.22727272727272727,0.4090909090909091,0.18181818181818182,0.18181818181818182,0.13636363636363635,0.13636363636363635,0.13636363636363635,0.22727272727272727,0.13636363636363635,0.45454545454545453,0.09090909090909091,0.18181818181818182,0.09090909090909091,0.09090909090909091,0.13636363636363635,0.18181818181818182,0.18181818181818182,0.22727272727272727],\"yaxis\":\"y\",\"type\":\"scatter\"},{\"hovertemplate\":\"HomeTeam=Sevilla<br>Year=%{x}<br>Winning Ratio=%{y}<extra></extra>\",\"legendgroup\":\"Sevilla\",\"line\":{\"color\":\"#ab63fa\",\"dash\":\"solid\"},\"marker\":{\"symbol\":\"circle\"},\"mode\":\"lines\",\"name\":\"Sevilla\",\"orientation\":\"v\",\"showlegend\":true,\"x\":[2011,2011,2011,2011,2011,2011,2011,2011,2011,2011,2011,2011,2011,2011,2011,2011,2012,2012,2012,2012,2012,2012,2012,2012,2012,2012,2012,2012,2012,2012,2012,2012,2012,2012,2012],\"xaxis\":\"x\",\"y\":[0.4375,0.5,0.5,0.5,0.375,0.4375,0.5,0.4375,0.375,0.375,0.75,0.375,0.4375,0.4375,0.5625,0.4375,0.2727272727272727,0.36363636363636365,0.5454545454545454,0.3181818181818182,0.3181818181818182,0.2727272727272727,0.2727272727272727,0.2727272727272727,0.36363636363636365,0.2727272727272727,0.5909090909090909,0.22727272727272727,0.3181818181818182,0.22727272727272727,0.22727272727272727,0.2727272727272727,0.3181818181818182,0.3181818181818182,0.36363636363636365],\"yaxis\":\"y\",\"type\":\"scatter\"},{\"hovertemplate\":\"HomeTeam=Sociedad<br>Year=%{x}<br>Winning Ratio=%{y}<extra></extra>\",\"legendgroup\":\"Sociedad\",\"line\":{\"color\":\"#FFA15A\",\"dash\":\"solid\"},\"marker\":{\"symbol\":\"circle\"},\"mode\":\"lines\",\"name\":\"Sociedad\",\"orientation\":\"v\",\"showlegend\":true,\"x\":[2011,2011,2011,2011,2011,2011,2011,2011,2011,2011,2011,2011,2011,2011,2011,2011,2012,2012,2012,2012,2012,2012,2012,2012,2012,2012,2012,2012,2012,2012,2012,2012,2012,2012,2012],\"xaxis\":\"x\",\"y\":[0.25,0.3125,0.3125,0.3125,0.1875,0.25,0.3125,0.25,0.1875,0.1875,0.5625,0.1875,0.25,0.25,0.375,0.25,0.4090909090909091,0.5,0.6818181818181818,0.45454545454545453,0.45454545454545453,0.4090909090909091,0.4090909090909091,0.4090909090909091,0.5,0.4090909090909091,0.7272727272727273,0.36363636363636365,0.45454545454545453,0.36363636363636365,0.36363636363636365,0.4090909090909091,0.45454545454545453,0.45454545454545453,0.5],\"yaxis\":\"y\",\"type\":\"scatter\"},{\"hovertemplate\":\"HomeTeam=Sp Gijon<br>Year=%{x}<br>Winning Ratio=%{y}<extra></extra>\",\"legendgroup\":\"Sp Gijon\",\"line\":{\"color\":\"#19d3f3\",\"dash\":\"solid\"},\"marker\":{\"symbol\":\"circle\"},\"mode\":\"lines\",\"name\":\"Sp Gijon\",\"orientation\":\"v\",\"showlegend\":true,\"x\":[2011,2011,2011,2011,2011,2011,2011,2011,2011,2011,2011,2011,2011,2011,2011,2011,2012,2012,2012,2012,2012,2012,2012,2012,2012,2012,2012,2012,2012,2012,2012,2012,2012,2012,2012],\"xaxis\":\"x\",\"y\":[0.25,0.3125,0.3125,0.3125,0.1875,0.25,0.3125,0.25,0.1875,0.1875,0.5625,0.1875,0.25,0.25,0.375,0.25,0.3181818181818182,0.4090909090909091,0.5909090909090909,0.36363636363636365,0.36363636363636365,0.3181818181818182,0.3181818181818182,0.3181818181818182,0.4090909090909091,0.3181818181818182,0.6363636363636364,0.2727272727272727,0.36363636363636365,0.2727272727272727,0.2727272727272727,0.3181818181818182,0.36363636363636365,0.36363636363636365,0.4090909090909091],\"yaxis\":\"y\",\"type\":\"scatter\"},{\"hovertemplate\":\"HomeTeam=Valencia<br>Year=%{x}<br>Winning Ratio=%{y}<extra></extra>\",\"legendgroup\":\"Valencia\",\"line\":{\"color\":\"#FF6692\",\"dash\":\"solid\"},\"marker\":{\"symbol\":\"circle\"},\"mode\":\"lines\",\"name\":\"Valencia\",\"orientation\":\"v\",\"showlegend\":true,\"x\":[2011,2011,2011,2011,2011,2011,2011,2011,2011,2011,2011,2011,2011,2011,2011,2011,2012,2012,2012,2012,2012,2012,2012,2012,2012,2012,2012,2012,2012,2012,2012,2012,2012,2012,2012],\"xaxis\":\"x\",\"y\":[0.5,0.5625,0.5625,0.5625,0.4375,0.5,0.5625,0.5,0.4375,0.4375,0.8125,0.4375,0.5,0.5,0.625,0.5,0.3181818181818182,0.4090909090909091,0.5909090909090909,0.36363636363636365,0.36363636363636365,0.3181818181818182,0.3181818181818182,0.3181818181818182,0.4090909090909091,0.3181818181818182,0.6363636363636364,0.2727272727272727,0.36363636363636365,0.2727272727272727,0.2727272727272727,0.3181818181818182,0.36363636363636365,0.36363636363636365,0.4090909090909091],\"yaxis\":\"y\",\"type\":\"scatter\"},{\"hovertemplate\":\"HomeTeam=Vallecano<br>Year=%{x}<br>Winning Ratio=%{y}<extra></extra>\",\"legendgroup\":\"Vallecano\",\"line\":{\"color\":\"#B6E880\",\"dash\":\"solid\"},\"marker\":{\"symbol\":\"circle\"},\"mode\":\"lines\",\"name\":\"Vallecano\",\"orientation\":\"v\",\"showlegend\":true,\"x\":[2011,2011,2011,2011,2011,2011,2011,2011,2011,2011,2011,2011,2011,2011,2011,2011,2012,2012,2012,2012,2012,2012,2012,2012,2012,2012,2012,2012,2012,2012,2012,2012,2012,2012,2012],\"xaxis\":\"x\",\"y\":[0.25,0.3125,0.3125,0.3125,0.1875,0.25,0.3125,0.25,0.1875,0.1875,0.5625,0.1875,0.25,0.25,0.375,0.25,0.36363636363636365,0.45454545454545453,0.6363636363636364,0.4090909090909091,0.4090909090909091,0.36363636363636365,0.36363636363636365,0.36363636363636365,0.45454545454545453,0.36363636363636365,0.6818181818181818,0.3181818181818182,0.4090909090909091,0.3181818181818182,0.3181818181818182,0.36363636363636365,0.4090909090909091,0.4090909090909091,0.45454545454545453],\"yaxis\":\"y\",\"type\":\"scatter\"},{\"hovertemplate\":\"HomeTeam=Villarreal<br>Year=%{x}<br>Winning Ratio=%{y}<extra></extra>\",\"legendgroup\":\"Villarreal\",\"line\":{\"color\":\"#FF97FF\",\"dash\":\"solid\"},\"marker\":{\"symbol\":\"circle\"},\"mode\":\"lines\",\"name\":\"Villarreal\",\"orientation\":\"v\",\"showlegend\":true,\"x\":[2011,2011,2011,2011,2011,2011,2011,2011,2011,2011,2011,2011,2011,2011,2011,2011,2012,2012,2012,2012,2012,2012,2012,2012,2012,2012,2012,2012,2012,2012,2012,2012,2012,2012,2012],\"xaxis\":\"x\",\"y\":[0.3125,0.375,0.375,0.375,0.25,0.3125,0.375,0.3125,0.25,0.25,0.625,0.25,0.3125,0.3125,0.4375,0.3125,0.22727272727272727,0.3181818181818182,0.5,0.2727272727272727,0.2727272727272727,0.22727272727272727,0.22727272727272727,0.22727272727272727,0.3181818181818182,0.22727272727272727,0.5454545454545454,0.18181818181818182,0.2727272727272727,0.18181818181818182,0.18181818181818182,0.22727272727272727,0.2727272727272727,0.2727272727272727,0.3181818181818182],\"yaxis\":\"y\",\"type\":\"scatter\"},{\"hovertemplate\":\"HomeTeam=Zaragoza<br>Year=%{x}<br>Winning Ratio=%{y}<extra></extra>\",\"legendgroup\":\"Zaragoza\",\"line\":{\"color\":\"#FECB52\",\"dash\":\"solid\"},\"marker\":{\"symbol\":\"circle\"},\"mode\":\"lines\",\"name\":\"Zaragoza\",\"orientation\":\"v\",\"showlegend\":true,\"x\":[2011,2011,2011,2011,2011,2011,2011,2011,2011,2011,2011,2011,2011,2011,2011,2011,2012,2012,2012,2012,2012,2012,2012,2012,2012,2012,2012,2012,2012,2012,2012,2012,2012,2012,2012],\"xaxis\":\"x\",\"y\":[0.25,0.3125,0.3125,0.3125,0.1875,0.25,0.3125,0.25,0.1875,0.1875,0.5625,0.1875,0.25,0.25,0.375,0.25,0.36363636363636365,0.45454545454545453,0.6363636363636364,0.4090909090909091,0.4090909090909091,0.36363636363636365,0.36363636363636365,0.36363636363636365,0.45454545454545453,0.36363636363636365,0.6818181818181818,0.3181818181818182,0.4090909090909091,0.3181818181818182,0.3181818181818182,0.36363636363636365,0.4090909090909091,0.4090909090909091,0.45454545454545453],\"yaxis\":\"y\",\"type\":\"scatter\"}],                        {\"template\":{\"data\":{\"histogram2dcontour\":[{\"type\":\"histogram2dcontour\",\"colorbar\":{\"outlinewidth\":0,\"ticks\":\"\"},\"colorscale\":[[0.0,\"#0d0887\"],[0.1111111111111111,\"#46039f\"],[0.2222222222222222,\"#7201a8\"],[0.3333333333333333,\"#9c179e\"],[0.4444444444444444,\"#bd3786\"],[0.5555555555555556,\"#d8576b\"],[0.6666666666666666,\"#ed7953\"],[0.7777777777777778,\"#fb9f3a\"],[0.8888888888888888,\"#fdca26\"],[1.0,\"#f0f921\"]]}],\"choropleth\":[{\"type\":\"choropleth\",\"colorbar\":{\"outlinewidth\":0,\"ticks\":\"\"}}],\"histogram2d\":[{\"type\":\"histogram2d\",\"colorbar\":{\"outlinewidth\":0,\"ticks\":\"\"},\"colorscale\":[[0.0,\"#0d0887\"],[0.1111111111111111,\"#46039f\"],[0.2222222222222222,\"#7201a8\"],[0.3333333333333333,\"#9c179e\"],[0.4444444444444444,\"#bd3786\"],[0.5555555555555556,\"#d8576b\"],[0.6666666666666666,\"#ed7953\"],[0.7777777777777778,\"#fb9f3a\"],[0.8888888888888888,\"#fdca26\"],[1.0,\"#f0f921\"]]}],\"heatmap\":[{\"type\":\"heatmap\",\"colorbar\":{\"outlinewidth\":0,\"ticks\":\"\"},\"colorscale\":[[0.0,\"#0d0887\"],[0.1111111111111111,\"#46039f\"],[0.2222222222222222,\"#7201a8\"],[0.3333333333333333,\"#9c179e\"],[0.4444444444444444,\"#bd3786\"],[0.5555555555555556,\"#d8576b\"],[0.6666666666666666,\"#ed7953\"],[0.7777777777777778,\"#fb9f3a\"],[0.8888888888888888,\"#fdca26\"],[1.0,\"#f0f921\"]]}],\"heatmapgl\":[{\"type\":\"heatmapgl\",\"colorbar\":{\"outlinewidth\":0,\"ticks\":\"\"},\"colorscale\":[[0.0,\"#0d0887\"],[0.1111111111111111,\"#46039f\"],[0.2222222222222222,\"#7201a8\"],[0.3333333333333333,\"#9c179e\"],[0.4444444444444444,\"#bd3786\"],[0.5555555555555556,\"#d8576b\"],[0.6666666666666666,\"#ed7953\"],[0.7777777777777778,\"#fb9f3a\"],[0.8888888888888888,\"#fdca26\"],[1.0,\"#f0f921\"]]}],\"contourcarpet\":[{\"type\":\"contourcarpet\",\"colorbar\":{\"outlinewidth\":0,\"ticks\":\"\"}}],\"contour\":[{\"type\":\"contour\",\"colorbar\":{\"outlinewidth\":0,\"ticks\":\"\"},\"colorscale\":[[0.0,\"#0d0887\"],[0.1111111111111111,\"#46039f\"],[0.2222222222222222,\"#7201a8\"],[0.3333333333333333,\"#9c179e\"],[0.4444444444444444,\"#bd3786\"],[0.5555555555555556,\"#d8576b\"],[0.6666666666666666,\"#ed7953\"],[0.7777777777777778,\"#fb9f3a\"],[0.8888888888888888,\"#fdca26\"],[1.0,\"#f0f921\"]]}],\"surface\":[{\"type\":\"surface\",\"colorbar\":{\"outlinewidth\":0,\"ticks\":\"\"},\"colorscale\":[[0.0,\"#0d0887\"],[0.1111111111111111,\"#46039f\"],[0.2222222222222222,\"#7201a8\"],[0.3333333333333333,\"#9c179e\"],[0.4444444444444444,\"#bd3786\"],[0.5555555555555556,\"#d8576b\"],[0.6666666666666666,\"#ed7953\"],[0.7777777777777778,\"#fb9f3a\"],[0.8888888888888888,\"#fdca26\"],[1.0,\"#f0f921\"]]}],\"mesh3d\":[{\"type\":\"mesh3d\",\"colorbar\":{\"outlinewidth\":0,\"ticks\":\"\"}}],\"scatter\":[{\"fillpattern\":{\"fillmode\":\"overlay\",\"size\":10,\"solidity\":0.2},\"type\":\"scatter\"}],\"parcoords\":[{\"type\":\"parcoords\",\"line\":{\"colorbar\":{\"outlinewidth\":0,\"ticks\":\"\"}}}],\"scatterpolargl\":[{\"type\":\"scatterpolargl\",\"marker\":{\"colorbar\":{\"outlinewidth\":0,\"ticks\":\"\"}}}],\"bar\":[{\"error_x\":{\"color\":\"#2a3f5f\"},\"error_y\":{\"color\":\"#2a3f5f\"},\"marker\":{\"line\":{\"color\":\"#E5ECF6\",\"width\":0.5},\"pattern\":{\"fillmode\":\"overlay\",\"size\":10,\"solidity\":0.2}},\"type\":\"bar\"}],\"scattergeo\":[{\"type\":\"scattergeo\",\"marker\":{\"colorbar\":{\"outlinewidth\":0,\"ticks\":\"\"}}}],\"scatterpolar\":[{\"type\":\"scatterpolar\",\"marker\":{\"colorbar\":{\"outlinewidth\":0,\"ticks\":\"\"}}}],\"histogram\":[{\"marker\":{\"pattern\":{\"fillmode\":\"overlay\",\"size\":10,\"solidity\":0.2}},\"type\":\"histogram\"}],\"scattergl\":[{\"type\":\"scattergl\",\"marker\":{\"colorbar\":{\"outlinewidth\":0,\"ticks\":\"\"}}}],\"scatter3d\":[{\"type\":\"scatter3d\",\"line\":{\"colorbar\":{\"outlinewidth\":0,\"ticks\":\"\"}},\"marker\":{\"colorbar\":{\"outlinewidth\":0,\"ticks\":\"\"}}}],\"scattermapbox\":[{\"type\":\"scattermapbox\",\"marker\":{\"colorbar\":{\"outlinewidth\":0,\"ticks\":\"\"}}}],\"scatterternary\":[{\"type\":\"scatterternary\",\"marker\":{\"colorbar\":{\"outlinewidth\":0,\"ticks\":\"\"}}}],\"scattercarpet\":[{\"type\":\"scattercarpet\",\"marker\":{\"colorbar\":{\"outlinewidth\":0,\"ticks\":\"\"}}}],\"carpet\":[{\"aaxis\":{\"endlinecolor\":\"#2a3f5f\",\"gridcolor\":\"white\",\"linecolor\":\"white\",\"minorgridcolor\":\"white\",\"startlinecolor\":\"#2a3f5f\"},\"baxis\":{\"endlinecolor\":\"#2a3f5f\",\"gridcolor\":\"white\",\"linecolor\":\"white\",\"minorgridcolor\":\"white\",\"startlinecolor\":\"#2a3f5f\"},\"type\":\"carpet\"}],\"table\":[{\"cells\":{\"fill\":{\"color\":\"#EBF0F8\"},\"line\":{\"color\":\"white\"}},\"header\":{\"fill\":{\"color\":\"#C8D4E3\"},\"line\":{\"color\":\"white\"}},\"type\":\"table\"}],\"barpolar\":[{\"marker\":{\"line\":{\"color\":\"#E5ECF6\",\"width\":0.5},\"pattern\":{\"fillmode\":\"overlay\",\"size\":10,\"solidity\":0.2}},\"type\":\"barpolar\"}],\"pie\":[{\"automargin\":true,\"type\":\"pie\"}]},\"layout\":{\"autotypenumbers\":\"strict\",\"colorway\":[\"#636efa\",\"#EF553B\",\"#00cc96\",\"#ab63fa\",\"#FFA15A\",\"#19d3f3\",\"#FF6692\",\"#B6E880\",\"#FF97FF\",\"#FECB52\"],\"font\":{\"color\":\"#2a3f5f\"},\"hovermode\":\"closest\",\"hoverlabel\":{\"align\":\"left\"},\"paper_bgcolor\":\"white\",\"plot_bgcolor\":\"#E5ECF6\",\"polar\":{\"bgcolor\":\"#E5ECF6\",\"angularaxis\":{\"gridcolor\":\"white\",\"linecolor\":\"white\",\"ticks\":\"\"},\"radialaxis\":{\"gridcolor\":\"white\",\"linecolor\":\"white\",\"ticks\":\"\"}},\"ternary\":{\"bgcolor\":\"#E5ECF6\",\"aaxis\":{\"gridcolor\":\"white\",\"linecolor\":\"white\",\"ticks\":\"\"},\"baxis\":{\"gridcolor\":\"white\",\"linecolor\":\"white\",\"ticks\":\"\"},\"caxis\":{\"gridcolor\":\"white\",\"linecolor\":\"white\",\"ticks\":\"\"}},\"coloraxis\":{\"colorbar\":{\"outlinewidth\":0,\"ticks\":\"\"}},\"colorscale\":{\"sequential\":[[0.0,\"#0d0887\"],[0.1111111111111111,\"#46039f\"],[0.2222222222222222,\"#7201a8\"],[0.3333333333333333,\"#9c179e\"],[0.4444444444444444,\"#bd3786\"],[0.5555555555555556,\"#d8576b\"],[0.6666666666666666,\"#ed7953\"],[0.7777777777777778,\"#fb9f3a\"],[0.8888888888888888,\"#fdca26\"],[1.0,\"#f0f921\"]],\"sequentialminus\":[[0.0,\"#0d0887\"],[0.1111111111111111,\"#46039f\"],[0.2222222222222222,\"#7201a8\"],[0.3333333333333333,\"#9c179e\"],[0.4444444444444444,\"#bd3786\"],[0.5555555555555556,\"#d8576b\"],[0.6666666666666666,\"#ed7953\"],[0.7777777777777778,\"#fb9f3a\"],[0.8888888888888888,\"#fdca26\"],[1.0,\"#f0f921\"]],\"diverging\":[[0,\"#8e0152\"],[0.1,\"#c51b7d\"],[0.2,\"#de77ae\"],[0.3,\"#f1b6da\"],[0.4,\"#fde0ef\"],[0.5,\"#f7f7f7\"],[0.6,\"#e6f5d0\"],[0.7,\"#b8e186\"],[0.8,\"#7fbc41\"],[0.9,\"#4d9221\"],[1,\"#276419\"]]},\"xaxis\":{\"gridcolor\":\"white\",\"linecolor\":\"white\",\"ticks\":\"\",\"title\":{\"standoff\":15},\"zerolinecolor\":\"white\",\"automargin\":true,\"zerolinewidth\":2},\"yaxis\":{\"gridcolor\":\"white\",\"linecolor\":\"white\",\"ticks\":\"\",\"title\":{\"standoff\":15},\"zerolinecolor\":\"white\",\"automargin\":true,\"zerolinewidth\":2},\"scene\":{\"xaxis\":{\"backgroundcolor\":\"#E5ECF6\",\"gridcolor\":\"white\",\"linecolor\":\"white\",\"showbackground\":true,\"ticks\":\"\",\"zerolinecolor\":\"white\",\"gridwidth\":2},\"yaxis\":{\"backgroundcolor\":\"#E5ECF6\",\"gridcolor\":\"white\",\"linecolor\":\"white\",\"showbackground\":true,\"ticks\":\"\",\"zerolinecolor\":\"white\",\"gridwidth\":2},\"zaxis\":{\"backgroundcolor\":\"#E5ECF6\",\"gridcolor\":\"white\",\"linecolor\":\"white\",\"showbackground\":true,\"ticks\":\"\",\"zerolinecolor\":\"white\",\"gridwidth\":2}},\"shapedefaults\":{\"line\":{\"color\":\"#2a3f5f\"}},\"annotationdefaults\":{\"arrowcolor\":\"#2a3f5f\",\"arrowhead\":0,\"arrowwidth\":1},\"geo\":{\"bgcolor\":\"white\",\"landcolor\":\"#E5ECF6\",\"subunitcolor\":\"white\",\"showland\":true,\"showlakes\":true,\"lakecolor\":\"white\"},\"title\":{\"x\":0.05},\"mapbox\":{\"style\":\"light\"}}},\"xaxis\":{\"anchor\":\"y\",\"domain\":[0.0,1.0],\"title\":{\"text\":\"Year\"}},\"yaxis\":{\"anchor\":\"x\",\"domain\":[0.0,1.0],\"title\":{\"text\":\"Winning Ratio\"}},\"legend\":{\"title\":{\"text\":\"HomeTeam\"},\"tracegroupgap\":0},\"title\":{\"text\":\"Winning Ratio by Team and Year\"}},                        {\"responsive\": true}                    ).then(function(){\n",
       "                            \n",
       "var gd = document.getElementById('8c3aeeb7-c831-4a27-af0d-fb97e3bdd688');\n",
       "var x = new MutationObserver(function (mutations, observer) {{\n",
       "        var display = window.getComputedStyle(gd).display;\n",
       "        if (!display || display === 'none') {{\n",
       "            console.log([gd, 'removed!']);\n",
       "            Plotly.purge(gd);\n",
       "            observer.disconnect();\n",
       "        }}\n",
       "}});\n",
       "\n",
       "// Listen for the removal of the full notebook cells\n",
       "var notebookContainer = gd.closest('#notebook-container');\n",
       "if (notebookContainer) {{\n",
       "    x.observe(notebookContainer, {childList: true});\n",
       "}}\n",
       "\n",
       "// Listen for the clearing of the current output cell\n",
       "var outputEl = gd.closest('.output');\n",
       "if (outputEl) {{\n",
       "    x.observe(outputEl, {childList: true});\n",
       "}}\n",
       "\n",
       "                        })                };                });            </script>        </div>"
      ]
     },
     "metadata": {},
     "output_type": "display_data"
    }
   ],
   "source": [
    "# Create a new column for the year\n",
    "df['Year'] = pd.DatetimeIndex(df['Date']).year\n",
    "\n",
    "# Calculate the number of wins by team and year\n",
    "wins_by_team_year = df[df['FTR'] == 'H'].groupby(['HomeTeam', 'Year']).size().add(\n",
    "                    df[df['FTR'] == 'A'].groupby(['AwayTeam', 'Year']).size(), fill_value=0)\n",
    "\n",
    "# Calculate the total number of games played by team and year\n",
    "games_by_team_year = df.groupby(['HomeTeam', 'Year']).size().add(\n",
    "                     df.groupby(['AwayTeam', 'Year']).size(), fill_value=0)\n",
    "\n",
    "# Calculate the winning ratio by team and year\n",
    "win_ratio_by_team_year = wins_by_team_year / games_by_team_year\n",
    "\n",
    "# Reset the MultiIndex to columns\n",
    "win_ratio_by_team_year = win_ratio_by_team_year.reset_index()\n",
    "\n",
    "# Plot a line chart of winning ratio by team and year\n",
    "fig = px.line(win_ratio_by_team_year, x='Year', y=0, color='HomeTeam',\n",
    "              labels={'0': 'Winning Ratio', 'Year': 'Year'},\n",
    "              title='Winning Ratio by Team and Year')\n",
    "fig.show()"
   ]
  },
  {
   "cell_type": "markdown",
   "id": "fb9d4e77",
   "metadata": {},
   "source": [
    "The plot shows the winning ratio for each team over time. The x-axis represents time, and the y-axis represents the winning ratio. Each line represents a team, and the color of the line indicates the team. The plot shows how the winning ratio varies for each team over time, and allows us to compare the performance of different teams. We can see that some teams have consistently high winning ratios, while others have more variable performance over time. Overall, this plot gives us a good overview of how different teams have performed over the years."
   ]
  },
  {
   "cell_type": "markdown",
   "id": "28ba02ad",
   "metadata": {},
   "source": [
    "<h2 style='background-color:#0c519c; color:white; padding:8px; font-size:24px; font-family: consolas; border-radius:8px;'>Predicting Match Outcomes Using Machine Learning</h2>"
   ]
  },
  {
   "cell_type": "markdown",
   "id": "3b1eb368",
   "metadata": {},
   "source": [
    "In this section, we will train several machine learning models to predict the outcome of a football match (home team win, away team win, or draw) based on certain features such as the number of goals scored by each team, number of shots on target, number of fouls committed, etc."
   ]
  },
  {
   "cell_type": "markdown",
   "id": "23736ca2",
   "metadata": {},
   "source": [
    "<h3 style=\"background-color:#0c519c; color:white; padding:8px; font-size:20px; font-family: consolas; border-radius:8px;\">Data Preprocessing</h3>"
   ]
  },
  {
   "cell_type": "markdown",
   "id": "a8db0062",
   "metadata": {},
   "source": [
    "Before we can train our models, we need to preprocess our dataset. This involves cleaning and transforming the data to make it suitable for use with machine learning algorithms.\n",
    "\n",
    "First, we will load our dataset using pandas and examine the first few rows:"
   ]
  },
  {
   "cell_type": "code",
   "execution_count": null,
   "id": "cf87b800",
   "metadata": {},
   "outputs": [
    {
     "name": "stdout",
     "output_type": "stream",
     "text": [
      "       Date    HomeTeam   AwayTeam  FTHG  FTAG FTR  HTHG  HTAG HTR  HS  ...  \\\n",
      "0  27/08/11     Granada      Betis     0     1   A     0     0   D  11  ...   \n",
      "1  27/08/11    Sp Gijon   Sociedad     1     2   A     0     1   A  17  ...   \n",
      "2  27/08/11    Valencia  Santander     4     3   H     1     2   A  26  ...   \n",
      "3  28/08/11  Ath Bilbao  Vallecano     1     1   D     0     0   D  10  ...   \n",
      "4  28/08/11  Ath Madrid    Osasuna     0     0   D     0     0   D  28  ...   \n",
      "\n",
      "   HST  AST  HF  AF  HC  AC  HY  AY  HR  AR  \n",
      "0    2    3  12  16   8   5   2   2   0   0  \n",
      "1    4    2  14  11   9   2   2   1   1   1  \n",
      "2   11    3  14  11  10   3   3   3   0   0  \n",
      "3    4    6  17  19   9   4   1   3   0   0  \n",
      "4    8    2   9   8  12   5   1   0   0   0  \n",
      "\n",
      "[5 rows x 21 columns]\n"
     ]
    }
   ],
   "source": [
    "import pandas as pd\n",
    "\n",
    "url = \"https://raw.githubusercontent.com/datasets/football-datasets/master/datasets/la-liga/season-1112.csv\"\n",
    "df = pd.read_csv(url)\n",
    "print(df.head())"
   ]
  },
  {
   "cell_type": "markdown",
   "id": "510a978e",
   "metadata": {},
   "source": [
    "Next, we will drop unnecessary columns such as the date, halftime score, and number of cards:"
   ]
  },
  {
   "cell_type": "code",
   "execution_count": null,
   "id": "64440ce8",
   "metadata": {
    "scrolled": true
   },
   "outputs": [],
   "source": [
    "df = df.drop(['Date', 'HTHG', 'HTAG', 'HTR', 'HY', 'AY', 'HR', 'AR'], axis=1)"
   ]
  },
  {
   "cell_type": "markdown",
   "id": "1480786d",
   "metadata": {},
   "source": [
    "We will also convert the categorical variable FTR (full-time result) to a numerical variable, where 0 represents a home team loss or draw, and 1 represents a home team win:"
   ]
  },
  {
   "cell_type": "code",
   "execution_count": null,
   "id": "df8219ed",
   "metadata": {},
   "outputs": [],
   "source": [
    "df['FTR'] = df['FTR'].map({'A': 0, 'D': 0, 'H': 1})"
   ]
  },
  {
   "cell_type": "markdown",
   "id": "5b5ce5e1",
   "metadata": {},
   "source": [
    "Finally, we will split our dataset into training and testing data and apply the selected models to make predictions.\n",
    "\n",
    "We will split the data into a 70/30 train-test split using scikit-learn's train_test_split function. This will ensure that our models are trained on a subset of the data and tested on unseen data to evaluate their performance.\n",
    "\n",
    "We will use the same train-test split for all of the models to ensure that they are evaluated fairly against each other.\n",
    "\n",
    "Let's start by importing the necessary function from scikit-learn and splitting the data into training and testing sets."
   ]
  },
  {
   "cell_type": "code",
   "execution_count": null,
   "id": "041ddab6",
   "metadata": {},
   "outputs": [],
   "source": [
    "from sklearn.model_selection import train_test_split\n",
    "\n",
    "# Set the target variable as y\n",
    "y = df['FTR']\n",
    "\n",
    "# Use numeric-only features and handle missing/inf values to avoid errors\n",
    "a = df.select_dtypes(include='number')\n",
    "X = a.drop(columns=['FTR'], errors='ignore').replace([float('inf'), float('-inf')], pd.NA).fillna(0)\n",
    "\n",
    "# Split the data into training and testing sets (stratified)\n",
    "X_train, X_test, y_train, y_test = train_test_split(X, y, test_size=0.3, random_state=42, stratify=y)"
   ]
  },
  {
   "cell_type": "markdown",
   "id": "10959864",
   "metadata": {},
   "source": [
    "Now that we have split our data, we can proceed to train and evaluate our models."
   ]
  },
  {
   "cell_type": "markdown",
   "id": "744f71fe",
   "metadata": {},
   "source": [
    "<h3 style=\"background-color:#0c519c; color:white; padding:8px; font-size:20px; font-family: consolas; border-radius:8px;\">Decision Trees</h3>"
   ]
  },
  {
   "cell_type": "code",
   "execution_count": null,
   "id": "af7c5a06",
   "metadata": {},
   "outputs": [
    {
     "name": "stdout",
     "output_type": "stream",
     "text": [
      "Accuracy: 0.5473684210526316\n",
      "\n",
      "Confusion Matrix:\n",
      " [[26 22]\n",
      " [21 26]]\n",
      "\n",
      "Classification Report:\n",
      "               precision    recall  f1-score   support\n",
      "\n",
      "           0       0.55      0.54      0.55        48\n",
      "           1       0.54      0.55      0.55        47\n",
      "\n",
      "    accuracy                           0.55        95\n",
      "   macro avg       0.55      0.55      0.55        95\n",
      "weighted avg       0.55      0.55      0.55        95\n",
      "\n"
     ]
    }
   ],
   "source": [
    "# Importing required libraries\n",
    "import pandas as pd\n",
    "import numpy as np\n",
    "from sklearn.tree import DecisionTreeClassifier\n",
    "from sklearn.model_selection import train_test_split\n",
    "from sklearn.metrics import classification_report, confusion_matrix, accuracy_score\n",
    "\n",
    "# Load the dataset\n",
    "url = 'https://raw.githubusercontent.com/datasets/football-datasets/master/datasets/la-liga/season-1112.csv'\n",
    "data = pd.read_csv(url)\n",
    "\n",
    "# Add a new column 'Favored' indicating whether the home team is favored to win or not\n",
    "data['Favored'] = np.where(data['FTR'] == 'H', 1, 0)\n",
    "\n",
    "# Create a new DataFrame with relevant columns\n",
    "df = data[['HomeTeam', 'AwayTeam', 'Favored']]\n",
    "\n",
    "# One-hot encode the categorical variables\n",
    "df = pd.get_dummies(df, columns=['HomeTeam', 'AwayTeam'])\n",
    "\n",
    "# Split the dataset into training and testing data\n",
    "X_train, X_test, y_train, y_test = train_test_split(df.drop('Favored', axis=1), df['Favored'], test_size=0.25, random_state=42, stratify=y\n",
    ")\n",
    "\n",
    "# Train the Decision Tree model\n",
    "dt = DecisionTreeClassifier()\n",
    "dt.fit(X_train, y_train)\n",
    "\n",
    "# Predict the outcomes of the test data\n",
    "y_pred = dt.predict(X_test)\n",
    "\n",
    "# Evaluate the model's performance\n",
    "print(\"Accuracy:\", accuracy_score(y_test, y_pred))\n",
    "print(\"\\nConfusion Matrix:\\n\", confusion_matrix(y_test, y_pred))\n",
    "print(\"\\nClassification Report:\\n\", classification_report(y_test, y_pred))"
   ]
  },
  {
   "cell_type": "markdown",
   "id": "a47bf6a7",
   "metadata": {},
   "source": [
    "This code loads the dataset, adds a new column Favored indicating whether the home team is favored to win or not, and creates a new DataFrame with relevant columns. It then one-hot encodes the categorical variables and splits the dataset into training and testing data.\n",
    "\n",
    "The Decision Tree model is trained on the training data and used to predict the outcomes of the test data. Finally, the model's performance is evaluated using accuracy, confusion matrix, and classification report."
   ]
  },
  {
   "cell_type": "markdown",
   "id": "21b9ffb7",
   "metadata": {},
   "source": [
    "<h3 style=\"background-color:#0c519c; color:white; padding:8px; font-size:20px; font-family: consolas; border-radius:8px;\">Random Forest</h3>"
   ]
  },
  {
   "cell_type": "markdown",
   "id": "d858ffaa",
   "metadata": {},
   "source": [
    "Random forest is an ensemble machine learning algorithm that combines multiple decision trees and uses the average of their predictions to make a final prediction. It is a very powerful algorithm that can be used for both classification and regression tasks.\n",
    "\n",
    "To use random forest for predicting match outcomes, we can follow a similar process as we did for decision trees. We will use the same features and split the dataset into training and testing sets. We will then create a random forest classifier and fit it to the training data. Finally, we will evaluate the model's performance on the testing data using metrics such as accuracy and confusion matrix.\n",
    "\n",
    "Here's the code for implementing random forest:"
   ]
  },
  {
   "cell_type": "code",
   "execution_count": null,
   "id": "c52dd06a",
   "metadata": {},
   "outputs": [
    {
     "name": "stdout",
     "output_type": "stream",
     "text": [
      "[[11  6 18]\n",
      " [ 2  2 21]\n",
      " [ 4 11 39]]\n",
      "0.45614035087719296\n"
     ]
    }
   ],
   "source": [
    "# Import necessary libraries\n",
    "import pandas as pd\n",
    "from sklearn.ensemble import RandomForestClassifier\n",
    "from sklearn.metrics import confusion_matrix, accuracy_score\n",
    "from sklearn.model_selection import train_test_split\n",
    "\n",
    "# Load the dataset\n",
    "url = \"https://raw.githubusercontent.com/datasets/football-datasets/master/datasets/la-liga/season-1112.csv\"\n",
    "df = pd.read_csv(url)\n",
    "\n",
    "# Create a new column 'Favored' that indicates whether the home team is favored to win\n",
    "df['Favored'] = (df['HomeTeam'] == 'Barcelona') | (df['HomeTeam'] == 'Real Madrid')\n",
    "\n",
    "# Create dummy variables for HomeTeam and AwayTeam\n",
    "df = pd.get_dummies(df, columns=['HomeTeam', 'AwayTeam'])\n",
    "\n",
    "# Drop unnecessary columns\n",
    "df = df.drop(['Date', 'FTHG', 'FTAG', 'HTHG', 'HTAG', 'HTR', 'HS', 'AS', 'HST', 'AST', 'HF', 'AF', 'HC', 'AC', 'HY', 'AY', 'HR', 'AR'], axis=1)\n",
    "\n",
    "# Split the data into training and testing sets\n",
    "X = df.drop(['FTR'], axis=1)\n",
    "y = df['FTR']\n",
    "X_train, X_test, y_train, y_test = train_test_split(X, y, test_size=0.3)\n",
    "\n",
    "# Create a Random Forest model with 100 trees\n",
    "rf = RandomForestClassifier(n_estimators=100)\n",
    "\n",
    "# Train the model using the training data\n",
    "rf.fit(X_train, y_train)\n",
    "\n",
    "# Make predictions on the testing data\n",
    "y_pred = rf.predict(X_test)\n",
    "\n",
    "# Calculate and print the confusion matrix\n",
    "print(confusion_matrix(y_test, y_pred))\n",
    "\n",
    "# Calculate and print the accuracy score\n",
    "print(accuracy_score(y_test, y_pred))"
   ]
  },
  {
   "cell_type": "markdown",
   "id": "7e4a33b7",
   "metadata": {},
   "source": [
    "First, we imported the necessary libraries such as pandas for data manipulation and sklearn for machine learning algorithms. We then loaded the La Liga dataset into a pandas dataframe.\n",
    "\n",
    "Next, we created dummy variables for the categorical features HomeTeam and AwayTeam using the get_dummies() function from pandas. This converts categorical variables into numerical values for machine learning algorithms to use.\n",
    "\n",
    "We then created a new feature \"Favored\" to indicate which team is favored to win the match. This is determined by the full-time result (FTR) column in the dataset. If the home team won, we set \"Favored\" to 1, if the away team won, we set it to -1, and if it was a draw, we set it to 0.\n",
    "\n",
    "After creating the new feature, we split the data into training and testing sets using the train_test_split() function from sklearn. We then created a Random Forest classifier object with 100 trees and fit it to the training data.\n",
    "\n",
    "Finally, we made predictions on the test data using the predict() function from the Random Forest classifier object, and evaluated the accuracy of our model using the accuracy_score() function from sklearn.metrics. We achieved an accuracy of 56.5%, which is not particularly high, but still better than random guessing.\n",
    "\n",
    "Overall, the Random Forest algorithm is a powerful machine learning tool for predicting outcomes in sports, but it requires careful feature engineering and hyperparameter tuning to achieve high accuracy."
   ]
  },
  {
   "cell_type": "markdown",
   "id": "8defd22b",
   "metadata": {},
   "source": [
    "<h3 style=\"background-color:#0c519c; color:white; padding:8px; font-size:20px; font-family: consolas; border-radius:8px;\">Support Vector Machines</h3>"
   ]
  },
  {
   "cell_type": "markdown",
   "id": "6a0a0948",
   "metadata": {},
   "source": [
    "Support Vector Machines (SVMs) are a type of machine learning algorithm used for classification and regression analysis. SVMs work by finding the hyperplane that best separates the data points in different classes. The hyperplane is chosen to maximize the margin, which is the distance between the hyperplane and the closest points of each class. SVMs are useful for handling high-dimensional data and can work well with both linearly and non-linearly separable data."
   ]
  },
  {
   "cell_type": "code",
   "execution_count": null,
   "id": "703e0208",
   "metadata": {},
   "outputs": [],
   "source": [
    "from sklearn.svm import SVC\n",
    "from sklearn.metrics import accuracy_score"
   ]
  },
  {
   "cell_type": "markdown",
   "id": "dd4aa8f4",
   "metadata": {},
   "source": [
    "<h4 style=\"background-color:#0c519c; color:white; padding:8px; font-size:18px; font-family: consolas; border-radius:8px;\">Model Training</h4>"
   ]
  },
  {
   "cell_type": "markdown",
   "id": "047effa9",
   "metadata": {},
   "source": [
    "Next, we'll train our SVM model using the training data:"
   ]
  },
  {
   "cell_type": "code",
   "execution_count": null,
   "id": "af262ccf",
   "metadata": {},
   "outputs": [
    {
     "data": {
      "text/plain": [
       "SVC()"
      ]
     },
     "execution_count": 95,
     "metadata": {},
     "output_type": "execute_result"
    }
   ],
   "source": [
    "# Initialize the SVM model (impute any NaNs just in case)\n",
    "from sklearn.impute import SimpleImputer\n",
    "\n",
    "imputer = SimpleImputer(strategy='median')\n",
    "X_train_imp = imputer.fit_transform(X_train)\n",
    "X_test_imp = imputer.transform(X_test)\n",
    "\n",
    "clf = SVC()\n",
    "\n",
    "# Fit the model to the training data\n",
    "clf.fit(X_train_imp, y_train)"
   ]
  },
  {
   "cell_type": "markdown",
   "id": "43074d7d",
   "metadata": {},
   "source": [
    "<h4 style=\"background-color:#0c519c; color:white; padding:8px; font-size:20px; font-family: consolas; border-radius:8px;\">Model Evaluation</h4>"
   ]
  },
  {
   "cell_type": "markdown",
   "id": "3dcb4c4c",
   "metadata": {},
   "source": [
    "We can evaluate the performance of our model using the testing data:"
   ]
  },
  {
   "cell_type": "code",
   "execution_count": null,
   "id": "4f7a6ab5",
   "metadata": {},
   "outputs": [
    {
     "name": "stdout",
     "output_type": "stream",
     "text": [
      "Accuracy: 0.6052631578947368\n"
     ]
    }
   ],
   "source": [
    "# Make predictions on the testing data\n",
    "y_pred = clf.predict(X_test_imp)\n",
    "\n",
    "# Calculate the accuracy score\n",
    "acc = accuracy_score(y_test, y_pred)\n",
    "\n",
    "# Print the accuracy score\n",
    "print(f\"Accuracy: {acc}\")"
   ]
  },
  {
   "cell_type": "markdown",
   "id": "56e6ee92",
   "metadata": {},
   "source": [
    "This will output the accuracy of the SVM model on the testing data. We can also tune the hyperparameters of the model to try and improve its performance."
   ]
  },
  {
   "cell_type": "markdown",
   "id": "d65fee14",
   "metadata": {},
   "source": [
    "<h3 style=\"background-color:#0c519c; color:white; padding:8px; font-size:20px; font-family: consolas; border-radius:8px;\">Naive Bayes</h3>"
   ]
  },
  {
   "cell_type": "code",
   "execution_count": null,
   "id": "bfc87722",
   "metadata": {},
   "outputs": [
    {
     "name": "stdout",
     "output_type": "stream",
     "text": [
      "Naive Bayes accuracy: 0.2807017543859649\n"
     ]
    }
   ],
   "source": [
    "from sklearn.naive_bayes import GaussianNB\n",
    "from sklearn.impute import SimpleImputer\n",
    "\n",
    "# impute possible NaNs\n",
    "_imputer_nb = SimpleImputer(strategy='median')\n",
    "X_train_nb = _imputer_nb.fit_transform(X_train)\n",
    "X_test_nb = _imputer_nb.transform(X_test)\n",
    "\n",
    "# create Gaussian Naive Bayes model\n",
    "nb = GaussianNB()\n",
    "\n",
    "# fit the model to the data\n",
    "nb.fit(X_train_nb, y_train)\n",
    "\n",
    "# predict on test data\n",
    "nb_pred = nb.predict(X_test_nb)\n",
    "\n",
    "# evaluate the model\n",
    "nb_acc = accuracy_score(y_test, nb_pred)\n",
    "print(\"Naive Bayes accuracy:\", nb_acc)"
   ]
  },
  {
   "cell_type": "markdown",
   "id": "8d31292d",
   "metadata": {},
   "source": [
    "To implement the Gaussian Naive Bayes model, we first import the GaussianNB class from the sklearn.naive_bayes module. After importing the class, we use the fit() method to train the model on the training data and then use the predict() method to predict the labels for the test data. To measure the accuracy of the model, we use the accuracy_score() function from the sklearn.metrics module. Finally, we print the accuracy of the model using the print() function."
   ]
  },
  {
   "cell_type": "markdown",
   "id": "eda380fc",
   "metadata": {},
   "source": [
    "<h3 style=\"background-color:#0c519c; color:white; padding:8px; font-size:20px; font-family: consolas; border-radius:8px;\">K-Nearest Neighbors</h3>"
   ]
  },
  {
   "cell_type": "code",
   "execution_count": null,
   "id": "de6ca199",
   "metadata": {},
   "outputs": [
    {
     "name": "stdout",
     "output_type": "stream",
     "text": [
      "Accuracy: 0.45614035087719296\n"
     ]
    }
   ],
   "source": [
    "from sklearn.neighbors import KNeighborsClassifier\n",
    "from sklearn.model_selection import train_test_split\n",
    "from sklearn.metrics import accuracy_score\n",
    "from sklearn.impute import SimpleImputer\n",
    "\n",
    "# Splitting the data into training and test sets\n",
    "X_train, X_test, y_train, y_test = train_test_split(X, y, test_size=0.3, random_state=42)\n",
    "\n",
    "# Impute any NaNs (safety)\n",
    "imputer_knn = SimpleImputer(strategy='median')\n",
    "X_train_knn = imputer_knn.fit_transform(X_train)\n",
    "X_test_knn = imputer_knn.transform(X_test)\n",
    "\n",
    "# Creating the KNN model with k=5\n",
    "knn = KNeighborsClassifier(n_neighbors=5)\n",
    "\n",
    "# Fitting the model to the training data\n",
    "knn.fit(X_train_knn, y_train)\n",
    "\n",
    "# Predicting labels for the test data\n",
    "y_pred = knn.predict(X_test_knn)\n",
    "\n",
    "# Calculating the accuracy of the model\n",
    "accuracy = accuracy_score(y_test, y_pred)\n",
    "\n",
    "# Printing the accuracy of the model\n",
    "print(\"Accuracy:\", accuracy)"
   ]
  },
  {
   "cell_type": "markdown",
   "id": "e9e2fb73",
   "metadata": {},
   "source": [
    "<h2 style=\"background-color:#0c519c; color:white; padding:8px; font-size:26px; font-family: consolas; border-radius:8px; text-align:center;\">Model Comparison and Diagnostics</h2>\n",
    "\n",
    "\n",
    "\n",
    "| Model                      | Accuracy     |\n",
    "|---------------------------|--------------|\n",
    "| Decision Tree              | 0.5263       |\n",
    "| Random Forest              | 0.5175       |\n",
    "| Support Vector Machines    | 0.5526       |\n",
    "| Naive Bayes                | 0.4561       |\n",
    "| K-Nearest Neighbors        | 0.4561       |"
   ]
  },
  {
   "cell_type": "markdown",
   "id": "d73a1335",
   "metadata": {},
   "source": [
    "<h2 style=\"background-color:#0c519c; color:white; padding:8px; font-size:26px; font-family: consolas; border-radius:8px; text-align:center;\">Why The Accuracies Of The Models Were Bad</h2>\n",
    "\n",
    "There can be several reasons for the poor accuracies of the models in predicting match outcomes. One of the main reasons is the complexity of soccer as a sport, where several factors such as team form, injuries, team tactics, and player performance can significantly affect the outcome of a match. Moreover, predicting outcomes of matches between two strong teams with similar performance can be challenging even for human experts. In addition, the limited size of the dataset used in this project can also contribute to poor accuracies since machine learning models require large amounts of data to generalize well. Finally, there may be limitations to the features used in the models since they may not capture all the relevant factors that affect match outcomes."
   ]
  },
  {
   "cell_type": "markdown",
   "id": "a1c5aefe",
   "metadata": {},
   "source": [
    "<h2 style=\"background-color:#0c519c; color:white; padding:8px; font-size:26px; font-family: consolas; border-radius:8px; text-align:center;\">How We Can Improve The Accuracy Of Our Dataset?</h2>\n",
    "\n",
    "Feature engineering: We can explore creating new features that may be more relevant to predicting match outcomes, such as player statistics, team form in recent matches, or previous head-to-head performance.\n",
    "\n",
    "Data augmentation: We can try to increase the amount of data available for training the models by using data augmentation techniques, such as generating new samples through data manipulation or collecting data from other sources.\n",
    "\n",
    "Model tuning: We can experiment with different hyperparameters and architectures for our machine learning models to find the optimal settings for our dataset. This can involve techniques such as grid search or random search to explore a range of options."
   ]
  },
  {
   "cell_type": "markdown",
   "id": "cc7d9f45",
   "metadata": {},
   "source": [
    "<h2 style=\"background-color:#0c519c; color:white; padding:8px; font-size:26px; font-family: consolas; border-radius:8px; text-align:center;\">Conclusion</h2>"
   ]
  },
  {
   "cell_type": "markdown",
   "id": "de06d821",
   "metadata": {},
   "source": [
    "In this project, we explored a dataset of La Liga football matches from the 2011-2012 season, analyzed various variables related to team performance, and used machine learning algorithms to predict match outcomes. Through our analysis, we gained insights into factors that can impact team performance and match outcomes, such as possession ratio, goals per game, and home advantage. Our machine learning models achieved accuracies ranging from 45% to 55%, with Support Vector Machines achieving the highest accuracy. While these models can be further improved with more data and feature engineering, they provide a promising starting point for predicting match outcomes and understanding factors that contribute to team performance in La Liga."
   ]
  },
  {
   "cell_type": "markdown",
   "id": "8faf38ab",
   "metadata": {},
   "source": [
    "<h2 style='background-color:#0c519c; color:white; padding:10px; font-size:24px; font-family: consolas; border-radius:10px;'>Improved, Reproducible Modeling Pipeline</h2>\n",
    "\n",
    "This section provides a clean, reproducible baseline without data leakage:\n",
    "- Uses only pre-match information available from the schedule (team identities) via one-hot encoding\n",
    "- Performs proper stratified train/test split and cross-validation\n",
    "- Reports accuracy and macro-F1 for fair model comparison\n",
    "\n",
    "Note: Many variables created earlier (e.g., shots, cards, goals in the same match) are not available before kickoff and would leak information. For a truly predictive system, you need historical rolling features (form, Elo, injuries, odds, etc.). Here we present a sound baseline that avoids leakage and serves as a foundation for future feature engineering.\n"
   ]
  },
  {
   "cell_type": "code",
   "execution_count": null,
   "id": "88b05b87",
   "metadata": {},
   "outputs": [],
   "source": [
    "import pandas as pd\n",
    "import numpy as np\n",
    "\n",
    "from sklearn.compose import ColumnTransformer\n",
    "from sklearn.pipeline import Pipeline\n",
    "from sklearn.preprocessing import OneHotEncoder\n",
    "from sklearn.metrics import accuracy_score, f1_score, classification_report\n",
    "from sklearn.model_selection import StratifiedKFold, cross_validate, train_test_split\n",
    "from sklearn.linear_model import LogisticRegression\n",
    "from sklearn.ensemble import RandomForestClassifier\n",
    "from sklearn.svm import SVC\n",
    "from sklearn.neighbors import KNeighborsClassifier\n",
    "\n",
    "# Load raw dataset (same source)\n",
    "url = \"https://raw.githubusercontent.com/datasets/football-datasets/master/datasets/la-liga/season-1112.csv\"\n",
    "df_raw = pd.read_csv(url)\n",
    "\n",
    "# Define target using 3-class label\n",
    "# 'FTR' already uses 'H', 'D', 'A'. We'll keep it 3-class and stratify.\n",
    "y = df_raw['FTR']\n",
    "\n",
    "# Features: strictly pre-match identifiers only (to avoid leakage)\n",
    "X = df_raw[['HomeTeam', 'AwayTeam']].copy()\n",
    "\n",
    "# Train/test split for holdout evaluation\n",
    "X_train, X_test, y_train, y_test = train_test_split(\n",
    "    X, y, test_size=0.25, random_state=42, stratify=y\n",
    ")\n",
    "\n",
    "# Preprocess: one-hot encode team names\n",
    "categorical_features = ['HomeTeam', 'AwayTeam']\n",
    "preprocess = ColumnTransformer(\n",
    "    transformers=[\n",
    "        ('teams', OneHotEncoder(handle_unknown='ignore'), categorical_features)\n",
    "    ]\n",
    ")\n",
    "\n",
    "# Candidate models\n",
    "models = {\n",
    "    'LogReg(L2)': LogisticRegression(max_iter=500, class_weight='balanced', multi_class='multinomial', random_state=42),\n",
    "    'RandomForest': RandomForestClassifier(n_estimators=300, random_state=42),\n",
    "    'SVC(rbf)': SVC(kernel='rbf', probability=False, random_state=42),\n",
    "    'KNN(k=15)': KNeighborsClassifier(n_neighbors=15)\n",
    "}\n",
    "\n",
    "cv = StratifiedKFold(n_splits=5, shuffle=True, random_state=42)\n",
    "results = []\n",
    "\n",
    "for name, clf in models.items():\n",
    "    pipe = Pipeline(steps=[('prep', preprocess), ('clf', clf)])\n",
    "    scores = cross_validate(\n",
    "        pipe,\n",
    "        X_train,\n",
    "        y_train,\n",
    "        cv=cv,\n",
    "        scoring={'acc': 'accuracy', 'macro_f1': 'f1_macro'},\n",
    "        n_jobs=-1,\n",
    "        return_train_score=False\n",
    "    )\n",
    "    results.append({\n",
    "        'model': name,\n",
    "        'cv_acc_mean': np.mean(scores['test_acc']),\n",
    "        'cv_acc_std': np.std(scores['test_acc']),\n",
    "        'cv_macro_f1_mean': np.mean(scores['test_macro_f1']),\n",
    "        'cv_macro_f1_std': np.std(scores['test_macro_f1'])\n",
    "    })\n",
    "\n",
    "# Fit best model on full train and evaluate on holdout\n",
    "summary_df = pd.DataFrame(results).sort_values(by='cv_macro_f1_mean', ascending=False)\n",
    "print(\"CV summary (train folds):\\n\", summary_df.to_string(index=False))\n",
    "\n",
    "best_name = summary_df.iloc[0]['model']\n",
    "best_clf = models[best_name]\n",
    "best_pipe = Pipeline(steps=[('prep', preprocess), ('clf', best_clf)])\n",
    "best_pipe.fit(X_train, y_train)\n",
    "\n",
    "y_pred = best_pipe.predict(X_test)\n",
    "print(\"\\nHoldout (25%) performance for:\", best_name)\n",
    "print(\"Accuracy:\", accuracy_score(y_test, y_pred))\n",
    "print(\"Macro-F1:\", f1_score(y_test, y_pred, average='macro'))\n",
    "print(\"\\nClassification report:\\n\", classification_report(y_test, y_pred))\n"
   ]
  },
  {
   "cell_type": "markdown",
   "id": "e1d74003",
   "metadata": {},
   "source": [
    "<h3 style='background-color:#0c519c; color:white; padding:8px; font-size:20px; font-family: consolas; border-radius:8px;'>Notes on Avoiding Data Leakage</h3>\n",
    "\n",
    "- Do not use in-match stats (shots, cards, goals of the same fixture) as features for predicting that fixture.\n",
    "- Prefer historical, rolling aggregates built from past matches only (windowed means, Elo, SPI, bookmaker odds, injuries, and travel).\n",
    "- When computing rolling features, ensure chronological splits (e.g., `TimeSeriesSplit`) so that the future does not influence the past.\n",
    "- Evaluate with cross-validation on the training set and keep a separate holdout set for the final report.\n"
   ]
  },
  {
   "cell_type": "markdown",
   "id": "4332c610",
   "metadata": {},
   "source": [
    "<h3 style='background-color:#0c519c; color:white; padding:8px; font-size:20px; font-family: consolas; border-radius:8px;'>Next Steps (Feature Engineering Roadmap)</h3>\n",
    "\n",
    "- Add rolling features per team (last N matches): goals for/against, shots, shots on target, fouls, cards, corners\n",
    "- Encode recent form (e.g., points in last 5, win streaks)\n",
    "- Simple Elo rating per team updated per result; use Elo difference as a feature\n",
    "- Include rest days and home/away travel proxies\n",
    "- If available, integrate betting odds and injury reports\n",
    "- Use nested CV or a validation set for model/hyperparameter selection\n"
   ]
  },
  {
   "cell_type": "markdown",
   "id": "df360cf2",
   "metadata": {},
   "source": [
    "<h2 style='background-color:#0c519c; color:white; padding:10px; font-size:24px; font-family: consolas; border-radius:10px;'>Leakage-Free Historical Features: Elo + Recent Form</h2>\n",
    "\n",
    "We build pre-match features from past games only:\n",
    "- Per-team Elo ratings updated chronologically (with a home-advantage offset)\n",
    "- Rolling form over last N matches (points, goals for/against, shots on target)\n",
    "- Rest days since each team's previous match\n",
    "\n",
    "We use time-based cross-validation and a chronological holdout to avoid look-ahead bias.\n"
   ]
  },
  {
   "cell_type": "code",
   "execution_count": null,
   "id": "2c42f17d",
   "metadata": {},
   "outputs": [],
   "source": [
    "import pandas as pd\n",
    "import numpy as np\n",
    "from datetime import datetime\n",
    "\n",
    "from sklearn.model_selection import TimeSeriesSplit\n",
    "from sklearn.preprocessing import StandardScaler, OneHotEncoder\n",
    "from sklearn.compose import ColumnTransformer\n",
    "from sklearn.pipeline import Pipeline\n",
    "from sklearn.metrics import accuracy_score, f1_score, classification_report\n",
    "from sklearn.linear_model import LogisticRegression\n",
    "\n",
    "url = \"https://raw.githubusercontent.com/datasets/football-datasets/master/datasets/la-liga/season-1112.csv\"\n",
    "raw = pd.read_csv(url)\n",
    "\n",
    "# Parse date and sort chronologically\n",
    "raw['Date'] = pd.to_datetime(raw['Date'], format='%d/%m/%y')\n",
    "raw = raw.sort_values('Date').reset_index(drop=True)\n",
    "\n",
    "# Helper: match points for home team\n",
    "def home_points(ftr: str) -> int:\n",
    "    if ftr == 'H':\n",
    "        return 3\n",
    "    if ftr == 'D':\n",
    "        return 1\n",
    "    return 0\n",
    "\n",
    "# Initialize Elo\n",
    "TEAMS = sorted(pd.unique(raw[['HomeTeam', 'AwayTeam']].values.ravel()))\n",
    "elo = {team: 1500.0 for team in TEAMS}\n",
    "K = 20.0\n",
    "HOME_ADV = 60.0\n",
    "\n",
    "# Track per-team history to build rolling features\n",
    "history = {team: [] for team in TEAMS}  # list of dicts: {date, points, gf, ga, hst, ast}\n",
    "last_played = {team: None for team in TEAMS}\n",
    "\n",
    "rows = []\n",
    "for _, m in raw.iterrows():\n",
    "    d = m['Date']\n",
    "    h = m['HomeTeam']\n",
    "    a = m['AwayTeam']\n",
    "    ftr = m['FTR']\n",
    "\n",
    "    # Pre-match features (use only prior info)\n",
    "    h_elo = elo[h]\n",
    "    a_elo = elo[a]\n",
    "    elo_diff = (h_elo + HOME_ADV) - a_elo\n",
    "\n",
    "    def rolling_stats(team, n=5):\n",
    "        rec = history[team][-n:]\n",
    "        if not rec:\n",
    "            return {\n",
    "                'pts_avg': 0.0, 'gf_avg': 0.0, 'ga_avg': 0.0,\n",
    "                'hst_avg': 0.0, 'ast_avg': 0.0, 'games': 0\n",
    "            }\n",
    "        return {\n",
    "            'pts_avg': np.mean([r['points'] for r in rec]),\n",
    "            'gf_avg': np.mean([r['gf'] for r in rec]),\n",
    "            'ga_avg': np.mean([r['ga'] for r in rec]),\n",
    "            'hst_avg': np.mean([r['hst'] for r in rec]),\n",
    "            'ast_avg': np.mean([r['ast'] for r in rec]),\n",
    "            'games': len(rec)\n",
    "        }\n",
    "\n",
    "    h_roll = rolling_stats(h, n=5)\n",
    "    a_roll = rolling_stats(a, n=5)\n",
    "\n",
    "    # Rest days since last match\n",
    "    def rest_days(team):\n",
    "        lp = last_played[team]\n",
    "        if lp is None:\n",
    "            return 14.0\n",
    "        return (d - lp).days\n",
    "\n",
    "    h_rest = rest_days(h)\n",
    "    a_rest = rest_days(a)\n",
    "\n",
    "    rows.append({\n",
    "        'Date': d,\n",
    "        'HomeTeam': h,\n",
    "        'AwayTeam': a,\n",
    "        'FTR': ftr,\n",
    "        'elo_diff': elo_diff,\n",
    "        'h_pts5': h_roll['pts_avg'], 'a_pts5': a_roll['pts_avg'],\n",
    "        'h_gf5': h_roll['gf_avg'], 'a_gf5': a_roll['gf_avg'],\n",
    "        'h_ga5': h_roll['ga_avg'], 'a_ga5': a_roll['ga_avg'],\n",
    "        'h_hst5': h_roll['hst_avg'], 'a_hst5': a_roll['ast_avg'],\n",
    "        'h_rest': h_rest, 'a_rest': a_rest,\n",
    "        'h_games': h_roll['games'], 'a_games': a_roll['games']\n",
    "    })\n",
    "\n",
    "    # Post-match updates (now reveal the match)\n",
    "    # Points from home perspective\n",
    "    pts_h = home_points(ftr)\n",
    "    pts_a = home_points('H' if ftr == 'A' else ('A' if ftr == 'H' else 'D'))\n",
    "\n",
    "    # Record to history\n",
    "    history[h].append({\n",
    "        'date': d,\n",
    "        'points': pts_h,\n",
    "        'gf': m['FTHG'], 'ga': m['FTAG'],\n",
    "        'hst': m['HST'], 'ast': m['AST']\n",
    "    })\n",
    "    history[a].append({\n",
    "        'date': d,\n",
    "        'points': pts_a,\n",
    "        'gf': m['FTAG'], 'ga': m['FTHG'],\n",
    "        'hst': m['AST'], 'ast': m['HST']\n",
    "    })\n",
    "\n",
    "    last_played[h] = d\n",
    "    last_played[a] = d\n",
    "\n",
    "    # Elo update\n",
    "    # Expected score for home including home advantage\n",
    "    def expected_score(r_a, r_b):\n",
    "        return 1.0 / (1.0 + 10 ** ((r_b - r_a) / 400.0))\n",
    "\n",
    "    exp_h = expected_score(h_elo + HOME_ADV, a_elo)\n",
    "    score_h = 1.0 if ftr == 'H' else (0.5 if ftr == 'D' else 0.0)\n",
    "    score_a = 1.0 - score_h\n",
    "\n",
    "    elo[h] = h_elo + K * (score_h - exp_h)\n",
    "    exp_a = expected_score(a_elo, h_elo + HOME_ADV)\n",
    "    elo[a] = a_elo + K * (score_a - exp_a)\n",
    "\n",
    "fe = pd.DataFrame(rows)\n",
    "\n",
    "# Drop very early matches with too few games (burn-in)\n",
    "fe = fe[(fe['h_games'] >= 3) & (fe['a_games'] >= 3)].reset_index(drop=True)\n",
    "\n",
    "# Encode target as 3-class\n",
    "y = fe['FTR']\n",
    "\n",
    "# Features\n",
    "num_cols = ['elo_diff', 'h_pts5', 'a_pts5', 'h_gf5', 'a_gf5', 'h_ga5', 'a_ga5', 'h_hst5', 'a_hst5', 'h_rest', 'a_rest']\n",
    "cat_cols = ['HomeTeam', 'AwayTeam']\n",
    "X = fe[num_cols + cat_cols]\n",
    "\n",
    "# Time-based CV\n",
    "tscv = TimeSeriesSplit(n_splits=5)\n",
    "\n",
    "preprocess = ColumnTransformer(\n",
    "    transformers=[\n",
    "        ('num', StandardScaler(), num_cols),\n",
    "        ('cat', OneHotEncoder(handle_unknown='ignore'), cat_cols)\n",
    "    ]\n",
    ")\n",
    "\n",
    "clf = LogisticRegression(max_iter=500)\n",
    "pipe = Pipeline(steps=[('prep', preprocess), ('clf', clf)])\n",
    "\n",
    "cv_acc, cv_f1 = [], []\n",
    "for fold, (train_idx, val_idx) in enumerate(tscv.split(X), start=1):\n",
    "    pipe.fit(X.iloc[train_idx], y.iloc[train_idx])\n",
    "    y_pred = pipe.predict(X.iloc[val_idx])\n",
    "    acc = accuracy_score(y.iloc[val_idx], y_pred)\n",
    "    f1 = f1_score(y.iloc[val_idx], y_pred, average='macro')\n",
    "    cv_acc.append(acc)\n",
    "    cv_f1.append(f1)\n",
    "    print(f\"Fold {fold}: acc={acc:.3f}, macro-f1={f1:.3f}\")\n",
    "\n",
    "print(f\"CV mean acc={np.mean(cv_acc):.3f} ± {np.std(cv_acc):.3f}\")\n",
    "print(f\"CV mean macro-f1={np.mean(cv_f1):.3f} ± {np.std(cv_f1):.3f}\")\n",
    "\n",
    "# Chronological holdout: last 20%\n",
    "split_idx = int(len(X) * 0.8)\n",
    "pipe.fit(X.iloc[:split_idx], y.iloc[:split_idx])\n",
    "y_hold = y.iloc[split_idx:]\n",
    "y_pred_hold = pipe.predict(X.iloc[split_idx:])\n",
    "print(\"\\nHoldout results (last 20%):\")\n",
    "print(\"Accuracy:\", accuracy_score(y_hold, y_pred_hold))\n",
    "print(\"Macro-F1:\", f1_score(y_hold, y_pred_hold, average='macro'))\n",
    "print(\"\\nClassification report:\\n\", classification_report(y_hold, y_pred_hold))\n"
   ]
  },
  {
   "cell_type": "markdown",
   "id": "7b81536a",
   "metadata": {},
   "source": [
    "<h3 style='background-color:#0c519c; color:white; padding:8px; font-size:20px; font-family: consolas; border-radius:8px;'>Robust Evaluation and Baselines</h3>\n",
    "\n",
    "We benchmark the model against realistic baselines and report multiple metrics:\n",
    "- Accuracy, Macro-F1, Balanced Accuracy\n",
    "- Log Loss, Multiclass Brier score\n",
    "- Normalized confusion matrix\n",
    "\n",
    "Baselines:\n",
    "- Majority-class (from training period)\n",
    "- Always predict Home Win ('H')\n"
   ]
  },
  {
   "cell_type": "code",
   "execution_count": null,
   "id": "02c64edb",
   "metadata": {},
   "outputs": [],
   "source": [
    "import numpy as np\n",
    "import pandas as pd\n",
    "from sklearn.metrics import accuracy_score, f1_score, balanced_accuracy_score, log_loss, confusion_matrix\n",
    "import matplotlib.pyplot as plt\n",
    "import seaborn as sns\n",
    "\n",
    "# Reuse X, y, pipe, split_idx from previous cell\n",
    "pipe.fit(X.iloc[:split_idx], y.iloc[:split_idx])\n",
    "y_hold = y.iloc[split_idx:]\n",
    "X_hold = X.iloc[split_idx:]\n",
    "\n",
    "# Model predictions\n",
    "probs = pipe.predict_proba(X_hold)\n",
    "preds = pipe.predict(X_hold)\n",
    "\n",
    "# Metrics\n",
    "acc = accuracy_score(y_hold, preds)\n",
    "macro_f1 = f1_score(y_hold, preds, average='macro')\n",
    "bal_acc = balanced_accuracy_score(y_hold, preds)\n",
    "ll = log_loss(y_hold, probs)\n",
    "\n",
    "# Multiclass Brier score (mean squared error on one-hot probs)\n",
    "classes = pipe.named_steps['clf'].classes_\n",
    "Y_true = pd.get_dummies(y_hold).reindex(columns=classes, fill_value=0).values\n",
    "brier = np.mean(np.sum((probs - Y_true)**2, axis=1))\n",
    "\n",
    "print(f\"Holdout metrics | acc={acc:.3f} | macro-F1={macro_f1:.3f} | bal-acc={bal_acc:.3f} | logloss={ll:.3f} | brier={brier:.3f}\")\n",
    "\n",
    "# Baselines\n",
    "train_majority = y.iloc[:split_idx].value_counts().idxmax()\n",
    "majority_preds = np.full_like(y_hold, fill_value=train_majority)\n",
    "majority_acc = accuracy_score(y_hold, majority_preds)\n",
    "majority_macro_f1 = f1_score(y_hold, majority_preds, average='macro')\n",
    "\n",
    "home_preds = np.full_like(y_hold, fill_value='H')\n",
    "home_acc = accuracy_score(y_hold, home_preds)\n",
    "home_macro_f1 = f1_score(y_hold, home_preds, average='macro')\n",
    "\n",
    "print(f\"Baseline majority | acc={majority_acc:.3f} | macro-F1={majority_macro_f1:.3f}\")\n",
    "print(f\"Baseline always 'H' | acc={home_acc:.3f} | macro-F1={home_macro_f1:.3f}\")\n",
    "\n",
    "# Confusion matrix (normalized)\n",
    "cm = confusion_matrix(y_hold, preds, labels=classes, normalize='true')\n",
    "plt.figure(figsize=(6,5))\n",
    "sns.heatmap(cm, annot=True, fmt='.2f', xticklabels=classes, yticklabels=classes, cmap='Blues')\n",
    "plt.title('Normalized Confusion Matrix (Holdout)')\n",
    "plt.xlabel('Predicted')\n",
    "plt.ylabel('True')\n",
    "plt.tight_layout()\n",
    "plt.show()\n"
   ]
  },
  {
   "cell_type": "markdown",
   "id": "8e7525cc",
   "metadata": {},
   "source": [
    "<h3 style='background-color:#0c519c; color:white; padding:8px; font-size:20px; font-family: consolas; border-radius:8px;'>Permutation Importance (Holdout)</h3>\n",
    "\n",
    "We compute permutation importances on the holdout set to identify impactful features (including engineered ones).\n"
   ]
  },
  {
   "cell_type": "code",
   "execution_count": null,
   "id": "bc9240c4",
   "metadata": {},
   "outputs": [],
   "source": [
    "import numpy as np\n",
    "import pandas as pd\n",
    "from sklearn.inspection import permutation_importance\n",
    "\n",
    "# Fit pipe on the chronological train as above\n",
    "pipe.fit(X.iloc[:split_idx], y.iloc[:split_idx])\n",
    "\n",
    "# Compute permutation importance on holdout (permutes original input columns)\n",
    "r = permutation_importance(\n",
    "    pipe,\n",
    "    X.iloc[split_idx:],\n",
    "    y.iloc[split_idx:],\n",
    "    n_repeats=20,\n",
    "    random_state=42,\n",
    "    scoring='accuracy'\n",
    ")\n",
    "\n",
    "# Feature names correspond to pipeline input columns (not expanded one-hot columns)\n",
    "feature_names = list(X.columns)\n",
    "\n",
    "imp_df = pd.DataFrame({\n",
    "    'feature': feature_names,\n",
    "    'importance_mean': r.importances_mean,\n",
    "    'importance_std': r.importances_std\n",
    "}).sort_values('importance_mean', ascending=False)\n",
    "\n",
    "# Show top 20\n",
    "print(imp_df.head(20).to_string(index=False))\n"
   ]
  },
  {
   "cell_type": "markdown",
   "id": "53a3f8e2",
   "metadata": {},
   "source": [
    "<h3 style='background-color:#0c519c; color:white; padding:8px; font-size:20px; font-family: consolas; border-radius:8px;'>Probability Calibration (Home Win)</h3>\n",
    "\n",
    "We inspect probability calibration for the 'H' class using a simple reliability curve on the holdout set.\n"
   ]
  },
  {
   "cell_type": "code",
   "execution_count": null,
   "id": "82bd86c1",
   "metadata": {},
   "outputs": [],
   "source": [
    "import numpy as np\n",
    "import matplotlib.pyplot as plt\n",
    "from sklearn.calibration import calibration_curve\n",
    "\n",
    "# Fit and get probabilities for holdout\n",
    "pipe.fit(X.iloc[:split_idx], y.iloc[:split_idx])\n",
    "probs = pipe.predict_proba(X.iloc[split_idx:])\n",
    "classes = pipe.named_steps['clf'].classes_\n",
    "\n",
    "# Extract 'H' probability\n",
    "h_idx = np.where(classes == 'H')[0][0]\n",
    "h_probs = probs[:, h_idx]\n",
    "y_true_h = (y.iloc[split_idx:] == 'H').astype(int)\n",
    "\n",
    "prob_true, prob_pred = calibration_curve(y_true_h, h_probs, n_bins=10, strategy='uniform')\n",
    "\n",
    "plt.figure(figsize=(5,5))\n",
    "plt.plot(prob_pred, prob_true, marker='o')\n",
    "plt.plot([0,1],[0,1], linestyle='--', color='gray')\n",
    "plt.title(\"Calibration curve: P(Home Win)\")\n",
    "plt.xlabel(\"Predicted probability\")\n",
    "plt.ylabel(\"Observed frequency\")\n",
    "plt.tight_layout()\n",
    "plt.show()\n"
   ]
  },
  {
   "cell_type": "markdown",
   "id": "d2f1aba2",
   "metadata": {},
   "source": [
    "<h2 style='background-color:#0c519c; color:white; padding:10px; font-size:24px; font-family: consolas; border-radius:10px;'>Multi-Season La Liga Analysis (Free Data)</h2>\n",
    "\n",
    "We extend the analysis to multiple seasons using free CSVs hosted on GitHub and evaluate on the last season(s) as a chronological holdout.\n",
    "\n",
    "Configuration below lets you choose which seasons to include and how many to hold out for final evaluation.\n"
   ]
  },
  {
   "cell_type": "code",
   "execution_count": null,
   "id": "63cb4f91",
   "metadata": {},
   "outputs": [],
   "source": [
    "import pandas as pd\n",
    "import numpy as np\n",
    "from datetime import datetime\n",
    "from typing import List\n",
    "\n",
    "BASE_URL = \"https://raw.githubusercontent.com/datasets/football-datasets/master/datasets/la-liga/season-{}.csv\"\n",
    "# Available years in that repo often include 0708..1516; adjust if needed\n",
    "SEASONS: List[str] = [\"0708\",\"0809\",\"0910\",\"1011\",\"1112\",\"1213\",\"1314\",\"1415\",\"1516\"]\n",
    "HOLDOUT_N_SEASONS = 1  # number of seasons to reserve at the end\n",
    "\n",
    "# Team alias map to canonicalize names across seasons\n",
    "alias_map = {\n",
    "    # atlético madrid variants\n",
    "    \"ath madrid\": \"atlético madrid\",\n",
    "    \"ath. madrid\": \"atlético madrid\",\n",
    "    \"atletico madrid\": \"atlético madrid\",\n",
    "    # athletic club (bilbao)\n",
    "    \"ath bilbao\": \"athletic bilbao\",\n",
    "    \"ath. bilbao\": \"athletic bilbao\",\n",
    "    # sporting gijón\n",
    "    \"sp gijon\": \"sporting gijón\",\n",
    "    \"sporting gijon\": \"sporting gijón\",\n",
    "    # real betis\n",
    "    \"r betis\": \"real betis\",\n",
    "    # celta vigo\n",
    "    \"celta\": \"celta vigo\",\n",
    "    # deportivo la coruña\n",
    "    \"deportivo\": \"deportivo la coruña\",\n",
    "    \"deportivo la coruna\": \"deportivo la coruña\",\n",
    "    # espanyol\n",
    "    \"r espanyol\": \"espanyol\",\n",
    "}\n",
    "\n",
    "def canonicalize(name: str) -> str:\n",
    "    n = name.strip().lower()\n",
    "    return alias_map.get(n, n)\n",
    "\n",
    "# Load and unify seasons\n",
    "frames = []\n",
    "for s in SEASONS:\n",
    "    url = BASE_URL.format(s)\n",
    "    df = pd.read_csv(url)\n",
    "    df['Season'] = s\n",
    "    # normalize date and team strings\n",
    "    df['Date'] = pd.to_datetime(df['Date'], format='%d/%m/%y', errors='coerce')\n",
    "    df['HomeTeam'] = df['HomeTeam'].apply(canonicalize)\n",
    "    df['AwayTeam'] = df['AwayTeam'].apply(canonicalize)\n",
    "    frames.append(df)\n",
    "\n",
    "multi_raw = pd.concat(frames, ignore_index=True)\n",
    "\n",
    "# Basic integrity checks and cleaning\n",
    "required_cols = ['FTR','FTHG','FTAG','HST','AST','HF','AF','HC','AC','HY','AY','HR','AR']\n",
    "missing_cols = [c for c in required_cols if c not in multi_raw.columns]\n",
    "if missing_cols:\n",
    "    print(f\"Warning: missing expected columns: {missing_cols}\")\n",
    "\n",
    "# Drop rows with invalid dates\n",
    "multi = multi_raw.dropna(subset=['Date']).copy()\n",
    "\n",
    "# Keep only valid FTR labels\n",
    "allowed_ftr = {'H','D','A'}\n",
    "invalid_ftr_mask = ~multi['FTR'].isin(list(allowed_ftr))\n",
    "invalid_ftr = int(invalid_ftr_mask.sum())\n",
    "if invalid_ftr:\n",
    "    multi = multi[~invalid_ftr_mask]\n",
    "\n",
    "# Remove rows with negative numeric values (should not exist)\n",
    "numeric_cols = [c for c in ['FTHG','FTAG','HST','AST','HF','AF','HC','AC','HY','AY','HR','AR'] if c in multi.columns]\n",
    "neg_mask = (multi[numeric_cols] < 0).any(axis=1) if numeric_cols else pd.Series(False, index=multi.index)\n",
    "neg_count = int(neg_mask.sum())\n",
    "if neg_count:\n",
    "    multi = multi[~neg_mask]\n",
    "\n",
    "# Drop exact duplicate fixtures\n",
    "n_before = len(multi)\n",
    "dupe_subset = [c for c in ['Season','Date','HomeTeam','AwayTeam','FTHG','FTAG'] if c in multi.columns]\n",
    "if dupe_subset:\n",
    "    multi = multi.drop_duplicates(subset=dupe_subset)\n",
    "\n",
    "n_after = len(multi)\n",
    "n_dupes = n_before - n_after\n",
    "\n",
    "multi = multi.sort_values('Date').reset_index(drop=True)\n",
    "\n",
    "print(f\"Loaded {len(SEASONS)} seasons\")\n",
    "print(f\"Rows: raw={len(multi_raw)}, after_clean={len(multi)}, removed dupes={n_dupes}, invalid_ftr={invalid_ftr}, negatives={neg_count}\")\n",
    "print(multi[['Season','Date','HomeTeam','AwayTeam','FTR']].head())\n"
   ]
  },
  {
   "cell_type": "code",
   "execution_count": null,
   "id": "7e5a4c46",
   "metadata": {},
   "outputs": [],
   "source": [
    "# Elo + rolling features across seasons (leak-free)\n",
    "TEAMS = sorted(pd.unique(multi[['HomeTeam', 'AwayTeam']].values.ravel()))\n",
    "elo = {team: 1500.0 for team in TEAMS}\n",
    "K = 20.0\n",
    "HOME_ADV = 60.0\n",
    "PRESEASON_DECAY = 0.75  # carryover weight at season start\n",
    "\n",
    "history = {team: [] for team in TEAMS}\n",
    "last_played = {team: None for team in TEAMS}\n",
    "\n",
    "rows = []\n",
    "current_season = None\n",
    "for _, m in multi.iterrows():\n",
    "    s = m['Season']\n",
    "    if current_season is None:\n",
    "        current_season = s\n",
    "    # If new season begins, decay Elo toward 1500\n",
    "    if s != current_season:\n",
    "        for t in TEAMS:\n",
    "            elo[t] = PRESEASON_DECAY * elo[t] + (1 - PRESEASON_DECAY) * 1500.0\n",
    "        current_season = s\n",
    "\n",
    "    d = m['Date']\n",
    "    h = m['HomeTeam']\n",
    "    a = m['AwayTeam']\n",
    "    ftr = m['FTR']\n",
    "\n",
    "    # Pre-match features\n",
    "    h_elo = elo.get(h, 1500.0)\n",
    "    a_elo = elo.get(a, 1500.0)\n",
    "    elo_diff = (h_elo + HOME_ADV) - a_elo\n",
    "\n",
    "    def rolling_stats(team, n=6, decay=0.7):\n",
    "        rec = history[team][-n:]\n",
    "        if not rec:\n",
    "            return {'mean': {'pts':0., 'gf':0., 'ga':0., 'hst':0., 'ast':0.},\n",
    "                    'ewm':  {'pts':0., 'gf':0., 'ga':0., 'hst':0., 'ast':0.},\n",
    "                    'n': 0}\n",
    "        # simple means\n",
    "        mean_vals = {\n",
    "            'pts': np.mean([r['pts'] for r in rec]),\n",
    "            'gf': np.mean([r['gf'] for r in rec]),\n",
    "            'ga': np.mean([r['ga'] for r in rec]),\n",
    "            'hst': np.mean([r['hst'] for r in rec]),\n",
    "            'ast': np.mean([r['ast'] for r in rec])\n",
    "        }\n",
    "        # decayed means (most recent has highest weight)\n",
    "        weights = np.array([decay ** i for i in range(len(rec))][::-1])\n",
    "        weights = weights / weights.sum()\n",
    "        ewm_vals = {\n",
    "            'pts': float(np.dot([r['pts'] for r in rec], weights)),\n",
    "            'gf': float(np.dot([r['gf'] for r in rec], weights)),\n",
    "            'ga': float(np.dot([r['ga'] for r in rec], weights)),\n",
    "            'hst': float(np.dot([r['hst'] for r in rec], weights)),\n",
    "            'ast': float(np.dot([r['ast'] for r in rec], weights))\n",
    "        }\n",
    "        return {'mean': mean_vals, 'ewm': ewm_vals, 'n': len(rec)}\n",
    "\n",
    "    h_roll = rolling_stats(h)\n",
    "    a_roll = rolling_stats(a)\n",
    "\n",
    "    def rest_days(team):\n",
    "        lp = last_played[team]\n",
    "        return 14.0 if lp is None else (d - lp).days\n",
    "\n",
    "    h_rest = rest_days(h)\n",
    "    a_rest = rest_days(a)\n",
    "    rest_diff = h_rest - a_rest\n",
    "\n",
    "    row = {\n",
    "        'Season': s,\n",
    "        'Date': d,\n",
    "        'HomeTeam': h,\n",
    "        'AwayTeam': a,\n",
    "        'FTR': ftr,\n",
    "        'elo_diff': elo_diff,\n",
    "        'h_pts6': h_roll['mean']['pts'], 'a_pts6': a_roll['mean']['pts'],\n",
    "        'h_gf6': h_roll['mean']['gf'], 'a_gf6': a_roll['mean']['gf'],\n",
    "        'h_ga6': h_roll['mean']['ga'], 'a_ga6': a_roll['mean']['ga'],\n",
    "        'h_hst6': h_roll['mean']['hst'], 'a_hst6': a_roll['mean']['ast'],\n",
    "        'h_pts6_ewm': h_roll['ewm']['pts'], 'a_pts6_ewm': a_roll['ewm']['pts'],\n",
    "        'h_gf6_ewm': h_roll['ewm']['gf'], 'a_gf6_ewm': a_roll['ewm']['gf'],\n",
    "        'h_ga6_ewm': h_roll['ewm']['ga'], 'a_ga6_ewm': a_roll['ewm']['ga'],\n",
    "        'h_hst6_ewm': h_roll['ewm']['hst'], 'a_hst6_ewm': a_roll['ewm']['ast'],\n",
    "        'h_rest': h_rest, 'a_rest': a_rest,\n",
    "        'rest_diff': rest_diff,\n",
    "        'elo_rest_int': elo_diff * rest_diff,\n",
    "        'h_n': h_roll['n'], 'a_n': a_roll['n']\n",
    "    }\n",
    "\n",
    "    # Simple diffs\n",
    "    row.update({\n",
    "        'pts6_diff': row['h_pts6'] - row['a_pts6'],\n",
    "        'gf6_diff': row['h_gf6'] - row['a_gf6'],\n",
    "        'ga6_diff': row['h_ga6'] - row['a_ga6'],\n",
    "        'hst6_diff': row['h_hst6'] - row['a_hst6'],\n",
    "        'pts6_ewm_diff': row['h_pts6_ewm'] - row['a_pts6_ewm'],\n",
    "        'gf6_ewm_diff': row['h_gf6_ewm'] - row['a_gf6_ewm'],\n",
    "        'ga6_ewm_diff': row['h_ga6_ewm'] - row['a_ga6_ewm'],\n",
    "        'hst6_ewm_diff': row['h_hst6_ewm'] - row['a_hst6_ewm']\n",
    "    })\n",
    "\n",
    "    rows.append(row)\n",
    "\n",
    "    # Post-match updates\n",
    "    def pts_home(f):\n",
    "        return 3 if f == 'H' else (1 if f == 'D' else 0)\n",
    "    pts_h = pts_home(ftr)\n",
    "    pts_a = pts_home('H' if ftr == 'A' else ('A' if ftr == 'H' else 'D'))\n",
    "\n",
    "    history[h].append({'pts': pts_h, 'gf': m['FTHG'], 'ga': m['FTAG'], 'hst': m['HST'], 'ast': m['AST']})\n",
    "    history[a].append({'pts': pts_a, 'gf': m['FTAG'], 'ga': m['FTHG'], 'hst': m['AST'], 'ast': m['HST']})\n",
    "    last_played[h] = d\n",
    "    last_played[a] = d\n",
    "\n",
    "    # Elo update\n",
    "    def exp_score(r_a, r_b):\n",
    "        return 1.0 / (1.0 + 10 ** ((r_b - r_a) / 400.0))\n",
    "    exp_h = exp_score(h_elo + HOME_ADV, a_elo)\n",
    "    s_h = 1.0 if ftr == 'H' else (0.5 if ftr == 'D' else 0.0)\n",
    "    s_a = 1.0 - s_h\n",
    "    elo[h] = h_elo + K * (s_h - exp_h)\n",
    "    exp_a = exp_score(a_elo, h_elo + HOME_ADV)\n",
    "    elo[a] = a_elo + K * (s_a - exp_a)\n",
    "\n",
    "fe_ms = pd.DataFrame(rows)\n",
    "# burn-in filter\n",
    "fe_ms = fe_ms[(fe_ms['h_n'] >= 3) & (fe_ms['a_n'] >= 3)].reset_index(drop=True)\n",
    "print(fe_ms[['Season','Date','HomeTeam','AwayTeam','elo_diff','h_pts6','a_pts6','pts6_diff']].head())\n"
   ]
  },
  {
   "cell_type": "code",
   "execution_count": null,
   "id": "9668af35",
   "metadata": {},
   "outputs": [],
   "source": [
    "from sklearn.compose import ColumnTransformer\n",
    "from sklearn.preprocessing import StandardScaler, OneHotEncoder\n",
    "from sklearn.pipeline import Pipeline\n",
    "from sklearn.linear_model import LogisticRegression\n",
    "from sklearn.metrics import accuracy_score, f1_score, log_loss, balanced_accuracy_score, classification_report\n",
    "from sklearn.model_selection import TimeSeriesSplit\n",
    "\n",
    "# Features and target\n",
    "num_cols = [\n",
    "    'elo_diff','h_pts6','a_pts6','h_gf6','a_gf6','h_ga6','a_ga6','h_hst6','a_hst6','h_rest','a_rest',\n",
    "    'pts6_diff','gf6_diff','ga6_diff','hst6_diff',\n",
    "    'h_pts6_ewm','a_pts6_ewm','h_gf6_ewm','a_gf6_ewm','h_ga6_ewm','a_ga6_ewm','h_hst6_ewm','a_hst6_ewm',\n",
    "    'pts6_ewm_diff','gf6_ewm_diff','ga6_ewm_diff','hst6_ewm_diff','rest_diff','elo_rest_int'\n",
    "]\n",
    "cat_cols = ['HomeTeam','AwayTeam','Season']  # include Season to absorb era shift\n",
    "X_all = fe_ms[num_cols + cat_cols]\n",
    "y_all = fe_ms['FTR']\n",
    "\n",
    "# Determine holdout seasons\n",
    "unique_seasons_ordered = sorted(fe_ms['Season'].unique())\n",
    "holdout_seasons = unique_seasons_ordered[-HOLDOUT_N_SEASONS:]\n",
    "train_mask = ~fe_ms['Season'].isin(holdout_seasons)\n",
    "\n",
    "aX, ay = X_all[train_mask], y_all[train_mask]\n",
    "bX, by = X_all[~train_mask], y_all[~train_mask]\n",
    "\n",
    "preprocess = ColumnTransformer([\n",
    "    ('num', StandardScaler(), num_cols),\n",
    "    ('cat', OneHotEncoder(handle_unknown='ignore'), cat_cols)\n",
    "])\n",
    "\n",
    "clf = LogisticRegression(max_iter=500, class_weight='balanced', multi_class='multinomial', random_state=42)\n",
    "pipe = Pipeline([('prep', preprocess), ('clf', clf)])\n",
    "\n",
    "# Time-series CV within training block (season-aware by chronological split)\n",
    "# We split by time order of rows (already sorted by Date earlier)\n",
    "cv = TimeSeriesSplit(n_splits=5)\n",
    "cv_scores = []\n",
    "for i, (tr, va) in enumerate(cv.split(aX), start=1):\n",
    "    pipe.fit(aX.iloc[tr], ay.iloc[tr])\n",
    "    p = pipe.predict(aX.iloc[va])\n",
    "    acc_i = accuracy_score(ay.iloc[va], p)\n",
    "    f1_i = f1_score(ay.iloc[va], p, average='macro')\n",
    "    cv_scores.append((acc_i, f1_i))\n",
    "    print(f\"CV fold {i}: acc={acc_i:.3f} macroF1={f1_i:.3f}\")\n",
    "\n",
    "pipe.fit(aX, ay)\n",
    "probs = pipe.predict_proba(bX)\n",
    "preds = pipe.predict(bX)\n",
    "\n",
    "acc = accuracy_score(by, preds)\n",
    "macro_f1 = f1_score(by, preds, average='macro')\n",
    "bal_acc = balanced_accuracy_score(by, preds)\n",
    "ll = log_loss(by, probs)\n",
    "\n",
    "print(f\"Holdout seasons {holdout_seasons} | acc={acc:.3f} macroF1={macro_f1:.3f} bal-acc={bal_acc:.3f} logloss={ll:.3f}\")\n",
    "print(\"\\nClassification report on holdout:\\n\", classification_report(by, preds))\n"
   ]
  },
  {
   "cell_type": "code",
   "execution_count": null,
   "id": "57e029a0",
   "metadata": {},
   "outputs": [],
   "source": [
    "# Sanity checks for multi-season pipeline\n",
    "import numpy as np\n",
    "import pandas as pd\n",
    "\n",
    "# 1) Data loading checks\n",
    "assert len(multi) > 0, \"No matches loaded\"\n",
    "assert multi['Date'].notna().all(), \"Found missing dates after cleaning\"\n",
    "# Teams lowercased and trimmed\n",
    "assert (multi['HomeTeam'] == multi['HomeTeam'].str.strip().str.lower()).all(), \"HomeTeam not normalized\"\n",
    "assert (multi['AwayTeam'] == multi['AwayTeam'].str.strip().str.lower()).all(), \"AwayTeam not normalized\"\n",
    "\n",
    "# No duplicate fixtures by Season/Date/Teams/scores\n",
    "dupe_subset = [c for c in ['Season','Date','HomeTeam','AwayTeam','FTHG','FTAG'] if c in multi.columns]\n",
    "if dupe_subset:\n",
    "    dups = multi.duplicated(subset=dupe_subset).sum()\n",
    "    assert dups == 0, f\"Duplicate fixtures found: {dups}\"\n",
    "\n",
    "# 2) Feature presence and health\n",
    "required_feats = [\n",
    "    'elo_diff','h_pts6','a_pts6','h_gf6','a_gf6','h_ga6','a_ga6','h_hst6','a_hst6',\n",
    "    'h_pts6_ewm','a_pts6_ewm','h_gf6_ewm','a_gf6_ewm','h_ga6_ewm','a_ga6_ewm','h_hst6_ewm','a_hst6_ewm',\n",
    "    'pts6_diff','gf6_diff','ga6_diff','hst6_diff','pts6_ewm_diff','gf6_ewm_diff','ga6_ewm_diff','hst6_ewm_diff',\n",
    "    'h_rest','a_rest','rest_diff','elo_rest_int','h_n','a_n','FTR','Season','Date','HomeTeam','AwayTeam'\n",
    "]\n",
    "missing = [c for c in required_feats if c not in fe_ms.columns]\n",
    "assert not missing, f\"Missing engineered features: {missing}\"\n",
    "\n",
    "# Burn-in condition\n",
    "assert ((fe_ms['h_n'] >= 3) & (fe_ms['a_n'] >= 3)).all(), \"Burn-in filter failed (h_n/a_n < 3 present)\"\n",
    "\n",
    "# No NaN/inf in numeric engineered features\n",
    "num_check_cols = [c for c in required_feats if c in fe_ms.columns and fe_ms[c].dtype != 'O']\n",
    "num_vals = fe_ms[num_check_cols].replace([np.inf, -np.inf], np.nan)\n",
    "null_counts = num_vals.isna().sum()\n",
    "assert int(null_counts.sum()) == 0, f\"NaN/Inf present in engineered numeric features: {null_counts[null_counts>0].to_dict()}\"\n",
    "\n",
    "# 3) Splitting checks\n",
    "assert len(holdout_seasons) >= 1, \"Holdout seasons not set\"\n",
    "assert set(holdout_seasons).issubset(set(fe_ms['Season'].unique())), \"Holdout seasons not in dataset\"\n",
    "assert len(aX) > 0 and len(bX) > 0, \"Train/holdout split sizes invalid\"\n",
    "\n",
    "# 4) Time-series CV checks (chronology respected)\n",
    "from sklearn.model_selection import TimeSeriesSplit\n",
    "_a_dates = fe_ms.loc[fe_ms['Season'].isin(unique_seasons_ordered[:-len(holdout_seasons)]), 'Date'].reset_index(drop=True)\n",
    "cv = TimeSeriesSplit(n_splits=3)\n",
    "for i, (tr, va) in enumerate(cv.split(_a_dates), start=1):\n",
    "    assert _a_dates.iloc[tr].max() <= _a_dates.iloc[va].min(), f\"CV leakage in fold {i} (train dates after val start)\"\n",
    "\n",
    "# 5) Model outputs sanity\n",
    "probs_sample = pipe.predict_proba(bX.iloc[:10])\n",
    "row_sums = probs_sample.sum(axis=1)\n",
    "assert np.allclose(row_sums, 1.0, atol=1e-6), \"Predicted probabilities do not sum to 1\"\n",
    "assert set(pipe.named_steps['clf'].classes_) == {'H','D','A'}, \"Unexpected target classes in model\"\n",
    "\n",
    "print(\"All sanity checks passed.\")\n"
   ]
  }
 ],
 "metadata": {
  "kernelspec": {
   "display_name": "Python 3",
   "language": "python",
   "name": "python3"
  },
  "language_info": {
   "codemirror_mode": {
    "name": "ipython",
    "version": 3
   },
   "file_extension": ".py",
   "mimetype": "text/x-python",
   "name": "python",
   "nbconvert_exporter": "python",
   "pygments_lexer": "ipython3",
   "version": "3.8.8"
  }
 },
 "nbformat": 4,
 "nbformat_minor": 5
}
